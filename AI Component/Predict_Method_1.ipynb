{
 "cells": [
  {
   "cell_type": "code",
   "execution_count": 1,
   "metadata": {},
   "outputs": [],
   "source": [
    "# Set up\n",
    "import sys\n",
    "import numpy as np\n",
    "import pandas as pd\n",
    "from tqdm import tqdm\n",
    "\n",
    "import torch\n",
    "import torch.nn as nn\n",
    "from torch.nn import functional as F\n",
    "from transformers import ViTFeatureExtractor, ViTForImageClassification\n",
    "\n",
    "import warnings\n",
    "warnings.filterwarnings('ignore')\n",
    "\n",
    "sys.path.append('..')\n",
    "\n",
    "dataset_path = '../Datasets/CIFAR10'\n",
    "img_path = dataset_path + '/images'\n",
    "device = 'cuda' if torch.cuda.is_available() else 'cpu'"
   ]
  },
  {
   "cell_type": "code",
   "execution_count": 2,
   "metadata": {},
   "outputs": [],
   "source": [
    "# Set data owner id of interest\n",
    "data_owner_id = 'A'"
   ]
  },
  {
   "cell_type": "code",
   "execution_count": 3,
   "metadata": {},
   "outputs": [],
   "source": [
    "from core.ai.utils import seed_everything\n",
    "seed_everything()"
   ]
  },
  {
   "cell_type": "code",
   "execution_count": 4,
   "metadata": {},
   "outputs": [],
   "source": [
    "from core.ai.utils import label_enc\n",
    "\n",
    "# Load data owner dataset\n",
    "data_owner_dataset = pd.read_excel(dataset_path + '/CIFAR10dataOwnerInfo.xlsx', sheet_name=data_owner_id)\n",
    "data_owner_dataset.image = [f'{img_path}/{image}' for image in data_owner_dataset.image]\n",
    "num_classes = data_owner_dataset.label_name.nunique()\n",
    "images, labels, label2id, id2label = label_enc(data_owner_dataset)\n",
    "\n",
    "# Create data owner's model \n",
    "from core.ai.model import get_vit_model\n",
    "vit_feature_extractor, vit_model = get_vit_model(device)"
   ]
  },
  {
   "cell_type": "code",
   "execution_count": 8,
   "metadata": {},
   "outputs": [],
   "source": [
    "from core.ai.dataset import get_loader\n",
    "import albumentations as A\n",
    "train_transform = A.Compose([\n",
    "    A.Resize(224, 224)\n",
    "])\n",
    "data_loader = get_loader(images, labels, vit_feature_extractor, train_transform,\n",
    "                         pre_trained_model=vit_model, device=device, shuffle=False)"
   ]
  },
  {
   "cell_type": "code",
   "execution_count": 11,
   "metadata": {},
   "outputs": [
    {
     "name": "stdout",
     "output_type": "stream",
     "text": [
      "Sequential(\n",
      "  (0): BatchNorm1d(768, eps=1e-05, momentum=0.1, affine=True, track_running_stats=True)\n",
      "  (1): Linear(in_features=768, out_features=128, bias=True)\n",
      "  (2): GELU()\n",
      "  (3): Linear(in_features=128, out_features=6, bias=True)\n",
      ")\n"
     ]
    }
   ],
   "source": [
    "import torch\n",
    "model = torch.load('./saved_models/model_A_1.pt')\n",
    "print(model)"
   ]
  },
  {
   "cell_type": "code",
   "execution_count": 14,
   "metadata": {},
   "outputs": [],
   "source": [
    "# Get predictions\n",
    "model.eval()\n",
    "predictions = []\n",
    "for batch_images, batch_labels in tqdm(data_loader):\n",
    "    logits = model(batch_images.to(device))\n",
    "    predictions += logits.argmax(1).cpu().tolist()\n"
   ]
  },
  {
   "cell_type": "code",
   "execution_count": 40,
   "metadata": {},
   "outputs": [
    {
     "name": "stdout",
     "output_type": "stream",
     "text": [
      "In sample accuracy score: 0.980\n",
      "In sample f1 score: 0.980\n"
     ]
    }
   ],
   "source": [
    "from sklearn import metrics\n",
    "# Get accuracy\n",
    "accuracy_score = metrics.accuracy_score(labels, predictions)\n",
    "print(f'In sample accuracy score: {accuracy_score:.4f}')\n",
    "\n",
    "# Get f1 score\n",
    "f1_score = metrics.f1_score(labels, predictions, average='micro')\n",
    "print(f'In sample f1 score: {f1_score:.4f}')\n"
   ]
  },
  {
   "cell_type": "code",
   "execution_count": 41,
   "metadata": {},
   "outputs": [
    {
     "name": "stdout",
     "output_type": "stream",
     "text": [
      "In sample weighted accuracy score: 0.978\n",
      "In sample weighted f1 score: 0.978\n"
     ]
    }
   ],
   "source": [
    "# Get weighted accuracy\n",
    "sample_weight = [5 if label==label2id['other'] else 1 for label in labels]\n",
    "weighted_accuracy_score = metrics.accuracy_score(labels, predictions, sample_weight=sample_weight)\n",
    "print(f'In sample weighted accuracy score: {weighted_accuracy_score:.4f}')\n",
    "\n",
    "# Get weighted f1 score\n",
    "f1_score = metrics.f1_score(labels, predictions, average='micro', sample_weight=sample_weight)\n",
    "print(f'In sample weighted f1 score: {f1_score:.4f}')"
   ]
  },
  {
   "cell_type": "code",
   "execution_count": null,
   "metadata": {},
   "outputs": [],
   "source": []
  }
 ],
 "metadata": {
  "kernelspec": {
   "display_name": "Python 3.9.7 ('base')",
   "language": "python",
   "name": "python3"
  },
  "language_info": {
   "codemirror_mode": {
    "name": "ipython",
    "version": 3
   },
   "file_extension": ".py",
   "mimetype": "text/x-python",
   "name": "python",
   "nbconvert_exporter": "python",
   "pygments_lexer": "ipython3",
   "version": "3.9.7"
  },
  "orig_nbformat": 4,
  "vscode": {
   "interpreter": {
    "hash": "511e198c7044f4fa1c9fb6786af37bc0803f028a2364c2b1dc987f96133f7904"
   }
  }
 },
 "nbformat": 4,
 "nbformat_minor": 2
}
