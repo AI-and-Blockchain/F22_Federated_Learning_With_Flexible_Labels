{
 "cells": [
  {
   "cell_type": "markdown",
   "metadata": {},
   "source": [
    "## Data Splitting\n",
    "To stimulate different data owners with the different dataset, we split the dataset by public dataset and private datasets with different sets of labels"
   ]
  },
  {
   "cell_type": "code",
   "execution_count": 2,
   "metadata": {},
   "outputs": [],
   "source": [
    "# import necessary packages for this notebook \n",
    "import numpy as np\n",
    "import pandas as pd"
   ]
  },
  {
   "cell_type": "code",
   "execution_count": 3,
   "metadata": {},
   "outputs": [],
   "source": [
    "# define dataset path\n",
    "dataset_path = '../Datasets/CIFAR10/'\n",
    "img_path = '../Datasets/CIFAR10/images/'"
   ]
  },
  {
   "cell_type": "code",
   "execution_count": 4,
   "metadata": {},
   "outputs": [
    {
     "ename": "FileNotFoundError",
     "evalue": "[Errno 2] No such file or directory: '../Datasets/CIFAR10/data.csv'",
     "output_type": "error",
     "traceback": [
      "\u001b[1;31m---------------------------------------------------------------------------\u001b[0m",
      "\u001b[1;31mFileNotFoundError\u001b[0m                         Traceback (most recent call last)",
      "\u001b[1;32mc:\\Users\\wangk\\OneDrive - Rensselaer Polytechnic Institute\\Desktop\\F22_Federated_Learning_With_Flexible_Labels\\AI Component\\Dataset_Splitting.ipynb Cell 4\u001b[0m in \u001b[0;36m<cell line: 2>\u001b[1;34m()\u001b[0m\n\u001b[0;32m      <a href='vscode-notebook-cell:/c%3A/Users/wangk/OneDrive%20-%20Rensselaer%20Polytechnic%20Institute/Desktop/F22_Federated_Learning_With_Flexible_Labels/AI%20Component/Dataset_Splitting.ipynb#W3sZmlsZQ%3D%3D?line=0'>1</a>\u001b[0m \u001b[39m# get the data of all images\u001b[39;00m\n\u001b[1;32m----> <a href='vscode-notebook-cell:/c%3A/Users/wangk/OneDrive%20-%20Rensselaer%20Polytechnic%20Institute/Desktop/F22_Federated_Learning_With_Flexible_Labels/AI%20Component/Dataset_Splitting.ipynb#W3sZmlsZQ%3D%3D?line=1'>2</a>\u001b[0m data_df \u001b[39m=\u001b[39m pd\u001b[39m.\u001b[39;49mread_csv(dataset_path \u001b[39m+\u001b[39;49m \u001b[39m'\u001b[39;49m\u001b[39mdata.csv\u001b[39;49m\u001b[39m'\u001b[39;49m)\n\u001b[0;32m      <a href='vscode-notebook-cell:/c%3A/Users/wangk/OneDrive%20-%20Rensselaer%20Polytechnic%20Institute/Desktop/F22_Federated_Learning_With_Flexible_Labels/AI%20Component/Dataset_Splitting.ipynb#W3sZmlsZQ%3D%3D?line=2'>3</a>\u001b[0m data_df\n",
      "File \u001b[1;32mc:\\Users\\wangk\\AppData\\Local\\Programs\\Python\\Python39\\lib\\site-packages\\pandas\\io\\parsers.py:610\u001b[0m, in \u001b[0;36mread_csv\u001b[1;34m(filepath_or_buffer, sep, delimiter, header, names, index_col, usecols, squeeze, prefix, mangle_dupe_cols, dtype, engine, converters, true_values, false_values, skipinitialspace, skiprows, skipfooter, nrows, na_values, keep_default_na, na_filter, verbose, skip_blank_lines, parse_dates, infer_datetime_format, keep_date_col, date_parser, dayfirst, cache_dates, iterator, chunksize, compression, thousands, decimal, lineterminator, quotechar, quoting, doublequote, escapechar, comment, encoding, dialect, error_bad_lines, warn_bad_lines, delim_whitespace, low_memory, memory_map, float_precision, storage_options)\u001b[0m\n\u001b[0;32m    605\u001b[0m kwds_defaults \u001b[39m=\u001b[39m _refine_defaults_read(\n\u001b[0;32m    606\u001b[0m     dialect, delimiter, delim_whitespace, engine, sep, defaults\u001b[39m=\u001b[39m{\u001b[39m\"\u001b[39m\u001b[39mdelimiter\u001b[39m\u001b[39m\"\u001b[39m: \u001b[39m\"\u001b[39m\u001b[39m,\u001b[39m\u001b[39m\"\u001b[39m}\n\u001b[0;32m    607\u001b[0m )\n\u001b[0;32m    608\u001b[0m kwds\u001b[39m.\u001b[39mupdate(kwds_defaults)\n\u001b[1;32m--> 610\u001b[0m \u001b[39mreturn\u001b[39;00m _read(filepath_or_buffer, kwds)\n",
      "File \u001b[1;32mc:\\Users\\wangk\\AppData\\Local\\Programs\\Python\\Python39\\lib\\site-packages\\pandas\\io\\parsers.py:462\u001b[0m, in \u001b[0;36m_read\u001b[1;34m(filepath_or_buffer, kwds)\u001b[0m\n\u001b[0;32m    459\u001b[0m _validate_names(kwds\u001b[39m.\u001b[39mget(\u001b[39m\"\u001b[39m\u001b[39mnames\u001b[39m\u001b[39m\"\u001b[39m, \u001b[39mNone\u001b[39;00m))\n\u001b[0;32m    461\u001b[0m \u001b[39m# Create the parser.\u001b[39;00m\n\u001b[1;32m--> 462\u001b[0m parser \u001b[39m=\u001b[39m TextFileReader(filepath_or_buffer, \u001b[39m*\u001b[39m\u001b[39m*\u001b[39mkwds)\n\u001b[0;32m    464\u001b[0m \u001b[39mif\u001b[39;00m chunksize \u001b[39mor\u001b[39;00m iterator:\n\u001b[0;32m    465\u001b[0m     \u001b[39mreturn\u001b[39;00m parser\n",
      "File \u001b[1;32mc:\\Users\\wangk\\AppData\\Local\\Programs\\Python\\Python39\\lib\\site-packages\\pandas\\io\\parsers.py:819\u001b[0m, in \u001b[0;36mTextFileReader.__init__\u001b[1;34m(self, f, engine, **kwds)\u001b[0m\n\u001b[0;32m    816\u001b[0m \u001b[39mif\u001b[39;00m \u001b[39m\"\u001b[39m\u001b[39mhas_index_names\u001b[39m\u001b[39m\"\u001b[39m \u001b[39min\u001b[39;00m kwds:\n\u001b[0;32m    817\u001b[0m     \u001b[39mself\u001b[39m\u001b[39m.\u001b[39moptions[\u001b[39m\"\u001b[39m\u001b[39mhas_index_names\u001b[39m\u001b[39m\"\u001b[39m] \u001b[39m=\u001b[39m kwds[\u001b[39m\"\u001b[39m\u001b[39mhas_index_names\u001b[39m\u001b[39m\"\u001b[39m]\n\u001b[1;32m--> 819\u001b[0m \u001b[39mself\u001b[39m\u001b[39m.\u001b[39m_engine \u001b[39m=\u001b[39m \u001b[39mself\u001b[39;49m\u001b[39m.\u001b[39;49m_make_engine(\u001b[39mself\u001b[39;49m\u001b[39m.\u001b[39;49mengine)\n",
      "File \u001b[1;32mc:\\Users\\wangk\\AppData\\Local\\Programs\\Python\\Python39\\lib\\site-packages\\pandas\\io\\parsers.py:1050\u001b[0m, in \u001b[0;36mTextFileReader._make_engine\u001b[1;34m(self, engine)\u001b[0m\n\u001b[0;32m   1046\u001b[0m     \u001b[39mraise\u001b[39;00m \u001b[39mValueError\u001b[39;00m(\n\u001b[0;32m   1047\u001b[0m         \u001b[39mf\u001b[39m\u001b[39m\"\u001b[39m\u001b[39mUnknown engine: \u001b[39m\u001b[39m{\u001b[39;00mengine\u001b[39m}\u001b[39;00m\u001b[39m (valid options are \u001b[39m\u001b[39m{\u001b[39;00mmapping\u001b[39m.\u001b[39mkeys()\u001b[39m}\u001b[39;00m\u001b[39m)\u001b[39m\u001b[39m\"\u001b[39m\n\u001b[0;32m   1048\u001b[0m     )\n\u001b[0;32m   1049\u001b[0m \u001b[39m# error: Too many arguments for \"ParserBase\"\u001b[39;00m\n\u001b[1;32m-> 1050\u001b[0m \u001b[39mreturn\u001b[39;00m mapping[engine](\u001b[39mself\u001b[39m\u001b[39m.\u001b[39mf, \u001b[39m*\u001b[39m\u001b[39m*\u001b[39m\u001b[39mself\u001b[39m\u001b[39m.\u001b[39moptions)\n",
      "File \u001b[1;32mc:\\Users\\wangk\\AppData\\Local\\Programs\\Python\\Python39\\lib\\site-packages\\pandas\\io\\parsers.py:1867\u001b[0m, in \u001b[0;36mCParserWrapper.__init__\u001b[1;34m(self, src, **kwds)\u001b[0m\n\u001b[0;32m   1864\u001b[0m kwds[\u001b[39m\"\u001b[39m\u001b[39musecols\u001b[39m\u001b[39m\"\u001b[39m] \u001b[39m=\u001b[39m \u001b[39mself\u001b[39m\u001b[39m.\u001b[39musecols\n\u001b[0;32m   1866\u001b[0m \u001b[39m# open handles\u001b[39;00m\n\u001b[1;32m-> 1867\u001b[0m \u001b[39mself\u001b[39;49m\u001b[39m.\u001b[39;49m_open_handles(src, kwds)\n\u001b[0;32m   1868\u001b[0m \u001b[39massert\u001b[39;00m \u001b[39mself\u001b[39m\u001b[39m.\u001b[39mhandles \u001b[39mis\u001b[39;00m \u001b[39mnot\u001b[39;00m \u001b[39mNone\u001b[39;00m\n\u001b[0;32m   1869\u001b[0m \u001b[39mfor\u001b[39;00m key \u001b[39min\u001b[39;00m (\u001b[39m\"\u001b[39m\u001b[39mstorage_options\u001b[39m\u001b[39m\"\u001b[39m, \u001b[39m\"\u001b[39m\u001b[39mencoding\u001b[39m\u001b[39m\"\u001b[39m, \u001b[39m\"\u001b[39m\u001b[39mmemory_map\u001b[39m\u001b[39m\"\u001b[39m, \u001b[39m\"\u001b[39m\u001b[39mcompression\u001b[39m\u001b[39m\"\u001b[39m):\n",
      "File \u001b[1;32mc:\\Users\\wangk\\AppData\\Local\\Programs\\Python\\Python39\\lib\\site-packages\\pandas\\io\\parsers.py:1362\u001b[0m, in \u001b[0;36mParserBase._open_handles\u001b[1;34m(self, src, kwds)\u001b[0m\n\u001b[0;32m   1358\u001b[0m \u001b[39mdef\u001b[39;00m \u001b[39m_open_handles\u001b[39m(\u001b[39mself\u001b[39m, src: FilePathOrBuffer, kwds: Dict[\u001b[39mstr\u001b[39m, Any]) \u001b[39m-\u001b[39m\u001b[39m>\u001b[39m \u001b[39mNone\u001b[39;00m:\n\u001b[0;32m   1359\u001b[0m     \u001b[39m\"\"\"\u001b[39;00m\n\u001b[0;32m   1360\u001b[0m \u001b[39m    Let the readers open IOHanldes after they are done with their potential raises.\u001b[39;00m\n\u001b[0;32m   1361\u001b[0m \u001b[39m    \"\"\"\u001b[39;00m\n\u001b[1;32m-> 1362\u001b[0m     \u001b[39mself\u001b[39m\u001b[39m.\u001b[39mhandles \u001b[39m=\u001b[39m get_handle(\n\u001b[0;32m   1363\u001b[0m         src,\n\u001b[0;32m   1364\u001b[0m         \u001b[39m\"\u001b[39;49m\u001b[39mr\u001b[39;49m\u001b[39m\"\u001b[39;49m,\n\u001b[0;32m   1365\u001b[0m         encoding\u001b[39m=\u001b[39;49mkwds\u001b[39m.\u001b[39;49mget(\u001b[39m\"\u001b[39;49m\u001b[39mencoding\u001b[39;49m\u001b[39m\"\u001b[39;49m, \u001b[39mNone\u001b[39;49;00m),\n\u001b[0;32m   1366\u001b[0m         compression\u001b[39m=\u001b[39;49mkwds\u001b[39m.\u001b[39;49mget(\u001b[39m\"\u001b[39;49m\u001b[39mcompression\u001b[39;49m\u001b[39m\"\u001b[39;49m, \u001b[39mNone\u001b[39;49;00m),\n\u001b[0;32m   1367\u001b[0m         memory_map\u001b[39m=\u001b[39;49mkwds\u001b[39m.\u001b[39;49mget(\u001b[39m\"\u001b[39;49m\u001b[39mmemory_map\u001b[39;49m\u001b[39m\"\u001b[39;49m, \u001b[39mFalse\u001b[39;49;00m),\n\u001b[0;32m   1368\u001b[0m         storage_options\u001b[39m=\u001b[39;49mkwds\u001b[39m.\u001b[39;49mget(\u001b[39m\"\u001b[39;49m\u001b[39mstorage_options\u001b[39;49m\u001b[39m\"\u001b[39;49m, \u001b[39mNone\u001b[39;49;00m),\n\u001b[0;32m   1369\u001b[0m     )\n",
      "File \u001b[1;32mc:\\Users\\wangk\\AppData\\Local\\Programs\\Python\\Python39\\lib\\site-packages\\pandas\\io\\common.py:642\u001b[0m, in \u001b[0;36mget_handle\u001b[1;34m(path_or_buf, mode, encoding, compression, memory_map, is_text, errors, storage_options)\u001b[0m\n\u001b[0;32m    640\u001b[0m         errors \u001b[39m=\u001b[39m \u001b[39m\"\u001b[39m\u001b[39mreplace\u001b[39m\u001b[39m\"\u001b[39m\n\u001b[0;32m    641\u001b[0m     \u001b[39m# Encoding\u001b[39;00m\n\u001b[1;32m--> 642\u001b[0m     handle \u001b[39m=\u001b[39m \u001b[39mopen\u001b[39;49m(\n\u001b[0;32m    643\u001b[0m         handle,\n\u001b[0;32m    644\u001b[0m         ioargs\u001b[39m.\u001b[39;49mmode,\n\u001b[0;32m    645\u001b[0m         encoding\u001b[39m=\u001b[39;49mioargs\u001b[39m.\u001b[39;49mencoding,\n\u001b[0;32m    646\u001b[0m         errors\u001b[39m=\u001b[39;49merrors,\n\u001b[0;32m    647\u001b[0m         newline\u001b[39m=\u001b[39;49m\u001b[39m\"\u001b[39;49m\u001b[39m\"\u001b[39;49m,\n\u001b[0;32m    648\u001b[0m     )\n\u001b[0;32m    649\u001b[0m \u001b[39melse\u001b[39;00m:\n\u001b[0;32m    650\u001b[0m     \u001b[39m# Binary mode\u001b[39;00m\n\u001b[0;32m    651\u001b[0m     handle \u001b[39m=\u001b[39m \u001b[39mopen\u001b[39m(handle, ioargs\u001b[39m.\u001b[39mmode)\n",
      "\u001b[1;31mFileNotFoundError\u001b[0m: [Errno 2] No such file or directory: '../Datasets/CIFAR10/data.csv'"
     ]
    }
   ],
   "source": [
    "# get the data of all images\n",
    "data_df = pd.read_csv(dataset_path + 'data.csv')\n",
    "data_df"
   ]
  },
  {
   "cell_type": "code",
   "execution_count": null,
   "metadata": {},
   "outputs": [
    {
     "data": {
      "text/plain": [
       "{'plane': 0,\n",
       " 'car': 1,\n",
       " 'bird': 2,\n",
       " 'cat': 3,\n",
       " 'deer': 4,\n",
       " 'dog': 5,\n",
       " 'frog': 6,\n",
       " 'horse': 7,\n",
       " 'ship': 8,\n",
       " 'truck': 9,\n",
       " 'other': -1}"
      ]
     },
     "execution_count": 8,
     "metadata": {},
     "output_type": "execute_result"
    }
   ],
   "source": [
    "# get label map\n",
    "id2label = data_df[['label', 'label_name']].drop_duplicates().sort_values('label').set_index('label').to_dict()['label_name']\n",
    "id2label[-1] = 'other'\n",
    "label2id = {v:k for k,v in id2label.items()}\n",
    "label2id"
   ]
  },
  {
   "cell_type": "code",
   "execution_count": 5,
   "metadata": {},
   "outputs": [
    {
     "ename": "NameError",
     "evalue": "name 'data_df' is not defined",
     "output_type": "error",
     "traceback": [
      "\u001b[1;31m---------------------------------------------------------------------------\u001b[0m",
      "\u001b[1;31mNameError\u001b[0m                                 Traceback (most recent call last)",
      "\u001b[1;32mc:\\Users\\wangk\\OneDrive - Rensselaer Polytechnic Institute\\Desktop\\F22_Federated_Learning_With_Flexible_Labels\\AI Component\\Dataset_Splitting.ipynb Cell 6\u001b[0m in \u001b[0;36m<cell line: 73>\u001b[1;34m()\u001b[0m\n\u001b[0;32m     <a href='vscode-notebook-cell:/c%3A/Users/wangk/OneDrive%20-%20Rensselaer%20Polytechnic%20Institute/Desktop/F22_Federated_Learning_With_Flexible_Labels/AI%20Component/Dataset_Splitting.ipynb#W5sZmlsZQ%3D%3D?line=62'>63</a>\u001b[0m     \u001b[39mreturn\u001b[39;00m (\n\u001b[0;32m     <a href='vscode-notebook-cell:/c%3A/Users/wangk/OneDrive%20-%20Rensselaer%20Polytechnic%20Institute/Desktop/F22_Federated_Learning_With_Flexible_Labels/AI%20Component/Dataset_Splitting.ipynb#W5sZmlsZQ%3D%3D?line=63'>64</a>\u001b[0m         data_df\u001b[39m.\u001b[39miloc[[i \u001b[39mfor\u001b[39;00m i \u001b[39min\u001b[39;00m data_df\u001b[39m.\u001b[39mindex \u001b[39mif\u001b[39;00m i \u001b[39mnot\u001b[39;00m \u001b[39min\u001b[39;00m return_data_idx]],\n\u001b[0;32m     <a href='vscode-notebook-cell:/c%3A/Users/wangk/OneDrive%20-%20Rensselaer%20Polytechnic%20Institute/Desktop/F22_Federated_Learning_With_Flexible_Labels/AI%20Component/Dataset_Splitting.ipynb#W5sZmlsZQ%3D%3D?line=64'>65</a>\u001b[0m         pd\u001b[39m.\u001b[39mDataFrame({\n\u001b[1;32m   (...)\u001b[0m\n\u001b[0;32m     <a href='vscode-notebook-cell:/c%3A/Users/wangk/OneDrive%20-%20Rensselaer%20Polytechnic%20Institute/Desktop/F22_Federated_Learning_With_Flexible_Labels/AI%20Component/Dataset_Splitting.ipynb#W5sZmlsZQ%3D%3D?line=67'>68</a>\u001b[0m         })\u001b[39m.\u001b[39mreset_index(drop\u001b[39m=\u001b[39m\u001b[39mTrue\u001b[39;00m)\n\u001b[0;32m     <a href='vscode-notebook-cell:/c%3A/Users/wangk/OneDrive%20-%20Rensselaer%20Polytechnic%20Institute/Desktop/F22_Federated_Learning_With_Flexible_Labels/AI%20Component/Dataset_Splitting.ipynb#W5sZmlsZQ%3D%3D?line=68'>69</a>\u001b[0m     )\n\u001b[0;32m     <a href='vscode-notebook-cell:/c%3A/Users/wangk/OneDrive%20-%20Rensselaer%20Polytechnic%20Institute/Desktop/F22_Federated_Learning_With_Flexible_Labels/AI%20Component/Dataset_Splitting.ipynb#W5sZmlsZQ%3D%3D?line=71'>72</a>\u001b[0m \u001b[39m# example\u001b[39;00m\n\u001b[0;32m     <a href='vscode-notebook-cell:/c%3A/Users/wangk/OneDrive%20-%20Rensselaer%20Polytechnic%20Institute/Desktop/F22_Federated_Learning_With_Flexible_Labels/AI%20Component/Dataset_Splitting.ipynb#W5sZmlsZQ%3D%3D?line=72'>73</a>\u001b[0m data_df, dataset \u001b[39m=\u001b[39m get_dataset(\n\u001b[1;32m---> <a href='vscode-notebook-cell:/c%3A/Users/wangk/OneDrive%20-%20Rensselaer%20Polytechnic%20Institute/Desktop/F22_Federated_Learning_With_Flexible_Labels/AI%20Component/Dataset_Splitting.ipynb#W5sZmlsZQ%3D%3D?line=73'>74</a>\u001b[0m     data_df,\n\u001b[0;32m     <a href='vscode-notebook-cell:/c%3A/Users/wangk/OneDrive%20-%20Rensselaer%20Polytechnic%20Institute/Desktop/F22_Federated_Learning_With_Flexible_Labels/AI%20Component/Dataset_Splitting.ipynb#W5sZmlsZQ%3D%3D?line=74'>75</a>\u001b[0m     plane\u001b[39m=\u001b[39m\u001b[39m0.2\u001b[39m,\n\u001b[0;32m     <a href='vscode-notebook-cell:/c%3A/Users/wangk/OneDrive%20-%20Rensselaer%20Polytechnic%20Institute/Desktop/F22_Federated_Learning_With_Flexible_Labels/AI%20Component/Dataset_Splitting.ipynb#W5sZmlsZQ%3D%3D?line=75'>76</a>\u001b[0m     car\u001b[39m=\u001b[39m\u001b[39m0.2\u001b[39m,\n\u001b[0;32m     <a href='vscode-notebook-cell:/c%3A/Users/wangk/OneDrive%20-%20Rensselaer%20Polytechnic%20Institute/Desktop/F22_Federated_Learning_With_Flexible_Labels/AI%20Component/Dataset_Splitting.ipynb#W5sZmlsZQ%3D%3D?line=76'>77</a>\u001b[0m     bird\u001b[39m=\u001b[39m\u001b[39m0.2\u001b[39m,\n\u001b[0;32m     <a href='vscode-notebook-cell:/c%3A/Users/wangk/OneDrive%20-%20Rensselaer%20Polytechnic%20Institute/Desktop/F22_Federated_Learning_With_Flexible_Labels/AI%20Component/Dataset_Splitting.ipynb#W5sZmlsZQ%3D%3D?line=77'>78</a>\u001b[0m     cat\u001b[39m=\u001b[39m\u001b[39m1500\u001b[39m,\n\u001b[0;32m     <a href='vscode-notebook-cell:/c%3A/Users/wangk/OneDrive%20-%20Rensselaer%20Polytechnic%20Institute/Desktop/F22_Federated_Learning_With_Flexible_Labels/AI%20Component/Dataset_Splitting.ipynb#W5sZmlsZQ%3D%3D?line=78'>79</a>\u001b[0m     other\u001b[39m=\u001b[39m\u001b[39m2000\u001b[39m\n\u001b[0;32m     <a href='vscode-notebook-cell:/c%3A/Users/wangk/OneDrive%20-%20Rensselaer%20Polytechnic%20Institute/Desktop/F22_Federated_Learning_With_Flexible_Labels/AI%20Component/Dataset_Splitting.ipynb#W5sZmlsZQ%3D%3D?line=79'>80</a>\u001b[0m )\n\u001b[0;32m     <a href='vscode-notebook-cell:/c%3A/Users/wangk/OneDrive%20-%20Rensselaer%20Polytechnic%20Institute/Desktop/F22_Federated_Learning_With_Flexible_Labels/AI%20Component/Dataset_Splitting.ipynb#W5sZmlsZQ%3D%3D?line=81'>82</a>\u001b[0m dataset\n",
      "\u001b[1;31mNameError\u001b[0m: name 'data_df' is not defined"
     ]
    }
   ],
   "source": [
    "def get_dataset(data_df: pd.DataFrame, drop=True, **kwargs):\n",
    "    \"\"\"Get a custom dataset by defining label and the associated count value or fraction\n",
    "\n",
    "    Args:\n",
    "        data_df (pd.DataFrame): _description_\n",
    "        drop (bool, optional): whether the data selected will be removed from data_df. Defaults to True.\n",
    "        kwargs: label'\n",
    "\n",
    "    Returns:\n",
    "        _type_: _description_\n",
    "    \"\"\"\n",
    "\n",
    "    label_count_df = pd.DataFrame({\n",
    "        'label': list(kwargs.keys()),\n",
    "        'count': list(kwargs.values())\n",
    "    })\n",
    "\n",
    "    # sanity check\n",
    "    for label in label_count_df.label:\n",
    "        if label == 'other':\n",
    "            continue\n",
    "        # assert the label exists\n",
    "        assert np.logical_or(\n",
    "            label in data_df.label.astype('str').unique().tolist(),\n",
    "            label in data_df.label_name.unique().tolist()\n",
    "        )\n",
    "        # assert no two labels are the same\n",
    "        # TODO\n",
    "\n",
    "    # change the fraction of data to number if the count is a fraction\n",
    "    for i, (label, count) in label_count_df.iterrows():\n",
    "        if label == 'other':\n",
    "            continue\n",
    "        if count <= 1:\n",
    "            if isinstance(label, str):\n",
    "                label = label2id[label]\n",
    "            label_count_total = len(data_df.query(f'label == {label}'))\n",
    "            label_count_df.iloc[i, 1] = round(count * label_count_total)\n",
    "\n",
    "    label_count_df['count'] = label_count_df['count'].astype('int32')\n",
    "    label_count_df['label'] = label_count_df['label'].apply(\n",
    "        lambda x: label2id[x])\n",
    "    # convert a data frame to dictionary\n",
    "    label_count_dict = dict(\n",
    "        zip(label_count_df['label'], label_count_df['count']))\n",
    "\n",
    "    labels = [label for label in label_count_dict if label != -1]\n",
    "\n",
    "    return_data_idx = [i for label in labels\n",
    "                       for i in data_df.query(f'label == {label}')\n",
    "                       .sample(label_count_dict[label]).index\n",
    "                       ]\n",
    "    # add indices for other labels\n",
    "    return_data_idx += [] if -1 not in label_count_dict else \\\n",
    "        data_df.query(f'label not in {labels}') \\\n",
    "        .sample(label_count_dict[-1]).index.tolist()\n",
    "\n",
    "    images = data_df.image[return_data_idx]\n",
    "    labels = [int(l)\n",
    "              for label, count in zip(label_count_df['label'], label_count_df['count'])\n",
    "              for l in np.ones(count) * label]\n",
    "\n",
    "    return (\n",
    "        data_df.iloc[[i for i in data_df.index if i not in return_data_idx]],\n",
    "        pd.DataFrame({\n",
    "            'image': images,\n",
    "            'label': labels\n",
    "        }).reset_index(drop=True)\n",
    "    )\n",
    "\n",
    "\n",
    "# example\n",
    "data_df, dataset = get_dataset(\n",
    "    data_df,\n",
    "    plane=0.2,\n",
    "    car=0.2,\n",
    "    bird=0.2,\n",
    "    cat=1500,\n",
    "    other=2000\n",
    ")\n",
    "\n",
    "dataset\n"
   ]
  },
  {
   "cell_type": "code",
   "execution_count": null,
   "metadata": {},
   "outputs": [],
   "source": []
  }
 ],
 "metadata": {
  "kernelspec": {
   "display_name": "Python 3.9.7 64-bit",
   "language": "python",
   "name": "python3"
  },
  "language_info": {
   "codemirror_mode": {
    "name": "ipython",
    "version": 3
   },
   "file_extension": ".py",
   "mimetype": "text/x-python",
   "name": "python",
   "nbconvert_exporter": "python",
   "pygments_lexer": "ipython3",
   "version": "3.9.7"
  },
  "orig_nbformat": 4,
  "vscode": {
   "interpreter": {
    "hash": "61d78b88c669c087ea84009c87f435080b66ea52ffb4eac29e2a7f2a91dfed40"
   }
  }
 },
 "nbformat": 4,
 "nbformat_minor": 2
}
