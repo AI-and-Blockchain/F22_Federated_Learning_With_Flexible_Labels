{
 "cells": [
  {
   "cell_type": "code",
   "execution_count": 42,
   "metadata": {},
   "outputs": [],
   "source": [
    "# Load all image paths\n",
    "import pandas as pd\n",
    "dataset_path = '../Datasets/CIFAR10'\n",
    "data_df = pd.read_csv(dataset_path + '/data.csv')\n",
    "SEED = 20"
   ]
  },
  {
   "cell_type": "code",
   "execution_count": 43,
   "metadata": {},
   "outputs": [],
   "source": [
    "import random\n",
    "random.seed(SEED)"
   ]
  },
  {
   "cell_type": "code",
   "execution_count": 44,
   "metadata": {},
   "outputs": [],
   "source": [
    "# Split test dataset and private (data owner) dataset\n",
    "test_dataset = data_df.groupby('label').sample(frac=.2) \n",
    "private_dataset = data_df.iloc[[i for i in data_df.index if i not in test_dataset.index]]"
   ]
  },
  {
   "cell_type": "code",
   "execution_count": 45,
   "metadata": {},
   "outputs": [],
   "source": [
    "# Generate a random hundreds, default: between 500 ~ 3000\n",
    "def get_random_hundreds(low=500, high=3000):\n",
    "    return round(random.randint(low//100, high//100)) * 100"
   ]
  },
  {
   "cell_type": "code",
   "execution_count": 46,
   "metadata": {},
   "outputs": [],
   "source": [
    "# Generate data owner datasets by labels\n",
    "def generate_data_owner_datasets(labels):\n",
    "    label_count_info = {label:get_random_hundreds() for label in labels}\n",
    "    return label_count_info"
   ]
  },
  {
   "cell_type": "code",
   "execution_count": 47,
   "metadata": {},
   "outputs": [],
   "source": [
    "data_owner_label_info = {\n",
    "    'A': ('trainer', 'plane, car, ship, boat, truck, other'),\n",
    "    'B': ('trainer', 'truck, car, other'),\n",
    "    'C': ('trainer', 'plane, truck, ship, other'),\n",
    "    'D': ('trainer', 'ship, plane'),\n",
    "    'E': ('trainer', 'plane, car, ship, other'),  # (overlapping dataset)\n",
    "    'F': ('trainer', 'cat, dog, other'),  # (non existing labels)\n",
    "    'G': ('trainer', 'truck, other'),  # (drop below baseline models)\n",
    "    'T1': ('trainer', 'truck, car'),  # (all labels below baseline)\n",
    "    'T2': ('trainer', 'plane, boat'),  # (one label below baseline)\n",
    "    'T3': ('trainer', 'cat, dog'),  # (large model)\n",
    "    'X': ('client', 'truck'),\n",
    "    'Y': ('client', 'truck'), # (select models above baseline)\n",
    "    'Z': ('client', 'plane, ship'), # (multiple labels)\n",
    "    'T4': ('client', 'horse') # (non existing)\n",
    "}\n",
    "data_owner_label_info = {k:(v[0], v[1].split(', ')) for k,v in data_owner_label_info.items()}\n",
    "data_owner_label_count_info = {k:{label:get_random_hundreds() for label in v[1]} for k,v in data_owner_label_info.items()}"
   ]
  },
  {
   "cell_type": "code",
   "execution_count": 32,
   "metadata": {},
   "outputs": [
    {
     "data": {
      "text/plain": [
       "{'plane': 2800,\n",
       " 'car': 2600,\n",
       " 'ship': 3000,\n",
       " 'boat': 2900,\n",
       " 'truck': 900,\n",
       " 'Other': 1300}"
      ]
     },
     "execution_count": 32,
     "metadata": {},
     "output_type": "execute_result"
    }
   ],
   "source": [
    "# Set data owner label information\n",
    "# Data owner A: plane, car, ship, boat, truck, other\n",
    "data_owner_A_labels = ['plane', 'car', 'ship', 'boat', 'truck', 'other']\n",
    "# data_owner_count_info = generate_data_owner_datasets(data_owner_A_labels)\n",
    "\n",
    "# # B: truck, car, other\n",
    "# data_owner_A_labels = \n",
    "\n",
    "# # C: plane, truck, ship, other\n",
    "# data_owner_A_labels = \n",
    "\n",
    "# # D: ship, plane\n",
    "# data_owner_A_labels = \n",
    "\n",
    "# # E: plane, car, ship, other (overlapping dataset)\n",
    "# data_owner_A_labels = \n",
    "\n",
    "# # F: Cat, dog, other (non existing labels)\n",
    "# data_owner_A_labels = \n",
    "\n",
    "# # G: truck, other (drop below baseline models)\n",
    "# data_owner_A_labels = \n",
    "\n",
    "# # T1: truck, car (all labels below baseline)\n",
    "# data_owner_A_labels = \n",
    "\n",
    "# # T2: plane, boat (one label below baseline)\n",
    "# data_owner_A_labels = \n",
    "\n",
    "# # T3: Cat, dog (large model)\n",
    "# data_owner_A_labels = \n",
    "\n"
   ]
  },
  {
   "cell_type": "code",
   "execution_count": null,
   "metadata": {},
   "outputs": [],
   "source": []
  },
  {
   "cell_type": "code",
   "execution_count": 33,
   "metadata": {},
   "outputs": [],
   "source": [
    "# \n",
    "# get_dataset()"
   ]
  },
  {
   "cell_type": "code",
   "execution_count": null,
   "metadata": {},
   "outputs": [],
   "source": []
  },
  {
   "cell_type": "code",
   "execution_count": 34,
   "metadata": {},
   "outputs": [],
   "source": [
    "# test_dataset = 20%\n",
    "# private_dataset = 80%\n"
   ]
  },
  {
   "cell_type": "code",
   "execution_count": 35,
   "metadata": {},
   "outputs": [],
   "source": [
    "# Dataset Partition and Simulation\n",
    "# Test Dataset: 20%\n",
    "# Training baseline model\n",
    "# Model evaluation\n",
    "# Private Dataset: 80%\n",
    "# Number per class: random hundreds between 500~3000\n",
    "# Data Owners (10)\n",
    "# A: Plane, Car, Ship, Boat, Truck, Other\n",
    "# B: Truck, Car, Other\n",
    "# C: Plane, Truck, Ship, Other\n",
    "# D: Ship, Plane\n",
    "# E: Plane, Car, Ship, Other (overlapping dataset)\n",
    "# F: Cat, Dog, Other (non existing labels)\n",
    "# G: Truck, Other (drop below baseline models)\n",
    "# T1: Truck, Car (all labels below baseline)\n",
    "# T2: Plane, Boat (one label below baseline)\n",
    "# T3: Cat, Dog (large model)\n",
    "# Clients (4)\n",
    "# X: Truck\n",
    "# Y: Truck (select models above baseline)\n",
    "# Z: Plane, Ship (multiple labels)\n",
    "# T4: Horse (non existing)\n"
   ]
  }
 ],
 "metadata": {
  "kernelspec": {
   "display_name": "Python 3.9.7 64-bit",
   "language": "python",
   "name": "python3"
  },
  "language_info": {
   "codemirror_mode": {
    "name": "ipython",
    "version": 3
   },
   "file_extension": ".py",
   "mimetype": "text/x-python",
   "name": "python",
   "nbconvert_exporter": "python",
   "pygments_lexer": "ipython3",
   "version": "3.9.7"
  },
  "orig_nbformat": 4,
  "vscode": {
   "interpreter": {
    "hash": "61d78b88c669c087ea84009c87f435080b66ea52ffb4eac29e2a7f2a91dfed40"
   }
  }
 },
 "nbformat": 4,
 "nbformat_minor": 2
}
