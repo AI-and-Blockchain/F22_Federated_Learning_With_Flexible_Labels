{
 "cells": [
  {
   "cell_type": "code",
   "execution_count": 68,
   "metadata": {},
   "outputs": [],
   "source": [
    "# Set up\n",
    "import pandas as pd\n",
    "import random\n",
    "SEED = 20\n",
    "random.seed(SEED)\n",
    "\n",
    "# Load all image paths\n",
    "dataset_path = '../Datasets/CIFAR10'\n",
    "data_df = pd.read_csv(dataset_path + '/data.csv')"
   ]
  },
  {
   "cell_type": "code",
   "execution_count": 69,
   "metadata": {},
   "outputs": [],
   "source": [
    "# Split test dataset and private (data owner) dataset\n",
    "test_dataset = data_df.groupby('label').sample(frac=.2) \n",
    "private_dataset = data_df.iloc[[i for i in data_df.index if i not in test_dataset.index]]"
   ]
  },
  {
   "cell_type": "code",
   "execution_count": 70,
   "metadata": {},
   "outputs": [],
   "source": [
    "# Generate a random hundreds, default: between 500 ~ 3000\n",
    "def get_random_hundreds(low=500, high=3000):\n",
    "    return round(random.randint(low//100, high//100)) * 100"
   ]
  },
  {
   "cell_type": "code",
   "execution_count": 71,
   "metadata": {},
   "outputs": [],
   "source": [
    "# Generate data owner datasets by labels\n",
    "def generate_data_owner_datasets(labels):\n",
    "    label_count_info = {label:get_random_hundreds() for label in labels}\n",
    "    return label_count_info"
   ]
  },
  {
   "cell_type": "code",
   "execution_count": 89,
   "metadata": {},
   "outputs": [
    {
     "name": "stdout",
     "output_type": "stream",
     "text": [
      "A \t plane(1900)\tcar(2600)\tship(2800)\tboat(1200)\ttruck(2000)\tother(900)\n",
      "B \t truck(1600)\tcar(1500)\tother(2500)\n",
      "C \t plane(2200)\ttruck(900)\tship(2500)\tother(2800)\n",
      "D \t ship(2700)\tplane(2800)\n",
      "E \t plane(2600)\tcar(2600)\tship(2200)\tother(2900)\n",
      "F \t cat(800)\tdog(2800)\tother(1300)\n",
      "G \t truck(2500)\tother(600)\n",
      "T1 \t truck(2100)\tcar(1100)\n",
      "T2 \t plane(1600)\tboat(1700)\n",
      "T3 \t cat(1100)\tdog(2200)\n",
      "X \t truck(2100)\n",
      "Y \t truck(2700)\n",
      "Z \t plane(1400)\tship(2000)\n",
      "T4 \t horse(2500)\n",
      "All Labels: cat, boat, car, truck, horse, plane, dog, ship\n"
     ]
    }
   ],
   "source": [
    "# Set data owner label information\n",
    "data_owner_label_info = {\n",
    "    'A': ('trainer', 'plane, car, ship, boat, truck, other'),\n",
    "    'B': ('trainer', 'truck, car, other'),\n",
    "    'C': ('trainer', 'plane, truck, ship, other'),\n",
    "    'D': ('trainer', 'ship, plane'),\n",
    "    'E': ('trainer', 'plane, car, ship, other'),  # (overlapping dataset)\n",
    "    'F': ('trainer', 'cat, dog, other'),  # (non existing labels)\n",
    "    'G': ('trainer', 'truck, other'),  # (drop below baseline models)\n",
    "    'T1': ('trainer', 'truck, car'),  # (all labels below baseline)\n",
    "    'T2': ('trainer', 'plane, boat'),  # (one label below baseline)\n",
    "    'T3': ('trainer', 'cat, dog'),  # (large model)\n",
    "    'X': ('client', 'truck'),\n",
    "    'Y': ('client', 'truck'), # (select models above baseline)\n",
    "    'Z': ('client', 'plane, ship'), # (multiple labels)\n",
    "    'T4': ('client', 'horse') # (non existing)\n",
    "}\n",
    "data_owner_label_info = {k:(v[0], v[1].split(', ')) for k,v in data_owner_label_info.items()}\n",
    "data_owner_label_count_info = {k:{label:get_random_hundreds() for label in v[1]} for k,v in data_owner_label_info.items()}\n",
    "all_labels = set()\n",
    "for k,v in data_owner_label_count_info.items():\n",
    "    all_labels.update(list(v.keys()))\n",
    "    print(k, '\\t', '\\t'.join([f'{i[0]}({i[1]})' for i in v.items()]))\n",
    "\n",
    "all_labels.remove('other')\n",
    "print('All Labels:', ', '.join(list(all_labels)))"
   ]
  },
  {
   "cell_type": "code",
   "execution_count": null,
   "metadata": {},
   "outputs": [],
   "source": []
  },
  {
   "cell_type": "code",
   "execution_count": null,
   "metadata": {},
   "outputs": [],
   "source": []
  }
 ],
 "metadata": {
  "kernelspec": {
   "display_name": "Python 3.9.7 64-bit",
   "language": "python",
   "name": "python3"
  },
  "language_info": {
   "codemirror_mode": {
    "name": "ipython",
    "version": 3
   },
   "file_extension": ".py",
   "mimetype": "text/x-python",
   "name": "python",
   "nbconvert_exporter": "python",
   "pygments_lexer": "ipython3",
   "version": "3.9.7"
  },
  "orig_nbformat": 4,
  "vscode": {
   "interpreter": {
    "hash": "61d78b88c669c087ea84009c87f435080b66ea52ffb4eac29e2a7f2a91dfed40"
   }
  }
 },
 "nbformat": 4,
 "nbformat_minor": 2
}
