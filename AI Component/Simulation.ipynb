{
 "cells": [
  {
   "cell_type": "code",
   "execution_count": 24,
   "metadata": {},
   "outputs": [],
   "source": [
    "# Load all image paths\n",
    "import pandas as pd\n",
    "dataset_path = '../Datasets/CIFAR10'\n",
    "data_df = pd.read_csv(dataset_path + '/data.csv')\n",
    "SEED = 20"
   ]
  },
  {
   "cell_type": "code",
   "execution_count": 25,
   "metadata": {},
   "outputs": [],
   "source": [
    "import random\n",
    "random.seed(SEED)"
   ]
  },
  {
   "cell_type": "code",
   "execution_count": 26,
   "metadata": {},
   "outputs": [],
   "source": [
    "# Split test dataset and private (data owner) dataset\n",
    "test_dataset = data_df.groupby('label').sample(frac=.2) \n",
    "private_dataset = data_df.iloc[[i for i in data_df.index if i not in test_dataset.index]]"
   ]
  },
  {
   "cell_type": "code",
   "execution_count": 27,
   "metadata": {},
   "outputs": [
    {
     "data": {
      "text/plain": [
       "9"
      ]
     },
     "execution_count": 27,
     "metadata": {},
     "output_type": "execute_result"
    }
   ],
   "source": [
    "# Data owner A: Plane, Car, Ship, Boat, Truck, Other\n",
    "round(random.randint(5, 20)) "
   ]
  },
  {
   "cell_type": "code",
   "execution_count": null,
   "metadata": {},
   "outputs": [],
   "source": []
  },
  {
   "cell_type": "code",
   "execution_count": 3,
   "metadata": {},
   "outputs": [],
   "source": [
    "# \n",
    "# get_dataset()"
   ]
  },
  {
   "cell_type": "code",
   "execution_count": null,
   "metadata": {},
   "outputs": [],
   "source": []
  },
  {
   "cell_type": "code",
   "execution_count": null,
   "metadata": {},
   "outputs": [],
   "source": [
    "# test_dataset = 20%\n",
    "# private_dataset = 80%\n"
   ]
  },
  {
   "cell_type": "code",
   "execution_count": null,
   "metadata": {},
   "outputs": [],
   "source": [
    "# Dataset Partition and Simulation\n",
    "# Test Dataset: 20%\n",
    "# Training baseline model\n",
    "# Model evaluation\n",
    "# Private Dataset: 80%\n",
    "# Number per class: random hundreds between 500~3000\n",
    "# Data Owners (10)\n",
    "# A: Plane, Car, Ship, Boat, Truck, Other\n",
    "# B: Truck, Car, Other\n",
    "# C: Plane, Truck, Ship, Other\n",
    "# D: Ship, Plane\n",
    "# E: Plane, Car, Ship, Other (overlapping dataset)\n",
    "# F: Cat, Dog, Other (non existing labels)\n",
    "# G: Truck, Other (drop below baseline models)\n",
    "# T1: Truck, Car (all labels below baseline)\n",
    "# T2: Plane, Boat (one label below baseline)\n",
    "# T3: Cat, Dog (large model)\n",
    "# Clients (4)\n",
    "# X: Truck\n",
    "# Y: Truck (select models above baseline)\n",
    "# Z: Plane, Ship (multiple labels)\n",
    "# T4: Horse (non existing)\n"
   ]
  }
 ],
 "metadata": {
  "kernelspec": {
   "display_name": "Python 3.9.12 ('base')",
   "language": "python",
   "name": "python3"
  },
  "language_info": {
   "codemirror_mode": {
    "name": "ipython",
    "version": 3
   },
   "file_extension": ".py",
   "mimetype": "text/x-python",
   "name": "python",
   "nbconvert_exporter": "python",
   "pygments_lexer": "ipython3",
   "version": "3.9.12"
  },
  "orig_nbformat": 4,
  "vscode": {
   "interpreter": {
    "hash": "ab41de7c01b87720028b6e10b18ab70bba355aee4628723b15cd9ebe80125c4e"
   }
  }
 },
 "nbformat": 4,
 "nbformat_minor": 2
}
