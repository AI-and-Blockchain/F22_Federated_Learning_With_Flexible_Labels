{
 "cells": [
  {
   "cell_type": "markdown",
   "id": "5198b587-cf2f-4354-bdbb-08f9ecb46abf",
   "metadata": {},
   "source": [
    "## HAGrid Install 🧙🏽‍♂️ Wizard"
   ]
  },
  {
   "cell_type": "markdown",
   "id": "cf271e52-b3aa-48f6-b85f-353b328dd463",
   "metadata": {},
   "source": [
    "https://github.com/OpenMined/PySyft/blob/dev/notebooks/quickstart/01-install-wizard.ipynb\n",
    "\n",
    "Welcome to the HAGrid Quickstart Install Wizard.  \n",
    "There are several different components required to use `Syft`. To make setup easy this wizard will automatically detect your current system configuration and make recommendations on what you need to complete setup.\n",
    "\n",
    "Run each step by clicking in the grey cell below 👇🏽 and pressing `Shift` + `Return` on your keyboard, or use the `Run` menu at the top of the window.\n",
    "\n",
    "**How the Install Wizard Works**  \n",
    "At each step the 🧙🏽‍♂️ Wizard will try to find various software and packages on your machine.  \n",
    "If you see an item marked with a ❌ red cross and the message `🚨 Some issues were found` it should include a description of the issue, a solution and optionally a way to resolve the solution directly by running a command. These commands can br Copy + Pasted into a cell and ran here, or if you know how to use the terminal on your computer simply remove the `!` at the start of the command and paste it there instead. After you have resolved the issue you can run the step again to verify it is fixed with a ✅ green tick."
   ]
  },
  {
   "cell_type": "markdown",
   "id": "b408bb4a",
   "metadata": {},
   "source": [
    "### Step 1. Import Install 🧙🏽‍♂️ Wizard"
   ]
  },
  {
   "cell_type": "code",
   "execution_count": 1,
   "id": "ad558ade-ee9b-4c61-8cbd-68eadd2f07fa",
   "metadata": {},
   "outputs": [
    {
     "name": "stdout",
     "output_type": "stream",
     "text": [
      "\n"
     ]
    }
   ],
   "source": [
    "import hagrid\n",
    "from hagrid import wizard"
   ]
  },
  {
   "cell_type": "markdown",
   "id": "5dd66a8a",
   "metadata": {},
   "source": [
    "### Step 2. HAGrid Updates"
   ]
  },
  {
   "cell_type": "markdown",
   "id": "f5ab8626-0da1-4a8e-be94-8871724da34c",
   "metadata": {},
   "source": [
    "It's a good idea to keep `HAGrid` updated as we push out fixes and features very frequently. "
   ]
  },
  {
   "cell_type": "code",
   "execution_count": 2,
   "id": "a546b80e-ec38-4662-9f6b-0caa5b581bdc",
   "metadata": {},
   "outputs": [
    {
     "data": {
      "text/html": [
       "✅ hagrid==0.2.110 (latest stable)<br />"
      ],
      "text/plain": [
       "<hagrid.nb_output.NBOutput at 0x7f9f38c8ea60>"
      ]
     },
     "execution_count": 2,
     "metadata": {},
     "output_type": "execute_result"
    }
   ],
   "source": [
    "wizard.check_hagrid"
   ]
  },
  {
   "cell_type": "markdown",
   "id": "cd115b1a",
   "metadata": {},
   "source": [
    "### Step 3. Installing PySyft"
   ]
  },
  {
   "cell_type": "markdown",
   "id": "1998c1a5-2fb4-4730-98e1-a4e2c360c5b7",
   "metadata": {},
   "source": [
    "`PySyft` is a python library which requires Python 3.7+."
   ]
  },
  {
   "cell_type": "code",
   "execution_count": 3,
   "id": "b954a90e-ad48-417f-bbe7-cd2d75cecc5e",
   "metadata": {},
   "outputs": [
    {
     "data": {
      "text/html": [
       "✅ macOS<br />✅ Python 3.9.12<br />✅ syft==0.6.0 (latest stable)<br />"
      ],
      "text/plain": [
       "<hagrid.nb_output.NBOutput at 0x7f9f38c8e9d0>"
      ]
     },
     "execution_count": 3,
     "metadata": {},
     "output_type": "execute_result"
    }
   ],
   "source": [
    "wizard.check_syft"
   ]
  },
  {
   "cell_type": "markdown",
   "id": "6b8f7982",
   "metadata": {},
   "source": [
    "### Step 4. Docker Setup"
   ]
  },
  {
   "cell_type": "markdown",
   "id": "2fa85963-4635-4ce3-8be6-36b308aa26d5",
   "metadata": {},
   "source": [
    "`PyGrid` runs as a set of containerized services. To do the `quickstart` tutorials, or the `Introduction to Remote Data Science` course, you will need a `PyGrid` Domain to connect `PySyft` to.\n",
    "\n",
    "The easiest way to run a `domain` is to use `Docker` on your local machine."
   ]
  },
  {
   "cell_type": "code",
   "execution_count": 4,
   "id": "83f58a56-7c5e-4dfb-94c6-0fd1ce950a3f",
   "metadata": {},
   "outputs": [
    {
     "data": {
      "text/html": [
       "✅ Git 2.37.2<br />✅ Docker 20.10.17<br />✅ Docker Compose 2.10.2<br />"
      ],
      "text/plain": [
       "<hagrid.nb_output.NBOutput at 0x7f9f789224f0>"
      ]
     },
     "execution_count": 4,
     "metadata": {},
     "output_type": "execute_result"
    }
   ],
   "source": [
    "wizard.check_grid_docker"
   ]
  },
  {
   "cell_type": "markdown",
   "id": "4fc9b888",
   "metadata": {},
   "source": [
    "### Step 5. Start a Test Domain"
   ]
  },
  {
   "cell_type": "markdown",
   "id": "068440ad-f0a0-4a71-bcca-52e598bf1968",
   "metadata": {},
   "source": [
    "You are now ready to start a `domain` on your local machine with 🐳 Docker. Simply run the next cell and wait until it is completed."
   ]
  },
  {
   "cell_type": "code",
   "execution_count": 5,
   "id": "2f06b0bf-c8c1-4b3c-87c8-b0f0809fcbfc",
   "metadata": {
    "tags": []
   },
   "outputs": [
    {
     "name": "stdout",
     "output_type": "stream",
     "text": [
      "\n",
      "\u001b[2K✅ Updated HAGrid from branch: dev from branch: dev\u001b[0m0m\n",
      "\u001b[2K\u001b[32m⠴\u001b[0m \u001b[1;34mUpdating HAGrid from branch: dev\u001b[0m\n",
      "\u001b[2K\u001b[32m⠸\u001b[0m \u001b[1;34mChecking for Docker Service\u001b[0m   ice\u001b[0m   \n",
      "\u001b[1A\u001b[2K✅ Docker service is running\n",
      "✅ Git 2.37.2\n",
      "✅ Docker 20.10.17\n",
      "✅ Docker Compose 2.10.2\n",
      "\n",
      "Error: 8081 is in use, either free the port or try: 8081+ to auto search for a port\n",
      "\n",
      "\n"
     ]
    }
   ],
   "source": [
    "!hagrid launch test_domain domain to docker:8081 --tag=latest --tail=false --silent"
   ]
  },
  {
   "cell_type": "markdown",
   "id": "6e4e7305",
   "metadata": {},
   "source": [
    "### Step 6. Check Domain Health"
   ]
  },
  {
   "cell_type": "markdown",
   "id": "b7846431-69b1-46bb-a611-e2ce47eb277f",
   "metadata": {},
   "source": [
    "To ensure our domain has finished starting we can ask `hagrid` to check its health for us. Run the below cell to check your `domain` on localhost. You can also visit the links to see the `UI` and `api` endpoints in your browser."
   ]
  },
  {
   "cell_type": "code",
   "execution_count": 6,
   "id": "71c1fd7d-fb7b-43dc-9608-053a6313b1b4",
   "metadata": {},
   "outputs": [
    {
     "data": {
      "text/html": [
       "<pre style=\"white-space:pre;overflow-x:auto;line-height:normal;font-family:Menlo,'DejaVu Sans Mono',consolas,'Courier New',monospace\">┏━━━━━━━━━━━┳━━━━━━━━━━━━━━━━━━━━━━━━━━━━━━━━━━━━━━━━━━━┳━━━━┓\n",
       "┃<span style=\"font-weight: bold\"> PyGrid    </span>┃<span style=\"font-weight: bold\"> Info                                      </span>┃<span style=\"font-weight: bold\">    </span>┃\n",
       "┡━━━━━━━━━━━╇━━━━━━━━━━━━━━━━━━━━━━━━━━━━━━━━━━━━━━━━━━━╇━━━━┩\n",
       "│<span style=\"color: #800080; text-decoration-color: #800080\"> UI (βeta) </span>│ http://localhost:8081/login               │ ✅ │\n",
       "│<span style=\"color: #800080; text-decoration-color: #800080\"> api       </span>│ http://localhost:8081/api/v1/openapi.json │ ✅ │\n",
       "└───────────┴───────────────────────────────────────────┴────┘\n",
       "</pre>\n"
      ],
      "text/plain": [
       "┏━━━━━━━━━━━┳━━━━━━━━━━━━━━━━━━━━━━━━━━━━━━━━━━━━━━━━━━━┳━━━━┓\n",
       "┃\u001b[1m \u001b[0m\u001b[1mPyGrid   \u001b[0m\u001b[1m \u001b[0m┃\u001b[1m \u001b[0m\u001b[1mInfo                                     \u001b[0m\u001b[1m \u001b[0m┃\u001b[1m \u001b[0m\u001b[1m  \u001b[0m\u001b[1m \u001b[0m┃\n",
       "┡━━━━━━━━━━━╇━━━━━━━━━━━━━━━━━━━━━━━━━━━━━━━━━━━━━━━━━━━╇━━━━┩\n",
       "│\u001b[35m \u001b[0m\u001b[35mUI (βeta)\u001b[0m\u001b[35m \u001b[0m│ http://localhost:8081/login               │ ✅ │\n",
       "│\u001b[35m \u001b[0m\u001b[35mapi      \u001b[0m\u001b[35m \u001b[0m│ http://localhost:8081/api/v1/openapi.json │ ✅ │\n",
       "└───────────┴───────────────────────────────────────────┴────┘\n"
      ]
     },
     "metadata": {},
     "output_type": "display_data"
    }
   ],
   "source": [
    "hagrid.check('localhost:8081', timeout=120)"
   ]
  },
  {
   "cell_type": "markdown",
   "id": "f58ecda9",
   "metadata": {},
   "source": [
    "### Step 7. Domain Login"
   ]
  },
  {
   "cell_type": "markdown",
   "id": "07093a4b-d463-4fe5-9861-09e7d32b63e0",
   "metadata": {},
   "source": [
    "We now log into the Domain Node using the default admin username and password."
   ]
  },
  {
   "cell_type": "code",
   "execution_count": 7,
   "id": "01126584-3449-4c4b-9fe4-1c727a7a0ee3",
   "metadata": {},
   "outputs": [
    {
     "name": "stdout",
     "output_type": "stream",
     "text": [
      "WARNING: CHANGE YOUR USERNAME AND PASSWORD!!! \n",
      "\n",
      "Anyone can login as an admin to your node right now because your password is still the default PySyft username and password!!!\n",
      "\n",
      "Connecting to None... done! \t Logging into test_domain... done!\n",
      "\n",
      "**Warning**: The syft version on your system and the node are different.\n",
      "Version on your system: 0.6.0\n",
      "Version on the node: 0.7.0-beta.55\n",
      "\n"
     ]
    }
   ],
   "source": [
    "import syft as sy\n",
    "domain = sy.login(email='info@openmined.org', password='changethis', port=8081)"
   ]
  },
  {
   "cell_type": "markdown",
   "id": "92866279",
   "metadata": {},
   "source": [
    "### Step 8. Shutdown Domain"
   ]
  },
  {
   "cell_type": "markdown",
   "id": "8e3fc2ee-5247-4fa1-9e31-9d9464765e0d",
   "metadata": {},
   "source": [
    "If your domain started correctly you are now done with the Install Wizard and ready to do some tutorials. We can shutdown this domain by running the `hagrid` land command in the below cell. If you are done now you can go ahead and shutdown your domain, or if you would prefer to keep it running skip this step."
   ]
  },
  {
   "cell_type": "code",
   "execution_count": 8,
   "id": "f0d12f71-26eb-4317-a8ea-7e45579b7b59",
   "metadata": {},
   "outputs": [
    {
     "name": "stdout",
     "output_type": "stream",
     "text": [
      "\n",
      "\u001b[2K✅ Updated HAGrid from branch: dev from branch: dev\u001b[0m0m\n",
      "\u001b[2K\u001b[32m⠼\u001b[0m \u001b[1;34mUpdating HAGrid from branch: dev\u001b[0m\n",
      "\u001b[1A\u001b[2KHAGrid land test_domain complete!\n"
     ]
    }
   ],
   "source": [
    "!hagrid land test_domain --silent --force"
   ]
  }
 ],
 "metadata": {
  "kernelspec": {
   "display_name": "Python 3.9.12 ('base')",
   "language": "python",
   "name": "python3"
  },
  "language_info": {
   "codemirror_mode": {
    "name": "ipython",
    "version": 3
   },
   "file_extension": ".py",
   "mimetype": "text/x-python",
   "name": "python",
   "nbconvert_exporter": "python",
   "pygments_lexer": "ipython3",
   "version": "3.9.12"
  },
  "vscode": {
   "interpreter": {
    "hash": "ab41de7c01b87720028b6e10b18ab70bba355aee4628723b15cd9ebe80125c4e"
   }
  }
 },
 "nbformat": 4,
 "nbformat_minor": 5
}
