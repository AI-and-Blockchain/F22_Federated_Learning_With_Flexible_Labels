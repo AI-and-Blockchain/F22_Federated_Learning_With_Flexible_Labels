{
  "cells": [
    {
      "cell_type": "code",
      "execution_count": 3,
      "metadata": {
        "colab": {
          "base_uri": "https://localhost:8080/"
        },
        "id": "JGFcwwoP38D9",
        "outputId": "95deab57-2f8f-49c3-ce4a-46c9fc8440cd"
      },
      "outputs": [
        {
          "name": "stdout",
          "output_type": "stream",
          "text": [
            "Looking in indexes: https://pypi.org/simple, https://us-python.pkg.dev/colab-wheels/public/simple/\n",
            "Requirement already satisfied: bigchaindb_driver in /usr/local/lib/python3.7/dist-packages (0.6.2)\n",
            "Requirement already satisfied: pysha3~=1.0.2 in /usr/local/lib/python3.7/dist-packages (from bigchaindb_driver) (1.0.2)\n",
            "Requirement already satisfied: python-rapidjson~=0.6.0 in /usr/local/lib/python3.7/dist-packages (from bigchaindb_driver) (0.6.3)\n",
            "Requirement already satisfied: cryptoconditions==0.8.0 in /usr/local/lib/python3.7/dist-packages (from bigchaindb_driver) (0.8.0)\n",
            "Requirement already satisfied: python-rapidjson-schema==0.1.1 in /usr/local/lib/python3.7/dist-packages (from bigchaindb_driver) (0.1.1)\n",
            "Requirement already satisfied: requests>=2.20.0 in /usr/local/lib/python3.7/dist-packages (from bigchaindb_driver) (2.23.0)\n",
            "Requirement already satisfied: pyasn1~=0.4 in /usr/local/lib/python3.7/dist-packages (from cryptoconditions==0.8.0->bigchaindb_driver) (0.4.8)\n",
            "Requirement already satisfied: PyNaCl~=1.1.0 in /usr/local/lib/python3.7/dist-packages (from cryptoconditions==0.8.0->bigchaindb_driver) (1.1.2)\n",
            "Requirement already satisfied: cryptography~=2.3.1 in /usr/local/lib/python3.7/dist-packages (from cryptoconditions==0.8.0->bigchaindb_driver) (2.3.1)\n",
            "Requirement already satisfied: base58~=1.0.0 in /usr/local/lib/python3.7/dist-packages (from cryptoconditions==0.8.0->bigchaindb_driver) (1.0.3)\n",
            "Requirement already satisfied: idna>=2.1 in /usr/local/lib/python3.7/dist-packages (from cryptography~=2.3.1->cryptoconditions==0.8.0->bigchaindb_driver) (2.10)\n",
            "Requirement already satisfied: asn1crypto>=0.21.0 in /usr/local/lib/python3.7/dist-packages (from cryptography~=2.3.1->cryptoconditions==0.8.0->bigchaindb_driver) (1.5.1)\n",
            "Requirement already satisfied: six>=1.4.1 in /usr/local/lib/python3.7/dist-packages (from cryptography~=2.3.1->cryptoconditions==0.8.0->bigchaindb_driver) (1.15.0)\n",
            "Requirement already satisfied: cffi!=1.11.3,>=1.7 in /usr/local/lib/python3.7/dist-packages (from cryptography~=2.3.1->cryptoconditions==0.8.0->bigchaindb_driver) (1.15.1)\n",
            "Requirement already satisfied: pycparser in /usr/local/lib/python3.7/dist-packages (from cffi!=1.11.3,>=1.7->cryptography~=2.3.1->cryptoconditions==0.8.0->bigchaindb_driver) (2.21)\n",
            "Requirement already satisfied: chardet<4,>=3.0.2 in /usr/local/lib/python3.7/dist-packages (from requests>=2.20.0->bigchaindb_driver) (3.0.4)\n",
            "Requirement already satisfied: urllib3!=1.25.0,!=1.25.1,<1.26,>=1.21.1 in /usr/local/lib/python3.7/dist-packages (from requests>=2.20.0->bigchaindb_driver) (1.24.3)\n",
            "Requirement already satisfied: certifi>=2017.4.17 in /usr/local/lib/python3.7/dist-packages (from requests>=2.20.0->bigchaindb_driver) (2022.9.24)\n"
          ]
        }
      ],
      "source": [
        "! pip3 install bigchaindb_driver"
      ]
    },
    {
      "cell_type": "code",
      "execution_count": null,
      "metadata": {
        "id": "YoDURHdmOhJz"
      },
      "outputs": [],
      "source": [
        "! pip3 install torch torchvision torchaudio"
      ]
    },
    {
      "cell_type": "markdown",
      "metadata": {
        "id": "ZD8mmyoHeU-Q"
      },
      "source": [
        "##### Save the data/transaction into the blockchain block"
      ]
    },
    {
      "cell_type": "code",
      "execution_count": 10,
      "metadata": {
        "colab": {
          "base_uri": "https://localhost:8080/"
        },
        "id": "YlrdEvN3xa9u",
        "outputId": "803883a3-51d8-4bea-d6a4-cec57287838a"
      },
      "outputs": [
        {
          "name": "stdout",
          "output_type": "stream",
          "text": [
            "<bigchaindb_driver.driver.BigchainDB object at 0x7f87e6eac790>\n",
            "{145, 123, 156}\n",
            "{'inputs': [{'owners_before': ['3LacGwYTEXM77ocAtybpTYE3hSv1es2FKGsUJY8ckwyQ'], 'fulfills': None, 'fulfillment': {'type': 'ed25519-sha-256', 'public_key': '3LacGwYTEXM77ocAtybpTYE3hSv1es2FKGsUJY8ckwyQ'}}], 'outputs': [{'public_keys': ['3LacGwYTEXM77ocAtybpTYE3hSv1es2FKGsUJY8ckwyQ'], 'condition': {'details': {'type': 'ed25519-sha-256', 'public_key': '3LacGwYTEXM77ocAtybpTYE3hSv1es2FKGsUJY8ckwyQ'}, 'uri': 'ni:///sha-256;gX7ONrl4kBQGdQgjj_Jwvgnpg2UvBQrTHl7nTc1KSjc?fpt=ed25519-sha-256&cost=131072'}, 'amount': '1'}], 'operation': 'CREATE', 'metadata': None, 'asset': {'data': {'label_1': {'plane': [123, 156, 123, 145, 123]}}}, 'version': '2.0', 'id': None}\n",
            "{'data': {'label_1': {'plane': [123, 156, 123, 145, 123]}}}\n",
            "Fulfilled transaction: \n",
            "\n"
          ]
        },
        {
          "data": {
            "text/plain": [
              "{'inputs': [{'owners_before': ['3LacGwYTEXM77ocAtybpTYE3hSv1es2FKGsUJY8ckwyQ'],\n",
              "   'fulfills': None,\n",
              "   'fulfillment': 'pGSAICK7aP3TrLOAHLj2boU99PPYAcdsoWgYBNpeu7oR3KbngUB1LZFHeB_LbEMbHUOE8FDgUL7o8LeBSVVS4d2kXhQSOL6HQOlcqlDVG18U3UlCaec9twrFJTvH3CJb-Qvfk-QC'}],\n",
              " 'outputs': [{'public_keys': ['3LacGwYTEXM77ocAtybpTYE3hSv1es2FKGsUJY8ckwyQ'],\n",
              "   'condition': {'details': {'type': 'ed25519-sha-256',\n",
              "     'public_key': '3LacGwYTEXM77ocAtybpTYE3hSv1es2FKGsUJY8ckwyQ'},\n",
              "    'uri': 'ni:///sha-256;gX7ONrl4kBQGdQgjj_Jwvgnpg2UvBQrTHl7nTc1KSjc?fpt=ed25519-sha-256&cost=131072'},\n",
              "   'amount': '1'}],\n",
              " 'operation': 'CREATE',\n",
              " 'metadata': None,\n",
              " 'asset': {'data': {'label_1': {'plane': [123, 156, 123, 145, 123]}}},\n",
              " 'version': '2.0',\n",
              " 'id': '360f9aa79f1765a615e02abedef5aa571a94199eddaf739f6f7463f0c03d1ec3'}"
            ]
          },
          "execution_count": 10,
          "metadata": {},
          "output_type": "execute_result"
        }
      ],
      "source": [
        "# import torch\n",
        "# x = torch.rand(5, 3)\n",
        "# print(x)\n",
        "from bigchaindb_driver import BigchainDB\n",
        "from bigchaindb_driver.crypto import generate_keypair\n",
        "\n",
        "\n",
        "bdb_root = 'https://test.ipdb.io'\n",
        "bdb = BigchainDB(bdb_root)\n",
        "\n",
        "\n",
        "data = {\n",
        "      'model_label_1':{\n",
        "        123, 156,123,145,123\n",
        "      }\n",
        "}\n",
        "\n",
        "bicycle = {\n",
        "  'data': {\n",
        "      'label_1':{\n",
        "        'plane': [123, 156, 123, 145, 123]\n",
        "      }\n",
        "  },\n",
        "}\n",
        "\n",
        "\n",
        "print(bdb)\n",
        "print(data['model_label_1'])\n",
        "\n",
        "alice_private_key = \"7gQxJ1xrcq1U2xV8HEkAP1fkekzDTaGGhDfqVxe6wfhw\"\n",
        "alice_public_key = \"3LacGwYTEXM77ocAtybpTYE3hSv1es2FKGsUJY8ckwyQ\"\n",
        "bob_private_key = \"Cth8ym3uxJmLgWS2gpA1ffUnapTvmKnrobq9Fa2AMJvt\"\n",
        "bob_public_key = \"9Ui3bU1rtFDnTe1TYDE9j5FU7mDFucXzEW5ZUpEcxFxz\"\n",
        "# alice, bob = generate_keypair(), generate_keypair()\n",
        "\n",
        "\n",
        "# ===============================   Create a asset / data block that going to send it to the node or aka. save in a block. ============================\n",
        "prepared_creation_tx = bdb.transactions.prepare(\n",
        "    operation='CREATE', \n",
        "    signers = alice_public_key,\n",
        "    asset= bicycle\n",
        "    )\n",
        "print(prepared_creation_tx)\n",
        "print(prepared_creation_tx['asset']) # Print out the data asset\n",
        "\n",
        "# Fulfilled the transaction\n",
        "fulfilled_creation_tx = bdb.transactions.fulfill(prepared_creation_tx, private_keys=alice_private_key)\n",
        "print(\"Fulfilled transaction: \\n\")\n",
        "\n",
        "\n",
        "# Send the transaction to connected BigchainDB node. \n",
        "\n",
        "sent_creation_tx = bdb.transactions.send_commit(fulfilled_creation_tx)\n",
        "# After you send the tx, get the transaction id. \n",
        "# Produce this id 'id': '360f9aa79f1765a615e02abedef5aa571a94199eddaf739f6f7463f0c03d1ec3'\n",
        "# This is how to get the transaction by the id.\n",
        "\n",
        "fulfilled_creation_tx\n"
      ]
    },
    {
      "cell_type": "code",
      "execution_count": 11,
      "metadata": {
        "colab": {
          "base_uri": "https://localhost:8080/"
        },
        "id": "TSfTPNx4nNm1",
        "outputId": "11b58e9f-d0a7-44bc-ab98-ab1632eb7c26"
      },
      "outputs": [
        {
          "data": {
            "text/plain": [
              "[{'inputs': [{'owners_before': ['3LacGwYTEXM77ocAtybpTYE3hSv1es2FKGsUJY8ckwyQ'],\n",
              "    'fulfills': None,\n",
              "    'fulfillment': 'pGSAICK7aP3TrLOAHLj2boU99PPYAcdsoWgYBNpeu7oR3KbngUB1LZFHeB_LbEMbHUOE8FDgUL7o8LeBSVVS4d2kXhQSOL6HQOlcqlDVG18U3UlCaec9twrFJTvH3CJb-Qvfk-QC'}],\n",
              "  'outputs': [{'public_keys': ['3LacGwYTEXM77ocAtybpTYE3hSv1es2FKGsUJY8ckwyQ'],\n",
              "    'condition': {'details': {'type': 'ed25519-sha-256',\n",
              "      'public_key': '3LacGwYTEXM77ocAtybpTYE3hSv1es2FKGsUJY8ckwyQ'},\n",
              "     'uri': 'ni:///sha-256;gX7ONrl4kBQGdQgjj_Jwvgnpg2UvBQrTHl7nTc1KSjc?fpt=ed25519-sha-256&cost=131072'},\n",
              "    'amount': '1'}],\n",
              "  'operation': 'CREATE',\n",
              "  'metadata': None,\n",
              "  'asset': {'data': {'label_1': {'plane': [123, 156, 123, 145, 123]}}},\n",
              "  'version': '2.0',\n",
              "  'id': '360f9aa79f1765a615e02abedef5aa571a94199eddaf739f6f7463f0c03d1ec3'}]"
            ]
          },
          "execution_count": 11,
          "metadata": {},
          "output_type": "execute_result"
        }
      ],
      "source": [
        "sent_creation_tx = bdb.transactions.get(asset_id=fulfilled_creation_tx['id'])\n",
        "sent_creation_tx"
      ]
    },
    {
      "cell_type": "code",
      "execution_count": 13,
      "metadata": {
        "colab": {
          "base_uri": "https://localhost:8080/"
        },
        "id": "6OD_ZKGvm2gG",
        "outputId": "8680ac5a-412f-46c7-8df6-e8686334a737"
      },
      "outputs": [
        {
          "data": {
            "text/plain": [
              "[{'inputs': [{'owners_before': ['3LacGwYTEXM77ocAtybpTYE3hSv1es2FKGsUJY8ckwyQ'],\n",
              "    'fulfills': None,\n",
              "    'fulfillment': 'pGSAICK7aP3TrLOAHLj2boU99PPYAcdsoWgYBNpeu7oR3KbngUB1LZFHeB_LbEMbHUOE8FDgUL7o8LeBSVVS4d2kXhQSOL6HQOlcqlDVG18U3UlCaec9twrFJTvH3CJb-Qvfk-QC'}],\n",
              "  'outputs': [{'public_keys': ['3LacGwYTEXM77ocAtybpTYE3hSv1es2FKGsUJY8ckwyQ'],\n",
              "    'condition': {'details': {'type': 'ed25519-sha-256',\n",
              "      'public_key': '3LacGwYTEXM77ocAtybpTYE3hSv1es2FKGsUJY8ckwyQ'},\n",
              "     'uri': 'ni:///sha-256;gX7ONrl4kBQGdQgjj_Jwvgnpg2UvBQrTHl7nTc1KSjc?fpt=ed25519-sha-256&cost=131072'},\n",
              "    'amount': '1'}],\n",
              "  'operation': 'CREATE',\n",
              "  'metadata': None,\n",
              "  'asset': {'data': {'label_1': {'plane': [123, 156, 123, 145, 123]}}},\n",
              "  'version': '2.0',\n",
              "  'id': '360f9aa79f1765a615e02abedef5aa571a94199eddaf739f6f7463f0c03d1ec3'}]"
            ]
          },
          "execution_count": 13,
          "metadata": {},
          "output_type": "execute_result"
        }
      ],
      "source": [
        "# transactions.get is used to get all the operation in this asset.\n",
        "create_txid = sent_creation_tx[0]['id']\n",
        "# transfer_txid = sent_creation_tx[1]['id']\n",
        "plane_model = bdb.transactions.get(asset_id= create_txid)\n",
        "\n",
        "plane_model\n",
        "\n"
      ]
    },
    {
      "cell_type": "code",
      "execution_count": 14,
      "metadata": {
        "colab": {
          "base_uri": "https://localhost:8080/"
        },
        "id": "6JmBFfbuLMmF",
        "outputId": "7fb9abbe-b771-48ce-c407-86f98559c02f"
      },
      "outputs": [
        {
          "data": {
            "text/plain": [
              "{'inputs': [{'owners_before': ['3LacGwYTEXM77ocAtybpTYE3hSv1es2FKGsUJY8ckwyQ'],\n",
              "   'fulfills': None,\n",
              "   'fulfillment': 'pGSAICK7aP3TrLOAHLj2boU99PPYAcdsoWgYBNpeu7oR3KbngUB1LZFHeB_LbEMbHUOE8FDgUL7o8LeBSVVS4d2kXhQSOL6HQOlcqlDVG18U3UlCaec9twrFJTvH3CJb-Qvfk-QC'}],\n",
              " 'outputs': [{'public_keys': ['3LacGwYTEXM77ocAtybpTYE3hSv1es2FKGsUJY8ckwyQ'],\n",
              "   'condition': {'details': {'type': 'ed25519-sha-256',\n",
              "     'public_key': '3LacGwYTEXM77ocAtybpTYE3hSv1es2FKGsUJY8ckwyQ'},\n",
              "    'uri': 'ni:///sha-256;gX7ONrl4kBQGdQgjj_Jwvgnpg2UvBQrTHl7nTc1KSjc?fpt=ed25519-sha-256&cost=131072'},\n",
              "   'amount': '1'}],\n",
              " 'operation': 'CREATE',\n",
              " 'metadata': None,\n",
              " 'asset': {'data': {'label_1': {'plane': [123, 156, 123, 145, 123]}}},\n",
              " 'version': '2.0',\n",
              " 'id': '360f9aa79f1765a615e02abedef5aa571a94199eddaf739f6f7463f0c03d1ec3'}"
            ]
          },
          "execution_count": 14,
          "metadata": {},
          "output_type": "execute_result"
        }
      ],
      "source": [
        "# transactions.retrieve is used to get a specific operation. YOU NEED TO USE THE ASSET ID TO RETRIEVE THE ACTUAL ASSET IN THE TRANSFER OPERATION\n",
        "bdb.transactions.retrieve(create_txid)"
      ]
    },
    {
      "cell_type": "code",
      "execution_count": 16,
      "metadata": {
        "colab": {
          "base_uri": "https://localhost:8080/"
        },
        "id": "nfrnnCq6nh0I",
        "outputId": "8d6c824b-50fd-4ff5-81a7-ad15416a49c2"
      },
      "outputs": [
        {
          "data": {
            "text/plain": [
              "{'height': 225,\n",
              " 'transactions': [{'inputs': [{'owners_before': ['3LacGwYTEXM77ocAtybpTYE3hSv1es2FKGsUJY8ckwyQ'],\n",
              "     'fulfills': None,\n",
              "     'fulfillment': 'pGSAICK7aP3TrLOAHLj2boU99PPYAcdsoWgYBNpeu7oR3KbngUB1LZFHeB_LbEMbHUOE8FDgUL7o8LeBSVVS4d2kXhQSOL6HQOlcqlDVG18U3UlCaec9twrFJTvH3CJb-Qvfk-QC'}],\n",
              "   'outputs': [{'public_keys': ['3LacGwYTEXM77ocAtybpTYE3hSv1es2FKGsUJY8ckwyQ'],\n",
              "     'condition': {'details': {'type': 'ed25519-sha-256',\n",
              "       'public_key': '3LacGwYTEXM77ocAtybpTYE3hSv1es2FKGsUJY8ckwyQ'},\n",
              "      'uri': 'ni:///sha-256;gX7ONrl4kBQGdQgjj_Jwvgnpg2UvBQrTHl7nTc1KSjc?fpt=ed25519-sha-256&cost=131072'},\n",
              "     'amount': '1'}],\n",
              "   'operation': 'CREATE',\n",
              "   'metadata': None,\n",
              "   'asset': {'data': {'label_1': {'plane': [123, 156, 123, 145, 123]}}},\n",
              "   'version': '2.0',\n",
              "   'id': '360f9aa79f1765a615e02abedef5aa571a94199eddaf739f6f7463f0c03d1ec3'}]}"
            ]
          },
          "execution_count": 16,
          "metadata": {},
          "output_type": "execute_result"
        }
      ],
      "source": [
        "# The data is now in the blockchain block. \n",
        "block_height = bdb.blocks.get(txid=create_txid)\n",
        "block = bdb.blocks.retrieve(str(block_height)) # A whole information in this block. \n",
        "block"
      ]
    },
    {
      "cell_type": "markdown",
      "metadata": {
        "id": "A05L50oCeNfN"
      },
      "source": [
        "##### Asset Transfer"
      ]
    },
    {
      "cell_type": "code",
      "execution_count": 17,
      "metadata": {
        "colab": {
          "base_uri": "https://localhost:8080/"
        },
        "id": "D_T9gL1Kd3tr",
        "outputId": "21cbe5af-b32b-4ee9-b886-84a5e016f8a3"
      },
      "outputs": [
        {
          "data": {
            "text/plain": [
              "{'inputs': [{'owners_before': ['3LacGwYTEXM77ocAtybpTYE3hSv1es2FKGsUJY8ckwyQ'],\n",
              "   'fulfills': None,\n",
              "   'fulfillment': 'pGSAICK7aP3TrLOAHLj2boU99PPYAcdsoWgYBNpeu7oR3KbngUB1LZFHeB_LbEMbHUOE8FDgUL7o8LeBSVVS4d2kXhQSOL6HQOlcqlDVG18U3UlCaec9twrFJTvH3CJb-Qvfk-QC'}],\n",
              " 'outputs': [{'public_keys': ['3LacGwYTEXM77ocAtybpTYE3hSv1es2FKGsUJY8ckwyQ'],\n",
              "   'condition': {'details': {'type': 'ed25519-sha-256',\n",
              "     'public_key': '3LacGwYTEXM77ocAtybpTYE3hSv1es2FKGsUJY8ckwyQ'},\n",
              "    'uri': 'ni:///sha-256;gX7ONrl4kBQGdQgjj_Jwvgnpg2UvBQrTHl7nTc1KSjc?fpt=ed25519-sha-256&cost=131072'},\n",
              "   'amount': '1'}],\n",
              " 'operation': 'CREATE',\n",
              " 'metadata': None,\n",
              " 'asset': {'data': {'label_1': {'plane': [123, 156, 123, 145, 123]}}},\n",
              " 'version': '2.0',\n",
              " 'id': '360f9aa79f1765a615e02abedef5aa571a94199eddaf739f6f7463f0c03d1ec3'}"
            ]
          },
          "execution_count": 17,
          "metadata": {},
          "output_type": "execute_result"
        }
      ],
      "source": [
        "# ================================================================== Transfer the asset ===========================================================\n",
        "# In the above example, the data model plane is created and it is own by alice. \n",
        "creation_tx = bdb.transactions.retrieve(create_txid) # Retrieve the transaction from the block. \n",
        "creation_tx"
      ]
    },
    {
      "cell_type": "code",
      "execution_count": 18,
      "metadata": {
        "colab": {
          "base_uri": "https://localhost:8080/"
        },
        "id": "A3Yb58pGeSU0",
        "outputId": "a2b67f56-47f8-4f29-cf3e-16cde7de341a"
      },
      "outputs": [
        {
          "data": {
            "text/plain": [
              "{'inputs': [{'owners_before': ['3LacGwYTEXM77ocAtybpTYE3hSv1es2FKGsUJY8ckwyQ'],\n",
              "   'fulfills': {'transaction_id': '360f9aa79f1765a615e02abedef5aa571a94199eddaf739f6f7463f0c03d1ec3',\n",
              "    'output_index': 0},\n",
              "   'fulfillment': 'pGSAICK7aP3TrLOAHLj2boU99PPYAcdsoWgYBNpeu7oR3KbngUCzKETwT6RffdQXdJs7XyIbWhaufPEfasHN5pp8CnrnGyriBRvekcqUC54-cEZt8fJfT34-i5RFAvUyNQNDR2ED'}],\n",
              " 'outputs': [{'public_keys': ['9Ui3bU1rtFDnTe1TYDE9j5FU7mDFucXzEW5ZUpEcxFxz'],\n",
              "   'condition': {'details': {'type': 'ed25519-sha-256',\n",
              "     'public_key': '9Ui3bU1rtFDnTe1TYDE9j5FU7mDFucXzEW5ZUpEcxFxz'},\n",
              "    'uri': 'ni:///sha-256;OsZFZ20QKaMLSdbivdF0PLPJfb_b3yZ1O5QPlj9nC9o?fpt=ed25519-sha-256&cost=131072'},\n",
              "   'amount': '1'}],\n",
              " 'operation': 'TRANSFER',\n",
              " 'metadata': None,\n",
              " 'asset': {'id': '360f9aa79f1765a615e02abedef5aa571a94199eddaf739f6f7463f0c03d1ec3'},\n",
              " 'version': '2.0',\n",
              " 'id': '42c43433decace07ffa3b163cba48c2f99aaae18283633a994fbfd4e85fcd74d'}"
            ]
          },
          "execution_count": 18,
          "metadata": {},
          "output_type": "execute_result"
        }
      ],
      "source": [
        "asset_id = creation_tx['id']\n",
        "transfer_asset = {\n",
        "    'id': asset_id\n",
        "}\n",
        "\n",
        "# Prepare the transfer transaction\n",
        "output_index = 0\n",
        "output = creation_tx['outputs'][output_index]\n",
        "transfer_input = {\n",
        "    'fulfillment': output['condition']['details'], # When you create a fulfillment with bigchaindb, it will generate these parameters for you.\n",
        "    'fulfills': {\n",
        "        'output_index': output_index,\n",
        "        'transaction_id': asset_id\n",
        "    },\n",
        "    'owners_before': output['public_keys']\n",
        "}\n",
        "\n",
        "# Prepare the transfer tx\n",
        "prepared_transfer_tx = bdb.transactions.prepare(\n",
        "    operation='TRANSFER',\n",
        "    asset=transfer_asset,\n",
        "    inputs= transfer_input,\n",
        "    recipients=bob_public_key # Make the recipients to someone public key to change the ownership of the asset (data in a block)\n",
        ")\n",
        "\n",
        "fulfilled_transfer_tx = bdb.transactions.fulfill(prepared_transfer_tx, private_keys = alice_private_key)\n",
        "fulfilled_transfer_tx"
      ]
    },
    {
      "cell_type": "code",
      "execution_count": 19,
      "metadata": {
        "id": "Sb0xQegpglyG"
      },
      "outputs": [],
      "source": [
        "send_transfer_tx = bdb.transactions.send_commit(fulfilled_transfer_tx)\n",
        "# send_transfer_tx = fulfilled_transfer_tx"
      ]
    },
    {
      "cell_type": "code",
      "execution_count": 20,
      "metadata": {
        "colab": {
          "base_uri": "https://localhost:8080/"
        },
        "id": "fqkuJoGvjjAa",
        "outputId": "47964c12-c30d-462f-d2e4-9b8775e84af8"
      },
      "outputs": [
        {
          "data": {
            "text/plain": [
              "{'asset': {'id': '360f9aa79f1765a615e02abedef5aa571a94199eddaf739f6f7463f0c03d1ec3'},\n",
              " 'id': '42c43433decace07ffa3b163cba48c2f99aaae18283633a994fbfd4e85fcd74d',\n",
              " 'inputs': [{'fulfillment': 'pGSAICK7aP3TrLOAHLj2boU99PPYAcdsoWgYBNpeu7oR3KbngUCzKETwT6RffdQXdJs7XyIbWhaufPEfasHN5pp8CnrnGyriBRvekcqUC54-cEZt8fJfT34-i5RFAvUyNQNDR2ED',\n",
              "   'fulfills': {'output_index': 0,\n",
              "    'transaction_id': '360f9aa79f1765a615e02abedef5aa571a94199eddaf739f6f7463f0c03d1ec3'},\n",
              "   'owners_before': ['3LacGwYTEXM77ocAtybpTYE3hSv1es2FKGsUJY8ckwyQ']}],\n",
              " 'metadata': None,\n",
              " 'operation': 'TRANSFER',\n",
              " 'outputs': [{'amount': '1',\n",
              "   'condition': {'details': {'public_key': '9Ui3bU1rtFDnTe1TYDE9j5FU7mDFucXzEW5ZUpEcxFxz',\n",
              "     'type': 'ed25519-sha-256'},\n",
              "    'uri': 'ni:///sha-256;OsZFZ20QKaMLSdbivdF0PLPJfb_b3yZ1O5QPlj9nC9o?fpt=ed25519-sha-256&cost=131072'},\n",
              "   'public_keys': ['9Ui3bU1rtFDnTe1TYDE9j5FU7mDFucXzEW5ZUpEcxFxz']}],\n",
              " 'version': '2.0'}"
            ]
          },
          "execution_count": 20,
          "metadata": {},
          "output_type": "execute_result"
        }
      ],
      "source": [
        "send_transfer_tx"
      ]
    },
    {
      "cell_type": "code",
      "execution_count": 21,
      "metadata": {
        "colab": {
          "base_uri": "https://localhost:8080/",
          "height": 35
        },
        "id": "lJsUb5Belt7U",
        "outputId": "41846752-467e-4910-f01c-36b8721a7332"
      },
      "outputs": [
        {
          "data": {
            "application/vnd.google.colaboratory.intrinsic+json": {
              "type": "string"
            },
            "text/plain": [
              "'42c43433decace07ffa3b163cba48c2f99aaae18283633a994fbfd4e85fcd74d'"
            ]
          },
          "execution_count": 21,
          "metadata": {},
          "output_type": "execute_result"
        }
      ],
      "source": [
        "transfer_asset_txid = send_transfer_tx['id']\n",
        "transfer_asset_txid  # This is the transfer operation transaction id \n",
        "\n",
        "# send_transfer_tx['asset']['id']  => This is the whole block transaction id "
      ]
    },
    {
      "cell_type": "code",
      "execution_count": 22,
      "metadata": {
        "colab": {
          "base_uri": "https://localhost:8080/"
        },
        "id": "epl5xAl4kC-e",
        "outputId": "e4d3911c-e990-4384-e168-5b523258428f"
      },
      "outputs": [
        {
          "data": {
            "text/plain": [
              "[{'inputs': [{'owners_before': ['3LacGwYTEXM77ocAtybpTYE3hSv1es2FKGsUJY8ckwyQ'],\n",
              "    'fulfills': None,\n",
              "    'fulfillment': 'pGSAICK7aP3TrLOAHLj2boU99PPYAcdsoWgYBNpeu7oR3KbngUB1LZFHeB_LbEMbHUOE8FDgUL7o8LeBSVVS4d2kXhQSOL6HQOlcqlDVG18U3UlCaec9twrFJTvH3CJb-Qvfk-QC'}],\n",
              "  'outputs': [{'public_keys': ['3LacGwYTEXM77ocAtybpTYE3hSv1es2FKGsUJY8ckwyQ'],\n",
              "    'condition': {'details': {'type': 'ed25519-sha-256',\n",
              "      'public_key': '3LacGwYTEXM77ocAtybpTYE3hSv1es2FKGsUJY8ckwyQ'},\n",
              "     'uri': 'ni:///sha-256;gX7ONrl4kBQGdQgjj_Jwvgnpg2UvBQrTHl7nTc1KSjc?fpt=ed25519-sha-256&cost=131072'},\n",
              "    'amount': '1'}],\n",
              "  'operation': 'CREATE',\n",
              "  'metadata': None,\n",
              "  'asset': {'data': {'label_1': {'plane': [123, 156, 123, 145, 123]}}},\n",
              "  'version': '2.0',\n",
              "  'id': '360f9aa79f1765a615e02abedef5aa571a94199eddaf739f6f7463f0c03d1ec3'},\n",
              " {'inputs': [{'owners_before': ['3LacGwYTEXM77ocAtybpTYE3hSv1es2FKGsUJY8ckwyQ'],\n",
              "    'fulfills': {'transaction_id': '360f9aa79f1765a615e02abedef5aa571a94199eddaf739f6f7463f0c03d1ec3',\n",
              "     'output_index': 0},\n",
              "    'fulfillment': 'pGSAICK7aP3TrLOAHLj2boU99PPYAcdsoWgYBNpeu7oR3KbngUCzKETwT6RffdQXdJs7XyIbWhaufPEfasHN5pp8CnrnGyriBRvekcqUC54-cEZt8fJfT34-i5RFAvUyNQNDR2ED'}],\n",
              "  'outputs': [{'public_keys': ['9Ui3bU1rtFDnTe1TYDE9j5FU7mDFucXzEW5ZUpEcxFxz'],\n",
              "    'condition': {'details': {'type': 'ed25519-sha-256',\n",
              "      'public_key': '9Ui3bU1rtFDnTe1TYDE9j5FU7mDFucXzEW5ZUpEcxFxz'},\n",
              "     'uri': 'ni:///sha-256;OsZFZ20QKaMLSdbivdF0PLPJfb_b3yZ1O5QPlj9nC9o?fpt=ed25519-sha-256&cost=131072'},\n",
              "    'amount': '1'}],\n",
              "  'operation': 'TRANSFER',\n",
              "  'metadata': None,\n",
              "  'asset': {'id': '360f9aa79f1765a615e02abedef5aa571a94199eddaf739f6f7463f0c03d1ec3'},\n",
              "  'version': '2.0',\n",
              "  'id': '42c43433decace07ffa3b163cba48c2f99aaae18283633a994fbfd4e85fcd74d'}]"
            ]
          },
          "execution_count": 22,
          "metadata": {},
          "output_type": "execute_result"
        }
      ],
      "source": [
        "bdb.transactions.get(asset_id= create_txid)\n",
        "# An item transactions contains these two operations. [every transaction happens for this item.] aka. data object"
      ]
    },
    {
      "cell_type": "code",
      "execution_count": 24,
      "metadata": {
        "colab": {
          "base_uri": "https://localhost:8080/"
        },
        "id": "k0wcMilsqZ-T",
        "outputId": "f6b40a7e-92ac-4107-ed60-fa9dce6fd22d"
      },
      "outputs": [
        {
          "data": {
            "text/plain": [
              "{'inputs': [{'owners_before': ['3LacGwYTEXM77ocAtybpTYE3hSv1es2FKGsUJY8ckwyQ'],\n",
              "   'fulfills': {'transaction_id': '360f9aa79f1765a615e02abedef5aa571a94199eddaf739f6f7463f0c03d1ec3',\n",
              "    'output_index': 0},\n",
              "   'fulfillment': 'pGSAICK7aP3TrLOAHLj2boU99PPYAcdsoWgYBNpeu7oR3KbngUCzKETwT6RffdQXdJs7XyIbWhaufPEfasHN5pp8CnrnGyriBRvekcqUC54-cEZt8fJfT34-i5RFAvUyNQNDR2ED'}],\n",
              " 'outputs': [{'public_keys': ['9Ui3bU1rtFDnTe1TYDE9j5FU7mDFucXzEW5ZUpEcxFxz'],\n",
              "   'condition': {'details': {'type': 'ed25519-sha-256',\n",
              "     'public_key': '9Ui3bU1rtFDnTe1TYDE9j5FU7mDFucXzEW5ZUpEcxFxz'},\n",
              "    'uri': 'ni:///sha-256;OsZFZ20QKaMLSdbivdF0PLPJfb_b3yZ1O5QPlj9nC9o?fpt=ed25519-sha-256&cost=131072'},\n",
              "   'amount': '1'}],\n",
              " 'operation': 'TRANSFER',\n",
              " 'metadata': None,\n",
              " 'asset': {'id': '360f9aa79f1765a615e02abedef5aa571a94199eddaf739f6f7463f0c03d1ec3'},\n",
              " 'version': '2.0',\n",
              " 'id': '42c43433decace07ffa3b163cba48c2f99aaae18283633a994fbfd4e85fcd74d'}"
            ]
          },
          "execution_count": 24,
          "metadata": {},
          "output_type": "execute_result"
        }
      ],
      "source": [
        "bdb.transactions.retrieve(transfer_asset_txid) # Retrieve the transaction \"TRANSFER\" operation"
      ]
    },
    {
      "cell_type": "code",
      "execution_count": 25,
      "metadata": {
        "colab": {
          "base_uri": "https://localhost:8080/"
        },
        "id": "ECiauKfclnXD",
        "outputId": "81c0d86f-dd89-4570-c445-a216da4b8458"
      },
      "outputs": [
        {
          "data": {
            "text/plain": [
              "{'height': 227,\n",
              " 'transactions': [{'inputs': [{'owners_before': ['3LacGwYTEXM77ocAtybpTYE3hSv1es2FKGsUJY8ckwyQ'],\n",
              "     'fulfills': {'transaction_id': '360f9aa79f1765a615e02abedef5aa571a94199eddaf739f6f7463f0c03d1ec3',\n",
              "      'output_index': 0},\n",
              "     'fulfillment': 'pGSAICK7aP3TrLOAHLj2boU99PPYAcdsoWgYBNpeu7oR3KbngUCzKETwT6RffdQXdJs7XyIbWhaufPEfasHN5pp8CnrnGyriBRvekcqUC54-cEZt8fJfT34-i5RFAvUyNQNDR2ED'}],\n",
              "   'outputs': [{'public_keys': ['9Ui3bU1rtFDnTe1TYDE9j5FU7mDFucXzEW5ZUpEcxFxz'],\n",
              "     'condition': {'details': {'type': 'ed25519-sha-256',\n",
              "       'public_key': '9Ui3bU1rtFDnTe1TYDE9j5FU7mDFucXzEW5ZUpEcxFxz'},\n",
              "      'uri': 'ni:///sha-256;OsZFZ20QKaMLSdbivdF0PLPJfb_b3yZ1O5QPlj9nC9o?fpt=ed25519-sha-256&cost=131072'},\n",
              "     'amount': '1'}],\n",
              "   'operation': 'TRANSFER',\n",
              "   'metadata': None,\n",
              "   'asset': {'id': '360f9aa79f1765a615e02abedef5aa571a94199eddaf739f6f7463f0c03d1ec3'},\n",
              "   'version': '2.0',\n",
              "   'id': '42c43433decace07ffa3b163cba48c2f99aaae18283633a994fbfd4e85fcd74d'}]}"
            ]
          },
          "execution_count": 25,
          "metadata": {},
          "output_type": "execute_result"
        }
      ],
      "source": [
        "block_height = bdb.blocks.get(txid=transfer_asset_txid)\n",
        "block = bdb.blocks.retrieve(str(block_height)) # A whole information in this block. \n",
        "block "
      ]
    },
    {
      "cell_type": "markdown",
      "metadata": {
        "id": "s43NB-8Ut1b8"
      },
      "source": [
        "##### Try to divisible the assets [ client request more data models from ddifferent data owner. ]"
      ]
    },
    {
      "cell_type": "code",
      "execution_count": 130,
      "metadata": {
        "colab": {
          "base_uri": "https://localhost:8080/"
        },
        "id": "sZ2HqNMlo5qo",
        "outputId": "ffd09b93-6ac0-49db-e187-3d9bb5f78b6d"
      },
      "outputs": [
        {
          "data": {
            "text/plain": [
              "{'label_1': {'plane': [123, 156, 123, 145, 123]}}"
            ]
          },
          "execution_count": 130,
          "metadata": {},
          "output_type": "execute_result"
        }
      ],
      "source": [
        "import json\n",
        "\n",
        "datapoints = bdb.transactions.retrieve(create_txid)['asset']['data']\n",
        "datapoints = str(datapoints) # Convert dictionary to json\n",
        "datapoints = eval(datapoints)\n",
        "datapoints\n",
        "# datapoints = {\"label_1\": {\"plane\": [123, 156, 123, 145, 123]}}\n"
      ]
    },
    {
      "cell_type": "code",
      "execution_count": 131,
      "metadata": {
        "colab": {
          "base_uri": "https://localhost:8080/"
        },
        "id": "0-NcG9uocOFg",
        "outputId": "d4167384-5661-4388-966f-d7c9dfe53120"
      },
      "outputs": [
        {
          "data": {
            "text/plain": [
              "{'data': {'token_for': {'label_1': {'plane': [123, 156, 123, 145, 123]}},\n",
              "  'description': 'Limit time access data points for model'}}"
            ]
          },
          "execution_count": 131,
          "metadata": {},
          "output_type": "execute_result"
        }
      ],
      "source": [
        "# Get the data points info from the blockchain, and use it to create a time sharing operation\n",
        "time_sharing_token = {\n",
        "    'data':{\n",
        "        'token_for': datapoints,\n",
        "        'description': 'Limit time access data points for model'\n",
        "    }\n",
        "}\n",
        "\n",
        "\n",
        "\n",
        "# Make up info for testing \n",
        "client = generate_keypair()\n",
        "# print(client)\n",
        "client_private = client.private_key\n",
        "client_public = client.public_key\n",
        "# print(client_private, client_public)\n",
        "time_sharing_token"
      ]
    },
    {
      "cell_type": "code",
      "execution_count": 133,
      "metadata": {
        "colab": {
          "base_uri": "https://localhost:8080/"
        },
        "id": "aqScNGkCC_eK",
        "outputId": "76606889-5d1e-4a55-c776-3465fcf108f7"
      },
      "outputs": [
        {
          "data": {
            "text/plain": [
              "{'inputs': [{'owners_before': ['9Ui3bU1rtFDnTe1TYDE9j5FU7mDFucXzEW5ZUpEcxFxz'],\n",
              "   'fulfills': None,\n",
              "   'fulfillment': {'type': 'ed25519-sha-256',\n",
              "    'public_key': '9Ui3bU1rtFDnTe1TYDE9j5FU7mDFucXzEW5ZUpEcxFxz'}}],\n",
              " 'outputs': [{'public_keys': ['DrDjeBRszsZZmT3m2YQGiYrxG6WoYXJrYuFmXVrpwmsn'],\n",
              "   'condition': {'details': {'type': 'ed25519-sha-256',\n",
              "     'public_key': 'DrDjeBRszsZZmT3m2YQGiYrxG6WoYXJrYuFmXVrpwmsn'},\n",
              "    'uri': 'ni:///sha-256;lmNjXbx6rBd0uThf6-E-R0bQB7qQ-fgH_cdR74d0N28?fpt=ed25519-sha-256&cost=131072'},\n",
              "   'amount': '10'}],\n",
              " 'operation': 'CREATE',\n",
              " 'metadata': None,\n",
              " 'asset': {'data': {'token_for': {'label_1': {'plane': [123,\n",
              "      156,\n",
              "      123,\n",
              "      145,\n",
              "      123]}},\n",
              "   'description': 'Limit time access data points for model'}},\n",
              " 'version': '2.0',\n",
              " 'id': None}"
            ]
          },
          "execution_count": 133,
          "metadata": {},
          "output_type": "execute_result"
        }
      ],
      "source": [
        "# Prepare transaction phase\n",
        "\n",
        "prepared_token_tx = bdb.transactions.prepare(\n",
        "    operation='CREATE',\n",
        "    signers=bob_public_key,\n",
        "    recipients=[([client_public], 10)],\n",
        "    asset=time_sharing_token\n",
        ")\n",
        "prepared_token_tx"
      ]
    },
    {
      "cell_type": "code",
      "execution_count": 134,
      "metadata": {
        "colab": {
          "base_uri": "https://localhost:8080/"
        },
        "id": "8R8RAX40D7em",
        "outputId": "d595b96e-9df8-43c6-e1bc-6cd54dfc84c2"
      },
      "outputs": [
        {
          "data": {
            "text/plain": [
              "{'inputs': [{'owners_before': ['9Ui3bU1rtFDnTe1TYDE9j5FU7mDFucXzEW5ZUpEcxFxz'],\n",
              "   'fulfills': None,\n",
              "   'fulfillment': 'pGSAIH32ljCHvnizAfWIb4IBw24aOptTwi7wH2aLtpNPn5rPgUBGkM-ao3b6N4dZJSUS3-7wfrgLBfgGeXEXz9I72GhHmLp1-QNjC7bJnkduErnChjgFMH8DgVdS5Tx6oWJNvOIA'}],\n",
              " 'outputs': [{'public_keys': ['DrDjeBRszsZZmT3m2YQGiYrxG6WoYXJrYuFmXVrpwmsn'],\n",
              "   'condition': {'details': {'type': 'ed25519-sha-256',\n",
              "     'public_key': 'DrDjeBRszsZZmT3m2YQGiYrxG6WoYXJrYuFmXVrpwmsn'},\n",
              "    'uri': 'ni:///sha-256;lmNjXbx6rBd0uThf6-E-R0bQB7qQ-fgH_cdR74d0N28?fpt=ed25519-sha-256&cost=131072'},\n",
              "   'amount': '10'}],\n",
              " 'operation': 'CREATE',\n",
              " 'metadata': None,\n",
              " 'asset': {'data': {'token_for': {'label_1': {'plane': [123,\n",
              "      156,\n",
              "      123,\n",
              "      145,\n",
              "      123]}},\n",
              "   'description': 'Limit time access data points for model'}},\n",
              " 'version': '2.0',\n",
              " 'id': '7d7b357a77d1b32d36042828d102b7e30637c150c8d0e07d5af9671312e969c4'}"
            ]
          },
          "execution_count": 134,
          "metadata": {},
          "output_type": "execute_result"
        }
      ],
      "source": [
        "# Fulfilled the token transaction\n",
        "fulfilled_token_tx = bdb.transactions.fulfill(\n",
        "    prepared_token_tx, private_keys=bob_private_key\n",
        ")\n",
        "fulfilled_token_tx"
      ]
    },
    {
      "cell_type": "code",
      "execution_count": 135,
      "metadata": {
        "colab": {
          "base_uri": "https://localhost:8080/"
        },
        "id": "DGQYM2IEeWQB",
        "outputId": "ccd0e5bc-6314-495d-bced-423de6b1689f"
      },
      "outputs": [
        {
          "data": {
            "text/plain": [
              "{'inputs': [{'owners_before': ['3LacGwYTEXM77ocAtybpTYE3hSv1es2FKGsUJY8ckwyQ'],\n",
              "   'fulfills': {'transaction_id': '360f9aa79f1765a615e02abedef5aa571a94199eddaf739f6f7463f0c03d1ec3',\n",
              "    'output_index': 0},\n",
              "   'fulfillment': 'pGSAICK7aP3TrLOAHLj2boU99PPYAcdsoWgYBNpeu7oR3KbngUCzKETwT6RffdQXdJs7XyIbWhaufPEfasHN5pp8CnrnGyriBRvekcqUC54-cEZt8fJfT34-i5RFAvUyNQNDR2ED'}],\n",
              " 'outputs': [{'public_keys': ['9Ui3bU1rtFDnTe1TYDE9j5FU7mDFucXzEW5ZUpEcxFxz'],\n",
              "   'condition': {'details': {'type': 'ed25519-sha-256',\n",
              "     'public_key': '9Ui3bU1rtFDnTe1TYDE9j5FU7mDFucXzEW5ZUpEcxFxz'},\n",
              "    'uri': 'ni:///sha-256;OsZFZ20QKaMLSdbivdF0PLPJfb_b3yZ1O5QPlj9nC9o?fpt=ed25519-sha-256&cost=131072'},\n",
              "   'amount': '1'}],\n",
              " 'operation': 'TRANSFER',\n",
              " 'metadata': None,\n",
              " 'asset': {'id': '360f9aa79f1765a615e02abedef5aa571a94199eddaf739f6f7463f0c03d1ec3'},\n",
              " 'version': '2.0',\n",
              " 'id': '42c43433decace07ffa3b163cba48c2f99aaae18283633a994fbfd4e85fcd74d'}"
            ]
          },
          "execution_count": 135,
          "metadata": {},
          "output_type": "execute_result"
        }
      ],
      "source": [
        "fulfilled_transfer_tx"
      ]
    },
    {
      "cell_type": "markdown",
      "metadata": {
        "id": "XABhCWytow_Y"
      },
      "source": [
        "##### Create the own token asset to finish the transactions\n"
      ]
    },
    {
      "cell_type": "code",
      "execution_count": null,
      "metadata": {
        "id": "YXacjBfIt9jq"
      },
      "outputs": [],
      "source": []
    }
  ],
  "metadata": {
    "colab": {
      "provenance": []
    },
    "kernelspec": {
      "display_name": "Python 3.11.0 64-bit",
      "language": "python",
      "name": "python3"
    },
    "language_info": {
      "name": "python",
      "version": "3.11.0"
    },
    "vscode": {
      "interpreter": {
        "hash": "5238573367df39f7286bb46f9ff5f08f63a01a80960060ce41e3c79b190280fa"
      }
    }
  },
  "nbformat": 4,
  "nbformat_minor": 0
}
