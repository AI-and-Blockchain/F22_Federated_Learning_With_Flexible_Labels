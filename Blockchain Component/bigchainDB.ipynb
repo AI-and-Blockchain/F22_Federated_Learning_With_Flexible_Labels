{
  "nbformat": 4,
  "nbformat_minor": 0,
  "metadata": {
    "colab": {
      "provenance": [],
      "collapsed_sections": []
    },
    "kernelspec": {
      "name": "python3",
      "display_name": "Python 3"
    },
    "language_info": {
      "name": "python"
    }
  },
  "cells": [
    {
      "cell_type": "code",
      "source": [
        "! pip3 install bigchaindb_driver"
      ],
      "metadata": {
        "id": "JGFcwwoP38D9"
      },
      "execution_count": null,
      "outputs": []
    },
    {
      "cell_type": "code",
      "source": [
        "! pip3 install torch torchvision torchaudio"
      ],
      "metadata": {
        "id": "YoDURHdmOhJz"
      },
      "execution_count": null,
      "outputs": []
    },
    {
      "cell_type": "markdown",
      "source": [
        "##### Save the data/transaction into the blockchain block"
      ],
      "metadata": {
        "id": "ZD8mmyoHeU-Q"
      }
    },
    {
      "cell_type": "code",
      "execution_count": 24,
      "metadata": {
        "colab": {
          "base_uri": "https://localhost:8080/"
        },
        "id": "YlrdEvN3xa9u",
        "outputId": "9cde9e68-2b29-4999-ff23-2511a88ee737"
      },
      "outputs": [
        {
          "output_type": "stream",
          "name": "stdout",
          "text": [
            "<bigchaindb_driver.driver.BigchainDB object at 0x7ff92039ccd0>\n",
            "{145, 123, 156}\n",
            "{'inputs': [{'owners_before': ['3LacGwYTEXM77ocAtybpTYE3hSv1es2FKGsUJY8ckwyQ'], 'fulfills': None, 'fulfillment': {'type': 'ed25519-sha-256', 'public_key': '3LacGwYTEXM77ocAtybpTYE3hSv1es2FKGsUJY8ckwyQ'}}], 'outputs': [{'public_keys': ['3LacGwYTEXM77ocAtybpTYE3hSv1es2FKGsUJY8ckwyQ'], 'condition': {'details': {'type': 'ed25519-sha-256', 'public_key': '3LacGwYTEXM77ocAtybpTYE3hSv1es2FKGsUJY8ckwyQ'}, 'uri': 'ni:///sha-256;gX7ONrl4kBQGdQgjj_Jwvgnpg2UvBQrTHl7nTc1KSjc?fpt=ed25519-sha-256&cost=131072'}, 'amount': '1'}], 'operation': 'CREATE', 'metadata': None, 'asset': {'data': {'label_1': {'plane': [123, 156, 123, 145, 123]}}}, 'version': '2.0', 'id': None}\n",
            "{'data': {'label_1': {'plane': [123, 156, 123, 145, 123]}}}\n",
            "Fulfilled transaction: \n",
            "\n"
          ]
        },
        {
          "output_type": "execute_result",
          "data": {
            "text/plain": [
              "{'inputs': [{'owners_before': ['3LacGwYTEXM77ocAtybpTYE3hSv1es2FKGsUJY8ckwyQ'],\n",
              "   'fulfills': None,\n",
              "   'fulfillment': 'pGSAICK7aP3TrLOAHLj2boU99PPYAcdsoWgYBNpeu7oR3KbngUB1LZFHeB_LbEMbHUOE8FDgUL7o8LeBSVVS4d2kXhQSOL6HQOlcqlDVG18U3UlCaec9twrFJTvH3CJb-Qvfk-QC'}],\n",
              " 'outputs': [{'public_keys': ['3LacGwYTEXM77ocAtybpTYE3hSv1es2FKGsUJY8ckwyQ'],\n",
              "   'condition': {'details': {'type': 'ed25519-sha-256',\n",
              "     'public_key': '3LacGwYTEXM77ocAtybpTYE3hSv1es2FKGsUJY8ckwyQ'},\n",
              "    'uri': 'ni:///sha-256;gX7ONrl4kBQGdQgjj_Jwvgnpg2UvBQrTHl7nTc1KSjc?fpt=ed25519-sha-256&cost=131072'},\n",
              "   'amount': '1'}],\n",
              " 'operation': 'CREATE',\n",
              " 'metadata': None,\n",
              " 'asset': {'data': {'label_1': {'plane': [123, 156, 123, 145, 123]}}},\n",
              " 'version': '2.0',\n",
              " 'id': '360f9aa79f1765a615e02abedef5aa571a94199eddaf739f6f7463f0c03d1ec3'}"
            ]
          },
          "metadata": {},
          "execution_count": 24
        }
      ],
      "source": [
        "# import torch\n",
        "# x = torch.rand(5, 3)\n",
        "# print(x)\n",
        "from bigchaindb_driver import BigchainDB\n",
        "from bigchaindb_driver.crypto import generate_keypair\n",
        "\n",
        "\n",
        "bdb_root = 'https://test.ipdb.io'\n",
        "bdb = BigchainDB(bdb_root)\n",
        "\n",
        "\n",
        "data = {\n",
        "      'model_label_1':{\n",
        "        123, 156,123,145,123\n",
        "      }\n",
        "    }\n",
        "\n",
        "bicycle = {\n",
        "  'data': {\n",
        "      'label_1':{\n",
        "        'plane': [123, 156, 123, 145, 123]\n",
        "      }\n",
        "  },\n",
        "}\n",
        "print(bdb)\n",
        "print(data['model_label_1'])\n",
        "\n",
        "alice_private_key = \"7gQxJ1xrcq1U2xV8HEkAP1fkekzDTaGGhDfqVxe6wfhw\"\n",
        "alice_public_key = \"3LacGwYTEXM77ocAtybpTYE3hSv1es2FKGsUJY8ckwyQ\"\n",
        "bob_private_key = \"Cth8ym3uxJmLgWS2gpA1ffUnapTvmKnrobq9Fa2AMJvt\"\n",
        "bob_public_key = \"9Ui3bU1rtFDnTe1TYDE9j5FU7mDFucXzEW5ZUpEcxFxz\"\n",
        "# alice, bob = generate_keypair(), generate_keypair()\n",
        "\n",
        "\n",
        "# ===============================   Create a asset / data block that going to send it to the node or aka. save in a block. ============================\n",
        "prepared_creation_tx = bdb.transactions.prepare(\n",
        "    operation='CREATE', \n",
        "    signers = alice_public_key,\n",
        "    asset= bicycle\n",
        "    )\n",
        "print(prepared_creation_tx)\n",
        "print(prepared_creation_tx['asset']) # Print out the data asset\n",
        "\n",
        "# Fulfilled the transaction\n",
        "fulfilled_creation_tx = bdb.transactions.fulfill(prepared_creation_tx, private_keys=alice_private_key)\n",
        "print(\"Fulfilled transaction: \\n\")\n",
        "\n",
        "\n",
        "# Send the transaction to connected BigchainDB node. \n",
        "\n",
        "# sent_creation_tx = bdb.transactions.send_commit(fulfilled_creation_tx)\n",
        "# After you send the tx, get the transaction id. \n",
        "# Produce this id 'id': '360f9aa79f1765a615e02abedef5aa571a94199eddaf739f6f7463f0c03d1ec3'\n",
        "# This is how to get the transaction by the id.\n",
        "\n",
        "fulfilled_creation_tx\n"
      ]
    },
    {
      "cell_type": "code",
      "source": [
        "sent_creation_tx = bdb.transactions.get(asset_id=fulfilled_creation_tx['id'])\n",
        "sent_creation_tx"
      ],
      "metadata": {
        "colab": {
          "base_uri": "https://localhost:8080/"
        },
        "id": "TSfTPNx4nNm1",
        "outputId": "c7594727-6d5c-414e-9aff-92811c4a8c7d"
      },
      "execution_count": 8,
      "outputs": [
        {
          "output_type": "execute_result",
          "data": {
            "text/plain": [
              "[{'inputs': [{'owners_before': ['3LacGwYTEXM77ocAtybpTYE3hSv1es2FKGsUJY8ckwyQ'],\n",
              "    'fulfills': None,\n",
              "    'fulfillment': 'pGSAICK7aP3TrLOAHLj2boU99PPYAcdsoWgYBNpeu7oR3KbngUB1LZFHeB_LbEMbHUOE8FDgUL7o8LeBSVVS4d2kXhQSOL6HQOlcqlDVG18U3UlCaec9twrFJTvH3CJb-Qvfk-QC'}],\n",
              "  'outputs': [{'public_keys': ['3LacGwYTEXM77ocAtybpTYE3hSv1es2FKGsUJY8ckwyQ'],\n",
              "    'condition': {'details': {'type': 'ed25519-sha-256',\n",
              "      'public_key': '3LacGwYTEXM77ocAtybpTYE3hSv1es2FKGsUJY8ckwyQ'},\n",
              "     'uri': 'ni:///sha-256;gX7ONrl4kBQGdQgjj_Jwvgnpg2UvBQrTHl7nTc1KSjc?fpt=ed25519-sha-256&cost=131072'},\n",
              "    'amount': '1'}],\n",
              "  'operation': 'CREATE',\n",
              "  'metadata': None,\n",
              "  'asset': {'data': {'label_1': {'plane': [123, 156, 123, 145, 123]}}},\n",
              "  'version': '2.0',\n",
              "  'id': '360f9aa79f1765a615e02abedef5aa571a94199eddaf739f6f7463f0c03d1ec3'},\n",
              " {'inputs': [{'owners_before': ['3LacGwYTEXM77ocAtybpTYE3hSv1es2FKGsUJY8ckwyQ'],\n",
              "    'fulfills': {'transaction_id': '360f9aa79f1765a615e02abedef5aa571a94199eddaf739f6f7463f0c03d1ec3',\n",
              "     'output_index': 0},\n",
              "    'fulfillment': 'pGSAICK7aP3TrLOAHLj2boU99PPYAcdsoWgYBNpeu7oR3KbngUCzKETwT6RffdQXdJs7XyIbWhaufPEfasHN5pp8CnrnGyriBRvekcqUC54-cEZt8fJfT34-i5RFAvUyNQNDR2ED'}],\n",
              "  'outputs': [{'public_keys': ['9Ui3bU1rtFDnTe1TYDE9j5FU7mDFucXzEW5ZUpEcxFxz'],\n",
              "    'condition': {'details': {'type': 'ed25519-sha-256',\n",
              "      'public_key': '9Ui3bU1rtFDnTe1TYDE9j5FU7mDFucXzEW5ZUpEcxFxz'},\n",
              "     'uri': 'ni:///sha-256;OsZFZ20QKaMLSdbivdF0PLPJfb_b3yZ1O5QPlj9nC9o?fpt=ed25519-sha-256&cost=131072'},\n",
              "    'amount': '1'}],\n",
              "  'operation': 'TRANSFER',\n",
              "  'metadata': None,\n",
              "  'asset': {'id': '360f9aa79f1765a615e02abedef5aa571a94199eddaf739f6f7463f0c03d1ec3'},\n",
              "  'version': '2.0',\n",
              "  'id': '42c43433decace07ffa3b163cba48c2f99aaae18283633a994fbfd4e85fcd74d'}]"
            ]
          },
          "metadata": {},
          "execution_count": 8
        }
      ]
    },
    {
      "cell_type": "code",
      "source": [
        "# transactions.get is used to get all the operation in this asset.\n",
        "create_txid = sent_creation_tx[0]['id']\n",
        "transfer_txid = sent_creation_tx[1]['id']\n",
        "plane_model = bdb.transactions.get(asset_id= create_txid)\n",
        "\n",
        "plane_model\n",
        "\n"
      ],
      "metadata": {
        "colab": {
          "base_uri": "https://localhost:8080/"
        },
        "id": "6OD_ZKGvm2gG",
        "outputId": "40a642f9-4396-4e45-b01c-b0c3a237d1d1"
      },
      "execution_count": 19,
      "outputs": [
        {
          "output_type": "execute_result",
          "data": {
            "text/plain": [
              "[{'inputs': [{'owners_before': ['3LacGwYTEXM77ocAtybpTYE3hSv1es2FKGsUJY8ckwyQ'],\n",
              "    'fulfills': None,\n",
              "    'fulfillment': 'pGSAICK7aP3TrLOAHLj2boU99PPYAcdsoWgYBNpeu7oR3KbngUB1LZFHeB_LbEMbHUOE8FDgUL7o8LeBSVVS4d2kXhQSOL6HQOlcqlDVG18U3UlCaec9twrFJTvH3CJb-Qvfk-QC'}],\n",
              "  'outputs': [{'public_keys': ['3LacGwYTEXM77ocAtybpTYE3hSv1es2FKGsUJY8ckwyQ'],\n",
              "    'condition': {'details': {'type': 'ed25519-sha-256',\n",
              "      'public_key': '3LacGwYTEXM77ocAtybpTYE3hSv1es2FKGsUJY8ckwyQ'},\n",
              "     'uri': 'ni:///sha-256;gX7ONrl4kBQGdQgjj_Jwvgnpg2UvBQrTHl7nTc1KSjc?fpt=ed25519-sha-256&cost=131072'},\n",
              "    'amount': '1'}],\n",
              "  'operation': 'CREATE',\n",
              "  'metadata': None,\n",
              "  'asset': {'data': {'label_1': {'plane': [123, 156, 123, 145, 123]}}},\n",
              "  'version': '2.0',\n",
              "  'id': '360f9aa79f1765a615e02abedef5aa571a94199eddaf739f6f7463f0c03d1ec3'},\n",
              " {'inputs': [{'owners_before': ['3LacGwYTEXM77ocAtybpTYE3hSv1es2FKGsUJY8ckwyQ'],\n",
              "    'fulfills': {'transaction_id': '360f9aa79f1765a615e02abedef5aa571a94199eddaf739f6f7463f0c03d1ec3',\n",
              "     'output_index': 0},\n",
              "    'fulfillment': 'pGSAICK7aP3TrLOAHLj2boU99PPYAcdsoWgYBNpeu7oR3KbngUCzKETwT6RffdQXdJs7XyIbWhaufPEfasHN5pp8CnrnGyriBRvekcqUC54-cEZt8fJfT34-i5RFAvUyNQNDR2ED'}],\n",
              "  'outputs': [{'public_keys': ['9Ui3bU1rtFDnTe1TYDE9j5FU7mDFucXzEW5ZUpEcxFxz'],\n",
              "    'condition': {'details': {'type': 'ed25519-sha-256',\n",
              "      'public_key': '9Ui3bU1rtFDnTe1TYDE9j5FU7mDFucXzEW5ZUpEcxFxz'},\n",
              "     'uri': 'ni:///sha-256;OsZFZ20QKaMLSdbivdF0PLPJfb_b3yZ1O5QPlj9nC9o?fpt=ed25519-sha-256&cost=131072'},\n",
              "    'amount': '1'}],\n",
              "  'operation': 'TRANSFER',\n",
              "  'metadata': None,\n",
              "  'asset': {'id': '360f9aa79f1765a615e02abedef5aa571a94199eddaf739f6f7463f0c03d1ec3'},\n",
              "  'version': '2.0',\n",
              "  'id': '42c43433decace07ffa3b163cba48c2f99aaae18283633a994fbfd4e85fcd74d'}]"
            ]
          },
          "metadata": {},
          "execution_count": 19
        }
      ]
    },
    {
      "cell_type": "code",
      "source": [
        "# transactions.retrieve is used to get a specific operation. YOU NEED TO USE THE ASSET ID TO RETRIEVE THE ACTUAL ASSET IN THE TRANSFER OPERATION\n",
        "bdb.transactions.retrieve(transfer_txid)"
      ],
      "metadata": {
        "colab": {
          "base_uri": "https://localhost:8080/"
        },
        "id": "6JmBFfbuLMmF",
        "outputId": "5410fa7e-c343-4241-aa59-9731ced46dbb"
      },
      "execution_count": 23,
      "outputs": [
        {
          "output_type": "execute_result",
          "data": {
            "text/plain": [
              "{'inputs': [{'owners_before': ['3LacGwYTEXM77ocAtybpTYE3hSv1es2FKGsUJY8ckwyQ'],\n",
              "   'fulfills': {'transaction_id': '360f9aa79f1765a615e02abedef5aa571a94199eddaf739f6f7463f0c03d1ec3',\n",
              "    'output_index': 0},\n",
              "   'fulfillment': 'pGSAICK7aP3TrLOAHLj2boU99PPYAcdsoWgYBNpeu7oR3KbngUCzKETwT6RffdQXdJs7XyIbWhaufPEfasHN5pp8CnrnGyriBRvekcqUC54-cEZt8fJfT34-i5RFAvUyNQNDR2ED'}],\n",
              " 'outputs': [{'public_keys': ['9Ui3bU1rtFDnTe1TYDE9j5FU7mDFucXzEW5ZUpEcxFxz'],\n",
              "   'condition': {'details': {'type': 'ed25519-sha-256',\n",
              "     'public_key': '9Ui3bU1rtFDnTe1TYDE9j5FU7mDFucXzEW5ZUpEcxFxz'},\n",
              "    'uri': 'ni:///sha-256;OsZFZ20QKaMLSdbivdF0PLPJfb_b3yZ1O5QPlj9nC9o?fpt=ed25519-sha-256&cost=131072'},\n",
              "   'amount': '1'}],\n",
              " 'operation': 'TRANSFER',\n",
              " 'metadata': None,\n",
              " 'asset': {'id': '360f9aa79f1765a615e02abedef5aa571a94199eddaf739f6f7463f0c03d1ec3'},\n",
              " 'version': '2.0',\n",
              " 'id': '42c43433decace07ffa3b163cba48c2f99aaae18283633a994fbfd4e85fcd74d'}"
            ]
          },
          "metadata": {},
          "execution_count": 23
        }
      ]
    },
    {
      "cell_type": "code",
      "source": [
        "# The data is now in the blockchain block. \n",
        "block_height = bdb.blocks.get(txid=transfer_txid)\n",
        "block = bdb.blocks.retrieve(str(block_height)) # A whole information in this block. \n",
        "block"
      ],
      "metadata": {
        "colab": {
          "base_uri": "https://localhost:8080/"
        },
        "id": "nfrnnCq6nh0I",
        "outputId": "2dca37f9-de3b-4d25-9313-e76d84b909dc"
      },
      "execution_count": 25,
      "outputs": [
        {
          "output_type": "execute_result",
          "data": {
            "text/plain": [
              "{'height': 18,\n",
              " 'transactions': [{'inputs': [{'owners_before': ['3LacGwYTEXM77ocAtybpTYE3hSv1es2FKGsUJY8ckwyQ'],\n",
              "     'fulfills': {'transaction_id': '360f9aa79f1765a615e02abedef5aa571a94199eddaf739f6f7463f0c03d1ec3',\n",
              "      'output_index': 0},\n",
              "     'fulfillment': 'pGSAICK7aP3TrLOAHLj2boU99PPYAcdsoWgYBNpeu7oR3KbngUCzKETwT6RffdQXdJs7XyIbWhaufPEfasHN5pp8CnrnGyriBRvekcqUC54-cEZt8fJfT34-i5RFAvUyNQNDR2ED'}],\n",
              "   'outputs': [{'public_keys': ['9Ui3bU1rtFDnTe1TYDE9j5FU7mDFucXzEW5ZUpEcxFxz'],\n",
              "     'condition': {'details': {'type': 'ed25519-sha-256',\n",
              "       'public_key': '9Ui3bU1rtFDnTe1TYDE9j5FU7mDFucXzEW5ZUpEcxFxz'},\n",
              "      'uri': 'ni:///sha-256;OsZFZ20QKaMLSdbivdF0PLPJfb_b3yZ1O5QPlj9nC9o?fpt=ed25519-sha-256&cost=131072'},\n",
              "     'amount': '1'}],\n",
              "   'operation': 'TRANSFER',\n",
              "   'metadata': None,\n",
              "   'asset': {'id': '360f9aa79f1765a615e02abedef5aa571a94199eddaf739f6f7463f0c03d1ec3'},\n",
              "   'version': '2.0',\n",
              "   'id': '42c43433decace07ffa3b163cba48c2f99aaae18283633a994fbfd4e85fcd74d'}]}"
            ]
          },
          "metadata": {},
          "execution_count": 25
        }
      ]
    },
    {
      "cell_type": "markdown",
      "source": [
        "##### Asset Transfer"
      ],
      "metadata": {
        "id": "A05L50oCeNfN"
      }
    },
    {
      "cell_type": "code",
      "source": [
        "# ================================================================== Transfer the asset ===========================================================\n",
        "# In the above example, the data model plane is created and it is own by alice. \n",
        "creation_tx = bdb.transactions.retrieve(create_txid) # Retrieve the transaction from the block. \n",
        "creation_tx"
      ],
      "metadata": {
        "colab": {
          "base_uri": "https://localhost:8080/"
        },
        "id": "D_T9gL1Kd3tr",
        "outputId": "9a29e36b-a22e-46b3-b32d-c0fbe43897a3"
      },
      "execution_count": 26,
      "outputs": [
        {
          "output_type": "execute_result",
          "data": {
            "text/plain": [
              "{'inputs': [{'owners_before': ['3LacGwYTEXM77ocAtybpTYE3hSv1es2FKGsUJY8ckwyQ'],\n",
              "   'fulfills': None,\n",
              "   'fulfillment': 'pGSAICK7aP3TrLOAHLj2boU99PPYAcdsoWgYBNpeu7oR3KbngUB1LZFHeB_LbEMbHUOE8FDgUL7o8LeBSVVS4d2kXhQSOL6HQOlcqlDVG18U3UlCaec9twrFJTvH3CJb-Qvfk-QC'}],\n",
              " 'outputs': [{'public_keys': ['3LacGwYTEXM77ocAtybpTYE3hSv1es2FKGsUJY8ckwyQ'],\n",
              "   'condition': {'details': {'type': 'ed25519-sha-256',\n",
              "     'public_key': '3LacGwYTEXM77ocAtybpTYE3hSv1es2FKGsUJY8ckwyQ'},\n",
              "    'uri': 'ni:///sha-256;gX7ONrl4kBQGdQgjj_Jwvgnpg2UvBQrTHl7nTc1KSjc?fpt=ed25519-sha-256&cost=131072'},\n",
              "   'amount': '1'}],\n",
              " 'operation': 'CREATE',\n",
              " 'metadata': None,\n",
              " 'asset': {'data': {'label_1': {'plane': [123, 156, 123, 145, 123]}}},\n",
              " 'version': '2.0',\n",
              " 'id': '360f9aa79f1765a615e02abedef5aa571a94199eddaf739f6f7463f0c03d1ec3'}"
            ]
          },
          "metadata": {},
          "execution_count": 26
        }
      ]
    },
    {
      "cell_type": "code",
      "source": [
        "asset_id = creation_tx['id']\n",
        "transfer_asset = {\n",
        "    'id': asset_id\n",
        "}\n",
        "\n",
        "# Prepare the transfer transaction\n",
        "output_index = 0\n",
        "output = creation_tx['outputs'][output_index]\n",
        "transfer_input = {\n",
        "    'fulfillment': output['condition']['details'], # When you create a fulfillment with bigchaindb, it will generate these parameters for you.\n",
        "    'fulfills': {\n",
        "        'output_index': output_index,\n",
        "        'transaction_id': asset_id\n",
        "    },\n",
        "    'owners_before': output['public_keys']\n",
        "}\n",
        "\n",
        "# Prepare the transfer tx\n",
        "prepared_transfer_tx = bdb.transactions.prepare(\n",
        "    operation='TRANSFER',\n",
        "    asset=transfer_asset,\n",
        "    inputs= transfer_input,\n",
        "    recipients=bob_public_key # Make the recipients to someone public key to change the ownership of the asset (data in a block)\n",
        ")\n",
        "\n",
        "fulfilled_transfer_tx = bdb.transactions.fulfill(prepared_transfer_tx, private_keys = alice_private_key)\n",
        "fulfilled_transfer_tx"
      ],
      "metadata": {
        "colab": {
          "base_uri": "https://localhost:8080/"
        },
        "id": "A3Yb58pGeSU0",
        "outputId": "676fdce4-e535-4534-c1d7-267773d680f7"
      },
      "execution_count": 27,
      "outputs": [
        {
          "output_type": "execute_result",
          "data": {
            "text/plain": [
              "{'inputs': [{'owners_before': ['3LacGwYTEXM77ocAtybpTYE3hSv1es2FKGsUJY8ckwyQ'],\n",
              "   'fulfills': {'transaction_id': '360f9aa79f1765a615e02abedef5aa571a94199eddaf739f6f7463f0c03d1ec3',\n",
              "    'output_index': 0},\n",
              "   'fulfillment': 'pGSAICK7aP3TrLOAHLj2boU99PPYAcdsoWgYBNpeu7oR3KbngUCzKETwT6RffdQXdJs7XyIbWhaufPEfasHN5pp8CnrnGyriBRvekcqUC54-cEZt8fJfT34-i5RFAvUyNQNDR2ED'}],\n",
              " 'outputs': [{'public_keys': ['9Ui3bU1rtFDnTe1TYDE9j5FU7mDFucXzEW5ZUpEcxFxz'],\n",
              "   'condition': {'details': {'type': 'ed25519-sha-256',\n",
              "     'public_key': '9Ui3bU1rtFDnTe1TYDE9j5FU7mDFucXzEW5ZUpEcxFxz'},\n",
              "    'uri': 'ni:///sha-256;OsZFZ20QKaMLSdbivdF0PLPJfb_b3yZ1O5QPlj9nC9o?fpt=ed25519-sha-256&cost=131072'},\n",
              "   'amount': '1'}],\n",
              " 'operation': 'TRANSFER',\n",
              " 'metadata': None,\n",
              " 'asset': {'id': '360f9aa79f1765a615e02abedef5aa571a94199eddaf739f6f7463f0c03d1ec3'},\n",
              " 'version': '2.0',\n",
              " 'id': '42c43433decace07ffa3b163cba48c2f99aaae18283633a994fbfd4e85fcd74d'}"
            ]
          },
          "metadata": {},
          "execution_count": 27
        }
      ]
    },
    {
      "cell_type": "code",
      "source": [
        "# send_transfer_tx = bdb.transactions.send_commit(fulfilled_transfer_tx)\n",
        "send_transfer_tx = fulfilled_transfer_tx"
      ],
      "metadata": {
        "id": "Sb0xQegpglyG"
      },
      "execution_count": 28,
      "outputs": []
    },
    {
      "cell_type": "code",
      "source": [
        "send_transfer_tx"
      ],
      "metadata": {
        "colab": {
          "base_uri": "https://localhost:8080/"
        },
        "id": "fqkuJoGvjjAa",
        "outputId": "5389e9b9-4132-4a93-aeac-7f6de6ba2afb"
      },
      "execution_count": 29,
      "outputs": [
        {
          "output_type": "execute_result",
          "data": {
            "text/plain": [
              "{'inputs': [{'owners_before': ['3LacGwYTEXM77ocAtybpTYE3hSv1es2FKGsUJY8ckwyQ'],\n",
              "   'fulfills': {'transaction_id': '360f9aa79f1765a615e02abedef5aa571a94199eddaf739f6f7463f0c03d1ec3',\n",
              "    'output_index': 0},\n",
              "   'fulfillment': 'pGSAICK7aP3TrLOAHLj2boU99PPYAcdsoWgYBNpeu7oR3KbngUCzKETwT6RffdQXdJs7XyIbWhaufPEfasHN5pp8CnrnGyriBRvekcqUC54-cEZt8fJfT34-i5RFAvUyNQNDR2ED'}],\n",
              " 'outputs': [{'public_keys': ['9Ui3bU1rtFDnTe1TYDE9j5FU7mDFucXzEW5ZUpEcxFxz'],\n",
              "   'condition': {'details': {'type': 'ed25519-sha-256',\n",
              "     'public_key': '9Ui3bU1rtFDnTe1TYDE9j5FU7mDFucXzEW5ZUpEcxFxz'},\n",
              "    'uri': 'ni:///sha-256;OsZFZ20QKaMLSdbivdF0PLPJfb_b3yZ1O5QPlj9nC9o?fpt=ed25519-sha-256&cost=131072'},\n",
              "   'amount': '1'}],\n",
              " 'operation': 'TRANSFER',\n",
              " 'metadata': None,\n",
              " 'asset': {'id': '360f9aa79f1765a615e02abedef5aa571a94199eddaf739f6f7463f0c03d1ec3'},\n",
              " 'version': '2.0',\n",
              " 'id': '42c43433decace07ffa3b163cba48c2f99aaae18283633a994fbfd4e85fcd74d'}"
            ]
          },
          "metadata": {},
          "execution_count": 29
        }
      ]
    },
    {
      "cell_type": "code",
      "source": [
        "transfer_asset_txid = send_transfer_tx['id']\n",
        "transfer_asset_txid  # This is the transfer operation transaction id \n",
        "\n",
        "# send_transfer_tx['asset']['id']  => This is the whole block transaction id "
      ],
      "metadata": {
        "colab": {
          "base_uri": "https://localhost:8080/",
          "height": 35
        },
        "id": "lJsUb5Belt7U",
        "outputId": "0e88c85a-d3ad-4b61-bc10-20bef9800533"
      },
      "execution_count": 30,
      "outputs": [
        {
          "output_type": "execute_result",
          "data": {
            "text/plain": [
              "'42c43433decace07ffa3b163cba48c2f99aaae18283633a994fbfd4e85fcd74d'"
            ],
            "application/vnd.google.colaboratory.intrinsic+json": {
              "type": "string"
            }
          },
          "metadata": {},
          "execution_count": 30
        }
      ]
    },
    {
      "cell_type": "code",
      "source": [
        "bdb.transactions.get(asset_id= create_txid)\n",
        "# An item transactions contains these two operations. [every transaction happens for this item.] aka. data object"
      ],
      "metadata": {
        "colab": {
          "base_uri": "https://localhost:8080/"
        },
        "id": "epl5xAl4kC-e",
        "outputId": "2bf2ac53-c4e9-459b-8988-1abade38a139"
      },
      "execution_count": 31,
      "outputs": [
        {
          "output_type": "execute_result",
          "data": {
            "text/plain": [
              "[{'inputs': [{'owners_before': ['3LacGwYTEXM77ocAtybpTYE3hSv1es2FKGsUJY8ckwyQ'],\n",
              "    'fulfills': None,\n",
              "    'fulfillment': 'pGSAICK7aP3TrLOAHLj2boU99PPYAcdsoWgYBNpeu7oR3KbngUB1LZFHeB_LbEMbHUOE8FDgUL7o8LeBSVVS4d2kXhQSOL6HQOlcqlDVG18U3UlCaec9twrFJTvH3CJb-Qvfk-QC'}],\n",
              "  'outputs': [{'public_keys': ['3LacGwYTEXM77ocAtybpTYE3hSv1es2FKGsUJY8ckwyQ'],\n",
              "    'condition': {'details': {'type': 'ed25519-sha-256',\n",
              "      'public_key': '3LacGwYTEXM77ocAtybpTYE3hSv1es2FKGsUJY8ckwyQ'},\n",
              "     'uri': 'ni:///sha-256;gX7ONrl4kBQGdQgjj_Jwvgnpg2UvBQrTHl7nTc1KSjc?fpt=ed25519-sha-256&cost=131072'},\n",
              "    'amount': '1'}],\n",
              "  'operation': 'CREATE',\n",
              "  'metadata': None,\n",
              "  'asset': {'data': {'label_1': {'plane': [123, 156, 123, 145, 123]}}},\n",
              "  'version': '2.0',\n",
              "  'id': '360f9aa79f1765a615e02abedef5aa571a94199eddaf739f6f7463f0c03d1ec3'},\n",
              " {'inputs': [{'owners_before': ['3LacGwYTEXM77ocAtybpTYE3hSv1es2FKGsUJY8ckwyQ'],\n",
              "    'fulfills': {'transaction_id': '360f9aa79f1765a615e02abedef5aa571a94199eddaf739f6f7463f0c03d1ec3',\n",
              "     'output_index': 0},\n",
              "    'fulfillment': 'pGSAICK7aP3TrLOAHLj2boU99PPYAcdsoWgYBNpeu7oR3KbngUCzKETwT6RffdQXdJs7XyIbWhaufPEfasHN5pp8CnrnGyriBRvekcqUC54-cEZt8fJfT34-i5RFAvUyNQNDR2ED'}],\n",
              "  'outputs': [{'public_keys': ['9Ui3bU1rtFDnTe1TYDE9j5FU7mDFucXzEW5ZUpEcxFxz'],\n",
              "    'condition': {'details': {'type': 'ed25519-sha-256',\n",
              "      'public_key': '9Ui3bU1rtFDnTe1TYDE9j5FU7mDFucXzEW5ZUpEcxFxz'},\n",
              "     'uri': 'ni:///sha-256;OsZFZ20QKaMLSdbivdF0PLPJfb_b3yZ1O5QPlj9nC9o?fpt=ed25519-sha-256&cost=131072'},\n",
              "    'amount': '1'}],\n",
              "  'operation': 'TRANSFER',\n",
              "  'metadata': None,\n",
              "  'asset': {'id': '360f9aa79f1765a615e02abedef5aa571a94199eddaf739f6f7463f0c03d1ec3'},\n",
              "  'version': '2.0',\n",
              "  'id': '42c43433decace07ffa3b163cba48c2f99aaae18283633a994fbfd4e85fcd74d'}]"
            ]
          },
          "metadata": {},
          "execution_count": 31
        }
      ]
    },
    {
      "cell_type": "code",
      "source": [
        "bdb.transactions.retrieve(transfer_asset_txid) # Retrieve the transaction \"TRANSFER\" operation"
      ],
      "metadata": {
        "colab": {
          "base_uri": "https://localhost:8080/"
        },
        "id": "k0wcMilsqZ-T",
        "outputId": "cee187cb-c8e8-49e1-9e0d-b9e1dc7fa89d"
      },
      "execution_count": 32,
      "outputs": [
        {
          "output_type": "execute_result",
          "data": {
            "text/plain": [
              "{'inputs': [{'owners_before': ['3LacGwYTEXM77ocAtybpTYE3hSv1es2FKGsUJY8ckwyQ'],\n",
              "   'fulfills': {'transaction_id': '360f9aa79f1765a615e02abedef5aa571a94199eddaf739f6f7463f0c03d1ec3',\n",
              "    'output_index': 0},\n",
              "   'fulfillment': 'pGSAICK7aP3TrLOAHLj2boU99PPYAcdsoWgYBNpeu7oR3KbngUCzKETwT6RffdQXdJs7XyIbWhaufPEfasHN5pp8CnrnGyriBRvekcqUC54-cEZt8fJfT34-i5RFAvUyNQNDR2ED'}],\n",
              " 'outputs': [{'public_keys': ['9Ui3bU1rtFDnTe1TYDE9j5FU7mDFucXzEW5ZUpEcxFxz'],\n",
              "   'condition': {'details': {'type': 'ed25519-sha-256',\n",
              "     'public_key': '9Ui3bU1rtFDnTe1TYDE9j5FU7mDFucXzEW5ZUpEcxFxz'},\n",
              "    'uri': 'ni:///sha-256;OsZFZ20QKaMLSdbivdF0PLPJfb_b3yZ1O5QPlj9nC9o?fpt=ed25519-sha-256&cost=131072'},\n",
              "   'amount': '1'}],\n",
              " 'operation': 'TRANSFER',\n",
              " 'metadata': None,\n",
              " 'asset': {'id': '360f9aa79f1765a615e02abedef5aa571a94199eddaf739f6f7463f0c03d1ec3'},\n",
              " 'version': '2.0',\n",
              " 'id': '42c43433decace07ffa3b163cba48c2f99aaae18283633a994fbfd4e85fcd74d'}"
            ]
          },
          "metadata": {},
          "execution_count": 32
        }
      ]
    },
    {
      "cell_type": "code",
      "source": [
        "block_height = bdb.blocks.get(txid=transfer_asset_txid)\n",
        "block = bdb.blocks.retrieve(str(block_height)) # A whole information in this block. \n",
        "block "
      ],
      "metadata": {
        "colab": {
          "base_uri": "https://localhost:8080/"
        },
        "id": "ECiauKfclnXD",
        "outputId": "4f946b7a-2eea-4d49-fa5a-5d1a1198c8c2"
      },
      "execution_count": 33,
      "outputs": [
        {
          "output_type": "execute_result",
          "data": {
            "text/plain": [
              "{'height': 18,\n",
              " 'transactions': [{'inputs': [{'owners_before': ['3LacGwYTEXM77ocAtybpTYE3hSv1es2FKGsUJY8ckwyQ'],\n",
              "     'fulfills': {'transaction_id': '360f9aa79f1765a615e02abedef5aa571a94199eddaf739f6f7463f0c03d1ec3',\n",
              "      'output_index': 0},\n",
              "     'fulfillment': 'pGSAICK7aP3TrLOAHLj2boU99PPYAcdsoWgYBNpeu7oR3KbngUCzKETwT6RffdQXdJs7XyIbWhaufPEfasHN5pp8CnrnGyriBRvekcqUC54-cEZt8fJfT34-i5RFAvUyNQNDR2ED'}],\n",
              "   'outputs': [{'public_keys': ['9Ui3bU1rtFDnTe1TYDE9j5FU7mDFucXzEW5ZUpEcxFxz'],\n",
              "     'condition': {'details': {'type': 'ed25519-sha-256',\n",
              "       'public_key': '9Ui3bU1rtFDnTe1TYDE9j5FU7mDFucXzEW5ZUpEcxFxz'},\n",
              "      'uri': 'ni:///sha-256;OsZFZ20QKaMLSdbivdF0PLPJfb_b3yZ1O5QPlj9nC9o?fpt=ed25519-sha-256&cost=131072'},\n",
              "     'amount': '1'}],\n",
              "   'operation': 'TRANSFER',\n",
              "   'metadata': None,\n",
              "   'asset': {'id': '360f9aa79f1765a615e02abedef5aa571a94199eddaf739f6f7463f0c03d1ec3'},\n",
              "   'version': '2.0',\n",
              "   'id': '42c43433decace07ffa3b163cba48c2f99aaae18283633a994fbfd4e85fcd74d'}]}"
            ]
          },
          "metadata": {},
          "execution_count": 33
        }
      ]
    },
    {
      "cell_type": "markdown",
      "source": [
        "##### Try to divisible the assets"
      ],
      "metadata": {
        "id": "s43NB-8Ut1b8"
      }
    },
    {
      "cell_type": "code",
      "source": [],
      "metadata": {
        "id": "YXacjBfIt9jq"
      },
      "execution_count": null,
      "outputs": []
    }
  ]
}