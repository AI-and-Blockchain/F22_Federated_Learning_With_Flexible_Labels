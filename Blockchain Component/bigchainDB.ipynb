{
  "nbformat": 4,
  "nbformat_minor": 0,
  "metadata": {
    "colab": {
      "provenance": [],
      "collapsed_sections": []
    },
    "kernelspec": {
      "name": "python3",
      "display_name": "Python 3"
    },
    "language_info": {
      "name": "python"
    }
  },
  "cells": [
    {
      "cell_type": "code",
      "source": [
        "! pip3 install bigchaindb_driver"
      ],
      "metadata": {
        "id": "JGFcwwoP38D9",
        "colab": {
          "base_uri": "https://localhost:8080/"
        },
        "outputId": "6c2484b3-db55-43bc-93e8-8e4bd5650876"
      },
      "execution_count": 2,
      "outputs": [
        {
          "output_type": "stream",
          "name": "stdout",
          "text": [
            "Looking in indexes: https://pypi.org/simple, https://us-python.pkg.dev/colab-wheels/public/simple/\n",
            "Collecting bigchaindb_driver\n",
            "  Downloading bigchaindb_driver-0.6.2.tar.gz (511 kB)\n",
            "\u001b[K     |████████████████████████████████| 511 kB 5.2 MB/s \n",
            "\u001b[?25hRequirement already satisfied: requests>=2.20.0 in /usr/local/lib/python3.7/dist-packages (from bigchaindb_driver) (2.23.0)\n",
            "Collecting cryptoconditions==0.8.0\n",
            "  Downloading cryptoconditions-0.8.0.tar.gz (21 kB)\n",
            "Collecting pysha3~=1.0.2\n",
            "  Downloading pysha3-1.0.2.tar.gz (829 kB)\n",
            "\u001b[K     |████████████████████████████████| 829 kB 48.6 MB/s \n",
            "\u001b[?25hCollecting python-rapidjson~=0.6.0\n",
            "  Downloading python_rapidjson-0.6.3-cp37-cp37m-manylinux1_x86_64.whl (1.2 MB)\n",
            "\u001b[K     |████████████████████████████████| 1.2 MB 49.0 MB/s \n",
            "\u001b[?25hCollecting python-rapidjson-schema==0.1.1\n",
            "  Downloading python-rapidjson-schema-0.1.1.tar.gz (119 kB)\n",
            "\u001b[K     |████████████████████████████████| 119 kB 70.8 MB/s \n",
            "\u001b[?25hCollecting base58~=1.0.0\n",
            "  Downloading base58-1.0.3-py3-none-any.whl (3.1 kB)\n",
            "Collecting PyNaCl~=1.1.0\n",
            "  Downloading PyNaCl-1.1.2.tar.gz (3.1 MB)\n",
            "\u001b[K     |████████████████████████████████| 3.1 MB 39.3 MB/s \n",
            "\u001b[?25hRequirement already satisfied: pyasn1~=0.4 in /usr/local/lib/python3.7/dist-packages (from cryptoconditions==0.8.0->bigchaindb_driver) (0.4.8)\n",
            "Collecting cryptography~=2.3.1\n",
            "  Downloading cryptography-2.3.1-cp34-abi3-manylinux1_x86_64.whl (2.1 MB)\n",
            "\u001b[K     |████████████████████████████████| 2.1 MB 39.5 MB/s \n",
            "\u001b[?25hRequirement already satisfied: idna>=2.1 in /usr/local/lib/python3.7/dist-packages (from cryptography~=2.3.1->cryptoconditions==0.8.0->bigchaindb_driver) (2.10)\n",
            "Requirement already satisfied: six>=1.4.1 in /usr/local/lib/python3.7/dist-packages (from cryptography~=2.3.1->cryptoconditions==0.8.0->bigchaindb_driver) (1.15.0)\n",
            "Collecting asn1crypto>=0.21.0\n",
            "  Downloading asn1crypto-1.5.1-py2.py3-none-any.whl (105 kB)\n",
            "\u001b[K     |████████████████████████████████| 105 kB 60.8 MB/s \n",
            "\u001b[?25hRequirement already satisfied: cffi!=1.11.3,>=1.7 in /usr/local/lib/python3.7/dist-packages (from cryptography~=2.3.1->cryptoconditions==0.8.0->bigchaindb_driver) (1.15.1)\n",
            "Requirement already satisfied: pycparser in /usr/local/lib/python3.7/dist-packages (from cffi!=1.11.3,>=1.7->cryptography~=2.3.1->cryptoconditions==0.8.0->bigchaindb_driver) (2.21)\n",
            "Requirement already satisfied: urllib3!=1.25.0,!=1.25.1,<1.26,>=1.21.1 in /usr/local/lib/python3.7/dist-packages (from requests>=2.20.0->bigchaindb_driver) (1.24.3)\n",
            "Requirement already satisfied: chardet<4,>=3.0.2 in /usr/local/lib/python3.7/dist-packages (from requests>=2.20.0->bigchaindb_driver) (3.0.4)\n",
            "Requirement already satisfied: certifi>=2017.4.17 in /usr/local/lib/python3.7/dist-packages (from requests>=2.20.0->bigchaindb_driver) (2022.9.24)\n",
            "Building wheels for collected packages: bigchaindb-driver, cryptoconditions, python-rapidjson-schema, PyNaCl, pysha3\n",
            "  Building wheel for bigchaindb-driver (setup.py) ... \u001b[?25l\u001b[?25hdone\n",
            "  Created wheel for bigchaindb-driver: filename=bigchaindb_driver-0.6.2-py3-none-any.whl size=39158 sha256=56356a880eb7f058b42dbbfdf2e52e87ca9d26913c65979c9a987ae31a9d9659\n",
            "  Stored in directory: /root/.cache/pip/wheels/be/a2/fd/7bd977dd8c0f2983b1402f4128a6f975f679b129407f78e3f7\n",
            "  Building wheel for cryptoconditions (setup.py) ... \u001b[?25l\u001b[?25hdone\n",
            "  Created wheel for cryptoconditions: filename=cryptoconditions-0.8.0-py3-none-any.whl size=29868 sha256=2ceea6c70438bcebee717e9f331a6d9c2e38e6c5780020c8604d7517c9c6ed78\n",
            "  Stored in directory: /root/.cache/pip/wheels/6e/a1/7b/ef592710b91bff32119bcebc70207326eedfc92155d05c5595\n",
            "  Building wheel for python-rapidjson-schema (setup.py) ... \u001b[?25l\u001b[?25hdone\n",
            "  Created wheel for python-rapidjson-schema: filename=python_rapidjson_schema-0.1.1-cp37-cp37m-linux_x86_64.whl size=263987 sha256=7d1b7224378c4aa13db32777cfef83c6385141ac845df187d23a3adb8af97978\n",
            "  Stored in directory: /root/.cache/pip/wheels/8d/b3/59/9afc67320015a1fa9a24aac8083713e767d3ea2548c2eab70f\n",
            "  Building wheel for PyNaCl (setup.py) ... \u001b[?25l\u001b[?25hdone\n",
            "  Created wheel for PyNaCl: filename=PyNaCl-1.1.2-cp37-cp37m-linux_x86_64.whl size=468815 sha256=aa5663a3e80f0f5feaee9b84f3dddae4f7084632cde914fcf2a00786bdfcd679\n",
            "  Stored in directory: /root/.cache/pip/wheels/de/0e/97/dbf5e8f88b4eb199d5bd738b291cd770f5dc1f3c59f0595480\n",
            "  Building wheel for pysha3 (setup.py) ... \u001b[?25l\u001b[?25hdone\n",
            "  Created wheel for pysha3: filename=pysha3-1.0.2-cp37-cp37m-linux_x86_64.whl size=133590 sha256=9dc26c397850aa277918d9af1c1bbea70ddad5e164850c3083474d28724f11cd\n",
            "  Stored in directory: /root/.cache/pip/wheels/0d/9e/bc/789fa0986c1fef30cafcc29da4dd07bc17ecba3fab78e27ed6\n",
            "Successfully built bigchaindb-driver cryptoconditions python-rapidjson-schema PyNaCl pysha3\n",
            "Installing collected packages: asn1crypto, PyNaCl, cryptography, base58, python-rapidjson-schema, python-rapidjson, pysha3, cryptoconditions, bigchaindb-driver\n",
            "Successfully installed PyNaCl-1.1.2 asn1crypto-1.5.1 base58-1.0.3 bigchaindb-driver-0.6.2 cryptoconditions-0.8.0 cryptography-2.3.1 pysha3-1.0.2 python-rapidjson-0.6.3 python-rapidjson-schema-0.1.1\n"
          ]
        }
      ]
    },
    {
      "cell_type": "code",
      "source": [
        "! pip3 install torch torchvision torchaudio"
      ],
      "metadata": {
        "id": "YoDURHdmOhJz"
      },
      "execution_count": null,
      "outputs": []
    },
    {
      "cell_type": "markdown",
      "source": [
        "##### Save the data/transaction into the blockchain block"
      ],
      "metadata": {
        "id": "ZD8mmyoHeU-Q"
      }
    },
    {
      "cell_type": "code",
      "execution_count": 62,
      "metadata": {
        "colab": {
          "base_uri": "https://localhost:8080/"
        },
        "id": "YlrdEvN3xa9u",
        "outputId": "d6ef104a-b373-4eb9-8204-bc16b22afb38"
      },
      "outputs": [
        {
          "output_type": "stream",
          "name": "stdout",
          "text": [
            "<bigchaindb_driver.driver.BigchainDB object at 0x7f346891d350>\n",
            "{145, 123, 156}\n",
            "{'inputs': [{'owners_before': ['3LacGwYTEXM77ocAtybpTYE3hSv1es2FKGsUJY8ckwyQ'], 'fulfills': None, 'fulfillment': {'type': 'ed25519-sha-256', 'public_key': '3LacGwYTEXM77ocAtybpTYE3hSv1es2FKGsUJY8ckwyQ'}}], 'outputs': [{'public_keys': ['3LacGwYTEXM77ocAtybpTYE3hSv1es2FKGsUJY8ckwyQ'], 'condition': {'details': {'type': 'ed25519-sha-256', 'public_key': '3LacGwYTEXM77ocAtybpTYE3hSv1es2FKGsUJY8ckwyQ'}, 'uri': 'ni:///sha-256;gX7ONrl4kBQGdQgjj_Jwvgnpg2UvBQrTHl7nTc1KSjc?fpt=ed25519-sha-256&cost=131072'}, 'amount': '1'}], 'operation': 'CREATE', 'metadata': None, 'asset': {'data': {'label_1': {'plane': [123, 156, 123, 145, 123]}}}, 'version': '2.0', 'id': None}\n",
            "{'data': {'label_1': {'plane': [123, 156, 123, 145, 123]}}}\n",
            "Fulfilled transaction: \n",
            " {'inputs': [{'owners_before': ['3LacGwYTEXM77ocAtybpTYE3hSv1es2FKGsUJY8ckwyQ'], 'fulfills': None, 'fulfillment': 'pGSAICK7aP3TrLOAHLj2boU99PPYAcdsoWgYBNpeu7oR3KbngUB1LZFHeB_LbEMbHUOE8FDgUL7o8LeBSVVS4d2kXhQSOL6HQOlcqlDVG18U3UlCaec9twrFJTvH3CJb-Qvfk-QC'}], 'outputs': [{'public_keys': ['3LacGwYTEXM77ocAtybpTYE3hSv1es2FKGsUJY8ckwyQ'], 'condition': {'details': {'type': 'ed25519-sha-256', 'public_key': '3LacGwYTEXM77ocAtybpTYE3hSv1es2FKGsUJY8ckwyQ'}, 'uri': 'ni:///sha-256;gX7ONrl4kBQGdQgjj_Jwvgnpg2UvBQrTHl7nTc1KSjc?fpt=ed25519-sha-256&cost=131072'}, 'amount': '1'}], 'operation': 'CREATE', 'metadata': None, 'asset': {'data': {'label_1': {'plane': [123, 156, 123, 145, 123]}}}, 'version': '2.0', 'id': '360f9aa79f1765a615e02abedef5aa571a94199eddaf739f6f7463f0c03d1ec3'}\n"
          ]
        }
      ],
      "source": [
        "# import torch\n",
        "# x = torch.rand(5, 3)\n",
        "# print(x)\n",
        "from bigchaindb_driver import BigchainDB\n",
        "from bigchaindb_driver.crypto import generate_keypair\n",
        "\n",
        "\n",
        "bdb_root = 'https://test.ipdb.io'\n",
        "bdb = BigchainDB(bdb_root)\n",
        "\n",
        "\n",
        "data = {\n",
        "      'model_label_1':{\n",
        "        123, 156,123,145,123\n",
        "      }\n",
        "    }\n",
        "\n",
        "bicycle = {\n",
        "  'data': {\n",
        "      'label_1':{\n",
        "        'plane': [123, 156, 123, 145, 123]\n",
        "      }\n",
        "  },\n",
        "}\n",
        "print(bdb)\n",
        "print(data['model_label_1'])\n",
        "\n",
        "alice_private_key = \"7gQxJ1xrcq1U2xV8HEkAP1fkekzDTaGGhDfqVxe6wfhw\"\n",
        "alice_public_key = \"3LacGwYTEXM77ocAtybpTYE3hSv1es2FKGsUJY8ckwyQ\"\n",
        "bob_private_key = \"Cth8ym3uxJmLgWS2gpA1ffUnapTvmKnrobq9Fa2AMJvt\"\n",
        "bob_public_key = \"9Ui3bU1rtFDnTe1TYDE9j5FU7mDFucXzEW5ZUpEcxFxz\"\n",
        "# alice, bob = generate_keypair(), generate_keypair()\n",
        "\n",
        "\n",
        "# ===============================   Create a asset / data block that going to send it to the node or aka. save in a block. ============================\n",
        "prepared_creation_tx = bdb.transactions.prepare(\n",
        "    operation='CREATE', \n",
        "    signers = alice_public_key,\n",
        "    asset= bicycle\n",
        "    )\n",
        "print(prepared_creation_tx)\n",
        "print(prepared_creation_tx['asset']) # Print out the data asset\n",
        "\n",
        "# Fulfilled the transaction\n",
        "fulfilled_creation_tx = bdb.transactions.fulfill(prepared_creation_tx, private_keys=alice_private_key)\n",
        "print(\"Fulfilled transaction: \\n\", fulfilled_creation_tx)\n",
        "'''\n",
        "This will produce this output:\n",
        "\n",
        "{'inputs': [{'owners_before': ['3LacGwYTEXM77ocAtybpTYE3hSv1es2FKGsUJY8ckwyQ'], \n",
        "'fulfills': None, \n",
        "'fulfillment': 'pGSAICK7aP3TrLOAHLj2boU99PPYAcdsoWgYBNpeu7oR3KbngUAqO1ViYOZHAWIUGL4c4Zj6UsTZcI-YVGPk4L1yA1yibVS3USkAYej9pPDgc8syyvrmEmbWozCskTMMlVn8ctML'}], \n",
        "'outputs': [{'public_keys': ['3LacGwYTEXM77ocAtybpTYE3hSv1es2FKGsUJY8ckwyQ'], \n",
        "             'condition': {'details': {'type': 'ed25519-sha-256', 'public_key': '3LacGwYTEXM77ocAtybpTYE3hSv1es2FKGsUJY8ckwyQ'}, \n",
        "                           'uri': 'ni:///sha-256;gX7ONrl4kBQGdQgjj_Jwvgnpg2UvBQrTHl7nTc1KSjc?fpt=ed25519-sha-256&cost=131072'}, 'amount': '1'}], \n",
        "                           'operation': 'CREATE', 'metadata': None, \n",
        "                           'asset': {'data': {'model_label_1': {'model1': [123, 156, 123, 145, 123]}}}, \n",
        "                           'version': '2.0', 'id': '078671ef0e6929833ce5865f2a490519dd96e88b8cb71ba6577016c0d0d4117a'}\n",
        "'''\n",
        "# Send the transaction to connected BigchainDB node. \n",
        "\n",
        "sent_creation_tx = bdb.transactions.send_commit(fulfilled_creation_tx)\n",
        "# After you send the tx, get the transaction id. \n",
        "# Produce this id 'id': '360f9aa79f1765a615e02abedef5aa571a94199eddaf739f6f7463f0c03d1ec3'\n",
        "# This is how to get the transaction by the id.\n",
        "\n",
        "\n"
      ]
    },
    {
      "cell_type": "code",
      "source": [
        "sent_creation_tx"
      ],
      "metadata": {
        "colab": {
          "base_uri": "https://localhost:8080/"
        },
        "id": "TSfTPNx4nNm1",
        "outputId": "c19470c9-bc28-4e1f-b611-6797d07bd13d"
      },
      "execution_count": 64,
      "outputs": [
        {
          "output_type": "execute_result",
          "data": {
            "text/plain": [
              "{'asset': {'data': {'label_1': {'plane': [123, 156, 123, 145, 123]}}},\n",
              " 'id': '360f9aa79f1765a615e02abedef5aa571a94199eddaf739f6f7463f0c03d1ec3',\n",
              " 'inputs': [{'fulfillment': 'pGSAICK7aP3TrLOAHLj2boU99PPYAcdsoWgYBNpeu7oR3KbngUB1LZFHeB_LbEMbHUOE8FDgUL7o8LeBSVVS4d2kXhQSOL6HQOlcqlDVG18U3UlCaec9twrFJTvH3CJb-Qvfk-QC',\n",
              "   'fulfills': None,\n",
              "   'owners_before': ['3LacGwYTEXM77ocAtybpTYE3hSv1es2FKGsUJY8ckwyQ']}],\n",
              " 'metadata': None,\n",
              " 'operation': 'CREATE',\n",
              " 'outputs': [{'amount': '1',\n",
              "   'condition': {'details': {'public_key': '3LacGwYTEXM77ocAtybpTYE3hSv1es2FKGsUJY8ckwyQ',\n",
              "     'type': 'ed25519-sha-256'},\n",
              "    'uri': 'ni:///sha-256;gX7ONrl4kBQGdQgjj_Jwvgnpg2UvBQrTHl7nTc1KSjc?fpt=ed25519-sha-256&cost=131072'},\n",
              "   'public_keys': ['3LacGwYTEXM77ocAtybpTYE3hSv1es2FKGsUJY8ckwyQ']}],\n",
              " 'version': '2.0'}"
            ]
          },
          "metadata": {},
          "execution_count": 64
        }
      ]
    },
    {
      "cell_type": "code",
      "source": [
        "txid = sent_creation_tx['id']\n",
        "plane_model = bdb.transactions.get(asset_id= txid)\n",
        "\n",
        "plane_model\n",
        "\n"
      ],
      "metadata": {
        "colab": {
          "base_uri": "https://localhost:8080/"
        },
        "id": "6OD_ZKGvm2gG",
        "outputId": "b53667aa-5867-44aa-a9c2-04f4efd712d0"
      },
      "execution_count": 68,
      "outputs": [
        {
          "output_type": "execute_result",
          "data": {
            "text/plain": [
              "[{'inputs': [{'owners_before': ['3LacGwYTEXM77ocAtybpTYE3hSv1es2FKGsUJY8ckwyQ'],\n",
              "    'fulfills': None,\n",
              "    'fulfillment': 'pGSAICK7aP3TrLOAHLj2boU99PPYAcdsoWgYBNpeu7oR3KbngUB1LZFHeB_LbEMbHUOE8FDgUL7o8LeBSVVS4d2kXhQSOL6HQOlcqlDVG18U3UlCaec9twrFJTvH3CJb-Qvfk-QC'}],\n",
              "  'outputs': [{'public_keys': ['3LacGwYTEXM77ocAtybpTYE3hSv1es2FKGsUJY8ckwyQ'],\n",
              "    'condition': {'details': {'type': 'ed25519-sha-256',\n",
              "      'public_key': '3LacGwYTEXM77ocAtybpTYE3hSv1es2FKGsUJY8ckwyQ'},\n",
              "     'uri': 'ni:///sha-256;gX7ONrl4kBQGdQgjj_Jwvgnpg2UvBQrTHl7nTc1KSjc?fpt=ed25519-sha-256&cost=131072'},\n",
              "    'amount': '1'}],\n",
              "  'operation': 'CREATE',\n",
              "  'metadata': None,\n",
              "  'asset': {'data': {'label_1': {'plane': [123, 156, 123, 145, 123]}}},\n",
              "  'version': '2.0',\n",
              "  'id': '360f9aa79f1765a615e02abedef5aa571a94199eddaf739f6f7463f0c03d1ec3'}]"
            ]
          },
          "metadata": {},
          "execution_count": 68
        }
      ]
    },
    {
      "cell_type": "code",
      "source": [
        "# The data is now in the blockchain block. \n",
        "block_height = bdb.blocks.get(txid=txid)\n",
        "block = bdb.blocks.retrieve(str(block_height)) # A whole information in this block. \n",
        "block"
      ],
      "metadata": {
        "colab": {
          "base_uri": "https://localhost:8080/"
        },
        "id": "nfrnnCq6nh0I",
        "outputId": "6b277ad2-c66d-4e5c-9afa-2d63296be6e5"
      },
      "execution_count": 70,
      "outputs": [
        {
          "output_type": "execute_result",
          "data": {
            "text/plain": [
              "{'height': 14,\n",
              " 'transactions': [{'inputs': [{'owners_before': ['3LacGwYTEXM77ocAtybpTYE3hSv1es2FKGsUJY8ckwyQ'],\n",
              "     'fulfills': None,\n",
              "     'fulfillment': 'pGSAICK7aP3TrLOAHLj2boU99PPYAcdsoWgYBNpeu7oR3KbngUB1LZFHeB_LbEMbHUOE8FDgUL7o8LeBSVVS4d2kXhQSOL6HQOlcqlDVG18U3UlCaec9twrFJTvH3CJb-Qvfk-QC'}],\n",
              "   'outputs': [{'public_keys': ['3LacGwYTEXM77ocAtybpTYE3hSv1es2FKGsUJY8ckwyQ'],\n",
              "     'condition': {'details': {'type': 'ed25519-sha-256',\n",
              "       'public_key': '3LacGwYTEXM77ocAtybpTYE3hSv1es2FKGsUJY8ckwyQ'},\n",
              "      'uri': 'ni:///sha-256;gX7ONrl4kBQGdQgjj_Jwvgnpg2UvBQrTHl7nTc1KSjc?fpt=ed25519-sha-256&cost=131072'},\n",
              "     'amount': '1'}],\n",
              "   'operation': 'CREATE',\n",
              "   'metadata': None,\n",
              "   'asset': {'data': {'label_1': {'plane': [123, 156, 123, 145, 123]}}},\n",
              "   'version': '2.0',\n",
              "   'id': '360f9aa79f1765a615e02abedef5aa571a94199eddaf739f6f7463f0c03d1ec3'}]}"
            ]
          },
          "metadata": {},
          "execution_count": 70
        }
      ]
    },
    {
      "cell_type": "markdown",
      "source": [
        "##### Asset Transfer"
      ],
      "metadata": {
        "id": "A05L50oCeNfN"
      }
    },
    {
      "cell_type": "code",
      "source": [
        "# ================================================================== Transfer the asset ===========================================================\n",
        "# In the above example, the data model plane is created and it is own by alice. \n",
        "creation_tx = bdb.transactions.retrieve(txid) # Retrieve the transaction from the block. \n",
        "creation_tx"
      ],
      "metadata": {
        "colab": {
          "base_uri": "https://localhost:8080/"
        },
        "id": "D_T9gL1Kd3tr",
        "outputId": "21b56201-c622-4b21-8689-530edbc16b73"
      },
      "execution_count": 94,
      "outputs": [
        {
          "output_type": "execute_result",
          "data": {
            "text/plain": [
              "{'inputs': [{'owners_before': ['3LacGwYTEXM77ocAtybpTYE3hSv1es2FKGsUJY8ckwyQ'],\n",
              "   'fulfills': None,\n",
              "   'fulfillment': 'pGSAICK7aP3TrLOAHLj2boU99PPYAcdsoWgYBNpeu7oR3KbngUB1LZFHeB_LbEMbHUOE8FDgUL7o8LeBSVVS4d2kXhQSOL6HQOlcqlDVG18U3UlCaec9twrFJTvH3CJb-Qvfk-QC'}],\n",
              " 'outputs': [{'public_keys': ['3LacGwYTEXM77ocAtybpTYE3hSv1es2FKGsUJY8ckwyQ'],\n",
              "   'condition': {'details': {'type': 'ed25519-sha-256',\n",
              "     'public_key': '3LacGwYTEXM77ocAtybpTYE3hSv1es2FKGsUJY8ckwyQ'},\n",
              "    'uri': 'ni:///sha-256;gX7ONrl4kBQGdQgjj_Jwvgnpg2UvBQrTHl7nTc1KSjc?fpt=ed25519-sha-256&cost=131072'},\n",
              "   'amount': '1'}],\n",
              " 'operation': 'CREATE',\n",
              " 'metadata': None,\n",
              " 'asset': {'data': {'label_1': {'plane': [123, 156, 123, 145, 123]}}},\n",
              " 'version': '2.0',\n",
              " 'id': '360f9aa79f1765a615e02abedef5aa571a94199eddaf739f6f7463f0c03d1ec3'}"
            ]
          },
          "metadata": {},
          "execution_count": 94
        }
      ]
    },
    {
      "cell_type": "code",
      "source": [
        "asset_id = creation_tx['id']\n",
        "transfer_asset = {\n",
        "    'id': asset_id\n",
        "}\n",
        "\n",
        "# Prepare the transfer transaction\n",
        "output_index = 0\n",
        "output = creation_tx['outputs'][output_index]\n",
        "transfer_input = {\n",
        "    'fulfillment': output['condition']['details'], # When you create a fulfillment with bigchaindb, it will generate these parameters for you.\n",
        "    'fulfills': {\n",
        "        'output_index': output_index,\n",
        "        'transaction_id': asset_id\n",
        "    },\n",
        "    'owners_before': output['public_keys']\n",
        "}\n",
        "\n",
        "# Prepare the transfer tx\n",
        "prepared_transfer_tx = bdb.transactions.prepare(\n",
        "    operation='TRANSFER',\n",
        "    asset=transfer_asset,\n",
        "    inputs= transfer_input,\n",
        "    recipients=bob_public_key # Make the recipients to someone public key to change the ownership of the asset (data in a block)\n",
        ")\n",
        "\n",
        "fulfilled_transfer_tx = bdb.transactions.fulfill(prepared_transfer_tx, private_keys = alice_private_key)\n",
        "fulfilled_transfer_tx"
      ],
      "metadata": {
        "colab": {
          "base_uri": "https://localhost:8080/"
        },
        "id": "A3Yb58pGeSU0",
        "outputId": "2d07d057-7ee4-4a0c-c5c6-43eef9f65354"
      },
      "execution_count": 96,
      "outputs": [
        {
          "output_type": "execute_result",
          "data": {
            "text/plain": [
              "{'inputs': [{'owners_before': ['3LacGwYTEXM77ocAtybpTYE3hSv1es2FKGsUJY8ckwyQ'],\n",
              "   'fulfills': {'transaction_id': '360f9aa79f1765a615e02abedef5aa571a94199eddaf739f6f7463f0c03d1ec3',\n",
              "    'output_index': 0},\n",
              "   'fulfillment': 'pGSAICK7aP3TrLOAHLj2boU99PPYAcdsoWgYBNpeu7oR3KbngUCzKETwT6RffdQXdJs7XyIbWhaufPEfasHN5pp8CnrnGyriBRvekcqUC54-cEZt8fJfT34-i5RFAvUyNQNDR2ED'}],\n",
              " 'outputs': [{'public_keys': ['9Ui3bU1rtFDnTe1TYDE9j5FU7mDFucXzEW5ZUpEcxFxz'],\n",
              "   'condition': {'details': {'type': 'ed25519-sha-256',\n",
              "     'public_key': '9Ui3bU1rtFDnTe1TYDE9j5FU7mDFucXzEW5ZUpEcxFxz'},\n",
              "    'uri': 'ni:///sha-256;OsZFZ20QKaMLSdbivdF0PLPJfb_b3yZ1O5QPlj9nC9o?fpt=ed25519-sha-256&cost=131072'},\n",
              "   'amount': '1'}],\n",
              " 'operation': 'TRANSFER',\n",
              " 'metadata': None,\n",
              " 'asset': {'id': '360f9aa79f1765a615e02abedef5aa571a94199eddaf739f6f7463f0c03d1ec3'},\n",
              " 'version': '2.0',\n",
              " 'id': '42c43433decace07ffa3b163cba48c2f99aaae18283633a994fbfd4e85fcd74d'}"
            ]
          },
          "metadata": {},
          "execution_count": 96
        }
      ]
    },
    {
      "cell_type": "code",
      "source": [
        "send_transfer_tx = bdb.transactions.send_commit(fulfilled_transfer_tx)\n",
        "send_transfer_tx"
      ],
      "metadata": {
        "id": "Sb0xQegpglyG"
      },
      "execution_count": null,
      "outputs": []
    },
    {
      "cell_type": "code",
      "source": [
        "send_transfer_tx"
      ],
      "metadata": {
        "colab": {
          "base_uri": "https://localhost:8080/"
        },
        "id": "fqkuJoGvjjAa",
        "outputId": "3e22b5d7-3ec7-43bb-fc6d-c026d1e3aff3"
      },
      "execution_count": 99,
      "outputs": [
        {
          "output_type": "execute_result",
          "data": {
            "text/plain": [
              "{'asset': {'id': '360f9aa79f1765a615e02abedef5aa571a94199eddaf739f6f7463f0c03d1ec3'},\n",
              " 'id': '42c43433decace07ffa3b163cba48c2f99aaae18283633a994fbfd4e85fcd74d',\n",
              " 'inputs': [{'fulfillment': 'pGSAICK7aP3TrLOAHLj2boU99PPYAcdsoWgYBNpeu7oR3KbngUCzKETwT6RffdQXdJs7XyIbWhaufPEfasHN5pp8CnrnGyriBRvekcqUC54-cEZt8fJfT34-i5RFAvUyNQNDR2ED',\n",
              "   'fulfills': {'output_index': 0,\n",
              "    'transaction_id': '360f9aa79f1765a615e02abedef5aa571a94199eddaf739f6f7463f0c03d1ec3'},\n",
              "   'owners_before': ['3LacGwYTEXM77ocAtybpTYE3hSv1es2FKGsUJY8ckwyQ']}],\n",
              " 'metadata': None,\n",
              " 'operation': 'TRANSFER',\n",
              " 'outputs': [{'amount': '1',\n",
              "   'condition': {'details': {'public_key': '9Ui3bU1rtFDnTe1TYDE9j5FU7mDFucXzEW5ZUpEcxFxz',\n",
              "     'type': 'ed25519-sha-256'},\n",
              "    'uri': 'ni:///sha-256;OsZFZ20QKaMLSdbivdF0PLPJfb_b3yZ1O5QPlj9nC9o?fpt=ed25519-sha-256&cost=131072'},\n",
              "   'public_keys': ['9Ui3bU1rtFDnTe1TYDE9j5FU7mDFucXzEW5ZUpEcxFxz']}],\n",
              " 'version': '2.0'}"
            ]
          },
          "metadata": {},
          "execution_count": 99
        }
      ]
    },
    {
      "cell_type": "code",
      "source": [
        "transfer_asset_txid = send_transfer_tx['id']\n",
        "transfer_asset_txid  # This is the transfer operation transaction id \n",
        "\n",
        "# send_transfer_tx['asset']['id']  => This is the whole block transaction id "
      ],
      "metadata": {
        "colab": {
          "base_uri": "https://localhost:8080/",
          "height": 35
        },
        "id": "lJsUb5Belt7U",
        "outputId": "61ac3c97-4433-4f16-ae31-ca4e62f05df7"
      },
      "execution_count": 100,
      "outputs": [
        {
          "output_type": "execute_result",
          "data": {
            "text/plain": [
              "'42c43433decace07ffa3b163cba48c2f99aaae18283633a994fbfd4e85fcd74d'"
            ],
            "application/vnd.google.colaboratory.intrinsic+json": {
              "type": "string"
            }
          },
          "metadata": {},
          "execution_count": 100
        }
      ]
    },
    {
      "cell_type": "code",
      "source": [
        "bdb.transactions.get(asset_id= txid)\n",
        "# An item transactions contains these two operations. [every transaction happens for this item.] aka. data object"
      ],
      "metadata": {
        "colab": {
          "base_uri": "https://localhost:8080/"
        },
        "id": "epl5xAl4kC-e",
        "outputId": "941723a3-e00b-4a25-b913-1bb5d71f7f64"
      },
      "execution_count": 101,
      "outputs": [
        {
          "output_type": "execute_result",
          "data": {
            "text/plain": [
              "[{'inputs': [{'owners_before': ['3LacGwYTEXM77ocAtybpTYE3hSv1es2FKGsUJY8ckwyQ'],\n",
              "    'fulfills': None,\n",
              "    'fulfillment': 'pGSAICK7aP3TrLOAHLj2boU99PPYAcdsoWgYBNpeu7oR3KbngUB1LZFHeB_LbEMbHUOE8FDgUL7o8LeBSVVS4d2kXhQSOL6HQOlcqlDVG18U3UlCaec9twrFJTvH3CJb-Qvfk-QC'}],\n",
              "  'outputs': [{'public_keys': ['3LacGwYTEXM77ocAtybpTYE3hSv1es2FKGsUJY8ckwyQ'],\n",
              "    'condition': {'details': {'type': 'ed25519-sha-256',\n",
              "      'public_key': '3LacGwYTEXM77ocAtybpTYE3hSv1es2FKGsUJY8ckwyQ'},\n",
              "     'uri': 'ni:///sha-256;gX7ONrl4kBQGdQgjj_Jwvgnpg2UvBQrTHl7nTc1KSjc?fpt=ed25519-sha-256&cost=131072'},\n",
              "    'amount': '1'}],\n",
              "  'operation': 'CREATE',\n",
              "  'metadata': None,\n",
              "  'asset': {'data': {'label_1': {'plane': [123, 156, 123, 145, 123]}}},\n",
              "  'version': '2.0',\n",
              "  'id': '360f9aa79f1765a615e02abedef5aa571a94199eddaf739f6f7463f0c03d1ec3'},\n",
              " {'inputs': [{'owners_before': ['3LacGwYTEXM77ocAtybpTYE3hSv1es2FKGsUJY8ckwyQ'],\n",
              "    'fulfills': {'transaction_id': '360f9aa79f1765a615e02abedef5aa571a94199eddaf739f6f7463f0c03d1ec3',\n",
              "     'output_index': 0},\n",
              "    'fulfillment': 'pGSAICK7aP3TrLOAHLj2boU99PPYAcdsoWgYBNpeu7oR3KbngUCzKETwT6RffdQXdJs7XyIbWhaufPEfasHN5pp8CnrnGyriBRvekcqUC54-cEZt8fJfT34-i5RFAvUyNQNDR2ED'}],\n",
              "  'outputs': [{'public_keys': ['9Ui3bU1rtFDnTe1TYDE9j5FU7mDFucXzEW5ZUpEcxFxz'],\n",
              "    'condition': {'details': {'type': 'ed25519-sha-256',\n",
              "      'public_key': '9Ui3bU1rtFDnTe1TYDE9j5FU7mDFucXzEW5ZUpEcxFxz'},\n",
              "     'uri': 'ni:///sha-256;OsZFZ20QKaMLSdbivdF0PLPJfb_b3yZ1O5QPlj9nC9o?fpt=ed25519-sha-256&cost=131072'},\n",
              "    'amount': '1'}],\n",
              "  'operation': 'TRANSFER',\n",
              "  'metadata': None,\n",
              "  'asset': {'id': '360f9aa79f1765a615e02abedef5aa571a94199eddaf739f6f7463f0c03d1ec3'},\n",
              "  'version': '2.0',\n",
              "  'id': '42c43433decace07ffa3b163cba48c2f99aaae18283633a994fbfd4e85fcd74d'}]"
            ]
          },
          "metadata": {},
          "execution_count": 101
        }
      ]
    },
    {
      "cell_type": "code",
      "source": [
        "bdb.transactions.retrieve(transfer_asset_txid) # Retrieve the transaction \"TRANSFER\" operation"
      ],
      "metadata": {
        "colab": {
          "base_uri": "https://localhost:8080/"
        },
        "id": "k0wcMilsqZ-T",
        "outputId": "072cd814-7863-46a3-995c-b40d162f58df"
      },
      "execution_count": 103,
      "outputs": [
        {
          "output_type": "execute_result",
          "data": {
            "text/plain": [
              "{'inputs': [{'owners_before': ['3LacGwYTEXM77ocAtybpTYE3hSv1es2FKGsUJY8ckwyQ'],\n",
              "   'fulfills': {'transaction_id': '360f9aa79f1765a615e02abedef5aa571a94199eddaf739f6f7463f0c03d1ec3',\n",
              "    'output_index': 0},\n",
              "   'fulfillment': 'pGSAICK7aP3TrLOAHLj2boU99PPYAcdsoWgYBNpeu7oR3KbngUCzKETwT6RffdQXdJs7XyIbWhaufPEfasHN5pp8CnrnGyriBRvekcqUC54-cEZt8fJfT34-i5RFAvUyNQNDR2ED'}],\n",
              " 'outputs': [{'public_keys': ['9Ui3bU1rtFDnTe1TYDE9j5FU7mDFucXzEW5ZUpEcxFxz'],\n",
              "   'condition': {'details': {'type': 'ed25519-sha-256',\n",
              "     'public_key': '9Ui3bU1rtFDnTe1TYDE9j5FU7mDFucXzEW5ZUpEcxFxz'},\n",
              "    'uri': 'ni:///sha-256;OsZFZ20QKaMLSdbivdF0PLPJfb_b3yZ1O5QPlj9nC9o?fpt=ed25519-sha-256&cost=131072'},\n",
              "   'amount': '1'}],\n",
              " 'operation': 'TRANSFER',\n",
              " 'metadata': None,\n",
              " 'asset': {'id': '360f9aa79f1765a615e02abedef5aa571a94199eddaf739f6f7463f0c03d1ec3'},\n",
              " 'version': '2.0',\n",
              " 'id': '42c43433decace07ffa3b163cba48c2f99aaae18283633a994fbfd4e85fcd74d'}"
            ]
          },
          "metadata": {},
          "execution_count": 103
        }
      ]
    },
    {
      "cell_type": "code",
      "source": [
        "block_height = bdb.blocks.get(txid=transfer_asset_txid)\n",
        "block = bdb.blocks.retrieve(str(block_height)) # A whole information in this block. \n",
        "block "
      ],
      "metadata": {
        "colab": {
          "base_uri": "https://localhost:8080/"
        },
        "id": "ECiauKfclnXD",
        "outputId": "d758d02b-dcd1-4aa7-a187-319cf0af22d7"
      },
      "execution_count": 105,
      "outputs": [
        {
          "output_type": "execute_result",
          "data": {
            "text/plain": [
              "{'height': 18,\n",
              " 'transactions': [{'inputs': [{'owners_before': ['3LacGwYTEXM77ocAtybpTYE3hSv1es2FKGsUJY8ckwyQ'],\n",
              "     'fulfills': {'transaction_id': '360f9aa79f1765a615e02abedef5aa571a94199eddaf739f6f7463f0c03d1ec3',\n",
              "      'output_index': 0},\n",
              "     'fulfillment': 'pGSAICK7aP3TrLOAHLj2boU99PPYAcdsoWgYBNpeu7oR3KbngUCzKETwT6RffdQXdJs7XyIbWhaufPEfasHN5pp8CnrnGyriBRvekcqUC54-cEZt8fJfT34-i5RFAvUyNQNDR2ED'}],\n",
              "   'outputs': [{'public_keys': ['9Ui3bU1rtFDnTe1TYDE9j5FU7mDFucXzEW5ZUpEcxFxz'],\n",
              "     'condition': {'details': {'type': 'ed25519-sha-256',\n",
              "       'public_key': '9Ui3bU1rtFDnTe1TYDE9j5FU7mDFucXzEW5ZUpEcxFxz'},\n",
              "      'uri': 'ni:///sha-256;OsZFZ20QKaMLSdbivdF0PLPJfb_b3yZ1O5QPlj9nC9o?fpt=ed25519-sha-256&cost=131072'},\n",
              "     'amount': '1'}],\n",
              "   'operation': 'TRANSFER',\n",
              "   'metadata': None,\n",
              "   'asset': {'id': '360f9aa79f1765a615e02abedef5aa571a94199eddaf739f6f7463f0c03d1ec3'},\n",
              "   'version': '2.0',\n",
              "   'id': '42c43433decace07ffa3b163cba48c2f99aaae18283633a994fbfd4e85fcd74d'}]}"
            ]
          },
          "metadata": {},
          "execution_count": 105
        }
      ]
    },
    {
      "cell_type": "markdown",
      "source": [
        "##### Try to divisible the assets"
      ],
      "metadata": {
        "id": "s43NB-8Ut1b8"
      }
    },
    {
      "cell_type": "code",
      "source": [],
      "metadata": {
        "id": "YXacjBfIt9jq"
      },
      "execution_count": null,
      "outputs": []
    }
  ]
}