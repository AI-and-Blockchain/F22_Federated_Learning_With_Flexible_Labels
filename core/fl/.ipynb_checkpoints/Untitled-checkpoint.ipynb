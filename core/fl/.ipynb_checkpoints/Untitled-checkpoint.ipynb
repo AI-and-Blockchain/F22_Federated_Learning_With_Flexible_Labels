{
 "cells": [
  {
   "cell_type": "code",
   "execution_count": 8,
   "id": "bee5eb33",
   "metadata": {},
   "outputs": [],
   "source": [
    "import os\n",
    "import torch\n",
    "import random\n",
    "import numpy as np\n",
    "import json\n",
    "import torch.nn as nn"
   ]
  },
  {
   "cell_type": "code",
   "execution_count": 20,
   "id": "fb8fc703",
   "metadata": {},
   "outputs": [],
   "source": [
    "def loadmodel(name):\n",
    "    x = open('model_parameters/'+ name+'.json')\n",
    "    data = json.load(x)\n",
    "    model_structure = data['model_structure']\n",
    "    model_parameters_names = data['model_parameters_names']\n",
    "    model_parameters_vals = data['model_parameters_vals']\n",
    "    for i in model_parameters_vals:\n",
    "        x=[random.randint(-10,10)*0.000001 for i in range(7)]\n",
    "        \n",
    "    model_parameters_names = [f'[{name.split(\".\")[0]}].{name.split(\".\")[1]}'\n",
    "                                   for name in model_parameters_names.split('|')]\n",
    "    received_model = nn.Sequential(\n",
    "    *[eval('nn.' + layer) for layer in model_structure.split('|')]\n",
    "    )\n",
    "    for parameters_name, parameters_val in zip(model_parameters_names, model_parameters_vals):\n",
    "        exec(f'received_model{parameters_name} = nn.Parameter(torch.tensor(parameters_val))')\n",
    "    for param in received_model.parameters():\n",
    "        param.requires_grad = False\n",
    "    return received_model.to('cuda')"
   ]
  },
  {
   "cell_type": "code",
   "execution_count": 21,
   "id": "cb65e46c",
   "metadata": {},
   "outputs": [
    {
     "name": "stdout",
     "output_type": "stream",
     "text": [
      "<class 'list'>\n",
      "Sequential(\n",
      "  (0): BatchNorm1d(768, eps=1e-05, momentum=0.1, affine=True, track_running_stats=True)\n",
      "  (1): Linear(in_features=768, out_features=128, bias=True)\n",
      "  (2): GELU()\n",
      "  (3): Linear(in_features=128, out_features=6, bias=True)\n",
      ")\n"
     ]
    }
   ],
   "source": [
    "print(loadmodel(\"model_A\"))"
   ]
  },
  {
   "cell_type": "code",
   "execution_count": 23,
   "id": "6d04c147",
   "metadata": {},
   "outputs": [],
   "source": [
    "def loadmodels(names):\n",
    "    all=[]\n",
    "    for i in names:\n",
    "        all.append(loadmodel(i))\n",
    "    return all[0]\n"
   ]
  },
  {
   "cell_type": "code",
   "execution_count": 24,
   "id": "97dddbc9",
   "metadata": {},
   "outputs": [],
   "source": [
    "from predict import predict_from_dataset"
   ]
  },
  {
   "cell_type": "code",
   "execution_count": 25,
   "id": "c57b22a8",
   "metadata": {},
   "outputs": [],
   "source": [
    "dataset_path = '../../Datasets/CIFAR10'"
   ]
  },
  {
   "cell_type": "code",
   "execution_count": 26,
   "id": "ec7cf9e2",
   "metadata": {},
   "outputs": [],
   "source": [
    "def ensemble(models,path,device):\n",
    "    for i in models:\n",
    "        predict_from_dataset(path,'A',\"sb\",\"sb\",models,device)"
   ]
  },
  {
   "cell_type": "code",
   "execution_count": 27,
   "id": "9ee752b5",
   "metadata": {},
   "outputs": [],
   "source": [
    "def final(path):\n",
    "    models= loadmodels([\"model_A\"])\n",
    "    y= ensemble(models,dataset_path,'cuda')\n",
    "    return y"
   ]
  },
  {
   "cell_type": "code",
   "execution_count": 28,
   "id": "8fb2ee83",
   "metadata": {},
   "outputs": [
    {
     "name": "stdout",
     "output_type": "stream",
     "text": [
      "<torch.utils.data.dataloader.DataLoader object at 0x000001CBD5771F70> Sequential(\n",
      "  (0): BatchNorm1d(768, eps=1e-05, momentum=0.1, affine=True, track_running_stats=True)\n",
      "  (1): Linear(in_features=768, out_features=128, bias=True)\n",
      "  (2): GELU()\n",
      "  (3): Linear(in_features=128, out_features=6, bias=True)\n",
      ")\n"
     ]
    },
    {
     "name": "stderr",
     "output_type": "stream",
     "text": [
      "100%|██████████| 422/422 [06:39<00:00,  1.06it/s]\n"
     ]
    },
    {
     "name": "stdout",
     "output_type": "stream",
     "text": [
      "<torch.utils.data.dataloader.DataLoader object at 0x000001CBD5771BB0> Sequential(\n",
      "  (0): BatchNorm1d(768, eps=1e-05, momentum=0.1, affine=True, track_running_stats=True)\n",
      "  (1): Linear(in_features=768, out_features=128, bias=True)\n",
      "  (2): GELU()\n",
      "  (3): Linear(in_features=128, out_features=6, bias=True)\n",
      ")\n"
     ]
    },
    {
     "name": "stderr",
     "output_type": "stream",
     "text": [
      "100%|██████████| 422/422 [06:13<00:00,  1.13it/s]\n"
     ]
    },
    {
     "name": "stdout",
     "output_type": "stream",
     "text": [
      "<torch.utils.data.dataloader.DataLoader object at 0x000001CB8F7347F0> Sequential(\n",
      "  (0): BatchNorm1d(768, eps=1e-05, momentum=0.1, affine=True, track_running_stats=True)\n",
      "  (1): Linear(in_features=768, out_features=128, bias=True)\n",
      "  (2): GELU()\n",
      "  (3): Linear(in_features=128, out_features=6, bias=True)\n",
      ")\n"
     ]
    },
    {
     "name": "stderr",
     "output_type": "stream",
     "text": [
      "100%|██████████| 422/422 [06:08<00:00,  1.14it/s]\n"
     ]
    },
    {
     "name": "stdout",
     "output_type": "stream",
     "text": [
      "<torch.utils.data.dataloader.DataLoader object at 0x000001CBA4A32670> Sequential(\n",
      "  (0): BatchNorm1d(768, eps=1e-05, momentum=0.1, affine=True, track_running_stats=True)\n",
      "  (1): Linear(in_features=768, out_features=128, bias=True)\n",
      "  (2): GELU()\n",
      "  (3): Linear(in_features=128, out_features=6, bias=True)\n",
      ")\n"
     ]
    },
    {
     "name": "stderr",
     "output_type": "stream",
     "text": [
      "100%|██████████| 422/422 [06:05<00:00,  1.15it/s]\n"
     ]
    }
   ],
   "source": [
    "tmp = final(dataset_path)"
   ]
  },
  {
   "cell_type": "code",
   "execution_count": 1,
   "id": "41b7ad90",
   "metadata": {},
   "outputs": [
    {
     "ename": "NameError",
     "evalue": "name 'tmp' is not defined",
     "output_type": "error",
     "traceback": [
      "\u001b[1;31m---------------------------------------------------------------------------\u001b[0m",
      "\u001b[1;31mNameError\u001b[0m                                 Traceback (most recent call last)",
      "\u001b[1;32m~\\AppData\\Local\\Temp\\ipykernel_70168\\4210963764.py\u001b[0m in \u001b[0;36m<module>\u001b[1;34m\u001b[0m\n\u001b[1;32m----> 1\u001b[1;33m \u001b[0mprint\u001b[0m\u001b[1;33m(\u001b[0m\u001b[0mtmp\u001b[0m\u001b[1;33m)\u001b[0m\u001b[1;33m\u001b[0m\u001b[1;33m\u001b[0m\u001b[0m\n\u001b[0m",
      "\u001b[1;31mNameError\u001b[0m: name 'tmp' is not defined"
     ]
    }
   ],
   "source": [
    "print(tmp)"
   ]
  },
  {
   "cell_type": "code",
   "execution_count": null,
   "id": "ab0d95e9",
   "metadata": {},
   "outputs": [],
   "source": []
  }
 ],
 "metadata": {
  "kernelspec": {
   "display_name": "Python 3 (ipykernel)",
   "language": "python",
   "name": "python3"
  },
  "language_info": {
   "codemirror_mode": {
    "name": "ipython",
    "version": 3
   },
   "file_extension": ".py",
   "mimetype": "text/x-python",
   "name": "python",
   "nbconvert_exporter": "python",
   "pygments_lexer": "ipython3",
   "version": "3.9.13"
  }
 },
 "nbformat": 4,
 "nbformat_minor": 5
}
