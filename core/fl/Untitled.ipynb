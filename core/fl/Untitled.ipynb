{
 "cells": [
  {
   "cell_type": "code",
   "execution_count": 1,
   "id": "bee5eb33",
   "metadata": {},
   "outputs": [],
   "source": [
    "import os\n",
    "import torch\n",
    "import random\n",
    "import numpy as np\n",
    "import json\n",
    "import torch.nn as nn\n",
    "from predict import predict_from_dataset"
   ]
  },
  {
   "cell_type": "code",
   "execution_count": 2,
   "id": "fb8fc703",
   "metadata": {},
   "outputs": [],
   "source": [
    "def loadmodel(name):\n",
    "    x = open('model_parameters/'+ name+'.json')\n",
    "    data = json.load(x)\n",
    "    model_structure = data['model_structure']\n",
    "    model_parameters_names = data['model_parameters_names']\n",
    "    model_parameters_vals_= data['model_parameters_vals']\n",
    "    model_parameters_vals =[]\n",
    "    for i in model_parameters_vals_:\n",
    "        tmp=torch.tensor(i)\n",
    "        tmp2=torch.rand(tmp.shape)*0.0000001\n",
    "        tmp3=torch.add(tmp,tmp2)\n",
    "        model_parameters_vals.append(tmp3.tolist())\n",
    "    model_parameters_names = [f'[{name.split(\".\")[0]}].{name.split(\".\")[1]}'\n",
    "                                   for name in model_parameters_names.split('|')]\n",
    "    received_model = nn.Sequential(\n",
    "    *[eval('nn.' + layer) for layer in model_structure.split('|')]\n",
    "    )\n",
    "    for parameters_name, parameters_val in zip(model_parameters_names, model_parameters_vals):\n",
    "        exec(f'received_model{parameters_name} = nn.Parameter(torch.tensor(parameters_val))')\n",
    "    for param in received_model.parameters():\n",
    "        param.requires_grad = False\n",
    "    return received_model.to('cuda')"
   ]
  },
  {
   "cell_type": "code",
   "execution_count": 92,
   "id": "b791d9df",
   "metadata": {},
   "outputs": [
    {
     "name": "stdout",
     "output_type": "stream",
     "text": [
      "model_A\n",
      "Success! Two models have the same output\n",
      "model_B\n",
      "Success! Two models have the same output\n",
      "model_C\n",
      "Success! Two models have the same output\n",
      "model_D\n",
      "Success! Two models have the same output\n",
      "model_E\n",
      "Success! Two models have the same output\n",
      "model_F\n",
      "Success! Two models have the same output\n",
      "model_G\n",
      "Success! Two models have the same output\n",
      "model_T1\n",
      "Success! Two models have the same output\n",
      "model_T2\n",
      "Success! Two models have the same output\n",
      "model_T3\n",
      "Success! Two models have the same output\n"
     ]
    }
   ],
   "source": [
    "\n",
    "def checksame():\n",
    "    hh=['model_A','model_B','model_C','model_D','model_E','model_F','model_G','model_T1','model_T2','model_T3']\n",
    "    for i in hh:\n",
    "        y=torch.load('../../saved_models/'+ i+'.pt').to('cuda')\n",
    "        x=loadmodel(i)\n",
    "        random_input = torch.randn(32, 768).to('cuda')\n",
    "        x.eval()\n",
    "        x_ = x(random_input)\n",
    "        y.eval()\n",
    "        y_= y(random_input)\n",
    "        print(i)\n",
    "        if (x_ == y_).all():\n",
    "            print('Success! Two models have the same output')\n",
    "        else:\n",
    "            print('Fail! Please check if any of the parameters are different')\n",
    "checksame()"
   ]
  },
  {
   "cell_type": "code",
   "execution_count": 33,
   "id": "6d04c147",
   "metadata": {},
   "outputs": [],
   "source": [
    "def loadmodels(names):\n",
    "    all=[]\n",
    "    for i in names:\n",
    "        all.append(loadmodel(i))\n",
    "    return all\n"
   ]
  },
  {
   "cell_type": "code",
   "execution_count": 34,
   "id": "c57b22a8",
   "metadata": {},
   "outputs": [],
   "source": [
    "dataset_path = '../../Datasets/CIFAR10'"
   ]
  },
  {
   "cell_type": "code",
   "execution_count": 35,
   "id": "ec7cf9e2",
   "metadata": {},
   "outputs": [],
   "source": [
    "def ensemble(models,path,device):\n",
    "    for i in models:\n",
    "        \n",
    "        predict_from_dataset(path,'X',\"sb\",\"sb\",i,device)"
   ]
  },
  {
   "cell_type": "code",
   "execution_count": 36,
   "id": "9ee752b5",
   "metadata": {},
   "outputs": [],
   "source": [
    "def final(path):\n",
    "    models= loadmodels([\"model_A\"])\n",
    "    y= ensemble(models,dataset_path,'cuda')\n",
    "    return y"
   ]
  },
  {
   "cell_type": "code",
   "execution_count": 37,
   "id": "8fb2ee83",
   "metadata": {},
   "outputs": [
    {
     "name": "stdout",
     "output_type": "stream",
     "text": [
      "<torch.utils.data.dataloader.DataLoader object at 0x00000187EE2858B0> Sequential(\n",
      "  (0): BatchNorm1d(768, eps=1e-05, momentum=0.1, affine=True, track_running_stats=True)\n",
      "  (1): Linear(in_features=768, out_features=128, bias=True)\n",
      "  (2): GELU()\n",
      "  (3): Linear(in_features=128, out_features=6, bias=True)\n",
      ") CNM\n"
     ]
    },
    {
     "name": "stderr",
     "output_type": "stream",
     "text": [
      "100%|██████████| 57/57 [00:55<00:00,  1.03it/s]\n"
     ]
    }
   ],
   "source": [
    "final(dataset_path)"
   ]
  },
  {
   "cell_type": "code",
   "execution_count": null,
   "id": "bb0db398",
   "metadata": {},
   "outputs": [],
   "source": []
  }
 ],
 "metadata": {
  "kernelspec": {
   "display_name": "Python 3 (ipykernel)",
   "language": "python",
   "name": "python3"
  },
  "language_info": {
   "codemirror_mode": {
    "name": "ipython",
    "version": 3
   },
   "file_extension": ".py",
   "mimetype": "text/x-python",
   "name": "python",
   "nbconvert_exporter": "python",
   "pygments_lexer": "ipython3",
   "version": "3.9.13"
  }
 },
 "nbformat": 4,
 "nbformat_minor": 5
}
