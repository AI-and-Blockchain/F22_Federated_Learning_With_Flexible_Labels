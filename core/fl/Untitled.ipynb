{
 "cells": [
  {
   "cell_type": "code",
   "execution_count": 36,
   "id": "bee5eb33",
   "metadata": {},
   "outputs": [],
   "source": [
    "import os\n",
    "import torch\n",
    "import random\n",
    "import numpy as np\n",
    "import json\n",
    "import torch.nn as nn"
   ]
  },
  {
   "cell_type": "code",
   "execution_count": 37,
   "id": "fb8fc703",
   "metadata": {},
   "outputs": [],
   "source": [
    "def loadmodel(name):\n",
    "    x = open('model_parameters/'+ name+'.json')\n",
    "    data = json.load(x)\n",
    "    model_structure = data['model_structure']\n",
    "    model_parameters_names = data['model_parameters_names']\n",
    "    model_parameters_vals_ = data['model_parameters_vals']\n",
    "    model_parameters_vals=[]\n",
    "    for i in model_parameters_vals:\n",
    "        model_parameters_vals.append(list(map(lambda x: x + random.randint(-10,10)*0.000001, i)))\n",
    "    model_parameters_names = [f'[{name.split(\".\")[0]}].{name.split(\".\")[1]}'\n",
    "                                   for name in model_parameters_names.split('|')]\n",
    "    received_model = nn.Sequential(\n",
    "    *[eval('nn.' + layer) for layer in model_structure.split('|')]\n",
    "    )\n",
    "    for parameters_name, parameters_val in zip(model_parameters_names, model_parameters_vals):\n",
    "        exec(f'received_model{parameters_name} = nn.Parameter(torch.tensor(parameters_val))')\n",
    "    for param in received_model.parameters():\n",
    "        param.requires_grad = False\n",
    "    print()\n",
    "    return received_model.to('cuda')"
   ]
  },
  {
   "cell_type": "code",
   "execution_count": null,
   "id": "1fbfba50",
   "metadata": {},
   "outputs": [],
   "source": [
    "torch.load('saved_models/model_A')\n"
   ]
  },
  {
   "cell_type": "code",
   "execution_count": 38,
   "id": "6d04c147",
   "metadata": {},
   "outputs": [],
   "source": [
    "def loadmodels(names):\n",
    "    all=[]\n",
    "    for i in names:\n",
    "        all.append(loadmodel(i))\n",
    "    return all[0]\n"
   ]
  },
  {
   "cell_type": "code",
   "execution_count": 39,
   "id": "97dddbc9",
   "metadata": {},
   "outputs": [],
   "source": [
    "from predict import predict_from_dataset"
   ]
  },
  {
   "cell_type": "code",
   "execution_count": 40,
   "id": "c57b22a8",
   "metadata": {},
   "outputs": [],
   "source": [
    "dataset_path = '../../Datasets/CIFAR10'"
   ]
  },
  {
   "cell_type": "code",
   "execution_count": 41,
   "id": "ec7cf9e2",
   "metadata": {},
   "outputs": [],
   "source": [
    "def ensemble(models,path,device):\n",
    "    for i in models:\n",
    "        predict_from_dataset(path,'A',\"sb\",\"sb\",models,device)"
   ]
  },
  {
   "cell_type": "code",
   "execution_count": 42,
   "id": "9ee752b5",
   "metadata": {},
   "outputs": [],
   "source": [
    "def final(path):\n",
    "    models= loadmodels([\"model_A\"])\n",
    "    y= ensemble(models,dataset_path,'cuda')\n",
    "    return y"
   ]
  },
  {
   "cell_type": "code",
   "execution_count": null,
   "id": "8fb2ee83",
   "metadata": {},
   "outputs": [
    {
     "name": "stdout",
     "output_type": "stream",
     "text": [
      "<torch.utils.data.dataloader.DataLoader object at 0x000001BF67A5A850> Sequential(\n",
      "  (0): BatchNorm1d(768, eps=1e-05, momentum=0.1, affine=True, track_running_stats=True)\n",
      "  (1): Linear(in_features=768, out_features=128, bias=True)\n",
      "  (2): GELU()\n",
      "  (3): Linear(in_features=128, out_features=6, bias=True)\n",
      ")\n"
     ]
    },
    {
     "name": "stderr",
     "output_type": "stream",
     "text": [
      " 60%|██████    | 255/422 [04:59<03:15,  1.17s/it]"
     ]
    }
   ],
   "source": [
    " final(dataset_path)"
   ]
  }
 ],
 "metadata": {
  "kernelspec": {
   "display_name": "Python 3 (ipykernel)",
   "language": "python",
   "name": "python3"
  },
  "language_info": {
   "codemirror_mode": {
    "name": "ipython",
    "version": 3
   },
   "file_extension": ".py",
   "mimetype": "text/x-python",
   "name": "python",
   "nbconvert_exporter": "python",
   "pygments_lexer": "ipython3",
   "version": "3.9.13"
  }
 },
 "nbformat": 4,
 "nbformat_minor": 5
}
