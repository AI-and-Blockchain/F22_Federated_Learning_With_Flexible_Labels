{
 "cells": [
  {
   "cell_type": "code",
   "execution_count": 1,
   "id": "bee5eb33",
   "metadata": {},
   "outputs": [],
   "source": [
    "import os\n",
    "import torch\n",
    "import random\n",
    "import numpy as np\n",
    "import json\n",
    "import torch.nn as nn\n",
    "from predict import predict_from_dataset\n",
    "from utils import seed_everything, label_enc, print_evaluation_metrics, load_data_owner_dataset, get_device\n",
    "import pandas as pd\n",
    "from collections import Counter"
   ]
  },
  {
   "cell_type": "code",
   "execution_count": 2,
   "id": "fb8fc703",
   "metadata": {},
   "outputs": [],
   "source": [
    "def loadmodel(name):\n",
    "    x = open('model_parameters/'+ name+'.json')\n",
    "    data = json.load(x)\n",
    "    model_structure = data['model_structure']\n",
    "    model_parameters_names = data['model_parameters_names']\n",
    "    model_parameters_vals_= data['model_parameters_vals']\n",
    "    model_parameters_vals =[]\n",
    "    for i in model_parameters_vals_:\n",
    "        tmp=torch.tensor(i)\n",
    "        tmp2=torch.rand(tmp.shape)*0.0000001\n",
    "        tmp3=torch.add(tmp,tmp2)\n",
    "        model_parameters_vals.append(tmp3.tolist())\n",
    "    model_parameters_names = [f'[{name.split(\".\")[0]}].{name.split(\".\")[1]}'\n",
    "                                   for name in model_parameters_names.split('|')]\n",
    "    received_model = nn.Sequential(\n",
    "    *[eval('nn.' + layer) for layer in model_structure.split('|')]\n",
    "    )\n",
    "    for parameters_name, parameters_val in zip(model_parameters_names, model_parameters_vals):\n",
    "        exec(f'received_model{parameters_name} = nn.Parameter(torch.tensor(parameters_val))')\n",
    "    for param in received_model.parameters():\n",
    "        param.requires_grad = False\n",
    "    return received_model.to('cuda')"
   ]
  },
  {
   "cell_type": "code",
   "execution_count": 92,
   "id": "b791d9df",
   "metadata": {},
   "outputs": [
    {
     "name": "stdout",
     "output_type": "stream",
     "text": [
      "model_A\n",
      "Success! Two models have the same output\n",
      "model_B\n",
      "Success! Two models have the same output\n",
      "model_C\n",
      "Success! Two models have the same output\n",
      "model_D\n",
      "Success! Two models have the same output\n",
      "model_E\n",
      "Success! Two models have the same output\n",
      "model_F\n",
      "Success! Two models have the same output\n",
      "model_G\n",
      "Success! Two models have the same output\n",
      "model_T1\n",
      "Success! Two models have the same output\n",
      "model_T2\n",
      "Success! Two models have the same output\n",
      "model_T3\n",
      "Success! Two models have the same output\n"
     ]
    }
   ],
   "source": [
    "\n",
    "def checksame():\n",
    "    hh=['model_A','model_B','model_C','model_D','model_E','model_F','model_G','model_T1','model_T2','model_T3']\n",
    "    for i in hh:\n",
    "        y=torch.load('../../saved_models/'+ i+'.pt').to('cuda')\n",
    "        x=loadmodel(i)\n",
    "        random_input = torch.randn(32, 768).to('cuda')\n",
    "        x.eval()\n",
    "        x_ = x(random_input)\n",
    "        y.eval()\n",
    "        y_= y(random_input)\n",
    "        print(i)\n",
    "        if (x_ == y_).all():\n",
    "            print('Success! Two models have the same output')\n",
    "        else:\n",
    "            print('Fail! Please check if any of the parameters are different')\n",
    "checksame()"
   ]
  },
  {
   "cell_type": "code",
   "execution_count": 7,
   "id": "6d04c147",
   "metadata": {},
   "outputs": [],
   "source": [
    "def loadmodels(names):\n",
    "    all=[]\n",
    "    for i in names:\n",
    "        all.append(loadmodel(i))\n",
    "    return all\n"
   ]
  },
  {
   "cell_type": "code",
   "execution_count": 8,
   "id": "c57b22a8",
   "metadata": {},
   "outputs": [],
   "source": [
    "dataset_path = '../../Datasets/CIFAR10'"
   ]
  },
  {
   "cell_type": "code",
   "execution_count": 9,
   "id": "ec7cf9e2",
   "metadata": {},
   "outputs": [],
   "source": [
    "def ensemble(models,path,device):\n",
    "    for i in models:\n",
    "        return predict_from_dataset(path,'A',\"Z\",['plane','car', 'ship', 'horse', 'truck', 'other'],i,device)\n",
    "    "
   ]
  },
  {
   "cell_type": "code",
   "execution_count": 10,
   "id": "9ee752b5",
   "metadata": {},
   "outputs": [],
   "source": [
    "def final(path):\n",
    "    models= loadmodels([\"model_A\"])\n",
    "    y= ensemble(models,dataset_path,'cuda')\n",
    "    return y"
   ]
  },
  {
   "cell_type": "code",
   "execution_count": 7,
   "id": "8fb2ee83",
   "metadata": {},
   "outputs": [
    {
     "name": "stdout",
     "output_type": "stream",
     "text": [
      "<torch.utils.data.dataloader.DataLoader object at 0x000001BE30CCADF0> Sequential(\n",
      "  (0): BatchNorm1d(768, eps=1e-05, momentum=0.1, affine=True, track_running_stats=True)\n",
      "  (1): Linear(in_features=768, out_features=128, bias=True)\n",
      "  (2): GELU()\n",
      "  (3): Linear(in_features=128, out_features=6, bias=True)\n",
      ")\n"
     ]
    },
    {
     "name": "stderr",
     "output_type": "stream",
     "text": [
      "100%|██████████| 79/79 [01:07<00:00,  1.17it/s]\n"
     ]
    },
    {
     "name": "stdout",
     "output_type": "stream",
     "text": [
      "<torch.utils.data.dataloader.DataLoader object at 0x000001BE3089BF40> Sequential(\n",
      "  (0): BatchNorm1d(768, eps=1e-05, momentum=0.1, affine=True, track_running_stats=True)\n",
      "  (1): Linear(in_features=768, out_features=128, bias=True)\n",
      "  (2): GELU()\n",
      "  (3): Linear(in_features=128, out_features=6, bias=True)\n",
      ")\n"
     ]
    },
    {
     "name": "stderr",
     "output_type": "stream",
     "text": [
      "100%|██████████| 66/66 [00:55<00:00,  1.19it/s]"
     ]
    },
    {
     "name": "stdout",
     "output_type": "stream",
     "text": [
      "['plane', 'plane', 'plane', 'plane', 'ship', 'plane', 'plane', 'plane', 'plane', 'plane', 'plane', 'plane', 'plane', 'plane', 'plane', 'plane', 'plane', 'plane', 'plane', 'plane', 'plane', 'plane', 'plane', 'plane', 'plane', 'plane', 'plane', 'plane', 'plane', 'plane', 'plane', 'plane', 'plane', 'plane', 'plane', 'plane', 'plane', 'plane', 'plane', 'plane', 'plane', 'plane', 'plane', 'plane', 'plane', 'plane', 'plane', 'plane', 'plane', 'plane', 'plane', 'plane', 'plane', 'plane', 'plane', 'plane', 'plane', 'plane', 'plane', 'plane', 'plane', 'plane', 'plane', 'plane', 'plane', 'plane', 'plane', 'plane', 'plane', 'plane', 'plane', 'plane', 'plane', 'plane', 'plane', 'plane', 'plane', 'plane', 'plane', 'plane', 'plane', 'plane', 'plane', 'car', 'plane', 'plane', 'plane', 'plane', 'plane', 'plane', 'plane', 'plane', 'plane', 'plane', 'plane', 'plane', 'plane', 'plane', 'plane', 'plane', 'plane', 'plane', 'plane', 'plane', 'plane', 'plane', 'plane', 'plane', 'plane', 'plane', 'plane', 'plane', 'plane', 'plane', 'plane', 'plane', 'plane', 'plane', 'plane', 'plane', 'plane', 'plane', 'plane', 'plane', 'plane', 'plane', 'plane', 'plane', 'plane', 'plane', 'plane', 'plane', 'plane', 'plane', 'plane', 'plane', 'plane', 'plane', 'plane', 'plane', 'plane', 'plane', 'truck', 'plane', 'plane', 'plane', 'plane', 'plane', 'plane', 'plane', 'plane', 'plane', 'plane', 'plane', 'plane', 'plane', 'plane', 'plane', 'plane', 'plane', 'plane', 'plane', 'plane', 'plane', 'plane', 'plane', 'plane', 'plane', 'plane', 'plane', 'plane', 'plane', 'plane', 'plane', 'plane', 'plane', 'plane', 'plane', 'plane', 'plane', 'plane', 'plane', 'plane', 'plane', 'plane', 'truck', 'plane', 'plane', 'plane', 'plane', 'horse', 'plane', 'plane', 'plane', 'plane', 'plane', 'plane', 'plane', 'plane', 'plane', 'plane', 'plane', 'plane', 'plane', 'plane', 'plane', 'plane', 'plane', 'plane', 'plane', 'plane', 'plane', 'plane', 'plane', 'plane', 'plane', 'plane', 'plane', 'plane', 'plane', 'plane', 'car', 'plane', 'plane', 'plane', 'plane', 'plane', 'plane', 'plane', 'plane', 'plane', 'plane', 'plane', 'plane', 'plane', 'plane', 'plane', 'plane', 'plane', 'plane', 'plane', 'plane', 'plane', 'plane', 'plane', 'plane', 'plane', 'plane', 'plane', 'plane', 'plane', 'plane', 'plane', 'plane', 'plane', 'plane', 'plane', 'plane', 'plane', 'plane', 'plane', 'plane', 'plane', 'plane', 'plane', 'plane', 'plane', 'plane', 'plane', 'plane', 'plane', 'plane', 'plane', 'ship', 'plane', 'plane', 'plane', 'plane', 'plane', 'plane', 'plane', 'plane', 'plane', 'plane', 'plane', 'plane', 'plane', 'plane', 'plane', 'plane', 'plane', 'plane', 'plane', 'plane', 'plane', 'plane', 'plane', 'ship', 'plane', 'plane', 'plane', 'plane', 'plane', 'plane', 'plane', 'plane', 'plane', 'plane', 'plane', 'plane', 'plane', 'plane', 'plane', 'plane', 'plane', 'plane', 'plane', 'plane', 'plane', 'plane', 'plane', 'plane', 'plane', 'plane', 'plane', 'plane', 'plane', 'plane', 'plane', 'plane', 'plane', 'plane', 'plane', 'plane', 'plane', 'plane', 'plane', 'plane', 'plane', 'plane', 'plane', 'car', 'plane', 'plane', 'plane', 'plane', 'plane', 'plane', 'plane', 'plane', 'plane', 'plane', 'plane', 'plane', 'plane', 'plane', 'plane', 'ship', 'plane', 'plane', 'plane', 'plane', 'plane', 'plane', 'plane', 'plane', 'plane', 'plane', 'plane', 'plane', 'plane', 'plane', 'plane', 'plane', 'plane', 'plane', 'plane', 'plane', 'plane', 'plane', 'plane', 'plane', 'plane', 'plane', 'plane', 'plane', 'plane', 'plane', 'plane', 'plane', 'plane', 'plane', 'plane', 'plane', 'plane', 'plane', 'plane', 'plane', 'plane', 'plane', 'plane', 'plane', 'plane', 'plane', 'plane', 'plane', 'plane', 'plane', 'plane', 'plane', 'plane', 'plane', 'plane', 'plane', 'plane', 'plane', 'plane', 'plane', 'plane', 'plane', 'plane', 'plane', 'plane', 'plane', 'plane', 'plane', 'plane', 'plane', 'plane', 'plane', 'plane', 'plane', 'plane', 'plane', 'plane', 'plane', 'plane', 'plane', 'plane', 'plane', 'plane', 'plane', 'plane', 'plane', 'plane', 'plane', 'plane', 'plane', 'plane', 'plane', 'plane', 'plane', 'plane', 'plane', 'plane', 'plane', 'plane', 'plane', 'plane', 'plane', 'plane', 'plane', 'plane', 'plane', 'plane', 'plane', 'plane', 'plane', 'plane', 'plane', 'plane', 'plane', 'plane', 'plane', 'plane', 'plane', 'plane', 'plane', 'plane', 'plane', 'plane', 'plane', 'plane', 'plane', 'plane', 'plane', 'plane', 'plane', 'plane', 'plane', 'plane', 'plane', 'plane', 'plane', 'plane', 'plane', 'ship', 'plane', 'plane', 'plane', 'plane', 'plane', 'plane', 'plane', 'plane', 'plane', 'plane', 'plane', 'plane', 'plane', 'plane', 'plane', 'plane', 'plane', 'plane', 'plane', 'plane', 'plane', 'plane', 'plane', 'plane', 'plane', 'plane', 'plane', 'plane', 'plane', 'plane', 'plane', 'plane', 'plane', 'plane', 'plane', 'plane', 'plane', 'plane', 'plane', 'plane', 'plane', 'plane', 'plane', 'plane', 'plane', 'plane', 'plane', 'plane', 'plane', 'plane', 'plane', 'plane', 'plane', 'plane', 'plane', 'plane', 'plane', 'plane', 'plane', 'plane', 'plane', 'plane', 'plane', 'plane', 'ship', 'plane', 'plane', 'plane', 'plane', 'plane', 'plane', 'plane', 'plane', 'plane', 'plane', 'plane', 'plane', 'plane', 'plane', 'plane', 'plane', 'plane', 'plane', 'plane', 'plane', 'plane', 'plane', 'plane', 'plane', 'plane', 'plane', 'plane', 'plane', 'plane', 'plane', 'plane', 'plane', 'plane', 'plane', 'plane', 'plane', 'plane', 'plane', 'plane', 'plane', 'plane', 'plane', 'plane', 'plane', 'plane', 'plane', 'plane', 'plane', 'plane', 'plane', 'plane', 'plane', 'plane', 'plane', 'plane', 'plane', 'plane', 'plane', 'plane', 'plane', 'plane', 'ship', 'plane', 'ship', 'plane', 'plane', 'plane', 'plane', 'plane', 'plane', 'plane', 'plane', 'plane', 'plane', 'plane', 'plane', 'plane', 'plane', 'plane', 'plane', 'plane', 'plane', 'plane', 'plane', 'plane', 'plane', 'plane', 'plane', 'plane', 'plane', 'plane', 'plane', 'plane', 'plane', 'plane', 'plane', 'plane', 'plane', 'plane', 'plane', 'plane', 'plane', 'plane', 'plane', 'plane', 'plane', 'plane', 'plane', 'plane', 'plane', 'plane', 'plane', 'plane', 'plane', 'plane', 'plane', 'plane', 'plane', 'plane', 'plane', 'plane', 'plane', 'plane', 'ship', 'plane', 'plane', 'plane', 'plane', 'plane', 'plane', 'plane', 'plane', 'plane', 'plane', 'plane', 'plane', 'plane', 'plane', 'plane', 'plane', 'plane', 'plane', 'plane', 'plane', 'plane', 'plane', 'plane', 'plane', 'plane', 'plane', 'plane', 'plane', 'plane', 'plane', 'plane', 'plane', 'plane', 'plane', 'plane', 'plane', 'plane', 'plane', 'plane', 'plane', 'plane', 'plane', 'plane', 'plane', 'plane', 'plane', 'plane', 'plane', 'plane', 'plane', 'plane', 'plane', 'plane', 'plane', 'plane', 'plane', 'plane', 'plane', 'plane', 'plane', 'plane', 'ship', 'plane', 'plane', 'plane', 'plane', 'plane', 'plane', 'plane', 'plane', 'plane', 'plane', 'plane', 'plane', 'plane', 'plane', 'ship', 'plane', 'plane', 'plane', 'plane', 'plane', 'plane', 'plane', 'plane', 'plane', 'plane', 'plane', 'plane', 'plane', 'plane', 'plane', 'plane', 'plane', 'plane', 'plane', 'plane', 'plane', 'plane', 'plane', 'plane', 'plane', 'plane', 'plane', 'plane', 'plane', 'plane', 'plane', 'ship', 'plane', 'plane', 'plane', 'plane', 'plane', 'plane', 'plane', 'plane', 'plane', 'plane', 'plane', 'plane', 'plane', 'plane', 'plane', 'ship', 'plane', 'plane', 'plane', 'plane', 'plane', 'plane', 'plane', 'plane', 'plane', 'plane', 'plane', 'plane', 'plane', 'plane', 'plane', 'plane', 'plane', 'plane', 'plane', 'plane', 'plane', 'plane', 'plane', 'plane', 'plane', 'plane', 'plane', 'plane', 'plane', 'plane', 'plane', 'plane', 'plane', 'plane', 'plane', 'plane', 'plane', 'plane', 'plane', 'plane', 'plane', 'plane', 'plane', 'car', 'plane', 'plane', 'plane', 'plane', 'plane', 'plane', 'plane', 'plane', 'plane', 'plane', 'plane', 'plane', 'plane', 'plane', 'plane', 'plane', 'plane', 'plane', 'plane', 'plane', 'plane', 'plane', 'plane', 'plane', 'plane', 'plane', 'plane', 'plane', 'plane', 'plane', 'plane', 'plane', 'plane', 'plane', 'plane', 'plane', 'plane', 'plane', 'plane', 'plane', 'plane', 'plane', 'plane', 'plane', 'plane', 'plane', 'plane', 'plane', 'plane', 'plane', 'plane', 'plane', 'plane', 'plane', 'plane', 'plane', 'plane', 'plane', 'plane', 'plane', 'plane', 'plane', 'plane', 'plane', 'plane', 'plane', 'plane', 'plane', 'plane', 'plane', 'plane', 'plane', 'plane', 'plane', 'plane', 'plane', 'plane', 'plane', 'plane', 'plane', 'plane', 'plane', 'plane', 'plane', 'plane', 'plane', 'plane', 'plane', 'plane', 'plane', 'plane', 'plane', 'plane', 'plane', 'plane', 'plane', 'plane', 'plane', 'plane', 'plane', 'plane', 'plane', 'plane', 'plane', 'plane', 'plane', 'plane', 'plane', 'plane', 'plane', 'plane', 'plane', 'plane', 'plane', 'plane', 'plane', 'plane', 'plane', 'plane', 'plane', 'plane', 'plane', 'plane', 'plane', 'plane', 'plane', 'plane', 'plane', 'plane', 'plane', 'plane', 'plane', 'plane', 'plane', 'plane', 'plane', 'plane', 'plane', 'plane', 'plane', 'plane', 'plane', 'plane', 'plane', 'plane', 'plane', 'plane', 'plane', 'plane', 'plane', 'plane', 'plane', 'plane', 'plane', 'plane', 'plane', 'plane', 'plane', 'plane', 'plane', 'plane', 'plane', 'plane', 'plane', 'plane', 'plane', 'plane', 'plane', 'ship', 'plane', 'plane', 'plane', 'plane', 'plane', 'plane', 'plane', 'plane', 'plane', 'plane', 'plane', 'plane', 'plane', 'plane', 'plane', 'plane', 'plane', 'plane', 'ship', 'plane', 'plane', 'plane', 'plane', 'plane', 'plane', 'plane', 'plane', 'plane', 'plane', 'plane', 'plane', 'plane', 'plane', 'plane', 'plane', 'plane', 'plane', 'plane', 'plane', 'plane', 'plane', 'plane', 'plane', 'plane', 'plane', 'plane', 'plane', 'plane', 'plane', 'plane', 'plane', 'plane', 'plane', 'plane', 'plane', 'ship', 'plane', 'plane', 'plane', 'plane', 'plane', 'plane', 'plane', 'plane', 'plane', 'plane', 'plane', 'plane', 'plane', 'plane', 'plane', 'plane', 'plane', 'plane', 'plane', 'plane', 'plane', 'plane', 'plane', 'plane', 'plane', 'plane', 'plane', 'plane', 'plane', 'plane', 'plane', 'plane', 'plane', 'plane', 'plane', 'plane', 'plane', 'plane', 'plane', 'plane', 'plane', 'plane', 'plane', 'plane', 'plane', 'plane', 'plane', 'plane', 'plane', 'plane', 'plane', 'plane', 'plane', 'plane', 'plane', 'plane', 'plane', 'plane', 'plane', 'plane', 'plane', 'plane', 'plane', 'plane', 'plane', 'plane', 'car', 'plane', 'plane', 'plane', 'plane', 'plane', 'plane', 'plane', 'plane', 'plane', 'plane', 'plane', 'plane', 'plane', 'plane', 'plane', 'plane', 'plane', 'plane', 'plane', 'plane', 'plane', 'plane', 'plane', 'plane', 'plane', 'plane', 'plane', 'plane', 'plane', 'plane', 'plane', 'plane', 'plane', 'plane', 'plane', 'plane', 'plane', 'plane', 'plane', 'truck', 'plane', 'plane', 'plane', 'plane', 'plane', 'plane', 'plane', 'plane', 'plane', 'plane', 'plane', 'plane', 'ship', 'plane', 'plane', 'plane', 'plane', 'plane', 'plane', 'plane', 'plane', 'plane', 'plane', 'plane', 'plane', 'plane', 'plane', 'plane', 'plane', 'plane', 'plane', 'plane', 'plane', 'plane', 'plane', 'plane', 'plane', 'plane', 'plane', 'plane', 'plane', 'plane', 'plane', 'plane', 'plane', 'plane', 'plane', 'plane', 'plane', 'plane', 'plane', 'plane', 'plane', 'plane', 'plane', 'plane', 'plane', 'plane', 'plane', 'plane', 'plane', 'ship', 'plane', 'plane', 'plane', 'plane', 'plane', 'plane', 'plane', 'plane', 'plane', 'plane', 'plane', 'plane', 'plane', 'plane', 'plane', 'plane', 'plane', 'plane', 'plane', 'plane', 'plane', 'plane', 'plane', 'plane', 'plane', 'plane', 'plane', 'plane', 'plane', 'plane', 'plane', 'plane', 'plane', 'plane', 'plane', 'plane', 'plane', 'plane', 'plane', 'car', 'plane', 'plane', 'plane', 'plane', 'plane', 'plane', 'plane', 'plane', 'plane', 'plane', 'plane', 'plane', 'plane', 'plane', 'other', 'plane', 'plane', 'plane', 'plane', 'plane', 'plane', 'plane', 'plane', 'car', 'plane', 'plane', 'plane', 'plane', 'plane', 'plane', 'plane', 'plane', 'plane', 'plane', 'plane', 'plane', 'plane', 'plane', 'plane', 'plane', 'plane', 'plane', 'plane', 'plane', 'plane', 'plane', 'plane', 'plane', 'plane', 'plane', 'plane', 'plane', 'plane', 'plane', 'plane', 'plane', 'plane', 'plane', 'plane', 'plane', 'plane', 'plane', 'plane', 'plane', 'plane', 'plane', 'plane', 'plane', 'plane', 'plane', 'plane', 'plane', 'plane', 'plane', 'plane', 'plane', 'plane', 'plane', 'plane', 'plane', 'plane', 'plane', 'plane', 'plane', 'plane', 'plane', 'plane', 'plane', 'plane', 'plane', 'plane', 'plane', 'plane', 'plane', 'plane', 'plane', 'plane', 'plane', 'plane', 'plane', 'plane', 'plane', 'plane', 'plane', 'plane', 'plane', 'plane', 'plane', 'plane', 'plane', 'plane', 'plane', 'plane', 'plane', 'plane', 'plane', 'plane', 'plane', 'plane', 'plane', 'plane', 'plane', 'plane', 'plane', 'plane', 'plane', 'plane', 'plane', 'plane', 'plane', 'plane', 'plane', 'plane', 'plane', 'plane', 'plane', 'plane', 'plane', 'plane', 'plane', 'plane', 'plane', 'plane', 'ship', 'plane', 'plane', 'plane', 'plane', 'plane', 'plane', 'plane', 'plane', 'plane', 'plane', 'plane', 'plane', 'plane', 'plane', 'plane', 'plane', 'plane', 'plane', 'plane', 'plane', 'plane', 'plane', 'plane', 'plane', 'plane', 'plane', 'ship', 'plane', 'plane', 'plane', 'ship', 'plane', 'plane', 'plane', 'plane', 'truck', 'plane', 'plane', 'plane', 'plane', 'plane', 'plane', 'plane', 'plane', 'plane', 'plane', 'plane', 'plane', 'plane', 'plane', 'plane', 'plane', 'plane', 'plane', 'plane', 'plane', 'plane', 'plane', 'plane', 'plane', 'plane', 'plane', 'plane', 'plane', 'plane', 'plane', 'plane', 'plane', 'plane', 'plane', 'plane', 'plane', 'plane', 'plane', 'plane', 'plane', 'plane', 'plane', 'plane', 'plane', 'plane', 'plane', 'plane', 'plane', 'plane', 'plane', 'plane', 'plane', 'plane', 'plane', 'plane', 'plane', 'plane', 'plane', 'plane', 'car', 'plane', 'plane', 'plane', 'plane', 'plane', 'plane', 'plane', 'plane', 'plane', 'plane', 'plane', 'plane', 'plane', 'ship', 'plane', 'plane', 'plane', 'plane', 'plane', 'plane', 'plane', 'plane', 'plane', 'plane', 'plane', 'plane', 'plane', 'plane', 'plane', 'plane', 'plane', 'plane', 'plane', 'plane', 'plane', 'plane', 'plane', 'plane', 'plane', 'plane', 'plane', 'plane', 'plane', 'plane', 'plane', 'plane', 'plane', 'plane', 'plane', 'plane', 'plane', 'plane', 'plane', 'plane', 'plane', 'plane', 'plane', 'plane', 'plane', 'plane', 'plane', 'plane', 'plane', 'plane', 'plane', 'plane', 'plane', 'plane', 'plane', 'plane', 'plane', 'plane', 'plane', 'plane', 'ship', 'ship', 'plane', 'plane', 'plane', 'plane', 'plane', 'plane', 'plane', 'plane', 'plane', 'plane', 'plane', 'plane', 'plane', 'plane', 'other', 'plane', 'plane', 'plane', 'plane', 'plane', 'plane', 'plane', 'plane', 'plane', 'plane', 'plane', 'plane', 'plane', 'plane', 'plane', 'plane', 'plane', 'plane', 'plane', 'plane', 'car', 'other', 'plane', 'plane', 'plane', 'plane', 'plane', 'plane', 'horse', 'plane', 'plane', 'plane', 'plane', 'plane', 'plane', 'plane', 'plane', 'plane', 'plane', 'plane', 'plane', 'plane', 'plane', 'plane', 'plane', 'plane', 'plane', 'plane', 'plane', 'plane', 'plane', 'plane', 'plane', 'plane', 'plane', 'plane', 'plane', 'plane', 'plane', 'plane', 'plane', 'plane', 'plane', 'plane', 'plane', 'plane', 'plane', 'plane', 'plane', 'plane', 'plane', 'plane', 'plane', 'car', 'plane', 'plane', 'plane', 'plane', 'plane', 'plane', 'plane', 'plane', 'plane', 'plane', 'plane', 'plane', 'plane', 'plane', 'plane', 'plane', 'plane', 'plane', 'other', 'plane', 'plane', 'plane', 'plane', 'plane', 'plane', 'plane', 'plane', 'plane', 'plane', 'plane', 'plane', 'plane', 'plane', 'plane', 'plane', 'plane', 'plane', 'plane', 'plane', 'plane', 'plane', 'plane', 'plane', 'plane', 'plane', 'plane', 'plane', 'plane', 'plane', 'plane', 'plane', 'plane', 'plane', 'plane', 'plane', 'plane', 'plane', 'plane', 'plane', 'plane', 'other', 'plane', 'plane', 'plane', 'plane', 'plane', 'plane', 'plane', 'plane', 'plane', 'plane', 'plane', 'plane', 'plane', 'plane', 'ship', 'plane', 'plane', 'plane', 'plane', 'plane', 'plane', 'plane', 'plane', 'plane', 'plane', 'plane', 'plane', 'plane', 'plane', 'plane', 'plane', 'ship', 'ship', 'plane', 'plane', 'plane', 'plane', 'plane', 'plane', 'plane', 'plane', 'plane', 'plane', 'plane', 'plane', 'plane', 'plane', 'plane', 'plane', 'plane', 'plane', 'plane', 'plane', 'plane', 'plane', 'plane', 'plane', 'plane', 'horse', 'plane', 'plane', 'plane', 'plane', 'plane', 'plane', 'plane', 'plane', 'plane', 'plane', 'plane', 'plane', 'plane', 'plane', 'plane', 'plane', 'plane', 'plane', 'plane', 'plane', 'plane', 'plane', 'ship', 'plane', 'plane', 'plane', 'plane', 'plane', 'plane', 'plane', 'plane', 'plane', 'plane', 'plane', 'plane', 'plane', 'plane', 'plane', 'plane', 'plane', 'plane', 'plane', 'plane', 'plane', 'plane', 'plane', 'horse', 'plane', 'plane', 'plane', 'plane', 'plane', 'plane', 'plane', 'plane', 'plane', 'plane', 'plane', 'plane', 'plane', 'plane', 'plane', 'plane', 'plane', 'plane', 'plane', 'plane', 'plane', 'plane', 'plane', 'plane', 'plane', 'plane', 'plane', 'plane', 'car', 'plane', 'plane', 'plane', 'plane', 'plane', 'plane', 'plane', 'plane', 'plane', 'plane', 'plane', 'plane', 'plane', 'plane', 'plane', 'plane', 'plane', 'plane', 'plane', 'plane', 'plane', 'plane', 'plane', 'plane', 'ship', 'plane', 'plane', 'plane', 'plane', 'plane', 'plane', 'plane', 'plane', 'plane', 'plane', 'plane', 'plane', 'plane', 'plane', 'plane', 'plane', 'plane', 'plane', 'plane', 'plane', 'plane', 'plane', 'plane', 'plane', 'plane', 'plane', 'plane', 'plane', 'plane', 'plane', 'plane', 'plane', 'plane', 'plane', 'plane', 'plane', 'plane', 'plane', 'plane', 'plane', 'plane', 'plane', 'plane', 'plane', 'plane', 'plane', 'plane', 'plane', 'plane', 'plane', 'ship', 'plane', 'plane', 'plane', 'plane', 'plane', 'plane', 'plane', 'plane', 'plane', 'plane', 'plane', 'plane', 'plane', 'plane', 'plane', 'plane', 'plane', 'plane', 'plane', 'plane', 'plane', 'plane', 'plane', 'plane', 'plane', 'plane', 'plane', 'plane', 'plane', 'plane', 'plane', 'plane', 'plane', 'plane', 'plane', 'plane', 'plane', 'plane', 'plane', 'plane', 'plane', 'plane', 'plane', 'plane', 'plane', 'plane', 'plane', 'plane', 'plane', 'plane', 'plane', 'plane', 'plane', 'plane', 'plane', 'plane', 'plane', 'plane', 'plane', 'plane', 'plane', 'plane', 'plane', 'plane', 'plane', 'plane', 'plane', 'plane', 'plane', 'plane', 'plane', 'plane', 'plane', 'plane', 'plane', 'plane', 'plane', 'plane', 'plane', 'plane', 'plane', 'plane', 'plane', 'plane', 'plane', 'plane', 'plane', 'plane', 'plane', 'plane', 'plane', 'plane', 'plane', 'plane', 'plane', 'plane', 'plane', 'plane', 'plane', 'plane', 'ship', 'other', 'plane', 'plane', 'plane', 'plane', 'plane', 'plane', 'plane', 'plane', 'plane', 'plane', 'plane', 'plane', 'plane', 'plane', 'plane', 'plane', 'plane', 'plane', 'plane', 'plane', 'plane', 'plane', 'truck', 'plane', 'plane', 'plane', 'plane', 'horse', 'plane', 'plane', 'plane', 'plane', 'plane', 'plane', 'plane', 'plane', 'plane', 'plane', 'plane', 'plane', 'plane', 'plane', 'plane', 'plane', 'plane', 'plane', 'plane', 'plane', 'plane', 'plane', 'plane', 'plane', 'plane', 'plane', 'plane', 'plane', 'plane', 'plane', 'plane', 'plane', 'plane', 'plane', 'plane', 'plane', 'plane', 'plane', 'plane', 'plane', 'plane', 'plane', 'plane', 'plane', 'plane', 'plane', 'plane', 'plane', 'ship', 'plane', 'plane', 'plane', 'plane', 'plane', 'plane', 'truck', 'plane', 'plane', 'plane', 'plane', 'plane', 'plane', 'plane', 'plane', 'plane', 'plane', 'plane', 'plane', 'plane', 'plane', 'plane', 'plane', 'ship', 'plane', 'plane', 'plane', 'plane', 'plane', 'plane', 'plane', 'plane', 'plane', 'plane', 'plane', 'plane', 'plane', 'plane', 'ship', 'plane', 'plane', 'plane', 'plane', 'plane', 'plane', 'plane', 'plane', 'plane', 'plane', 'plane', 'plane', 'plane', 'plane', 'plane', 'plane', 'plane', 'plane', 'plane', 'plane', 'plane', 'plane', 'plane', 'plane', 'plane', 'plane', 'plane', 'plane', 'plane', 'plane', 'plane', 'plane', 'plane', 'plane', 'plane', 'plane', 'plane', 'plane', 'plane', 'plane', 'plane', 'plane', 'plane', 'plane', 'plane', 'plane', 'plane', 'plane', 'plane', 'plane', 'plane', 'plane', 'plane', 'plane', 'plane', 'plane', 'plane', 'ship', 'plane', 'plane', 'plane', 'plane', 'plane', 'plane', 'plane', 'plane', 'plane', 'plane', 'plane', 'plane', 'plane', 'plane', 'plane', 'plane', 'plane', 'plane', 'plane', 'plane', 'plane', 'plane', 'plane', 'plane', 'plane', 'plane', 'plane', 'plane', 'plane', 'plane', 'plane', 'plane', 'plane', 'plane', 'plane', 'plane', 'plane', 'plane', 'plane', 'plane', 'plane', 'plane', 'plane', 'plane', 'plane', 'plane', 'plane', 'plane', 'plane', 'plane', 'plane', 'plane', 'plane', 'plane', 'ship', 'plane', 'plane', 'plane', 'plane', 'plane', 'plane', 'truck', 'plane', 'plane', 'plane', 'plane', 'plane', 'plane', 'truck', 'plane', 'plane', 'plane', 'plane', 'plane', 'plane', 'plane', 'plane', 'plane', 'plane', 'plane', 'plane', 'plane', 'plane', 'plane', 'plane', 'plane', 'plane', 'plane', 'plane', 'plane', 'plane', 'plane', 'plane', 'plane', 'plane', 'plane', 'plane', 'plane', 'plane', 'plane', 'plane', 'plane', 'plane', 'plane', 'plane', 'plane', 'plane', 'plane', 'plane', 'plane', 'plane', 'plane', 'plane', 'plane', 'plane', 'plane', 'plane', 'plane', 'plane', 'plane', 'plane', 'plane', 'plane', 'plane', 'plane', 'plane', 'plane', 'plane', 'plane', 'plane', 'plane', 'plane', 'plane', 'plane', 'plane', 'plane', 'plane', 'plane', 'plane', 'plane', 'plane', 'plane', 'plane', 'ship', 'plane', 'plane', 'plane', 'plane', 'plane', 'plane', 'plane', 'plane', 'plane', 'plane', 'plane', 'plane', 'plane', 'plane', 'plane', 'plane', 'plane', 'plane', 'plane', 'ship', 'plane', 'plane', 'plane', 'plane', 'plane', 'plane', 'plane', 'plane', 'plane', 'plane', 'plane', 'plane', 'plane', 'plane', 'plane', 'plane', 'plane', 'plane', 'plane', 'plane', 'plane', 'plane', 'plane', 'ship', 'plane', 'plane', 'plane', 'plane', 'plane', 'plane', 'plane', 'plane', 'plane', 'plane', 'plane', 'plane', 'plane', 'plane', 'plane', 'plane', 'plane', 'plane', 'plane', 'plane', 'plane', 'plane', 'plane', 'plane', 'plane', 'plane', 'plane', 'plane', 'plane', 'plane', 'plane', 'plane', 'plane', 'plane', 'plane', 'plane', 'plane', 'plane', 'plane', 'plane', 'plane', 'plane', 'plane', 'plane', 'plane', 'plane', 'plane', 'plane', 'plane', 'plane', 'plane', 'plane', 'plane', 'plane', 'plane', 'plane', 'plane', 'plane', 'plane', 'plane', 'plane', 'plane', 'plane', 'plane', 'plane', 'plane', 'plane', 'plane', 'plane', 'plane', 'ship', 'ship', 'ship', 'ship', 'ship', 'ship', 'ship', 'ship', 'ship', 'ship', 'ship', 'ship', 'ship', 'ship', 'ship', 'ship', 'ship', 'ship', 'ship', 'ship', 'ship', 'ship', 'ship', 'ship', 'ship', 'ship', 'ship', 'ship', 'ship', 'ship', 'ship', 'ship', 'car', 'ship', 'ship', 'ship', 'ship', 'ship', 'ship', 'ship', 'ship', 'ship', 'ship', 'ship', 'ship', 'ship', 'ship', 'ship', 'ship', 'plane', 'ship', 'ship', 'ship', 'ship', 'ship', 'ship', 'ship', 'ship', 'ship', 'ship', 'ship', 'ship', 'ship', 'ship', 'ship', 'ship', 'ship', 'ship', 'ship', 'ship', 'ship', 'ship', 'ship', 'ship', 'ship', 'ship', 'ship', 'ship', 'ship', 'ship', 'ship', 'ship', 'ship', 'ship', 'ship', 'ship', 'ship', 'ship', 'ship', 'ship', 'ship', 'ship', 'ship', 'plane', 'ship', 'ship', 'ship', 'ship', 'ship', 'ship', 'ship', 'ship', 'ship', 'ship', 'ship', 'ship', 'ship', 'ship', 'ship', 'ship', 'ship', 'ship', 'ship', 'ship', 'ship', 'ship', 'ship', 'ship', 'ship', 'ship', 'ship', 'ship', 'ship', 'ship', 'ship', 'truck', 'ship', 'ship', 'ship', 'ship', 'ship', 'ship', 'ship', 'ship', 'ship', 'ship', 'ship', 'ship', 'ship', 'ship', 'ship', 'ship', 'ship', 'ship', 'ship', 'truck', 'ship', 'ship', 'ship', 'ship', 'ship', 'ship', 'ship', 'ship', 'ship', 'ship', 'ship', 'ship', 'ship', 'ship', 'ship', 'ship', 'ship', 'ship', 'ship', 'ship', 'ship', 'ship', 'ship', 'ship', 'ship', 'ship', 'ship', 'ship', 'ship', 'ship', 'ship', 'ship', 'ship', 'ship', 'ship', 'ship', 'ship', 'ship', 'ship', 'ship', 'ship', 'ship', 'ship', 'ship', 'ship', 'ship', 'ship', 'ship', 'ship', 'ship', 'ship', 'ship', 'ship', 'ship', 'ship', 'ship', 'ship', 'ship', 'ship', 'ship', 'ship', 'ship', 'ship', 'ship', 'ship', 'ship', 'ship', 'ship', 'ship', 'ship', 'ship', 'ship', 'ship', 'ship', 'ship', 'ship', 'ship', 'ship', 'ship', 'ship', 'ship', 'ship', 'ship', 'ship', 'ship', 'ship', 'ship', 'ship', 'ship', 'ship', 'ship', 'ship', 'ship', 'ship', 'ship', 'ship', 'ship', 'ship', 'ship', 'ship', 'ship', 'ship', 'ship', 'ship', 'ship', 'ship', 'ship', 'ship', 'ship', 'ship', 'ship', 'ship', 'ship', 'ship', 'ship', 'ship', 'ship', 'ship', 'ship', 'ship', 'ship', 'ship', 'ship', 'ship', 'ship', 'ship', 'ship', 'ship', 'ship', 'ship', 'ship', 'ship', 'ship', 'ship', 'ship', 'ship', 'ship', 'ship', 'ship', 'ship', 'ship', 'ship', 'ship', 'ship', 'ship', 'ship', 'ship', 'ship', 'ship', 'ship', 'ship', 'ship', 'ship', 'ship', 'ship', 'ship', 'ship', 'ship', 'ship', 'ship', 'ship', 'ship', 'ship', 'ship', 'ship', 'ship', 'ship', 'ship', 'ship', 'ship', 'ship', 'ship', 'ship', 'ship', 'ship', 'ship', 'ship', 'ship', 'plane', 'ship', 'ship', 'ship', 'ship', 'ship', 'ship', 'ship', 'ship', 'ship', 'ship', 'ship', 'ship', 'ship', 'ship', 'ship', 'ship', 'ship', 'ship', 'ship', 'ship', 'ship', 'ship', 'ship', 'ship', 'ship', 'ship', 'ship', 'ship', 'plane', 'ship', 'ship', 'ship', 'ship', 'ship', 'ship', 'ship', 'ship', 'ship', 'ship', 'ship', 'ship', 'ship', 'ship', 'ship', 'ship', 'ship', 'ship', 'ship', 'ship', 'ship', 'ship', 'ship', 'ship', 'ship', 'ship', 'ship', 'ship', 'ship', 'ship', 'ship', 'ship', 'ship', 'ship', 'ship', 'ship', 'ship', 'ship', 'ship', 'ship', 'ship', 'ship', 'ship', 'ship', 'ship', 'ship', 'ship', 'ship', 'ship', 'ship', 'ship', 'ship', 'ship', 'ship', 'ship', 'ship', 'ship', 'ship', 'ship', 'ship', 'ship', 'ship', 'ship', 'ship', 'ship', 'ship', 'ship', 'ship', 'ship', 'ship', 'ship', 'ship', 'ship', 'ship', 'ship', 'ship', 'ship', 'ship', 'ship', 'ship', 'ship', 'ship', 'ship', 'ship', 'ship', 'ship', 'ship', 'ship', 'ship', 'ship', 'ship', 'ship', 'ship', 'ship', 'ship', 'ship', 'ship', 'ship', 'ship', 'ship', 'ship', 'ship', 'ship', 'ship', 'ship', 'ship', 'ship', 'ship', 'ship', 'ship', 'ship', 'ship', 'ship', 'ship', 'ship', 'ship', 'ship', 'plane', 'ship', 'ship', 'ship', 'ship', 'ship', 'ship', 'ship', 'ship', 'ship', 'ship', 'ship', 'ship', 'ship', 'ship', 'ship', 'ship', 'ship', 'ship', 'ship', 'ship', 'ship', 'ship', 'ship', 'ship', 'ship', 'ship', 'ship', 'ship', 'ship', 'ship', 'ship', 'ship', 'ship', 'ship', 'ship', 'ship', 'ship', 'ship', 'ship', 'ship', 'ship', 'ship', 'ship', 'ship', 'ship', 'ship', 'ship', 'ship', 'ship', 'ship', 'ship', 'ship', 'ship', 'ship', 'ship', 'ship', 'ship', 'ship', 'ship', 'ship', 'ship', 'ship', 'ship', 'ship', 'ship', 'ship', 'ship', 'ship', 'ship', 'ship', 'ship', 'ship', 'ship', 'ship', 'ship', 'ship', 'ship', 'ship', 'car', 'ship', 'ship', 'ship', 'ship', 'ship', 'ship', 'ship', 'ship', 'ship', 'ship', 'ship', 'ship', 'ship', 'ship', 'ship', 'ship', 'ship', 'ship', 'ship', 'ship', 'ship', 'ship', 'ship', 'ship', 'ship', 'ship', 'ship', 'ship', 'ship', 'ship', 'ship', 'ship', 'ship', 'ship', 'ship', 'ship', 'ship', 'ship', 'ship', 'ship', 'ship', 'ship', 'ship', 'plane', 'ship', 'ship', 'ship', 'ship', 'ship', 'ship', 'ship', 'ship', 'ship', 'ship', 'ship', 'ship', 'ship', 'ship', 'ship', 'ship', 'ship', 'ship', 'ship', 'ship', 'ship', 'ship', 'ship', 'ship', 'ship', 'ship', 'ship', 'ship', 'ship', 'ship', 'ship', 'ship', 'ship', 'ship', 'car', 'ship', 'ship', 'ship', 'plane', 'ship', 'ship', 'ship', 'ship', 'ship', 'ship', 'ship', 'ship', 'ship', 'ship', 'ship', 'ship', 'ship', 'ship', 'ship', 'ship', 'ship', 'ship', 'ship', 'ship', 'plane', 'ship', 'ship', 'ship', 'ship', 'ship', 'ship', 'ship', 'ship', 'ship', 'ship', 'ship', 'ship', 'ship', 'ship', 'ship', 'ship', 'ship', 'ship', 'ship', 'ship', 'ship', 'ship', 'ship', 'ship', 'ship', 'ship', 'ship', 'ship', 'ship', 'ship', 'ship', 'ship', 'ship', 'ship', 'ship', 'ship', 'ship', 'ship', 'ship', 'ship', 'ship', 'ship', 'ship', 'ship', 'ship', 'ship', 'ship', 'ship', 'ship', 'ship', 'ship', 'ship', 'ship', 'ship', 'ship', 'ship', 'ship', 'ship', 'ship', 'ship', 'ship', 'ship', 'ship', 'ship', 'ship', 'ship', 'ship', 'ship', 'ship', 'ship', 'ship', 'ship', 'ship', 'ship', 'ship', 'ship', 'ship', 'ship', 'ship', 'ship', 'ship', 'ship', 'ship', 'ship', 'ship', 'ship', 'ship', 'ship', 'ship', 'ship', 'ship', 'ship', 'ship', 'ship', 'ship', 'ship', 'ship', 'ship', 'ship', 'ship', 'ship', 'ship', 'ship', 'ship', 'ship', 'ship', 'ship', 'ship', 'ship', 'ship', 'ship', 'ship', 'ship', 'ship', 'ship', 'ship', 'ship', 'ship', 'ship', 'ship', 'ship', 'ship', 'ship', 'ship', 'ship', 'ship', 'ship', 'ship', 'ship', 'ship', 'ship', 'ship', 'ship', 'ship', 'ship', 'ship', 'ship', 'ship', 'ship', 'ship', 'ship', 'ship', 'ship', 'ship', 'ship', 'ship', 'ship', 'ship', 'ship', 'ship', 'ship', 'ship', 'ship', 'ship', 'ship', 'ship', 'ship', 'ship', 'ship', 'ship', 'ship', 'ship', 'ship', 'ship', 'ship', 'ship', 'ship', 'ship', 'ship', 'ship', 'ship', 'ship', 'ship', 'ship', 'ship', 'ship', 'ship', 'ship', 'ship', 'ship', 'ship', 'ship', 'ship', 'ship', 'ship', 'ship', 'ship', 'ship', 'ship', 'ship', 'ship', 'ship', 'ship', 'ship', 'ship', 'ship', 'ship', 'ship', 'ship', 'ship', 'ship', 'ship', 'ship', 'ship', 'ship', 'ship', 'ship', 'ship', 'ship', 'ship', 'ship', 'ship', 'ship', 'ship', 'ship', 'ship', 'ship', 'ship', 'ship', 'ship', 'ship', 'ship', 'ship', 'ship', 'ship', 'ship', 'ship', 'ship', 'ship', 'ship', 'ship', 'ship', 'ship', 'ship', 'ship', 'ship', 'ship', 'ship', 'ship', 'ship', 'ship', 'ship', 'ship', 'ship', 'ship', 'ship', 'ship', 'ship', 'ship', 'ship', 'ship', 'ship', 'ship', 'ship', 'ship', 'ship', 'ship', 'ship', 'ship', 'ship', 'ship', 'ship', 'ship', 'ship', 'ship', 'ship', 'ship', 'ship', 'ship', 'ship', 'ship', 'ship', 'ship', 'ship', 'ship', 'ship', 'car', 'ship', 'ship', 'ship', 'ship', 'ship', 'ship', 'ship', 'ship', 'ship', 'ship', 'ship', 'ship', 'ship', 'plane', 'ship', 'ship', 'ship', 'ship', 'ship', 'ship', 'ship', 'ship', 'ship', 'ship', 'ship', 'ship', 'ship', 'ship', 'ship', 'ship', 'ship', 'ship', 'ship', 'ship', 'ship', 'ship', 'ship', 'ship', 'ship', 'ship', 'ship', 'ship', 'ship', 'ship', 'ship', 'car', 'ship', 'ship', 'ship', 'ship', 'ship', 'ship', 'ship', 'ship', 'ship', 'ship', 'ship', 'ship', 'ship', 'ship', 'ship', 'ship', 'ship', 'ship', 'ship', 'ship', 'ship', 'ship', 'ship', 'ship', 'ship', 'ship', 'plane', 'ship', 'ship', 'ship', 'ship', 'ship', 'ship', 'ship', 'ship', 'ship', 'ship', 'ship', 'ship', 'ship', 'ship', 'ship', 'ship', 'ship', 'ship', 'ship', 'ship', 'ship', 'ship', 'ship', 'ship', 'ship', 'ship', 'ship', 'ship', 'ship', 'ship', 'ship', 'ship', 'ship', 'ship', 'ship', 'ship', 'ship', 'ship', 'ship', 'ship', 'ship', 'ship', 'ship', 'ship', 'ship', 'ship', 'ship', 'ship', 'ship', 'ship', 'ship', 'ship', 'ship', 'ship', 'ship', 'ship', 'ship', 'ship', 'ship', 'ship', 'ship', 'ship', 'ship', 'ship', 'ship', 'ship', 'ship', 'ship', 'ship', 'ship', 'ship', 'ship', 'ship', 'ship', 'ship', 'ship', 'ship', 'ship', 'ship', 'ship', 'ship', 'ship', 'ship', 'ship', 'ship', 'ship', 'ship', 'ship', 'ship', 'ship', 'ship', 'ship', 'ship', 'ship', 'ship', 'ship', 'ship', 'ship', 'ship', 'ship', 'ship', 'ship', 'ship', 'ship', 'ship', 'ship', 'ship', 'plane', 'ship', 'ship', 'ship', 'ship', 'ship', 'ship', 'ship', 'ship', 'ship', 'ship', 'ship', 'ship', 'ship', 'ship', 'ship', 'ship', 'ship', 'ship', 'ship', 'ship', 'ship', 'ship', 'ship', 'ship', 'ship', 'ship', 'ship', 'ship', 'ship', 'ship', 'ship', 'ship', 'ship', 'ship', 'ship', 'ship', 'ship', 'plane', 'ship', 'ship', 'ship', 'ship', 'ship', 'ship', 'ship', 'ship', 'ship', 'ship', 'ship', 'ship', 'ship', 'ship', 'ship', 'ship', 'ship', 'ship', 'ship', 'ship', 'ship', 'ship', 'ship', 'ship', 'ship', 'ship', 'ship', 'ship', 'ship', 'ship', 'ship', 'ship', 'ship', 'ship', 'ship', 'ship', 'ship', 'ship', 'ship', 'ship', 'ship', 'ship', 'ship', 'ship', 'ship', 'ship', 'ship', 'ship', 'ship', 'ship', 'ship', 'ship', 'ship', 'ship', 'ship', 'ship', 'ship', 'ship', 'ship', 'ship', 'ship', 'ship', 'ship', 'ship', 'ship', 'ship', 'ship', 'ship', 'ship', 'ship', 'ship', 'ship', 'ship', 'ship', 'ship', 'ship', 'ship', 'ship', 'ship', 'ship', 'ship', 'ship', 'ship', 'ship', 'ship', 'ship', 'ship', 'ship', 'ship', 'ship', 'ship', 'ship', 'ship', 'ship', 'ship', 'ship', 'ship', 'ship', 'ship', 'ship', 'ship', 'ship', 'ship', 'plane', 'ship', 'ship', 'ship', 'ship', 'ship', 'ship', 'ship', 'ship', 'ship', 'ship', 'ship', 'ship', 'ship', 'ship', 'ship', 'ship', 'ship', 'ship', 'ship', 'ship', 'ship', 'ship', 'ship', 'ship', 'ship', 'ship', 'ship', 'ship', 'ship', 'ship', 'ship', 'ship', 'ship', 'plane', 'ship', 'ship', 'ship', 'ship', 'ship', 'ship', 'ship', 'ship', 'ship', 'ship', 'ship', 'ship', 'ship', 'ship', 'ship', 'ship', 'ship', 'ship', 'ship', 'ship', 'ship', 'ship', 'ship', 'ship', 'ship', 'ship', 'ship', 'ship', 'ship', 'ship', 'ship', 'ship', 'ship', 'ship', 'ship', 'ship', 'ship', 'ship', 'ship', 'ship', 'ship', 'ship', 'ship', 'ship', 'ship', 'ship', 'ship', 'ship', 'ship', 'ship', 'ship', 'ship', 'ship', 'ship', 'ship', 'ship', 'ship', 'ship', 'ship', 'ship', 'ship', 'ship', 'ship', 'ship', 'ship', 'ship', 'ship', 'ship', 'ship', 'ship', 'ship', 'ship', 'ship', 'ship', 'ship', 'ship', 'ship', 'ship', 'ship', 'ship', 'ship', 'ship', 'ship', 'ship', 'ship', 'ship', 'ship', 'ship', 'ship', 'ship', 'ship', 'ship', 'ship', 'ship', 'ship', 'ship', 'ship', 'ship', 'ship', 'ship', 'ship', 'ship', 'ship', 'ship', 'ship', 'ship', 'ship', 'ship', 'ship', 'ship', 'ship', 'ship', 'ship', 'ship', 'ship', 'ship', 'ship', 'ship', 'ship', 'ship', 'ship', 'ship', 'ship', 'ship', 'ship', 'ship', 'ship', 'ship', 'ship', 'ship', 'ship', 'ship', 'ship', 'ship', 'ship', 'ship', 'ship', 'ship', 'ship', 'ship', 'ship', 'ship', 'ship', 'ship', 'ship', 'ship', 'ship', 'ship', 'ship', 'ship', 'ship', 'ship', 'ship', 'ship', 'ship', 'ship', 'ship', 'ship', 'ship', 'ship', 'ship', 'ship', 'ship', 'ship', 'ship', 'ship', 'ship', 'ship', 'ship', 'ship', 'ship', 'ship', 'ship', 'ship', 'ship', 'ship', 'ship', 'ship', 'ship', 'ship', 'ship', 'ship', 'ship', 'ship', 'ship', 'ship', 'ship', 'ship', 'ship', 'ship', 'ship', 'ship', 'ship', 'ship', 'ship', 'ship', 'ship', 'plane', 'ship', 'ship', 'ship', 'ship', 'ship', 'ship', 'ship', 'ship', 'ship', 'ship', 'plane', 'ship', 'ship', 'ship', 'ship', 'ship', 'ship', 'ship', 'ship', 'ship', 'ship', 'ship', 'ship', 'ship', 'ship', 'ship', 'ship', 'ship', 'ship', 'ship', 'ship', 'ship', 'ship', 'ship', 'ship', 'ship', 'ship', 'ship', 'ship', 'ship', 'ship', 'ship', 'ship', 'ship', 'ship', 'ship', 'ship', 'ship', 'ship', 'ship', 'ship', 'ship', 'ship', 'ship', 'ship', 'ship', 'ship', 'ship', 'ship', 'ship', 'ship', 'ship', 'ship', 'ship', 'ship', 'ship', 'ship', 'ship', 'ship', 'ship', 'ship', 'ship', 'ship', 'ship', 'ship', 'ship', 'ship', 'ship', 'ship', 'ship', 'ship', 'ship', 'ship', 'ship', 'ship', 'ship', 'ship', 'ship', 'ship', 'ship', 'ship', 'ship', 'ship', 'ship', 'ship', 'ship', 'ship', 'ship', 'ship', 'ship', 'ship', 'ship', 'ship', 'ship', 'ship', 'plane', 'ship', 'ship', 'ship', 'ship', 'ship', 'ship', 'ship', 'ship', 'ship', 'ship', 'ship', 'ship', 'ship', 'ship', 'ship', 'ship', 'ship', 'ship', 'ship', 'ship', 'ship', 'ship', 'ship', 'ship', 'ship', 'ship', 'ship', 'ship', 'ship', 'ship', 'ship', 'ship', 'ship', 'ship', 'ship', 'ship', 'ship', 'ship', 'ship', 'ship', 'ship', 'ship', 'ship', 'ship', 'ship', 'ship', 'ship', 'ship', 'ship', 'ship', 'ship', 'ship', 'ship', 'ship', 'ship', 'ship', 'ship', 'ship', 'ship', 'ship', 'ship', 'ship', 'ship', 'ship', 'ship', 'ship', 'ship', 'ship', 'ship', 'ship', 'ship', 'ship', 'ship', 'ship', 'ship', 'ship', 'ship', 'ship', 'ship', 'ship', 'ship', 'ship', 'ship', 'ship', 'ship', 'ship', 'ship', 'ship', 'ship', 'ship', 'ship', 'ship', 'ship', 'ship', 'ship', 'ship', 'ship', 'ship', 'ship', 'ship', 'ship', 'ship', 'ship', 'ship', 'ship', 'ship', 'ship', 'ship', 'ship', 'ship', 'ship', 'ship', 'ship', 'ship', 'ship', 'ship', 'ship', 'ship', 'ship', 'ship', 'ship', 'ship', 'ship', 'ship', 'ship', 'ship', 'ship', 'ship', 'ship', 'ship', 'ship', 'ship', 'ship', 'ship', 'ship', 'ship', 'ship', 'ship', 'ship', 'ship', 'ship', 'ship', 'ship', 'ship', 'ship', 'ship', 'ship', 'ship', 'ship', 'ship', 'ship', 'ship', 'ship', 'ship', 'ship', 'ship', 'ship', 'ship', 'ship', 'ship', 'ship', 'ship', 'ship', 'ship', 'ship', 'ship', 'ship', 'ship', 'ship', 'ship', 'ship', 'ship', 'ship', 'ship', 'ship', 'ship', 'ship', 'ship', 'ship', 'ship', 'ship', 'ship', 'ship', 'ship', 'ship', 'ship', 'ship', 'ship', 'ship', 'ship', 'ship', 'ship', 'ship', 'ship', 'ship', 'ship', 'ship', 'ship', 'ship', 'ship', 'ship', 'ship', 'ship', 'ship', 'ship', 'ship', 'ship', 'ship', 'ship', 'ship', 'ship', 'ship', 'ship', 'ship', 'ship', 'ship', 'ship', 'ship', 'ship', 'ship', 'ship', 'ship', 'ship', 'ship', 'ship', 'ship', 'ship', 'ship', 'ship', 'ship', 'ship', 'ship', 'ship', 'ship', 'ship', 'ship', 'ship', 'ship', 'ship', 'ship', 'car', 'ship', 'ship', 'ship', 'ship', 'ship', 'ship', 'ship', 'ship', 'ship', 'ship', 'ship', 'ship', 'ship', 'ship', 'ship', 'ship', 'ship', 'ship', 'ship', 'ship', 'ship', 'ship', 'ship', 'ship', 'ship', 'ship', 'ship', 'ship', 'ship', 'ship', 'ship', 'ship', 'ship', 'ship', 'ship', 'ship', 'ship', 'ship', 'ship', 'ship', 'ship', 'ship', 'ship', 'ship', 'ship', 'ship', 'ship', 'ship', 'ship', 'ship', 'ship', 'ship', 'ship', 'ship', 'ship', 'ship', 'ship', 'ship', 'ship', 'ship', 'ship', 'ship', 'ship', 'ship', 'ship', 'ship', 'ship', 'ship', 'car', 'ship', 'ship', 'ship', 'plane', 'ship', 'ship', 'ship', 'ship', 'ship', 'ship', 'ship', 'ship', 'ship', 'plane', 'ship', 'ship', 'ship', 'ship', 'ship', 'ship', 'ship', 'ship', 'ship', 'ship', 'ship', 'ship', 'ship', 'ship', 'ship', 'ship', 'ship', 'ship', 'ship', 'ship', 'ship', 'ship', 'ship', 'horse', 'ship', 'ship', 'ship', 'ship', 'ship', 'ship', 'ship', 'ship', 'ship', 'ship', 'plane', 'ship', 'ship', 'ship', 'ship', 'ship', 'ship', 'ship', 'ship', 'ship', 'ship', 'ship', 'ship', 'ship', 'ship', 'ship', 'ship', 'ship', 'ship', 'ship', 'ship', 'ship', 'ship', 'ship', 'ship', 'ship', 'ship', 'ship', 'ship', 'ship', 'ship', 'ship', 'ship', 'ship', 'ship', 'ship', 'ship', 'ship', 'ship', 'ship', 'ship', 'ship', 'ship', 'ship', 'ship', 'ship', 'ship', 'ship', 'ship', 'ship', 'ship', 'ship', 'ship', 'ship', 'ship', 'ship', 'ship', 'ship', 'ship', 'ship', 'ship', 'ship', 'ship', 'ship', 'ship', 'ship', 'ship', 'ship', 'ship', 'ship', 'ship', 'ship', 'ship', 'ship', 'ship', 'ship', 'ship', 'ship', 'ship', 'ship', 'ship', 'ship', 'ship', 'ship', 'ship', 'ship', 'ship', 'ship', 'ship', 'ship', 'ship', 'ship', 'ship', 'ship', 'ship', 'ship', 'ship', 'ship', 'ship', 'ship', 'ship', 'ship', 'ship', 'ship', 'ship', 'ship', 'ship', 'ship', 'ship', 'ship', 'ship', 'ship', 'ship', 'ship', 'ship', 'ship', 'ship', 'ship', 'ship', 'ship', 'ship', 'ship', 'ship', 'ship', 'ship', 'ship', 'car', 'ship', 'ship', 'ship', 'ship', 'ship', 'ship', 'ship', 'ship', 'ship', 'ship', 'ship', 'ship', 'ship', 'ship', 'ship', 'ship', 'ship', 'ship', 'ship', 'ship', 'ship', 'ship']\n"
     ]
    },
    {
     "name": "stderr",
     "output_type": "stream",
     "text": [
      "\n"
     ]
    }
   ],
   "source": [
    "print(final(dataset_path))"
   ]
  },
  {
   "cell_type": "code",
   "execution_count": 8,
   "id": "ab0522f3",
   "metadata": {},
   "outputs": [],
   "source": [
    "x = open('../../dataOwnerLabelInfo.json')"
   ]
  },
  {
   "cell_type": "code",
   "execution_count": 9,
   "id": "6a17b363",
   "metadata": {},
   "outputs": [],
   "source": [
    "data= json.load(x)"
   ]
  },
  {
   "cell_type": "code",
   "execution_count": 13,
   "id": "c2b63e25",
   "metadata": {},
   "outputs": [
    {
     "name": "stdout",
     "output_type": "stream",
     "text": [
      "{'A': ['trainer', 'plane, car, ship, horse, truck, other'], 'B': ['trainer', 'truck, car, other'], 'C': ['trainer', 'plane, truck, ship, other'], 'D': ['trainer', 'ship, plane'], 'E': ['trainer', 'plane, car, ship, other'], 'F': ['trainer', 'cat, dog, other'], 'G': ['trainer', 'truck, other'], 'T1': ['trainer', 'truck, car'], 'T2': ['trainer', 'plane, ship'], 'T3': ['trainer', 'cat, dog'], 'X': ['client', 'truck'], 'Y': ['client', 'truck'], 'Z': ['client', 'plane, ship'], 'T4': ['client', 'horse']}\n"
     ]
    }
   ],
   "source": [
    "model_labels=[]\n",
    "for i in data:\n",
    "    if(data[i][0]=='trainer'):\n",
    "        model_labels.append(data[i][1].split(','))"
   ]
  },
  {
   "cell_type": "code",
   "execution_count": 48,
   "id": "64bdbb27",
   "metadata": {},
   "outputs": [],
   "source": [
    "img_path = dataset_path + '/images'"
   ]
  },
  {
   "cell_type": "code",
   "execution_count": 55,
   "id": "04bd28d3",
   "metadata": {},
   "outputs": [],
   "source": [
    "from utils import seed_everything, label_enc, print_evaluation_metrics, load_data_owner_dataset, get_device\n",
    "client_dataset = load_data_owner_dataset(dataset_path, 'Z')"
   ]
  },
  {
   "cell_type": "code",
   "execution_count": 77,
   "id": "c8762645",
   "metadata": {},
   "outputs": [
    {
     "name": "stdout",
     "output_type": "stream",
     "text": [
      "                                        image  label label_name\n",
      "2500  ../../Datasets/CIFAR10/images/08359.png      8       ship\n",
      "2501  ../../Datasets/CIFAR10/images/05788.png      8       ship\n",
      "2502  ../../Datasets/CIFAR10/images/28007.png      8       ship\n",
      "2503  ../../Datasets/CIFAR10/images/20396.png      8       ship\n",
      "2504  ../../Datasets/CIFAR10/images/41241.png      8       ship\n",
      "...                                       ...    ...        ...\n",
      "4595  ../../Datasets/CIFAR10/images/49969.png      8       ship\n",
      "4596  ../../Datasets/CIFAR10/images/53038.png      8       ship\n",
      "4597  ../../Datasets/CIFAR10/images/45698.png      8       ship\n",
      "4598  ../../Datasets/CIFAR10/images/29079.png      8       ship\n",
      "4599  ../../Datasets/CIFAR10/images/40779.png      8       ship\n",
      "\n",
      "[2100 rows x 3 columns]\n"
     ]
    }
   ],
   "source": [
    "print(client_dataset.groupby('label_name').get_group('ship'))\n"
   ]
  },
  {
   "cell_type": "code",
   "execution_count": 59,
   "id": "ad5cec99",
   "metadata": {},
   "outputs": [
    {
     "data": {
      "text/plain": [
       "array(['plane', 'ship'], dtype=object)"
      ]
     },
     "execution_count": 59,
     "metadata": {},
     "output_type": "execute_result"
    }
   ],
   "source": [
    "client_dataset.label_name.unique()"
   ]
  },
  {
   "cell_type": "code",
   "execution_count": 3,
   "id": "7551446e",
   "metadata": {},
   "outputs": [],
   "source": [
    "def ensemble_model(client):        \n",
    "    dataset_path = '../../Datasets/CIFAR10'\n",
    "    #corresponding labels for each model\n",
    "    x = open('../../dataOwnerLabelInfo.json')\n",
    "    data= json.load(x)\n",
    "    model_names=[]\n",
    "    model_labels=[]\n",
    "    for i in data:\n",
    "        if(data[i][0]=='trainer'):\n",
    "            model_names.append(('model_'+i)) \n",
    "            model_labels.append(data[i][1].split(', '))\n",
    "    all_models=[]\n",
    "    for i in model_names:\n",
    "        all_models.append(loadmodel(i))\n",
    "    df = pd.DataFrame()\n",
    "    for i in range(len(all_models)):\n",
    "        name= model_names[i].split('_')[1]\n",
    "        tmp=pd.Series(predict_from_dataset(dataset_path,name,client,model_labels[i],all_models[i],'cuda'))\n",
    "        df[model_names[i]]=tmp\n",
    "    tmp = df.T\n",
    "    result=[]\n",
    "    for x in tmp.columns:\n",
    "        result.append(tmp[x].value_counts().idxmax())\n",
    "    client_dataset = load_data_owner_dataset(dataset_path, client)\n",
    "    client_dataset['prediction'] = result\n",
    "    client_dataset.to_csv(f'Client_{client}.csv')\n"
   ]
  },
  {
   "cell_type": "code",
   "execution_count": 4,
   "id": "d634771f",
   "metadata": {
    "scrolled": false
   },
   "outputs": [
    {
     "name": "stdout",
     "output_type": "stream",
     "text": [
      "<torch.utils.data.dataloader.DataLoader object at 0x000002913F14FE80> Sequential(\n",
      "  (0): BatchNorm1d(768, eps=1e-05, momentum=0.1, affine=True, track_running_stats=True)\n",
      "  (1): Linear(in_features=768, out_features=128, bias=True)\n",
      "  (2): GELU()\n",
      "  (3): Linear(in_features=128, out_features=6, bias=True)\n",
      ")\n"
     ]
    },
    {
     "name": "stderr",
     "output_type": "stream",
     "text": [
      "100%|██████████| 79/79 [01:06<00:00,  1.19it/s]\n"
     ]
    },
    {
     "name": "stdout",
     "output_type": "stream",
     "text": [
      "2500\n",
      "<torch.utils.data.dataloader.DataLoader object at 0x000002913F28AFA0> Sequential(\n",
      "  (0): BatchNorm1d(768, eps=1e-05, momentum=0.1, affine=True, track_running_stats=True)\n",
      "  (1): Linear(in_features=768, out_features=128, bias=True)\n",
      "  (2): GELU()\n",
      "  (3): Linear(in_features=128, out_features=6, bias=True)\n",
      ")\n"
     ]
    },
    {
     "name": "stderr",
     "output_type": "stream",
     "text": [
      "100%|██████████| 66/66 [00:57<00:00,  1.15it/s]\n"
     ]
    },
    {
     "name": "stdout",
     "output_type": "stream",
     "text": [
      "4600\n"
     ]
    },
    {
     "name": "stderr",
     "output_type": "stream",
     "text": [
      "C:\\Users\\haichen\\AppData\\Local\\Temp\\ipykernel_43412\\2569488414.py:18: FutureWarning: The default dtype for empty Series will be 'object' instead of 'float64' in a future version. Specify a dtype explicitly to silence this warning.\n",
      "  tmp=pd.Series(predict_from_dataset(dataset_path,name,client,model_labels[i],all_models[i],'cuda'))\n"
     ]
    },
    {
     "name": "stdout",
     "output_type": "stream",
     "text": [
      "<torch.utils.data.dataloader.DataLoader object at 0x0000029124009E20> Sequential(\n",
      "  (0): BatchNorm1d(768, eps=1e-05, momentum=0.1, affine=True, track_running_stats=True)\n",
      "  (1): Linear(in_features=768, out_features=256, bias=True)\n",
      "  (2): GELU()\n",
      "  (3): Linear(in_features=256, out_features=4, bias=True)\n",
      ")\n"
     ]
    },
    {
     "name": "stderr",
     "output_type": "stream",
     "text": [
      "100%|██████████| 79/79 [01:08<00:00,  1.16it/s]\n"
     ]
    },
    {
     "name": "stdout",
     "output_type": "stream",
     "text": [
      "2500\n",
      "<torch.utils.data.dataloader.DataLoader object at 0x000002913F291E50> Sequential(\n",
      "  (0): BatchNorm1d(768, eps=1e-05, momentum=0.1, affine=True, track_running_stats=True)\n",
      "  (1): Linear(in_features=768, out_features=256, bias=True)\n",
      "  (2): GELU()\n",
      "  (3): Linear(in_features=256, out_features=4, bias=True)\n",
      ")\n"
     ]
    },
    {
     "name": "stderr",
     "output_type": "stream",
     "text": [
      "100%|██████████| 66/66 [01:00<00:00,  1.08it/s]\n"
     ]
    },
    {
     "name": "stdout",
     "output_type": "stream",
     "text": [
      "4600\n",
      "<torch.utils.data.dataloader.DataLoader object at 0x000002913083E340> Sequential(\n",
      "  (0): BatchNorm1d(768, eps=1e-05, momentum=0.1, affine=True, track_running_stats=True)\n",
      "  (1): Linear(in_features=768, out_features=128, bias=True)\n",
      "  (2): GELU()\n",
      "  (3): Linear(in_features=128, out_features=2, bias=True)\n",
      ")\n"
     ]
    },
    {
     "name": "stderr",
     "output_type": "stream",
     "text": [
      "100%|██████████| 79/79 [01:10<00:00,  1.13it/s]\n"
     ]
    },
    {
     "name": "stdout",
     "output_type": "stream",
     "text": [
      "2500\n",
      "<torch.utils.data.dataloader.DataLoader object at 0x000002913F2A4F10> Sequential(\n",
      "  (0): BatchNorm1d(768, eps=1e-05, momentum=0.1, affine=True, track_running_stats=True)\n",
      "  (1): Linear(in_features=768, out_features=128, bias=True)\n",
      "  (2): GELU()\n",
      "  (3): Linear(in_features=128, out_features=2, bias=True)\n",
      ")\n"
     ]
    },
    {
     "name": "stderr",
     "output_type": "stream",
     "text": [
      "100%|██████████| 66/66 [00:59<00:00,  1.10it/s]\n"
     ]
    },
    {
     "name": "stdout",
     "output_type": "stream",
     "text": [
      "4600\n",
      "<torch.utils.data.dataloader.DataLoader object at 0x000002913F2856D0> Sequential(\n",
      "  (0): BatchNorm1d(768, eps=1e-05, momentum=0.1, affine=True, track_running_stats=True)\n",
      "  (1): Linear(in_features=768, out_features=128, bias=True)\n",
      "  (2): GELU()\n",
      "  (3): Linear(in_features=128, out_features=64, bias=True)\n",
      "  (4): GELU()\n",
      "  (5): Linear(in_features=64, out_features=4, bias=True)\n",
      ")\n"
     ]
    },
    {
     "name": "stderr",
     "output_type": "stream",
     "text": [
      "100%|██████████| 79/79 [01:13<00:00,  1.08it/s]\n"
     ]
    },
    {
     "name": "stdout",
     "output_type": "stream",
     "text": [
      "2500\n",
      "<torch.utils.data.dataloader.DataLoader object at 0x0000029124000910> Sequential(\n",
      "  (0): BatchNorm1d(768, eps=1e-05, momentum=0.1, affine=True, track_running_stats=True)\n",
      "  (1): Linear(in_features=768, out_features=128, bias=True)\n",
      "  (2): GELU()\n",
      "  (3): Linear(in_features=128, out_features=64, bias=True)\n",
      "  (4): GELU()\n",
      "  (5): Linear(in_features=64, out_features=4, bias=True)\n",
      ")\n"
     ]
    },
    {
     "name": "stderr",
     "output_type": "stream",
     "text": [
      "100%|██████████| 66/66 [00:56<00:00,  1.17it/s]\n"
     ]
    },
    {
     "name": "stdout",
     "output_type": "stream",
     "text": [
      "4600\n"
     ]
    },
    {
     "name": "stderr",
     "output_type": "stream",
     "text": [
      "C:\\Users\\haichen\\AppData\\Local\\Temp\\ipykernel_43412\\2569488414.py:18: FutureWarning: The default dtype for empty Series will be 'object' instead of 'float64' in a future version. Specify a dtype explicitly to silence this warning.\n",
      "  tmp=pd.Series(predict_from_dataset(dataset_path,name,client,model_labels[i],all_models[i],'cuda'))\n",
      "C:\\Users\\haichen\\AppData\\Local\\Temp\\ipykernel_43412\\2569488414.py:18: FutureWarning: The default dtype for empty Series will be 'object' instead of 'float64' in a future version. Specify a dtype explicitly to silence this warning.\n",
      "  tmp=pd.Series(predict_from_dataset(dataset_path,name,client,model_labels[i],all_models[i],'cuda'))\n",
      "C:\\Users\\haichen\\AppData\\Local\\Temp\\ipykernel_43412\\2569488414.py:18: FutureWarning: The default dtype for empty Series will be 'object' instead of 'float64' in a future version. Specify a dtype explicitly to silence this warning.\n",
      "  tmp=pd.Series(predict_from_dataset(dataset_path,name,client,model_labels[i],all_models[i],'cuda'))\n"
     ]
    },
    {
     "name": "stdout",
     "output_type": "stream",
     "text": [
      "<torch.utils.data.dataloader.DataLoader object at 0x0000029124009280> Sequential(\n",
      "  (0): BatchNorm1d(768, eps=1e-05, momentum=0.1, affine=True, track_running_stats=True)\n",
      "  (1): Linear(in_features=768, out_features=64, bias=True)\n",
      "  (2): GELU()\n",
      "  (3): Linear(in_features=64, out_features=2, bias=True)\n",
      ")\n"
     ]
    },
    {
     "name": "stderr",
     "output_type": "stream",
     "text": [
      "100%|██████████| 79/79 [01:10<00:00,  1.13it/s]\n"
     ]
    },
    {
     "name": "stdout",
     "output_type": "stream",
     "text": [
      "2500\n",
      "<torch.utils.data.dataloader.DataLoader object at 0x000002913F16C4C0> Sequential(\n",
      "  (0): BatchNorm1d(768, eps=1e-05, momentum=0.1, affine=True, track_running_stats=True)\n",
      "  (1): Linear(in_features=768, out_features=64, bias=True)\n",
      "  (2): GELU()\n",
      "  (3): Linear(in_features=64, out_features=2, bias=True)\n",
      ")\n"
     ]
    },
    {
     "name": "stderr",
     "output_type": "stream",
     "text": [
      "100%|██████████| 66/66 [00:58<00:00,  1.13it/s]\n"
     ]
    },
    {
     "name": "stdout",
     "output_type": "stream",
     "text": [
      "4600\n"
     ]
    },
    {
     "name": "stderr",
     "output_type": "stream",
     "text": [
      "C:\\Users\\haichen\\AppData\\Local\\Temp\\ipykernel_43412\\2569488414.py:18: FutureWarning: The default dtype for empty Series will be 'object' instead of 'float64' in a future version. Specify a dtype explicitly to silence this warning.\n",
      "  tmp=pd.Series(predict_from_dataset(dataset_path,name,client,model_labels[i],all_models[i],'cuda'))\n"
     ]
    }
   ],
   "source": [
    "tmp=ensemble_model('Z')"
   ]
  },
  {
   "cell_type": "code",
   "execution_count": 79,
   "id": "6d9ee08d",
   "metadata": {},
   "outputs": [],
   "source": [
    "tmp= tmp.T"
   ]
  },
  {
   "cell_type": "code",
   "execution_count": null,
   "id": "28615873",
   "metadata": {},
   "outputs": [],
   "source": []
  }
 ],
 "metadata": {
  "kernelspec": {
   "display_name": "Python 3 (ipykernel)",
   "language": "python",
   "name": "python3"
  },
  "language_info": {
   "codemirror_mode": {
    "name": "ipython",
    "version": 3
   },
   "file_extension": ".py",
   "mimetype": "text/x-python",
   "name": "python",
   "nbconvert_exporter": "python",
   "pygments_lexer": "ipython3",
   "version": "3.9.13"
  }
 },
 "nbformat": 4,
 "nbformat_minor": 5
}
