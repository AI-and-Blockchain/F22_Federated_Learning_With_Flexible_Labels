{
 "cells": [
  {
   "cell_type": "code",
   "execution_count": 30,
   "id": "bee5eb33",
   "metadata": {},
   "outputs": [],
   "source": [
    "import os\n",
    "import torch\n",
    "import random\n",
    "import numpy as np\n",
    "import jason"
   ]
  },
  {
   "cell_type": "code",
   "execution_count": 63,
   "id": "fb8fc703",
   "metadata": {},
   "outputs": [],
   "source": [
    "def loadmodel(name):\n",
    "    x = open('model_parameters/'+ name+'.json')\n",
    "    data = json.load(x)\n",
    "    model_structure = data['model_structure']\n",
    "    model_parameters_names = data['model_parameters_names']\n",
    "    model_parameters_vals = data['model_parameters_vals']\n",
    "    model_parameters_names = [f'[{name.split(\".\")[0]}].{name.split(\".\")[1]}'\n",
    "                                   for name in model_parameters_names.split('|')]\n",
    "    received_model = nn.Sequential(\n",
    "    *[eval('nn.' + layer) for layer in model_structure.split('|')]\n",
    "    )\n",
    "    for parameters_name, parameters_val in zip(model_parameters_names, model_parameters_vals):\n",
    "        exec(f'received_model{parameters_name} = nn.Parameter(torch.tensor(parameters_val))')\n",
    "    return received_model"
   ]
  },
  {
   "cell_type": "code",
   "execution_count": 65,
   "id": "6d04c147",
   "metadata": {},
   "outputs": [],
   "source": [
    "def loadmodels(name):\n",
    "    all=[]\n",
    "    for i in name:\n",
    "        all.append(loadmodel(i))\n",
    "    return all\n"
   ]
  },
  {
   "cell_type": "code",
   "execution_count": null,
   "id": "e8266282",
   "metadata": {},
   "outputs": [],
   "source": [
    "img_path = dataset_path + '/images'"
   ]
  }
 ],
 "metadata": {
  "kernelspec": {
   "display_name": "Python 3 (ipykernel)",
   "language": "python",
   "name": "python3"
  },
  "language_info": {
   "codemirror_mode": {
    "name": "ipython",
    "version": 3
   },
   "file_extension": ".py",
   "mimetype": "text/x-python",
   "name": "python",
   "nbconvert_exporter": "python",
   "pygments_lexer": "ipython3",
   "version": "3.9.13"
  }
 },
 "nbformat": 4,
 "nbformat_minor": 5
}
