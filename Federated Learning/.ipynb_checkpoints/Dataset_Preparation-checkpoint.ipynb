{
 "cells": [
  {
   "cell_type": "markdown",
   "metadata": {
    "id": "IJACqCYRXdZg"
   },
   "source": [
    "### Dataset Preparation\n",
    "This notebook loads CIFAR-10 dataset and then save as images"
   ]
  },
  {
   "cell_type": "code",
   "execution_count": null,
   "metadata": {},
   "outputs": [],
   "source": [
    "# setup\n",
    "import os\n",
    "# create dataset folder\n",
    "dataset_path = '../Datasets/CIFAR10'\n",
    "\n",
    "# create directories for CIFAR-10 images\n",
    "img_path = '../Datasets/CIFAR10/images'\n",
    "\n",
    "os.makedirs(dataset_path, exist_ok=True)\n",
    "os.makedirs(img_path, exist_ok=True)"
   ]
  },
  {
   "cell_type": "code",
   "execution_count": null,
   "metadata": {
    "id": "Ed_ir5z8VHv9"
   },
   "outputs": [],
   "source": [
    "# Load images and normalize\n",
    "# https://pytorch.org/tutorials/beginner/blitz/cifar10_tutorial.html#load-and-normalize-cifar10\n",
    "import torch\n",
    "import torchvision\n",
    "import torchvision.transforms as transforms\n",
    "\n",
    "from IPython.display import clear_output \n",
    "\n",
    "transform = transforms.Compose([\n",
    "    transforms.ToTensor(),\n",
    "    transforms.Resize(224),\n",
    "    transforms.Normalize((0.5, 0.5, 0.5), (0.5, 0.5, 0.5))\n",
    "])\n",
    "\n",
    "batch_size = 32\n",
    "train_set = torchvision.datasets.CIFAR10(root='./data', train=True, download=True, transform=transform)\n",
    "test_set = torchvision.datasets.CIFAR10(root='./data', train=False, download=True, transform=transform)\n",
    "\n",
    "train_loader = torch.utils.data.DataLoader(train_set, batch_size=batch_size, shuffle=True)\n",
    "\n",
    "classes = ('plane', 'car', 'bird', 'cat', 'deer', 'dog', 'frog', 'horse', 'ship', 'truck')\n",
    "label_map = {k: v for k, v in enumerate(classes)}\n",
    "clear_output()"
   ]
  },
  {
   "cell_type": "code",
   "execution_count": null,
   "metadata": {
    "colab": {
     "base_uri": "https://localhost:8080/",
     "height": 585
    },
    "id": "VvZpNHxRQPSc",
    "outputId": "e299795c-d318-4256-cfba-a47c4f5bd1b3"
   },
   "outputs": [],
   "source": [
    "# Random batch visualization\n",
    "import cv2\n",
    "from matplotlib import pyplot as plt\n",
    "import numpy as np\n",
    "from PIL import Image\n",
    "\n",
    "# create a sample batch\n",
    "sample_batch = next(iter(train_loader))\n",
    "sample_images, sample_labels = sample_batch\n",
    "\n",
    "sample_count = 32\n",
    "rows = sample_count // 8\n",
    "figure, ax = plt.subplots(nrows=rows, ncols=8, figsize=(20, sample_count // rows))\n",
    "\n",
    "for i, idx in enumerate(range(32)):\n",
    "    image, label = sample_images[idx], sample_labels[idx]\n",
    "    image = image / 2 + 0.5\n",
    "    ax.ravel()[i].imshow(np.transpose(image, (1, 2, 0)))\n",
    "    title = f'{label_map[sample_labels[idx].item()]}({sample_labels[idx]})'\n",
    "    ax.ravel()[i].set_title(title)\n",
    "    ax.ravel()[i].set_axis_off()\n",
    "    \n",
    "plt.tight_layout()\n",
    "plt.show()"
   ]
  },
  {
   "cell_type": "code",
   "execution_count": 4,
   "metadata": {
    "id": "ESlwiAf2fZfu"
   },
   "outputs": [],
   "source": [
    "# Get all images that have been downloaded\n",
    "import os\n",
    "images = os.listdir(img_path)\n",
    "images_ids = [int(i.split('.')[0]) for i in images]"
   ]
  },
  {
   "cell_type": "code",
   "execution_count": 5,
   "metadata": {
    "id": "aAYV-YvDV22O"
   },
   "outputs": [],
   "source": [
    "# Save the image arrays to images (.png)\n",
    "import numpy as np\n",
    "from matplotlib import pyplot as plt\n",
    "from tqdm.autonotebook import tqdm\n",
    "\n",
    "labels = []\n",
    "\n",
    "for i, (image, label) in tqdm(enumerate(train_set), total=len(train_set)):\n",
    "    labels.append(label)\n",
    "    if i+1 in images_ids: continue\n",
    "    image = image / 2 + 0.5\n",
    "    image = image.numpy().transpose(1, 2, 0)\n",
    "    plt.imsave(f'{img_path}/{i+1:05d}.png', image)\n",
    "clear_output()"
   ]
  },
  {
   "cell_type": "code",
   "execution_count": 6,
   "metadata": {
    "id": "Itf5vA2yG2Fg"
   },
   "outputs": [],
   "source": [
    "# Repeat the process for the test set\n",
    "for i, (image, label) in tqdm(enumerate(test_set), total=len(test_set)):\n",
    "    labels.append(label)\n",
    "    if i+1+len(train_set) in images_ids: continue\n",
    "    image = image / 2 + 0.5\n",
    "    image = image.numpy().transpose(1, 2, 0)\n",
    "    plt.imsave(f'{img_path}/{i+len(train_set)+1:05d}.png', image)\n",
    "clear_output()"
   ]
  },
  {
   "cell_type": "code",
   "execution_count": 7,
   "metadata": {
    "colab": {
     "base_uri": "https://localhost:8080/",
     "height": 363
    },
    "id": "1SvBfaRSOEKZ",
    "outputId": "fc524bc7-e6ba-4d67-b72a-aa86461e07bb"
   },
   "outputs": [
    {
     "data": {
      "text/html": [
       "<div>\n",
       "<style scoped>\n",
       "    .dataframe tbody tr th:only-of-type {\n",
       "        vertical-align: middle;\n",
       "    }\n",
       "\n",
       "    .dataframe tbody tr th {\n",
       "        vertical-align: top;\n",
       "    }\n",
       "\n",
       "    .dataframe thead th {\n",
       "        text-align: right;\n",
       "    }\n",
       "</style>\n",
       "<table border=\"1\" class=\"dataframe\">\n",
       "  <thead>\n",
       "    <tr style=\"text-align: right;\">\n",
       "      <th></th>\n",
       "      <th>image</th>\n",
       "      <th>label</th>\n",
       "      <th>label_name</th>\n",
       "    </tr>\n",
       "  </thead>\n",
       "  <tbody>\n",
       "    <tr>\n",
       "      <th>0</th>\n",
       "      <td>00001.png</td>\n",
       "      <td>6</td>\n",
       "      <td>frog</td>\n",
       "    </tr>\n",
       "    <tr>\n",
       "      <th>1</th>\n",
       "      <td>00002.png</td>\n",
       "      <td>9</td>\n",
       "      <td>truck</td>\n",
       "    </tr>\n",
       "    <tr>\n",
       "      <th>2</th>\n",
       "      <td>00003.png</td>\n",
       "      <td>9</td>\n",
       "      <td>truck</td>\n",
       "    </tr>\n",
       "    <tr>\n",
       "      <th>3</th>\n",
       "      <td>00004.png</td>\n",
       "      <td>4</td>\n",
       "      <td>deer</td>\n",
       "    </tr>\n",
       "    <tr>\n",
       "      <th>4</th>\n",
       "      <td>00005.png</td>\n",
       "      <td>1</td>\n",
       "      <td>car</td>\n",
       "    </tr>\n",
       "    <tr>\n",
       "      <th>5</th>\n",
       "      <td>00006.png</td>\n",
       "      <td>1</td>\n",
       "      <td>car</td>\n",
       "    </tr>\n",
       "    <tr>\n",
       "      <th>6</th>\n",
       "      <td>00007.png</td>\n",
       "      <td>2</td>\n",
       "      <td>bird</td>\n",
       "    </tr>\n",
       "    <tr>\n",
       "      <th>7</th>\n",
       "      <td>00008.png</td>\n",
       "      <td>7</td>\n",
       "      <td>horse</td>\n",
       "    </tr>\n",
       "    <tr>\n",
       "      <th>8</th>\n",
       "      <td>00009.png</td>\n",
       "      <td>8</td>\n",
       "      <td>ship</td>\n",
       "    </tr>\n",
       "    <tr>\n",
       "      <th>9</th>\n",
       "      <td>00010.png</td>\n",
       "      <td>3</td>\n",
       "      <td>cat</td>\n",
       "    </tr>\n",
       "  </tbody>\n",
       "</table>\n",
       "</div>"
      ],
      "text/plain": [
       "       image  label label_name\n",
       "0  00001.png      6       frog\n",
       "1  00002.png      9      truck\n",
       "2  00003.png      9      truck\n",
       "3  00004.png      4       deer\n",
       "4  00005.png      1        car\n",
       "5  00006.png      1        car\n",
       "6  00007.png      2       bird\n",
       "7  00008.png      7      horse\n",
       "8  00009.png      8       ship\n",
       "9  00010.png      3        cat"
      ]
     },
     "execution_count": 7,
     "metadata": {},
     "output_type": "execute_result"
    }
   ],
   "source": [
    "# create and save the data file with image filenames and the labels\n",
    "import pandas as pd\n",
    "data_df = pd.DataFrame(dict(\n",
    "    image=[f'{i+1:05d}.png' for i in range(len(train_set)+len(test_set))], \n",
    "    label=labels,\n",
    "    label_name=[label_map[label] for label in labels]\n",
    "))\n",
    "data_df.to_csv(f'{dataset_path}/data.csv', index=False)\n",
    "data_df = pd.read_csv(f'{dataset_path}/data.csv')\n",
    "data_df.head(10)"
   ]
  },
  {
   "cell_type": "code",
   "execution_count": 8,
   "metadata": {
    "colab": {
     "base_uri": "https://localhost:8080/",
     "height": 258
    },
    "id": "gzuqa-sERHQS",
    "outputId": "7417a343-d6b0-4157-da69-be92154fbb8f"
   },
   "outputs": [
    {
     "name": "stdout",
     "output_type": "stream",
     "text": [
      "[29786.png] Expected label: dog\n"
     ]
    },
    {
     "data": {
      "image/png": "[encoded data removed]",
      "text/plain": [
       "<PIL.PngImagePlugin.PngImageFile image mode=RGBA size=224x224 at 0x1B224F6A820>"
      ]
     },
     "execution_count": 8,
     "metadata": {},
     "output_type": "execute_result"
    }
   ],
   "source": [
    "# Display and test for a random image\n",
    "from PIL import Image\n",
    "random_idx = np.random.choice(data_df.index)\n",
    "print(f'[{random_idx+1:05d}.png] Expected label:', data_df.label_name[random_idx])\n",
    "Image.open(f'{img_path}/{random_idx+1:05d}.png')"
   ]
  },
  {
   "cell_type": "code",
   "execution_count": null,
   "metadata": {
    "id": "dSslwp7-UCcZ"
   },
   "outputs": [],
   "source": []
  }
 ],
 "metadata": {
  "accelerator": "GPU",
  "colab": {
   "collapsed_sections": [],
   "include_colab_link": true,
   "provenance": []
  },
  "gpuClass": "standard",
  "kernelspec": {
   "display_name": "Python 3 (ipykernel)",
   "language": "python",
   "name": "python3"
  },
  "language_info": {
   "codemirror_mode": {
    "name": "ipython",
    "version": 3
   },
   "file_extension": ".py",
   "mimetype": "text/x-python",
   "name": "python",
   "nbconvert_exporter": "python",
   "pygments_lexer": "ipython3",
   "version": "3.9.7"
  },
  "vscode": {
   "interpreter": {
    "hash": "61d78b88c669c087ea84009c87f435080b66ea52ffb4eac29e2a7f2a91dfed40"
   }
  }
 },
 "nbformat": 4,
 "nbformat_minor": 1
}
