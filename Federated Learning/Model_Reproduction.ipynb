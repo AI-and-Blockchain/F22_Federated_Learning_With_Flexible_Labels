{
 "cells": [
  {
   "cell_type": "markdown",
   "metadata": {},
   "source": [
    "## Model extraction and reproduction"
   ]
  },
  {
   "cell_type": "markdown",
   "metadata": {},
   "source": [
    "### Extract parameters from a .pt file"
   ]
  },
  {
   "cell_type": "code",
   "execution_count": 1,
   "metadata": {},
   "outputs": [],
   "source": [
    "import os\n",
    "import torch\n",
    "import random\n",
    "import numpy as np\n",
    "def seed_everything(seed=20):\n",
    "    \"\"\"set seed for all\"\"\"\n",
    "    os.environ['PYTHONHASHSEED'] = str(seed)\n",
    "    random.seed(seed)\n",
    "    np.random.seed(seed)\n",
    "    torch.manual_seed(seed)\n",
    "    torch.cuda.manual_seed(seed)\n",
    "    torch.cuda.manual_seed_all(seed)\n",
    "    torch.backends.cudnn.deterministic = True\n",
    "seed_everything()"
   ]
  },
  {
   "cell_type": "code",
   "execution_count": 2,
   "metadata": {},
   "outputs": [
    {
     "name": "stdout",
     "output_type": "stream",
     "text": [
      "Sequential(\n",
      "  (0): BatchNorm1d(768, eps=1e-05, momentum=0.1, affine=True, track_running_stats=True)\n",
      "  (1): Linear(in_features=768, out_features=128, bias=True)\n",
      "  (2): GELU()\n",
      "  (3): Linear(in_features=128, out_features=3, bias=True)\n",
      ")\n"
     ]
    }
   ],
   "source": [
    "# load the model\n",
    "import torch\n",
    "from torch import nn\n",
    "sent_model = torch.load('saved_models/A_model_1.pt', map_location='cpu')\n",
    "sent_model.eval()\n",
    "for param in sent_model.parameters():\n",
    "    param.requires_grad = False\n",
    "print(sent_model)"
   ]
  },
  {
   "cell_type": "code",
   "execution_count": 3,
   "metadata": {},
   "outputs": [
    {
     "name": "stdout",
     "output_type": "stream",
     "text": [
      "BatchNorm1d(768, eps=1e-05, momentum=0.1, affine=True, track_running_stats=True)\n",
      "Linear(in_features=768, out_features=128, bias=True)\n",
      "GELU()\n",
      "Linear(in_features=128, out_features=3, bias=True)\n"
     ]
    }
   ],
   "source": [
    "# get model structure\n",
    "sent_model_structure = '|'.join([layer_str.split('): ')[1] for layer_str in str(sent_model).split('\\n')[1:-1]])\n",
    "print('\\n'.join(sent_model_structure.split('|')))"
   ]
  },
  {
   "cell_type": "code",
   "execution_count": 4,
   "metadata": {},
   "outputs": [],
   "source": [
    "# get model parameters\n",
    "with torch.no_grad():\n",
    "    sent_model_parameters = {name:val.detach() for name, val in sent_model.named_parameters()}"
   ]
  },
  {
   "cell_type": "code",
   "execution_count": 5,
   "metadata": {},
   "outputs": [],
   "source": [
    "# Since the model uses normalization, we also need to send the mean and variance\n",
    "sent_model_parameters['0.running_mean'] = sent_model[0].running_mean\n",
    "sent_model_parameters['0.running_var'] = sent_model[0].running_var"
   ]
  },
  {
   "cell_type": "code",
   "execution_count": 6,
   "metadata": {},
   "outputs": [
    {
     "name": "stdout",
     "output_type": "stream",
     "text": [
      "0.weight  Tensor  [768]\n",
      "0.bias    Tensor  [768]\n",
      "1.weight  Tensor  [128, 768]\n",
      "1.bias    Tensor  [128]\n",
      "3.weight  Tensor  [3, 128]\n",
      "3.bias    Tensor  [3]\n",
      "0.running_mean  Tensor  [768]\n",
      "0.running_var Tensor  [768]\n"
     ]
    }
   ],
   "source": [
    "# print weight name and shape\n",
    "sent_model_parameters_names = list(sent_model_parameters.keys())\n",
    "sent_model_parameters_vals = list(sent_model_parameters.values())\n",
    "for name, val in zip(sent_model_parameters_names, sent_model_parameters_vals):\n",
    "    print(f'{name:8s}\\t{val.__class__.__name__}\\t{list(val.shape)}'.expandtabs(2))\n"
   ]
  },
  {
   "cell_type": "markdown",
   "metadata": {},
   "source": [
    "### Test Reproductivity"
   ]
  },
  {
   "cell_type": "code",
   "execution_count": 33,
   "metadata": {},
   "outputs": [
    {
     "name": "stdout",
     "output_type": "stream",
     "text": [
      "\u001b[93mWARNING:\u001b[0m CHANGE YOUR USERNAME AND PASSWORD!!! \n",
      "\n",
      "Anyone can login as an admin to your node right now because your password is still the default PySyft username and password!!!\n",
      "\n",
      "Connecting to localhost... done! \t Logging into my_network... done!\n",
      "Connecting to localhost... done! \t Logging into my_network... done!\n"
     ]
    }
   ],
   "source": [
    "# We will send 3 parameters to a client\n",
    "'''\n",
    "    sent_model_structure\n",
    "    sent_model_parameters_names\n",
    "    sent_model_parameters_vals\n",
    "''';\n",
    "\n",
    "import base\n",
    "uploader = base.login(\"info@openmined.org\", \"changethis\")\n",
    "\n",
    "reciever = base.login(\"sheldon@caltech.edu\",\"bazinga\")"
   ]
  },
  {
   "cell_type": "code",
   "execution_count": 34,
   "metadata": {},
   "outputs": [
    {
     "data": {
      "text/html": [
       "<style>\n",
       "                #myInput {\n",
       "                  background-position: 10px 12px; /* Position the search icon */\n",
       "                  background-repeat: no-repeat; /* Do not repeat the icon image */\n",
       "                  background-color: #bbb;\n",
       "                  width: 98%; /* Full-width */\n",
       "                  font-size: 14px; /* Increase font-size */\n",
       "                  padding: 12px 20px 12px 40px; /* Add some padding */\n",
       "                  border: 1px solid #ddd; /* Add a grey border */\n",
       "                  margin-bottom: 12px; /* Add some space below the input */\n",
       "                }\n",
       "\n",
       "                #myTable {\n",
       "                  border-collapse: collapse; /* Collapse borders */\n",
       "                  width: 100%; /* Full-width */\n",
       "                  border: 1px solid #ddd; /* Add a grey border */\n",
       "                  font-size: 14px; /* Increase font-size */\n",
       "                }\n",
       "\n",
       "                #myTable th, #myTable td {\n",
       "                  text-align: left; /* Left-align text */\n",
       "                  padding: 10px; /* Add padding */\n",
       "                }\n",
       "\n",
       "                #myTable tr {\n",
       "                  /* Add a bottom border to all table rows */\n",
       "                  border-bottom: 1px solid #ddd;\n",
       "                }\n",
       "\n",
       "                #myTable tr.header, #myTable tr:hover {\n",
       "                  /* Add a grey background color to the table header and on hover */\n",
       "                  background-color: #777;\n",
       "                }\n",
       "                </style>\n",
       "\n",
       "                <table id=\"myTable\" style=\"width:1000px\">\n",
       "                  <tr class=\"header\">\n",
       "                    <th style=\"width:30px\">Idx</th>\n",
       "                    <th style=\"width:20%;\">Name</th>\n",
       "                    <th style=\"width:35%;\">Description</th>\n",
       "                    <th style=\"width:20%;\">Assets</th>\n",
       "                    <th style=\"width:300px;\">Id</th>\n",
       "                  </tr>\n",
       "                \n",
       "\n",
       "          <tr>\n",
       "            <td>[0]</td>\n",
       "            <td>COVID19 Cases in 175 countries</td>\n",
       "            <td>Weekly data for an entire year</td>\n",
       "            <td>[\"Country 0\"] -> Tensor<br /><br />[\"Country 17\"] -> Tensor<br /><br />[\"Country 22\"] -> Tensor<br /><br />...<br /><br /></td>\n",
       "            <td>19f174a1-933d-44d1-9d37-b6e8c89f9f7c</td>\n",
       "          </tr>\n",
       "\n",
       "          <tr>\n",
       "            <td>[1]</td>\n",
       "            <td>model parameter</td>\n",
       "            <td>BatchNorm1d(768, eps=1e-05, momentum=0.1, affine=True, track_running_stats=True)|Linear(in_features=768, out_features=128, bias=True)|GELU()|Linear(in_features=128, out_features=3, bias=True)</td>\n",
       "            <td>[\"3.bias\"] -> Tensor<br /><br />[\"1.bias\"] -> Tensor<br /><br />[\"3.weight\"] -> Tensor<br /><br />...<br /><br /></td>\n",
       "            <td>3b722121-11f0-4830-84d7-5fc6438a8395</td>\n",
       "          </tr>\n",
       "        </table>\n",
       "\n",
       "        <script>\n",
       "        function myFunction() {\n",
       "          // Declare variables\n",
       "          var input, filter, table, tr, td, i, txtValue;\n",
       "          input = document.getElementById(\"myInput\");\n",
       "          filter = input.value.toUpperCase();\n",
       "          table = document.getElementById(\"myTable\");\n",
       "          tr = table.getElementsByTagName(\"tr\");\n",
       "\n",
       "          // Loop through all table rows, and hide those who don't match the search query\n",
       "          for (i = 0; i < tr.length; i++) {\n",
       "            name_td = tr[i].getElementsByTagName(\"td\")[1];\n",
       "            desc_td = tr[i].getElementsByTagName(\"td\")[2];\n",
       "            asset_td = tr[i].getElementsByTagName(\"td\")[3];\n",
       "            id_td = tr[i].getElementsByTagName(\"td\")[4];\n",
       "            if (name_td || desc_td || asset_td || id_td) {\n",
       "              name_txtValue = name_td.textContent || name_td.innerText;\n",
       "              desc_txtValue = desc_td.textContent || name_td.innerText;\n",
       "              asset_txtValue = asset_td.textContent || name_td.innerText;\n",
       "              id_txtValue = id_td.textContent || name_td.innerText;\n",
       "              name_bool = name_txtValue.toUpperCase().indexOf(filter) > -1;\n",
       "              desc_bool = desc_txtValue.toUpperCase().indexOf(filter) > -1;\n",
       "              asset_bool = asset_txtValue.toUpperCase().indexOf(filter) > -1;\n",
       "              id_bool = id_txtValue.toUpperCase().indexOf(filter) > -1;\n",
       "              if (name_bool || desc_bool || asset_bool || id_bool) {\n",
       "                tr[i].style.display = \"\";\n",
       "              } else {\n",
       "                tr[i].style.display = \"none\";\n",
       "              }\n",
       "            }\n",
       "          }\n",
       "        }\n",
       "        </script>"
      ],
      "text/plain": [
       "<syft.core.node.common.client_manager.dataset_api.DatasetRequestAPI at 0x2173a37cf10>"
      ]
     },
     "execution_count": 34,
     "metadata": {},
     "output_type": "execute_result"
    }
   ],
   "source": [
    "uploader.privacy_budget\n",
    "uploader.datasets\n"
   ]
  },
  {
   "cell_type": "code",
   "execution_count": 11,
   "metadata": {},
   "outputs": [
    {
     "name": "stdout",
     "output_type": "stream",
     "text": [
      "Converting PyTorch tensor to numpy tensor for internal representation...\n",
      "Tensor annotated with DP Metadata!\n",
      "You can upload this Tensor to a domain node by calling `<domain_client>.load_dataset` and passing in this tensor as an asset.\n",
      "Converting PyTorch tensor to numpy tensor for internal representation...\n",
      "Tensor annotated with DP Metadata!\n",
      "You can upload this Tensor to a domain node by calling `<domain_client>.load_dataset` and passing in this tensor as an asset.\n",
      "Converting PyTorch tensor to numpy tensor for internal representation...\n",
      "Tensor annotated with DP Metadata!\n",
      "You can upload this Tensor to a domain node by calling `<domain_client>.load_dataset` and passing in this tensor as an asset.\n",
      "Converting PyTorch tensor to numpy tensor for internal representation...\n",
      "Tensor annotated with DP Metadata!\n",
      "You can upload this Tensor to a domain node by calling `<domain_client>.load_dataset` and passing in this tensor as an asset.\n",
      "Converting PyTorch tensor to numpy tensor for internal representation...\n",
      "Tensor annotated with DP Metadata!\n",
      "You can upload this Tensor to a domain node by calling `<domain_client>.load_dataset` and passing in this tensor as an asset.\n",
      "Converting PyTorch tensor to numpy tensor for internal representation...\n",
      "Tensor annotated with DP Metadata!\n",
      "You can upload this Tensor to a domain node by calling `<domain_client>.load_dataset` and passing in this tensor as an asset.\n",
      "Converting PyTorch tensor to numpy tensor for internal representation...\n",
      "Tensor annotated with DP Metadata!\n",
      "You can upload this Tensor to a domain node by calling `<domain_client>.load_dataset` and passing in this tensor as an asset.\n",
      "Converting PyTorch tensor to numpy tensor for internal representation...\n",
      "Tensor annotated with DP Metadata!\n",
      "You can upload this Tensor to a domain node by calling `<domain_client>.load_dataset` and passing in this tensor as an asset.\n",
      "Loading dataset...\r",
      "Loading dataset... checking assets...\r",
      "Loading dataset... checking dataset name for uniqueness...\r",
      "Loading dataset... checking dataset name for uniqueness...                                                                                                                    \r",
      "Loading dataset... checking asset types...                              \r",
      "Loading dataset... uploading...🚀                        "
     ]
    },
    {
     "name": "stderr",
     "output_type": "stream",
     "text": [
      "Uploading `0.weight`: 100%|\u001b[32m███████████████████████████████████████████\u001b[0m| 1/1 [00:00<00:00, 45.42it/s]\u001b[0m\n",
      "Uploading `0.bias`: 100%|\u001b[32m█████████████████████████████████████████████\u001b[0m| 1/1 [00:00<00:00, 66.47it/s]\u001b[0m\n",
      "Uploading `1.weight`: 100%|\u001b[32m███████████████████████████████████████████\u001b[0m| 1/1 [00:00<00:00, 15.08it/s]\u001b[0m\n",
      "Uploading `1.bias`: 100%|\u001b[32m█████████████████████████████████████████████\u001b[0m| 1/1 [00:00<00:00, 90.91it/s]\u001b[0m\n",
      "Uploading `3.weight`: 100%|\u001b[32m███████████████████████████████████████████\u001b[0m| 1/1 [00:00<00:00, 66.92it/s]\u001b[0m\n",
      "Uploading `3.bias`: 100%|\u001b[32m█████████████████████████████████████████████\u001b[0m| 1/1 [00:00<00:00, 76.87it/s]\u001b[0m\n",
      "Uploading `0.running_mean`: 100%|\u001b[32m█████████████████████████████████████\u001b[0m| 1/1 [00:00<00:00, 83.32it/s]\u001b[0m\n",
      "Uploading `0.running_var`: 100%|\u001b[32m██████████████████████████████████████\u001b[0m| 1/1 [00:00<00:00, 71.54it/s]\u001b[0m\n"
     ]
    },
    {
     "name": "stdout",
     "output_type": "stream",
     "text": [
      "\r",
      "Dataset is uploaded successfully !!! 🎉\n",
      "\n",
      "Run `<your client variable>.datasets` to see your new dataset loaded into your machine!\n"
     ]
    }
   ],
   "source": [
    "base.upload(uploader,sent_model_parameters_names,sent_model_parameters,sent_model_structure)\n",
    "#del uploader.datasets[1]\n"
   ]
  },
  {
   "cell_type": "code",
   "execution_count": 12,
   "metadata": {},
   "outputs": [
    {
     "name": "stdout",
     "output_type": "stream",
     "text": [
      "Dataset: model parameter\n",
      "Description: BatchNorm1d(768, eps=1e-05, momentum=0.1, affine=True, track_running_stats=True)|Linear(in_features=768, out_features=128, bias=True)|GELU()|Linear(in_features=128, out_features=3, bias=True)\n",
      "\n"
     ]
    },
    {
     "data": {
      "text/html": [
       "<style>\n",
       "        #myInput {\n",
       "          background-position: 10px 12px; /* Position the search icon */\n",
       "          background-repeat: no-repeat; /* Do not repeat the icon image */\n",
       "          background-color: #bbb;\n",
       "          width: 98%; /* Full-width */\n",
       "          font-size: 14px; /* Increase font-size */\n",
       "          padding: 12px 20px 12px 40px; /* Add some padding */\n",
       "          border: 1px solid #ddd; /* Add a grey border */\n",
       "          margin-bottom: 12px; /* Add some space below the input */\n",
       "        }\n",
       "\n",
       "        #myTable {\n",
       "          border-collapse: collapse; /* Collapse borders */\n",
       "          width: 50%; /* Full-width */\n",
       "          border: 1px solid #ddd; /* Add a grey border */\n",
       "          font-size: 14px; /* Increase font-size */\n",
       "        }\n",
       "\n",
       "        #myTable th, #myTable td {\n",
       "          text-align: left; /* Left-align text */\n",
       "          padding: 10px; /* Add padding */\n",
       "        }\n",
       "\n",
       "        #myTable tr {\n",
       "          /* Add a bottom border to all table rows */\n",
       "          border-bottom: 1px solid #ddd;\n",
       "        }\n",
       "\n",
       "        #myTable tr.header, #myTable tr:hover {\n",
       "          /* Add a grey background color to the table header and on hover */\n",
       "          background-color: #777;\n",
       "        }\n",
       "        </style>\n",
       "\n",
       "        <table id=\"myTable\">\n",
       "          <tr class=\"header\">\n",
       "            <th style=\"width:15%;\">Asset Key</th>\n",
       "            <th style=\"width:20%;\">Type</th>\n",
       "            <th style=\"width:10%;\">Shape</th>\n",
       "          </tr>\n",
       "        \n",
       "\n",
       "              <tr>\n",
       "            <td>[\"3.bias\"]</td>\n",
       "            <td>Tensor</td>\n",
       "            <td>(3,)</td>\n",
       "          </tr>\n",
       "\n",
       "              <tr>\n",
       "            <td>[\"1.bias\"]</td>\n",
       "            <td>Tensor</td>\n",
       "            <td>(128,)</td>\n",
       "          </tr>\n",
       "\n",
       "              <tr>\n",
       "            <td>[\"3.weight\"]</td>\n",
       "            <td>Tensor</td>\n",
       "            <td>(3, 128)</td>\n",
       "          </tr>\n",
       "\n",
       "              <tr>\n",
       "            <td>[\"0.weight\"]</td>\n",
       "            <td>Tensor</td>\n",
       "            <td>(768,)</td>\n",
       "          </tr>\n",
       "\n",
       "              <tr>\n",
       "            <td>[\"0.bias\"]</td>\n",
       "            <td>Tensor</td>\n",
       "            <td>(768,)</td>\n",
       "          </tr>\n",
       "\n",
       "              <tr>\n",
       "            <td>[\"1.weight\"]</td>\n",
       "            <td>Tensor</td>\n",
       "            <td>(128, 768)</td>\n",
       "          </tr>\n",
       "\n",
       "              <tr>\n",
       "            <td>[\"0.running_var\"]</td>\n",
       "            <td>Tensor</td>\n",
       "            <td>(768,)</td>\n",
       "          </tr>\n",
       "\n",
       "              <tr>\n",
       "            <td>[\"0.running_mean\"]</td>\n",
       "            <td>Tensor</td>\n",
       "            <td>(768,)</td>\n",
       "          </tr>\n",
       "        </table>\n",
       "\n",
       "        "
      ],
      "text/plain": [
       "<syft.core.node.common.client_manager.dataset_api.Dataset at 0x2172abcfe50>"
      ]
     },
     "execution_count": 12,
     "metadata": {},
     "output_type": "execute_result"
    }
   ],
   "source": [
    "reciever.datasets[1]\n"
   ]
  },
  {
   "cell_type": "code",
   "execution_count": 13,
   "metadata": {},
   "outputs": [],
   "source": [
    "# Stimulate a client who receives the parameter\n",
    "received_model_structure= reciever.datasets[1].description\n"
   ]
  },
  {
   "cell_type": "code",
   "execution_count": 14,
   "metadata": {},
   "outputs": [
    {
     "name": "stdout",
     "output_type": "stream",
     "text": [
      "tensor([1., 1., 1., 1., 1., 1., 1., 1., 1., 1.])\n"
     ]
    }
   ],
   "source": [
    "# initialize the model\n",
    "received_model = nn.Sequential(\n",
    "    *[eval('nn.' + layer) for layer in received_model_structure.split('|')]\n",
    ")\n",
    "# print part of the initial model weight\n",
    "print(received_model[0].weight.detach()[:10])\n"
   ]
  },
  {
   "cell_type": "code",
   "execution_count": 23,
   "metadata": {},
   "outputs": [],
   "source": [
    "# request for weight\n",
    "sent=reciever.datasets[1]\n",
    "asset= sent.assets\n",
    "for i in asset:\n",
    "    result = sent[i['name']]\n",
    "    result.request(reason='research')\n"
   ]
  },
  {
   "cell_type": "code",
   "execution_count": 25,
   "metadata": {},
   "outputs": [
    {
     "data": {
      "text/html": [
       "<div>\n",
       "<style scoped>\n",
       "    .dataframe tbody tr th:only-of-type {\n",
       "        vertical-align: middle;\n",
       "    }\n",
       "\n",
       "    .dataframe tbody tr th {\n",
       "        vertical-align: top;\n",
       "    }\n",
       "\n",
       "    .dataframe thead th {\n",
       "        text-align: right;\n",
       "    }\n",
       "</style>\n",
       "<table border=\"1\" class=\"dataframe\">\n",
       "  <thead>\n",
       "    <tr style=\"text-align: right;\">\n",
       "      <th></th>\n",
       "      <th>Name</th>\n",
       "      <th>Email</th>\n",
       "      <th>Role</th>\n",
       "      <th>Request Type</th>\n",
       "      <th>Status</th>\n",
       "      <th>Reason</th>\n",
       "      <th>Request ID</th>\n",
       "      <th>Requested Object's ID</th>\n",
       "      <th>Requested Object's tags</th>\n",
       "      <th>Requested Budget</th>\n",
       "      <th>Current Budget</th>\n",
       "    </tr>\n",
       "  </thead>\n",
       "  <tbody>\n",
       "    <tr>\n",
       "      <th>0</th>\n",
       "      <td>Sheldon Cooper</td>\n",
       "      <td>sheldon@caltech.edu</td>\n",
       "      <td>Data Scientist</td>\n",
       "      <td>BUDGET</td>\n",
       "      <td>denied</td>\n",
       "      <td>I want to do data exploration</td>\n",
       "      <td>&lt;UID: 52f805d0a73f42ba9e27c3ba392947db&gt;</td>\n",
       "      <td>None</td>\n",
       "      <td>[]</td>\n",
       "      <td>1000.0</td>\n",
       "      <td>100.0</td>\n",
       "    </tr>\n",
       "    <tr>\n",
       "      <th>1</th>\n",
       "      <td>Sheldon Cooper</td>\n",
       "      <td>sheldon@caltech.edu</td>\n",
       "      <td>Data Scientist</td>\n",
       "      <td>DATA</td>\n",
       "      <td>accepted</td>\n",
       "      <td>research</td>\n",
       "      <td>&lt;UID: c52a1b380c9b449a8d487126e4199991&gt;</td>\n",
       "      <td>&lt;UID: 90b32eeeafb04bc78e33d72d4b67e48d&gt;</td>\n",
       "      <td>[#Country 9]</td>\n",
       "      <td>NaN</td>\n",
       "      <td>NaN</td>\n",
       "    </tr>\n",
       "    <tr>\n",
       "      <th>2</th>\n",
       "      <td>Sheldon Cooper</td>\n",
       "      <td>sheldon@caltech.edu</td>\n",
       "      <td>Data Scientist</td>\n",
       "      <td>DATA</td>\n",
       "      <td>accepted</td>\n",
       "      <td>research</td>\n",
       "      <td>&lt;UID: 6b84c7bc2bc14b799b81aef4d5c1c482&gt;</td>\n",
       "      <td>&lt;UID: 00a2a813a90e4cb4a84955c2d3d005d6&gt;</td>\n",
       "      <td>[#Country 0]</td>\n",
       "      <td>NaN</td>\n",
       "      <td>NaN</td>\n",
       "    </tr>\n",
       "    <tr>\n",
       "      <th>3</th>\n",
       "      <td>Sheldon Cooper</td>\n",
       "      <td>sheldon@caltech.edu</td>\n",
       "      <td>Data Scientist</td>\n",
       "      <td>DATA</td>\n",
       "      <td>pending</td>\n",
       "      <td>research</td>\n",
       "      <td>&lt;UID: df809f0e75454bd78bb7903242e6e059&gt;</td>\n",
       "      <td>&lt;UID: 3f6a1734b3a24da28174d0e6bcf91181&gt;</td>\n",
       "      <td>[#Country 0]</td>\n",
       "      <td>NaN</td>\n",
       "      <td>NaN</td>\n",
       "    </tr>\n",
       "    <tr>\n",
       "      <th>4</th>\n",
       "      <td>Sheldon Cooper</td>\n",
       "      <td>sheldon@caltech.edu</td>\n",
       "      <td>Data Scientist</td>\n",
       "      <td>DATA</td>\n",
       "      <td>accepted</td>\n",
       "      <td>research</td>\n",
       "      <td>&lt;UID: 8cfc2e06362447d4911a168a3c13694c&gt;</td>\n",
       "      <td>&lt;UID: d78cdbb01112419ea3c7798f7be010f4&gt;</td>\n",
       "      <td>[#Country 0]</td>\n",
       "      <td>NaN</td>\n",
       "      <td>NaN</td>\n",
       "    </tr>\n",
       "    <tr>\n",
       "      <th>5</th>\n",
       "      <td>Sheldon Cooper</td>\n",
       "      <td>sheldon@caltech.edu</td>\n",
       "      <td>Data Scientist</td>\n",
       "      <td>DATA</td>\n",
       "      <td>accepted</td>\n",
       "      <td>research</td>\n",
       "      <td>&lt;UID: 58dac92f84a7484c8f2d9c30e2b54b91&gt;</td>\n",
       "      <td>&lt;UID: d9d39c1fcfae4cb79998909f4648f4ab&gt;</td>\n",
       "      <td>[#3.bias]</td>\n",
       "      <td>NaN</td>\n",
       "      <td>NaN</td>\n",
       "    </tr>\n",
       "    <tr>\n",
       "      <th>6</th>\n",
       "      <td>Sheldon Cooper</td>\n",
       "      <td>sheldon@caltech.edu</td>\n",
       "      <td>Data Scientist</td>\n",
       "      <td>DATA</td>\n",
       "      <td>accepted</td>\n",
       "      <td>research</td>\n",
       "      <td>&lt;UID: 6b32548f976547f88b66863c908db6a4&gt;</td>\n",
       "      <td>&lt;UID: 7235d7cc7a834db680c238f6041bda5a&gt;</td>\n",
       "      <td>[#1.bias]</td>\n",
       "      <td>NaN</td>\n",
       "      <td>NaN</td>\n",
       "    </tr>\n",
       "    <tr>\n",
       "      <th>7</th>\n",
       "      <td>Sheldon Cooper</td>\n",
       "      <td>sheldon@caltech.edu</td>\n",
       "      <td>Data Scientist</td>\n",
       "      <td>DATA</td>\n",
       "      <td>accepted</td>\n",
       "      <td>research</td>\n",
       "      <td>&lt;UID: 1461c13a8ebf4f3c94aac62f78eabea9&gt;</td>\n",
       "      <td>&lt;UID: 6a311577724342c6aa5ae6a337f23399&gt;</td>\n",
       "      <td>[#0.weight]</td>\n",
       "      <td>NaN</td>\n",
       "      <td>NaN</td>\n",
       "    </tr>\n",
       "    <tr>\n",
       "      <th>8</th>\n",
       "      <td>Sheldon Cooper</td>\n",
       "      <td>sheldon@caltech.edu</td>\n",
       "      <td>Data Scientist</td>\n",
       "      <td>DATA</td>\n",
       "      <td>accepted</td>\n",
       "      <td>research</td>\n",
       "      <td>&lt;UID: 4adc8fb959b04bdfa03f220612bbe356&gt;</td>\n",
       "      <td>&lt;UID: dac6b1041b0e46f6ab867cb6b81ec8eb&gt;</td>\n",
       "      <td>[#1.weight]</td>\n",
       "      <td>NaN</td>\n",
       "      <td>NaN</td>\n",
       "    </tr>\n",
       "    <tr>\n",
       "      <th>9</th>\n",
       "      <td>Sheldon Cooper</td>\n",
       "      <td>sheldon@caltech.edu</td>\n",
       "      <td>Data Scientist</td>\n",
       "      <td>DATA</td>\n",
       "      <td>accepted</td>\n",
       "      <td>research</td>\n",
       "      <td>&lt;UID: 7c45e57005c94f45969dd3fc42026465&gt;</td>\n",
       "      <td>&lt;UID: af8b5ef0ee3047b08878b3922741b91e&gt;</td>\n",
       "      <td>[#0.running_mean]</td>\n",
       "      <td>NaN</td>\n",
       "      <td>NaN</td>\n",
       "    </tr>\n",
       "    <tr>\n",
       "      <th>10</th>\n",
       "      <td>Sheldon Cooper</td>\n",
       "      <td>sheldon@caltech.edu</td>\n",
       "      <td>Data Scientist</td>\n",
       "      <td>DATA</td>\n",
       "      <td>accepted</td>\n",
       "      <td>research</td>\n",
       "      <td>&lt;UID: d4ed2f8da2ca46fe92cd171114831fe7&gt;</td>\n",
       "      <td>&lt;UID: b5802f9d459c46a8bd72e3a4fb8eb1a9&gt;</td>\n",
       "      <td>[#3.weight]</td>\n",
       "      <td>NaN</td>\n",
       "      <td>NaN</td>\n",
       "    </tr>\n",
       "    <tr>\n",
       "      <th>11</th>\n",
       "      <td>Sheldon Cooper</td>\n",
       "      <td>sheldon@caltech.edu</td>\n",
       "      <td>Data Scientist</td>\n",
       "      <td>DATA</td>\n",
       "      <td>accepted</td>\n",
       "      <td>research</td>\n",
       "      <td>&lt;UID: 27e63b2a6d3e4e81a1bf7f78690cd337&gt;</td>\n",
       "      <td>&lt;UID: 3726edfedc2a4295a05ae59d47349115&gt;</td>\n",
       "      <td>[#0.bias]</td>\n",
       "      <td>NaN</td>\n",
       "      <td>NaN</td>\n",
       "    </tr>\n",
       "    <tr>\n",
       "      <th>12</th>\n",
       "      <td>Sheldon Cooper</td>\n",
       "      <td>sheldon@caltech.edu</td>\n",
       "      <td>Data Scientist</td>\n",
       "      <td>DATA</td>\n",
       "      <td>accepted</td>\n",
       "      <td>research</td>\n",
       "      <td>&lt;UID: cb617da78b5c43c38aea25ae7210f9f1&gt;</td>\n",
       "      <td>&lt;UID: f838210d4c6041ef93ed940c51a74db7&gt;</td>\n",
       "      <td>[#0.running_var]</td>\n",
       "      <td>NaN</td>\n",
       "      <td>NaN</td>\n",
       "    </tr>\n",
       "  </tbody>\n",
       "</table>\n",
       "</div>"
      ],
      "text/plain": [
       "[<RequestMessage: 52f805d0a73f42ba9e27c3ba392947db>, <RequestMessage: c52a1b380c9b449a8d487126e4199991>, <RequestMessage: 6b84c7bc2bc14b799b81aef4d5c1c482>, <RequestMessage: df809f0e75454bd78bb7903242e6e059>, <RequestMessage: 8cfc2e06362447d4911a168a3c13694c>, <RequestMessage: 58dac92f84a7484c8f2d9c30e2b54b91>, <RequestMessage: 6b32548f976547f88b66863c908db6a4>, <RequestMessage: 1461c13a8ebf4f3c94aac62f78eabea9>, <RequestMessage: 4adc8fb959b04bdfa03f220612bbe356>, <RequestMessage: 7c45e57005c94f45969dd3fc42026465>, <RequestMessage: d4ed2f8da2ca46fe92cd171114831fe7>, <RequestMessage: 27e63b2a6d3e4e81a1bf7f78690cd337>, <RequestMessage: cb617da78b5c43c38aea25ae7210f9f1>]"
      ]
     },
     "execution_count": 25,
     "metadata": {},
     "output_type": "execute_result"
    }
   ],
   "source": [
    "# accept all request\n",
    "for i in uploader.requests:\n",
    "    i.accept()\n",
    "uploader.requests"
   ]
  },
  {
   "cell_type": "code",
   "execution_count": 37,
   "metadata": {},
   "outputs": [],
   "source": [
    "for i in asset:\n",
    "    name=i['name']\n",
    "    result= sent[name].publish(sigma=10)\n",
    "    name=f'[{name.split(\".\")[0]}].{name.split(\".\")[1]}'\n",
    "    x=result.get()\n",
    "    x=torch.tensor(x).to(dtype=torch.float32)\n",
    "    exec(f'received_model{name} = nn.Parameter(x)')"
   ]
  },
  {
   "cell_type": "code",
   "execution_count": 38,
   "metadata": {},
   "outputs": [
    {
     "name": "stdout",
     "output_type": "stream",
     "text": [
      "tensor([ 1.4488,  9.9912, -5.3708, -5.4453,  5.8399,  3.0429, -0.2868,  8.9607,\n",
      "         0.6524, -4.5624])\n"
     ]
    }
   ],
   "source": [
    "# make sure the weight has been changed\n",
    "print(received_model[0].weight.detach()[:10])\n"
   ]
  },
  {
   "cell_type": "markdown",
   "metadata": {},
   "source": [
    "### Make sure two models have the same output for a given input"
   ]
  },
  {
   "cell_type": "code",
   "execution_count": 17,
   "metadata": {},
   "outputs": [],
   "source": [
    "# Random input for the model\n",
    "random_input = torch.randn(32, 768)"
   ]
  },
  {
   "cell_type": "code",
   "execution_count": 18,
   "metadata": {},
   "outputs": [
    {
     "data": {
      "text/plain": [
       "tensor([[ 0.6840, -0.6742, -0.8874],\n",
       "        [ 0.4475, -0.3338, -1.1385],\n",
       "        [ 0.6013, -0.7323, -0.7802],\n",
       "        [ 0.4355, -0.3431, -0.8839],\n",
       "        [ 0.5737, -0.6191, -0.7754]])"
      ]
     },
     "execution_count": 18,
     "metadata": {},
     "output_type": "execute_result"
    }
   ],
   "source": [
    "# test the output of sent_model\n",
    "sent_model.eval()\n",
    "for param in sent_model.parameters():\n",
    "    param.requires_grad = False\n",
    "sent_model_output = sent_model(random_input)\n",
    "sent_model_output[:5]"
   ]
  },
  {
   "cell_type": "code",
   "execution_count": 19,
   "metadata": {},
   "outputs": [
    {
     "data": {
      "text/plain": [
       "tensor([[ 0.6840, -0.6742, -0.8874],\n",
       "        [ 0.4475, -0.3338, -1.1385],\n",
       "        [ 0.6013, -0.7323, -0.7802],\n",
       "        [ 0.4355, -0.3431, -0.8839],\n",
       "        [ 0.5737, -0.6191, -0.7754]])"
      ]
     },
     "execution_count": 19,
     "metadata": {},
     "output_type": "execute_result"
    }
   ],
   "source": [
    "# test the output of received_model\n",
    "received_model.eval()\n",
    "for param in received_model.parameters():\n",
    "    param.requires_grad = False\n",
    "received_model_output = received_model(random_input)\n",
    "received_model_output[:5]"
   ]
  },
  {
   "cell_type": "code",
   "execution_count": 20,
   "metadata": {},
   "outputs": [
    {
     "name": "stdout",
     "output_type": "stream",
     "text": [
      "Success! Two models have the same output\n"
     ]
    }
   ],
   "source": [
    "if (sent_model_output == received_model_output).all():\n",
    "    print('Success! Two models have the same output')\n",
    "else:\n",
    "    print('Fail! Please check if any of the parameters are different')"
   ]
  },
  {
   "cell_type": "code",
   "execution_count": null,
   "metadata": {},
   "outputs": [],
   "source": []
  }
 ],
 "metadata": {
  "kernelspec": {
   "display_name": "Python 3 (ipykernel)",
   "language": "python",
   "name": "python3"
  },
  "language_info": {
   "codemirror_mode": {
    "name": "ipython",
    "version": 3
   },
   "file_extension": ".py",
   "mimetype": "text/x-python",
   "name": "python",
   "nbconvert_exporter": "python",
   "pygments_lexer": "ipython3",
   "version": "3.9.13"
  },
  "vscode": {
   "interpreter": {
    "hash": "ab41de7c01b87720028b6e10b18ab70bba355aee4628723b15cd9ebe80125c4e"
   }
  }
 },
 "nbformat": 4,
 "nbformat_minor": 2
}
