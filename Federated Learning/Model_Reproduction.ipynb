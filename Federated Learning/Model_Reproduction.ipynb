{
 "cells": [
  {
   "cell_type": "markdown",
   "metadata": {},
   "source": [
    "## Model extraction and reproduction"
   ]
  },
  {
   "cell_type": "markdown",
   "metadata": {},
   "source": [
    "### Extract parameters from a .pt file"
   ]
  },
  {
   "cell_type": "code",
   "execution_count": 10,
   "metadata": {},
   "outputs": [],
   "source": [
    "import os\n",
    "import torch\n",
    "import random\n",
    "import numpy as np\n",
    "def seed_everything(seed=20):\n",
    "    \"\"\"set seed for all\"\"\"\n",
    "    os.environ['PYTHONHASHSEED'] = str(seed)\n",
    "    random.seed(seed)\n",
    "    np.random.seed(seed)\n",
    "    torch.manual_seed(seed)\n",
    "    torch.cuda.manual_seed(seed)\n",
    "    torch.cuda.manual_seed_all(seed)\n",
    "    torch.backends.cudnn.deterministic = True\n",
    "seed_everything()"
   ]
  },
  {
   "cell_type": "code",
   "execution_count": 11,
   "metadata": {},
   "outputs": [
    {
     "name": "stdout",
     "output_type": "stream",
     "text": [
      "Sequential(\n",
      "  (0): BatchNorm1d(768, eps=1e-05, momentum=0.1, affine=True, track_running_stats=True)\n",
      "  (1): Linear(in_features=768, out_features=128, bias=True)\n",
      "  (2): GELU()\n",
      "  (3): Linear(in_features=128, out_features=3, bias=True)\n",
      ")\n"
     ]
    }
   ],
   "source": [
    "# load the model\n",
    "import torch\n",
    "from torch import nn\n",
    "sent_model = torch.load('saved_models/A_model_1.pt', map_location='cpu')\n",
    "sent_model.eval()\n",
    "for param in sent_model.parameters():\n",
    "    param.requires_grad = False\n",
    "print(sent_model)"
   ]
  },
  {
   "cell_type": "code",
   "execution_count": 12,
   "metadata": {},
   "outputs": [
    {
     "name": "stdout",
     "output_type": "stream",
     "text": [
      "BatchNorm1d(768, eps=1e-05, momentum=0.1, affine=True, track_running_stats=True)\n",
      "Linear(in_features=768, out_features=128, bias=True)\n",
      "GELU()\n",
      "Linear(in_features=128, out_features=3, bias=True)\n"
     ]
    }
   ],
   "source": [
    "# get model structure\n",
    "sent_model_structure = '|'.join([layer_str.split('): ')[1] for layer_str in str(sent_model).split('\\n')[1:-1]])\n",
    "print('\\n'.join(sent_model_structure.split('|')))"
   ]
  },
  {
   "cell_type": "code",
   "execution_count": 13,
   "metadata": {},
   "outputs": [],
   "source": [
    "# get model parameters\n",
    "with torch.no_grad():\n",
    "    sent_model_parameters = {name:val.detach() for name, val in sent_model.named_parameters()}"
   ]
  },
  {
   "cell_type": "code",
   "execution_count": 14,
   "metadata": {},
   "outputs": [],
   "source": [
    "# Since the model uses normalization, we also need to send the mean and variance\n",
    "sent_model_parameters['0.running_mean'] = sent_model[0].running_mean\n",
    "sent_model_parameters['0.running_var'] = sent_model[0].running_var"
   ]
  },
  {
   "cell_type": "code",
   "execution_count": 15,
   "metadata": {},
   "outputs": [
    {
     "name": "stdout",
     "output_type": "stream",
     "text": [
      "0.weight  Tensor  [768]\n",
      "0.bias    Tensor  [768]\n",
      "1.weight  Tensor  [128, 768]\n",
      "1.bias    Tensor  [128]\n",
      "3.weight  Tensor  [3, 128]\n",
      "3.bias    Tensor  [3]\n",
      "0.running_mean  Tensor  [768]\n",
      "0.running_var Tensor  [768]\n"
     ]
    }
   ],
   "source": [
    "# print weight name and shape\n",
    "sent_model_parameters_names = list(sent_model_parameters.keys())\n",
    "sent_model_parameters_vals = list(sent_model_parameters.values())\n",
    "for name, val in zip(sent_model_parameters_names, sent_model_parameters_vals):\n",
    "    print(f'{name:8s}\\t{val.__class__.__name__}\\t{list(val.shape)}'.expandtabs(2))\n"
   ]
  },
  {
   "cell_type": "markdown",
   "metadata": {},
   "source": [
    "### Test Reproductivity"
   ]
  },
  {
   "cell_type": "code",
   "execution_count": 21,
   "metadata": {},
   "outputs": [
    {
     "name": "stdout",
     "output_type": "stream",
     "text": [
      "WARNING: CHANGE YOUR USERNAME AND PASSWORD!!! \n",
      "\n",
      "Anyone can login as an admin to your node right now because your password is still the default PySyft username and password!!!\n",
      "\n",
      "Connecting to None... done! \t Logging into local_node... done!\n",
      "Connecting to None... done! \t Logging into local_node... done!\n"
     ]
    }
   ],
   "source": [
    "# We will send 3 parameters to a client\n",
    "'''\n",
    "    sent_model_structure\n",
    "    sent_model_parameters_names\n",
    "    sent_model_parameters_vals\n",
    "''';\n",
    "\n",
    "import base\n",
    "uploader = base.login(\"info@openmined.org\", \"changethis\")\n",
    "\n",
    "reciever = base.login(\"sheldon@caltech.edu\",\"bazinga\")"
   ]
  },
  {
   "cell_type": "code",
   "execution_count": 27,
   "metadata": {},
   "outputs": [
    {
     "name": "stdout",
     "output_type": "stream",
     "text": [
      "Dataset: COVID19 Cases in 175 countries\n",
      "Description: Weekly data for an entire year\n",
      "\n",
      "WARNING: Too many assets to print... truncating... You may run \n",
      "\n",
      " assets = my_dataset.assets \n",
      "\n",
      "to view receive a dictionary you can parse through using Python\n",
      "(as opposed to blowing up your notebook with a massive printed table).\n",
      "\n"
     ]
    },
    {
     "data": {
      "text/html": [
       "<style>\n",
       "        #myInput {\n",
       "          background-position: 10px 12px; /* Position the search icon */\n",
       "          background-repeat: no-repeat; /* Do not repeat the icon image */\n",
       "          background-color: #bbb;\n",
       "          width: 98%; /* Full-width */\n",
       "          font-size: 14px; /* Increase font-size */\n",
       "          padding: 12px 20px 12px 40px; /* Add some padding */\n",
       "          border: 1px solid #ddd; /* Add a grey border */\n",
       "          margin-bottom: 12px; /* Add some space below the input */\n",
       "        }\n",
       "\n",
       "        #myTable {\n",
       "          border-collapse: collapse; /* Collapse borders */\n",
       "          width: 50%; /* Full-width */\n",
       "          border: 1px solid #ddd; /* Add a grey border */\n",
       "          font-size: 14px; /* Increase font-size */\n",
       "        }\n",
       "\n",
       "        #myTable th, #myTable td {\n",
       "          text-align: left; /* Left-align text */\n",
       "          padding: 10px; /* Add padding */\n",
       "        }\n",
       "\n",
       "        #myTable tr {\n",
       "          /* Add a bottom border to all table rows */\n",
       "          border-bottom: 1px solid #ddd;\n",
       "        }\n",
       "\n",
       "        #myTable tr.header, #myTable tr:hover {\n",
       "          /* Add a grey background color to the table header and on hover */\n",
       "          background-color: #777;\n",
       "        }\n",
       "        </style>\n",
       "\n",
       "        <table id=\"myTable\">\n",
       "          <tr class=\"header\">\n",
       "            <th style=\"width:15%;\">Asset Key</th>\n",
       "            <th style=\"width:20%;\">Type</th>\n",
       "            <th style=\"width:10%;\">Shape</th>\n",
       "          </tr>\n",
       "        \n",
       "\n",
       "              <tr>\n",
       "            <td>[\"Country 0\"]</td>\n",
       "            <td>Tensor</td>\n",
       "            <td>(54,)</td>\n",
       "          </tr>\n",
       "\n",
       "              <tr>\n",
       "            <td>[\"Country 1\"]</td>\n",
       "            <td>Tensor</td>\n",
       "            <td>(54,)</td>\n",
       "          </tr>\n",
       "\n",
       "              <tr>\n",
       "            <td>[\"Country 2\"]</td>\n",
       "            <td>Tensor</td>\n",
       "            <td>(54,)</td>\n",
       "          </tr>\n",
       "\n",
       "              <tr>\n",
       "            <td>[\"Country 3\"]</td>\n",
       "            <td>Tensor</td>\n",
       "            <td>(54,)</td>\n",
       "          </tr>\n",
       "\n",
       "              <tr>\n",
       "            <td>[\"Country 4\"]</td>\n",
       "            <td>Tensor</td>\n",
       "            <td>(54,)</td>\n",
       "          </tr>\n",
       "\n",
       "              <tr>\n",
       "            <td>[\"Country 5\"]</td>\n",
       "            <td>Tensor</td>\n",
       "            <td>(54,)</td>\n",
       "          </tr>\n",
       "\n",
       "              <tr>\n",
       "            <td>[\"Country 6\"]</td>\n",
       "            <td>Tensor</td>\n",
       "            <td>(54,)</td>\n",
       "          </tr>\n",
       "\n",
       "              <tr>\n",
       "            <td>[\"Country 7\"]</td>\n",
       "            <td>Tensor</td>\n",
       "            <td>(54,)</td>\n",
       "          </tr>\n",
       "\n",
       "              <tr>\n",
       "            <td>[\"Country 8\"]</td>\n",
       "            <td>Tensor</td>\n",
       "            <td>(54,)</td>\n",
       "          </tr>\n",
       "\n",
       "              <tr>\n",
       "            <td>[\"Country 9\"]</td>\n",
       "            <td>Tensor</td>\n",
       "            <td>(54,)</td>\n",
       "          </tr>\n",
       "\n",
       "              <tr>\n",
       "            <td>[\"Country 10\"]</td>\n",
       "            <td>Tensor</td>\n",
       "            <td>(54,)</td>\n",
       "          </tr>\n",
       "\n",
       "              <tr>\n",
       "            <td>[\"Country 11\"]</td>\n",
       "            <td>Tensor</td>\n",
       "            <td>(54,)</td>\n",
       "          </tr>\n",
       "\n",
       "              <tr>\n",
       "            <td>[\"Country 12\"]</td>\n",
       "            <td>Tensor</td>\n",
       "            <td>(54,)</td>\n",
       "          </tr>\n",
       "\n",
       "              <tr>\n",
       "            <td>[\"Country 13\"]</td>\n",
       "            <td>Tensor</td>\n",
       "            <td>(54,)</td>\n",
       "          </tr>\n",
       "\n",
       "              <tr>\n",
       "            <td>[\"Country 14\"]</td>\n",
       "            <td>Tensor</td>\n",
       "            <td>(54,)</td>\n",
       "          </tr>\n",
       "        </table>\n",
       "\n",
       "        "
      ],
      "text/plain": [
       "<syft.core.node.common.client_manager.dataset_api.Dataset at 0x12fbb541430>"
      ]
     },
     "execution_count": 27,
     "metadata": {},
     "output_type": "execute_result"
    }
   ],
   "source": [
    "uploader.privacy_budget\n",
    "uploader.datasets[0]"
   ]
  },
  {
   "cell_type": "code",
   "execution_count": 28,
   "metadata": {},
   "outputs": [
    {
     "name": "stdout",
     "output_type": "stream",
     "text": [
      "Converting PyTorch tensor to numpy tensor for internal representation...\n"
     ]
    },
    {
     "ename": "TypeError",
     "evalue": "You tried to pass an a tensor of type:<class 'numpy.ndarray'> with child.dtype == float32. Syft tensor objects only support np.int32 objects at this time. Please pass in either a list of int objects or a np.int32 array. We apologise for the inconvenience and will be adding support for more types very soon!",
     "output_type": "error",
     "traceback": [
      "\u001b[1;31m---------------------------------------------------------------------------\u001b[0m",
      "\u001b[1;31mTypeError\u001b[0m                                 Traceback (most recent call last)",
      "\u001b[1;32m~\\AppData\\Local\\Temp\\ipykernel_37644\\3791107605.py\u001b[0m in \u001b[0;36m<module>\u001b[1;34m\u001b[0m\n\u001b[1;32m----> 1\u001b[1;33m \u001b[0mbase\u001b[0m\u001b[1;33m.\u001b[0m\u001b[0mupload\u001b[0m\u001b[1;33m(\u001b[0m\u001b[0muploader\u001b[0m\u001b[1;33m,\u001b[0m\u001b[0msent_model_parameters_names\u001b[0m\u001b[1;33m,\u001b[0m\u001b[0msent_model_parameters\u001b[0m\u001b[1;33m)\u001b[0m\u001b[1;33m\u001b[0m\u001b[1;33m\u001b[0m\u001b[0m\n\u001b[0m",
      "\u001b[1;32m~\\Downloads\\F22_Federated_Learning_With_Flexible_Labels\\Federated Learning\\base.py\u001b[0m in \u001b[0;36mupload\u001b[1;34m(domain_node, keys, data)\u001b[0m\n\u001b[0;32m     26\u001b[0m         \u001b[0mnew_entity\u001b[0m \u001b[1;33m=\u001b[0m \u001b[0mEntity\u001b[0m\u001b[1;33m(\u001b[0m\u001b[0mname\u001b[0m\u001b[1;33m=\u001b[0m\u001b[0mname_\u001b[0m\u001b[1;33m)\u001b[0m\u001b[1;33m\u001b[0m\u001b[1;33m\u001b[0m\u001b[0m\n\u001b[0;32m     27\u001b[0m         \u001b[0mentities\u001b[0m\u001b[1;33m.\u001b[0m\u001b[0mappend\u001b[0m\u001b[1;33m(\u001b[0m\u001b[0mnew_entity\u001b[0m\u001b[1;33m)\u001b[0m\u001b[1;33m\u001b[0m\u001b[1;33m\u001b[0m\u001b[0m\n\u001b[1;32m---> 28\u001b[1;33m         \u001b[0mdataset\u001b[0m\u001b[1;33m[\u001b[0m\u001b[0mname_\u001b[0m\u001b[1;33m]\u001b[0m \u001b[1;33m=\u001b[0m \u001b[0msy\u001b[0m\u001b[1;33m.\u001b[0m\u001b[0mTensor\u001b[0m\u001b[1;33m(\u001b[0m\u001b[0mdata\u001b[0m\u001b[1;33m[\u001b[0m\u001b[0mkeys\u001b[0m\u001b[1;33m[\u001b[0m\u001b[0mi\u001b[0m\u001b[1;33m]\u001b[0m\u001b[1;33m]\u001b[0m\u001b[1;33m)\u001b[0m\u001b[1;33m.\u001b[0m\u001b[0mprivate\u001b[0m\u001b[1;33m(\u001b[0m\u001b[0mmin_val\u001b[0m\u001b[1;33m=\u001b[0m\u001b[1;33m-\u001b[0m\u001b[1;36m10\u001b[0m\u001b[1;33m,\u001b[0m \u001b[0mmax_val\u001b[0m\u001b[1;33m=\u001b[0m\u001b[1;36m10\u001b[0m\u001b[1;33m,\u001b[0m \u001b[0mentities\u001b[0m\u001b[1;33m=\u001b[0m\u001b[0mnew_entity\u001b[0m\u001b[1;33m)\u001b[0m\u001b[1;33m\u001b[0m\u001b[1;33m\u001b[0m\u001b[0m\n\u001b[0m\u001b[0;32m     29\u001b[0m \u001b[1;33m\u001b[0m\u001b[0m\n\u001b[0;32m     30\u001b[0m     domain_node.load_dataset(\n",
      "\u001b[1;32m~\\anaconda3\\lib\\site-packages\\syft\\core\\tensor\\tensor.py\u001b[0m in \u001b[0;36m__init__\u001b[1;34m(self, child, public_shape, public_dtype)\u001b[0m\n\u001b[0;32m    373\u001b[0m             \u001b[1;32mand\u001b[0m \u001b[0mgetattr\u001b[0m\u001b[1;33m(\u001b[0m\u001b[0mchild\u001b[0m\u001b[1;33m,\u001b[0m \u001b[1;34m\"dtype\"\u001b[0m\u001b[1;33m,\u001b[0m \u001b[1;32mNone\u001b[0m\u001b[1;33m)\u001b[0m \u001b[1;32mis\u001b[0m \u001b[1;32mnot\u001b[0m \u001b[1;32mNone\u001b[0m\u001b[1;33m\u001b[0m\u001b[1;33m\u001b[0m\u001b[0m\n\u001b[0;32m    374\u001b[0m         ):\n\u001b[1;32m--> 375\u001b[1;33m             raise TypeError(\n\u001b[0m\u001b[0;32m    376\u001b[0m                 \u001b[1;34m\"You tried to pass an a tensor of type:\"\u001b[0m\u001b[1;33m\u001b[0m\u001b[1;33m\u001b[0m\u001b[0m\n\u001b[0;32m    377\u001b[0m                 \u001b[1;33m+\u001b[0m \u001b[0mstr\u001b[0m\u001b[1;33m(\u001b[0m\u001b[0mtype\u001b[0m\u001b[1;33m(\u001b[0m\u001b[0mchild\u001b[0m\u001b[1;33m)\u001b[0m\u001b[1;33m)\u001b[0m\u001b[1;33m\u001b[0m\u001b[1;33m\u001b[0m\u001b[0m\n",
      "\u001b[1;31mTypeError\u001b[0m: You tried to pass an a tensor of type:<class 'numpy.ndarray'> with child.dtype == float32. Syft tensor objects only support np.int32 objects at this time. Please pass in either a list of int objects or a np.int32 array. We apologise for the inconvenience and will be adding support for more types very soon!"
     ]
    }
   ],
   "source": [
    "base.upload(uploader,sent_model_parameters_names,sent_model_parameters)\n"
   ]
  },
  {
   "cell_type": "code",
   "execution_count": 16,
   "metadata": {},
   "outputs": [],
   "source": [
    "# Stimulate a client who receives the parameters\n",
    "received_model_structure = sent_model_structure\n",
    "received_model_parameters_names = [f'[{name.split(\".\")[0]}].{name.split(\".\")[1]}'\n",
    "                                   for name in sent_model_parameters_names.split('|')]\n",
    "received_model_parameters_vals = sent_model_parameters_vals"
   ]
  },
  {
   "cell_type": "code",
   "execution_count": 38,
   "metadata": {},
   "outputs": [
    {
     "name": "stdout",
     "output_type": "stream",
     "text": [
      "tensor([1., 1., 1., 1., 1., 1., 1., 1., 1., 1.])\n"
     ]
    }
   ],
   "source": [
    "# initialize the model\n",
    "received_model = nn.Sequential(\n",
    "    *[eval('nn.' + layer) for layer in received_model_structure.split('|')]\n",
    ")\n",
    "# print part of the initial model weight\n",
    "print(received_model[0].weight.detach()[:10])"
   ]
  },
  {
   "cell_type": "code",
   "execution_count": 39,
   "metadata": {},
   "outputs": [],
   "source": [
    "# assign weights to each layer\n",
    "for parameters_name, parameters_val in zip(received_model_parameters_names, received_model_parameters_vals):\n",
    "    exec(f'received_model{parameters_name} = nn.Parameter(parameters_val)')"
   ]
  },
  {
   "cell_type": "code",
   "execution_count": 40,
   "metadata": {},
   "outputs": [
    {
     "name": "stdout",
     "output_type": "stream",
     "text": [
      "tensor([0.9913, 1.0620, 1.0096, 0.9389, 1.0044, 1.0548, 0.9228, 0.9387, 1.0055,\n",
      "        0.9827])\n"
     ]
    }
   ],
   "source": [
    "# make sure the weight has been changed\n",
    "print(received_model[0].weight.detach()[:10])"
   ]
  },
  {
   "cell_type": "markdown",
   "metadata": {},
   "source": [
    "### Make sure two models have the same output for a given input"
   ]
  },
  {
   "cell_type": "code",
   "execution_count": 41,
   "metadata": {},
   "outputs": [],
   "source": [
    "# Random input for the model\n",
    "random_input = torch.randn(32, 768)"
   ]
  },
  {
   "cell_type": "code",
   "execution_count": 42,
   "metadata": {},
   "outputs": [
    {
     "data": {
      "text/plain": [
       "tensor([[ 0.6840, -0.6742, -0.8874],\n",
       "        [ 0.4475, -0.3338, -1.1385],\n",
       "        [ 0.6013, -0.7323, -0.7802],\n",
       "        [ 0.4355, -0.3431, -0.8839],\n",
       "        [ 0.5737, -0.6191, -0.7754]])"
      ]
     },
     "execution_count": 42,
     "metadata": {},
     "output_type": "execute_result"
    }
   ],
   "source": [
    "# test the output of sent_model\n",
    "sent_model.eval()\n",
    "for param in sent_model.parameters():\n",
    "    param.requires_grad = False\n",
    "sent_model_output = sent_model(random_input)\n",
    "sent_model_output[:5]"
   ]
  },
  {
   "cell_type": "code",
   "execution_count": 43,
   "metadata": {},
   "outputs": [
    {
     "data": {
      "text/plain": [
       "tensor([[ 0.6840, -0.6742, -0.8874],\n",
       "        [ 0.4475, -0.3338, -1.1385],\n",
       "        [ 0.6013, -0.7323, -0.7802],\n",
       "        [ 0.4355, -0.3431, -0.8839],\n",
       "        [ 0.5737, -0.6191, -0.7754]])"
      ]
     },
     "execution_count": 43,
     "metadata": {},
     "output_type": "execute_result"
    }
   ],
   "source": [
    "# test the output of received_model\n",
    "received_model.eval()\n",
    "for param in received_model.parameters():\n",
    "    param.requires_grad = False\n",
    "received_model_output = received_model(random_input)\n",
    "received_model_output[:5]"
   ]
  },
  {
   "cell_type": "code",
   "execution_count": 46,
   "metadata": {},
   "outputs": [
    {
     "name": "stdout",
     "output_type": "stream",
     "text": [
      "Success! Two models have the same output\n"
     ]
    }
   ],
   "source": [
    "if (sent_model_output == received_model_output).all():\n",
    "    print('Success! Two models have the same output')\n",
    "else:\n",
    "    print('Fail! Please check if any of the parameters are different')"
   ]
  }
 ],
 "metadata": {
  "kernelspec": {
   "display_name": "Python 3 (ipykernel)",
   "language": "python",
   "name": "python3"
  },
  "language_info": {
   "codemirror_mode": {
    "name": "ipython",
    "version": 3
   },
   "file_extension": ".py",
   "mimetype": "text/x-python",
   "name": "python",
   "nbconvert_exporter": "python",
   "pygments_lexer": "ipython3",
   "version": "3.9.13"
  },
  "vscode": {
   "interpreter": {
    "hash": "ab41de7c01b87720028b6e10b18ab70bba355aee4628723b15cd9ebe80125c4e"
   }
  }
 },
 "nbformat": 4,
 "nbformat_minor": 2
}
