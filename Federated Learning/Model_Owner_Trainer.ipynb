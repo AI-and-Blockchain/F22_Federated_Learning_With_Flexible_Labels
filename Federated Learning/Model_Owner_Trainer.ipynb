{
 "cells": [
  {
   "cell_type": "markdown",
   "metadata": {
    "id": "02szQePAkTcI"
   },
   "source": [
    "## Model/data owner\n",
    "The data owner will train and save a model (this notebook) and ensure the model reproductivity (Model_Reproduction.ipynb)\n"
   ]
  },
  {
   "cell_type": "markdown",
   "metadata": {
    "id": "rfdpl6xXkZvY"
   },
   "source": [
    "## Get the dataset"
   ]
  },
  {
   "cell_type": "code",
   "execution_count": 3,
   "metadata": {
    "id": "63Shm75skP_8"
   },
   "outputs": [],
   "source": [
    "# Setup\n",
    "from IPython.display import clear_output\n",
    "import warnings\n",
    "warnings.filterwarnings('ignore')"
   ]
  },
  {
   "cell_type": "code",
   "execution_count": 4,
   "metadata": {
    "id": "3ooc4gTUkitB"
   },
   "outputs": [],
   "source": [
    "# define dataset path\n",
    "dataset_path = '../Datasets/CIFAR10'\n",
    "img_path = '../Datasets/CIFAR10/images'"
   ]
  },
  {
   "cell_type": "code",
   "execution_count": 5,
   "metadata": {
    "colab": {
     "base_uri": "https://localhost:8080/"
    },
    "id": "kUkxfBScknbJ",
    "outputId": "172caea5-2e0d-4797-f049-b60c2893ae1f"
   },
   "outputs": [
    {
     "name": "stdout",
     "output_type": "stream",
     "text": [
      "plane\t0\n",
      "car\t1\n",
      "bird\t2\n",
      "cat\t3\n",
      "deer\t4\n",
      "dog\t5\n",
      "frog\t6\n",
      "horse\t7\n",
      "ship\t8\n",
      "truck\t9\n"
     ]
    }
   ],
   "source": [
    "# Get the data file and all of the labels\n",
    "import pandas as pd\n",
    "data_df = pd.read_csv(f'{dataset_path}/data.csv')\n",
    "classes = ('plane', 'car', 'bird', 'cat', 'deer', 'dog', 'frog', 'horse', 'ship', 'truck')\n",
    "label2id = {i:k for i, k in enumerate(classes)}\n",
    "print('\\n'.join([f'{k}\\t{i}' for i, k in enumerate(classes)]))"
   ]
  },
  {
   "cell_type": "code",
   "execution_count": 9,
   "metadata": {
    "id": "wO4grKzPlHSX"
   },
   "outputs": [],
   "source": [
    "# get training device\n",
    "import torch\n",
    "\n",
    "device = 'cuda' if torch.cuda.is_available() else 'cpu'"
   ]
  },
  {
   "cell_type": "code",
   "execution_count": 10,
   "metadata": {
    "id": "fk-q2aTXk-lD"
   },
   "outputs": [],
   "source": [
    "# User A has 2000 images of frog(6), 1000 images of bird(2), and 1000 images of others\n",
    "data = data_df.copy()\n",
    "data_A_idx = data.query('label == 6').sample(2000).index.tolist() + \\\n",
    "             data.query('label == 2').sample(1000).index.tolist() + \\\n",
    "             data.query('label not in (2,6)').sample(1000).index.tolist()\n",
    "data_A = data.iloc[data_A_idx].reset_index(drop=True)\n",
    "data_df__A = data.iloc[[i for i in data.index if i not in data_A_idx]].reset_index(drop=True) # Get the data without A\n",
    "\n",
    "A_label_map = {\n",
    "    0: 'others',\n",
    "    1: 'frog',\n",
    "    2: 'bird'\n",
    "}\n",
    "A_label2id = {v:k for k,v in A_label_map.items()}\n",
    "data_A.label = data_A.label_name.apply(lambda x: A_label2id[x] if x in A_label2id else 0)"
   ]
  },
  {
   "cell_type": "code",
   "execution_count": 11,
   "metadata": {},
   "outputs": [],
   "source": [
    "# In future, the above process of selecting dataset would use the get_dataset function from Dataset_Splitting.ipynb"
   ]
  },
  {
   "cell_type": "code",
   "execution_count": 12,
   "metadata": {
    "id": "5USqc816l85B"
   },
   "outputs": [],
   "source": [
    "# User B has 3000 images of frog(6), 2000 images of ship(8), 1000 images of horses(7), and 1000 others\n",
    "# data = data_df__A.copy()\n",
    "# data_B_idx = data.query('label == 6').sample(3000).index.tolist() + \\\n",
    "#              data.query('label == 8').sample(2000).index.tolist() + \\\n",
    "#              data.query('label == 7').sample(1000).index.tolist() + \\\n",
    "#              data.query('label not in (6,7,8)').sample(1000).index.tolist()\n",
    "# data_B = data.iloc[data_B_idx].reset_index(drop=True)\n",
    "# data_df__AB = data.iloc[[i for i in data.index if i not in data_B_idx]].reset_index(drop=True) # Get the data without A and B\n",
    "\n",
    "# B_label_map = {\n",
    "#     0: 'others',\n",
    "#     1: 'frog',\n",
    "#     2: 'ship',\n",
    "#     3: 'horse',\n",
    "# }\n",
    "# B_label2id = {v:k for k,v in B_label_map.items()}\n",
    "# data_B.label = data_B.label_name.apply(lambda x: B_label2id[x] if x in B_label2id else 0)"
   ]
  },
  {
   "cell_type": "code",
   "execution_count": 13,
   "metadata": {
    "id": "nsipbWrKrG9R"
   },
   "outputs": [],
   "source": [
    "# User C has 1000 images of frog(6), 1000 images of ship(8), 1000 images of horses(7), 2000 images of planes(0) and 1000 others\n",
    "# data = data_df__AB.copy()\n",
    "# data_C_idx = data.query('label == 6').sample(1000).index.tolist() + \\\n",
    "#              data.query('label == 8').sample(1000).index.tolist() + \\\n",
    "#              data.query('label == 7').sample(1000).index.tolist() + \\\n",
    "#              data.query('label == 0').sample(2000).index.tolist() + \\\n",
    "#              data.query('label not in (0,6,7,8)').sample(1000).index.tolist()\n",
    "# data_C = data.iloc[data_C_idx].reset_index(drop=True)\n",
    "# data_df__ABC = data.iloc[[i for i in data.index if i not in data_C_idx]].reset_index(drop=True) # Get the data without A, B and C\n",
    "\n",
    "# C_label_map = {\n",
    "#     0: 'others',\n",
    "#     1: 'frog',\n",
    "#     2: 'ship',\n",
    "#     3: 'horse',\n",
    "# }\n",
    "# C_label2id = {v:k for k,v in C_label_map.items()}\n",
    "# data_C.label = data_C.label_name.apply(lambda x: C_label2id[x] if x in C_label2id else 0)"
   ]
  },
  {
   "cell_type": "code",
   "execution_count": 14,
   "metadata": {},
   "outputs": [],
   "source": [
    "# download vision transformer model \n",
    "from transformers import ViTFeatureExtractor, ViTForImageClassification\n",
    "feature_extractor = ViTFeatureExtractor.from_pretrained('google/vit-base-patch16-224-in21k')\n",
    "vit_model = ViTForImageClassification.from_pretrained('google/vit-base-patch16-224', output_hidden_states=True).to(device)\n",
    "\n",
    "# freeze the pre-trained model\n",
    "vit_model.eval()\n",
    "for param in vit_model.parameters():\n",
    "    param.requires_grad = False"
   ]
  },
  {
   "cell_type": "code",
   "execution_count": 15,
   "metadata": {
    "id": "B_EGKW-Oscls"
   },
   "outputs": [],
   "source": [
    "import torch\n",
    "from torch import nn\n",
    "import numpy as np\n",
    "from PIL import Image\n",
    "\n",
    "import albumentations as A\n",
    "\n",
    "# create custom dataset\n",
    "class Dataset(torch.utils.data.Dataset):\n",
    "    def __init__(self, data, feature_extractor, vit_model, transform):\n",
    "        self.images = [f'{img_path}/{i}' for i in data.image]\n",
    "        self.labels = data.label.tolist()\n",
    "        self.transform = transform\n",
    "        self.feature_extractor = feature_extractor\n",
    "\n",
    "    def __len__(self):\n",
    "        return len(self.images)\n",
    "\n",
    "    def __getitem__(self, index):\n",
    "        image = Image.open(self.images[index])\n",
    "        if self.transform is not None:\n",
    "            image = np.array(image)\n",
    "            image = Image.fromarray(self.transform(image=image)['image'], 'RGB')\n",
    "        image = self.feature_extractor(image, return_tensors='pt')['pixel_values'][0]\n",
    "        logits = vit_model(image.unsqueeze(0).to(device)).hidden_states[-1][:,-1,:].cpu().squeeze().detach()\n",
    "        return logits, self.labels[index]\n",
    "\n",
    "def get_loader(data, feature_extractor, vit_model, transform, batch_size=32, shuffle=True):\n",
    "    return torch.utils.data.DataLoader(Dataset(data, feature_extractor, vit_model, transform), batch_size=batch_size, shuffle=shuffle)\n",
    "\n",
    "transform = A.Compose([\n",
    "    A.Resize(256, 256),\n",
    "    A.RandomCrop(224, 224),\n",
    "    A.Flip(p=0.5),\n",
    "    A.RandomBrightnessContrast(brightness_limit=0.2, contrast_limit=0.2, p=0.5)\n",
    "])\n",
    "\n",
    "A_loader = get_loader(data_A, feature_extractor, vit_model, transform)\n",
    "# B_loader = get_loader(data_B, feature_extractor, vit_model, transform)\n",
    "# C_loader = get_loader(data_C, feature_extractor, vit_model, transform)"
   ]
  },
  {
   "cell_type": "code",
   "execution_count": 16,
   "metadata": {
    "id": "0F3eMfDsKCj8"
   },
   "outputs": [],
   "source": [
    "# initialize model, criterion and optimizer\n",
    "fc_net = nn.Sequential(\n",
    "    nn.LazyBatchNorm1d(),\n",
    "    nn.LazyLinear(128),\n",
    "    nn.GELU(),\n",
    "    nn.LazyLinear(len(A_label_map))\n",
    ").to(device)\n",
    "criterion = nn.CrossEntropyLoss()\n",
    "optimizer = torch.optim.Adam(fc_net.parameters(), lr=0.001)"
   ]
  },
  {
   "cell_type": "code",
   "execution_count": 17,
   "metadata": {
    "colab": {
     "base_uri": "https://localhost:8080/"
    },
    "id": "2AkcMVEPo3pI",
    "outputId": "fe4df902-f48c-4d77-d688-5ec7ae3e6566"
   },
   "outputs": [
    {
     "name": "stderr",
     "output_type": "stream",
     "text": [
      "100%|██████████| 125/125 [02:30<00:00,  1.20s/it]\n",
      "100%|██████████| 125/125 [02:30<00:00,  1.21s/it]\n",
      "100%|██████████| 125/125 [02:27<00:00,  1.18s/it]\n",
      "100%|██████████| 125/125 [02:38<00:00,  1.27s/it]\n",
      "100%|██████████| 125/125 [02:30<00:00,  1.21s/it]\n"
     ]
    }
   ],
   "source": [
    "# A simple training process for 5 epochs\n",
    "from tqdm import tqdm\n",
    "fc_net.train()\n",
    "for i in range(5):\n",
    "    for batch in tqdm(A_loader):\n",
    "        logits = fc_net(batch[0].to(device))\n",
    "        true_labels = batch[1].long().to(device)\n",
    "        optimizer.zero_grad()\n",
    "        loss = criterion(logits, true_labels)\n",
    "        loss.backward()\n",
    "        optimizer.step()\n"
   ]
  },
  {
   "cell_type": "code",
   "execution_count": 45,
   "metadata": {
    "id": "wxkUiCHKnlNR"
   },
   "outputs": [
    {
     "name": "stdout",
     "output_type": "stream",
     "text": [
      "Batch accuracy: 0.6875\n"
     ]
    }
   ],
   "source": [
    "# TODO: model evaluation\n",
    "sample_batch_A = next(iter(A_loader))\n",
    "fc_net.eval()\n",
    "with torch.no_grad():\n",
    "    logits = fc_net(sample_batch_A[0].to(device))\n",
    "    y_pred = logits.argmax(1).detach().cpu().numpy()\n",
    "    y_true = sample_batch_A[1]\n",
    "    y_true = np.array(y_true)\n",
    "    print('Batch accuracy:', np.mean(y_pred == y_true))\n"
   ]
  },
  {
   "cell_type": "code",
   "execution_count": 50,
   "metadata": {},
   "outputs": [
    {
     "name": "stdout",
     "output_type": "stream",
     "text": [
      "\u001b[93mWARNING:\u001b[0m CHANGE YOUR USERNAME AND PASSWORD!!! \n",
      "\n",
      "Anyone can login as an admin to your node right now because your password is still the default PySyft username and password!!!\n",
      "\n",
      "Connecting to localhost... done! \t Logging into server_domain... done!\n"
     ]
    }
   ],
   "source": [
    "import base\n",
    "uploader = base.login(\"info@openmined.org\", \"changethis\",8082)"
   ]
  },
  {
   "cell_type": "code",
   "execution_count": 75,
   "metadata": {},
   "outputs": [
    {
     "name": "stdout",
     "output_type": "stream",
     "text": [
      "Converting PyTorch tensor to numpy tensor for internal representation...\n",
      "Converting PyTorch tensor to numpy tensor for internal representation...\n",
      "Loading dataset...\r",
      "Loading dataset... checking assets...\r",
      "Loading dataset... checking dataset name for uniqueness...\r",
      "Loading dataset... checking dataset name for uniqueness...                                                                                                                    \r",
      "Loading dataset... checking asset types...                              \r",
      "Loading dataset... uploading...🚀                        "
     ]
    },
    {
     "name": "stderr",
     "output_type": "stream",
     "text": [
      "Uploading `image_data`: 100%|\u001b[32m█████████████████████████████████████████\u001b[0m| 1/1 [00:00<00:00, 20.83it/s]\u001b[0m\n",
      "Uploading `label`: 100%|\u001b[32m██████████████████████████████████████████████\u001b[0m| 1/1 [00:00<00:00, 62.50it/s]\u001b[0m\n"
     ]
    },
    {
     "name": "stdout",
     "output_type": "stream",
     "text": [
      "\r",
      "Dataset is uploaded successfully !!! 🎉\n",
      "\n",
      "Run `<your client variable>.datasets` to see your new dataset loaded into your machine!\n"
     ]
    }
   ],
   "source": [
    "import syft as sy\n",
    "from syft.core.adp.data_subject import DataSubject\n",
    "dataset={}\n",
    "data_subject = DataSubject('image_data')\n",
    "dataset['image_data'] = sy.Tensor(sample_batch_A[0]).private(min_val=0, max_val=0,data_subjects=[data_subject] * len(sample_batch_A[0]))\n",
    "data_subject = DataSubject('label')\n",
    "dataset['label'] = sy.Tensor(sample_batch_A[1]).private(min_val=0, max_val=0,data_subjects=[data_subject] * len(sample_batch_A[1]))\n",
    "\n",
    "uploader.load_dataset(\n",
    "    assets=dataset,\n",
    "    name=\" CIFAR10\",\n",
    "    description=\"none\",\n",
    "    metadata=\"none\",\n",
    ")"
   ]
  },
  {
   "cell_type": "code",
   "execution_count": 71,
   "metadata": {},
   "outputs": [
    {
     "name": "stdout",
     "output_type": "stream",
     "text": [
      "User created successfully!\n",
      "Connecting to localhost... done! \t Logging into server_domain... done!\n"
     ]
    }
   ],
   "source": [
    "ds_domain = sy.login(\n",
    "    email = \"sheldon@caltech.edu\",\n",
    "    password = \"bazinga\",\n",
    "    port = 8082\n",
    ")"
   ]
  },
  {
   "cell_type": "code",
   "execution_count": 77,
   "metadata": {},
   "outputs": [],
   "source": [
    "sent=ds_domain.datasets[0]\n",
    "asset= sent.assets\n",
    "for i in asset:\n",
    "    result = sent[i['name']]\n",
    "    result.request(reason='research')"
   ]
  },
  {
   "cell_type": "code",
   "execution_count": 79,
   "metadata": {},
   "outputs": [],
   "source": [
    "for i in uploader.requests:\n",
    "    i.accept()"
   ]
  },
  {
   "cell_type": "code",
   "execution_count": 81,
   "metadata": {},
   "outputs": [
    {
     "name": "stdout",
     "output_type": "stream",
     "text": [
      "tensor([[  1.4194,  -8.9307,   1.1547,  ...,  11.7206,  12.0427,  -7.0161],\n",
      "        [ -1.5749,  -7.4393,   6.1821,  ...,  -1.6212,   6.9088,   1.5066],\n",
      "        [ -2.6264,   0.7515,   3.2751,  ...,   4.3273,   8.7533, -11.1464],\n",
      "        ...,\n",
      "        [ -3.0625,  -7.9869,   4.0079,  ...,   4.9463,  -1.0552,  -7.4823],\n",
      "        [ -4.8830, -17.7617, -11.2055,  ...,  13.5408,   7.7301,  -4.0789],\n",
      "        [ -0.8447, -11.0745,   3.1785,  ...,  -1.3299,   7.4800,  -4.7089]]) tensor([1., 2., 2., 2., 1., 0., 1., 1., 1., 1., 0., 1., 2., 1., 2., 2., 0., 1.,\n",
      "        2., 2., 1., 2., 1., 1., 1., 1., 1., 1., 0., 2., 1., 1.])\n"
     ]
    }
   ],
   "source": [
    "result= sent['image_data']\n",
    "x=result.get().child.child\n",
    "x=torch.tensor(x).to(dtype=torch.float32)\n",
    "result= sent['label']\n",
    "y=result.get().child.child\n",
    "y=torch.tensor(y).to(dtype=torch.float32)\n",
    "    \n",
    "print(x,y)\n"
   ]
  },
  {
   "cell_type": "code",
   "execution_count": null,
   "metadata": {},
   "outputs": [],
   "source": []
  }
 ],
 "metadata": {
  "accelerator": "GPU",
  "colab": {
   "authorship_tag": "ABX9TyMbldFughXW8TOKPnK3YXGL",
   "collapsed_sections": [],
   "include_colab_link": true,
   "provenance": []
  },
  "gpuClass": "standard",
  "kernelspec": {
   "display_name": "Python 3 (ipykernel)",
   "language": "python",
   "name": "python3"
  },
  "language_info": {
   "codemirror_mode": {
    "name": "ipython",
    "version": 3
   },
   "file_extension": ".py",
   "mimetype": "text/x-python",
   "name": "python",
   "nbconvert_exporter": "python",
   "pygments_lexer": "ipython3",
   "version": "3.9.13"
  },
  "vscode": {
   "interpreter": {
    "hash": "aee8b7b246df8f9039afb4144a1f6fd8d2ca17a180786b69acc140d282b71a49"
   }
  },
  "widgets": {
   "application/vnd.jupyter.widget-state+json": {
    "01f525cfa4d247d19b1f1e89ce43b71f": {
     "model_module": "@jupyter-widgets/controls",
     "model_module_version": "1.5.0",
     "model_name": "HTMLModel",
     "state": {
      "_dom_classes": [],
      "_model_module": "@jupyter-widgets/controls",
      "_model_module_version": "1.5.0",
      "_model_name": "HTMLModel",
      "_view_count": null,
      "_view_module": "@jupyter-widgets/controls",
      "_view_module_version": "1.5.0",
      "_view_name": "HTMLView",
      "description": "",
      "description_tooltip": null,
      "layout": "IPY_MODEL_9748fb8b836d4084a5c1c738489925cf",
      "placeholder": "​",
      "style": "IPY_MODEL_dde11a8a08784d7aa461edf03fbd5705",
      "value": " 69.7k/69.7k [00:00&lt;00:00, 165kB/s]"
     }
    },
    "23594b50a5dd4e3d8f5c8a8acde8c916": {
     "model_module": "@jupyter-widgets/controls",
     "model_module_version": "1.5.0",
     "model_name": "DescriptionStyleModel",
     "state": {
      "_model_module": "@jupyter-widgets/controls",
      "_model_module_version": "1.5.0",
      "_model_name": "DescriptionStyleModel",
      "_view_count": null,
      "_view_module": "@jupyter-widgets/base",
      "_view_module_version": "1.2.0",
      "_view_name": "StyleView",
      "description_width": ""
     }
    },
    "259d5dbd41284d9891be3f0b7f107e54": {
     "model_module": "@jupyter-widgets/controls",
     "model_module_version": "1.5.0",
     "model_name": "FloatProgressModel",
     "state": {
      "_dom_classes": [],
      "_model_module": "@jupyter-widgets/controls",
      "_model_module_version": "1.5.0",
      "_model_name": "FloatProgressModel",
      "_view_count": null,
      "_view_module": "@jupyter-widgets/controls",
      "_view_module_version": "1.5.0",
      "_view_name": "ProgressView",
      "bar_style": "success",
      "description": "",
      "description_tooltip": null,
      "layout": "IPY_MODEL_300347bac8b6461fb2cbc39f040dab3a",
      "max": 69665,
      "min": 0,
      "orientation": "horizontal",
      "style": "IPY_MODEL_6e4db3c5cff141d094dd25ebed27c1e7",
      "value": 69665
     }
    },
    "300347bac8b6461fb2cbc39f040dab3a": {
     "model_module": "@jupyter-widgets/base",
     "model_module_version": "1.2.0",
     "model_name": "LayoutModel",
     "state": {
      "_model_module": "@jupyter-widgets/base",
      "_model_module_version": "1.2.0",
      "_model_name": "LayoutModel",
      "_view_count": null,
      "_view_module": "@jupyter-widgets/base",
      "_view_module_version": "1.2.0",
      "_view_name": "LayoutView",
      "align_content": null,
      "align_items": null,
      "align_self": null,
      "border": null,
      "bottom": null,
      "display": null,
      "flex": null,
      "flex_flow": null,
      "grid_area": null,
      "grid_auto_columns": null,
      "grid_auto_flow": null,
      "grid_auto_rows": null,
      "grid_column": null,
      "grid_gap": null,
      "grid_row": null,
      "grid_template_areas": null,
      "grid_template_columns": null,
      "grid_template_rows": null,
      "height": null,
      "justify_content": null,
      "justify_items": null,
      "left": null,
      "margin": null,
      "max_height": null,
      "max_width": null,
      "min_height": null,
      "min_width": null,
      "object_fit": null,
      "object_position": null,
      "order": null,
      "overflow": null,
      "overflow_x": null,
      "overflow_y": null,
      "padding": null,
      "right": null,
      "top": null,
      "visibility": null,
      "width": null
     }
    },
    "36e090225b02403ab54272a25af4d1ba": {
     "model_module": "@jupyter-widgets/controls",
     "model_module_version": "1.5.0",
     "model_name": "DescriptionStyleModel",
     "state": {
      "_model_module": "@jupyter-widgets/controls",
      "_model_module_version": "1.5.0",
      "_model_name": "DescriptionStyleModel",
      "_view_count": null,
      "_view_module": "@jupyter-widgets/base",
      "_view_module_version": "1.2.0",
      "_view_name": "StyleView",
      "description_width": ""
     }
    },
    "3ee6c15bff444fc491e09c0a55f773be": {
     "model_module": "@jupyter-widgets/base",
     "model_module_version": "1.2.0",
     "model_name": "LayoutModel",
     "state": {
      "_model_module": "@jupyter-widgets/base",
      "_model_module_version": "1.2.0",
      "_model_name": "LayoutModel",
      "_view_count": null,
      "_view_module": "@jupyter-widgets/base",
      "_view_module_version": "1.2.0",
      "_view_name": "LayoutView",
      "align_content": null,
      "align_items": null,
      "align_self": null,
      "border": null,
      "bottom": null,
      "display": null,
      "flex": null,
      "flex_flow": null,
      "grid_area": null,
      "grid_auto_columns": null,
      "grid_auto_flow": null,
      "grid_auto_rows": null,
      "grid_column": null,
      "grid_gap": null,
      "grid_row": null,
      "grid_template_areas": null,
      "grid_template_columns": null,
      "grid_template_rows": null,
      "height": null,
      "justify_content": null,
      "justify_items": null,
      "left": null,
      "margin": null,
      "max_height": null,
      "max_width": null,
      "min_height": null,
      "min_width": null,
      "object_fit": null,
      "object_position": null,
      "order": null,
      "overflow": null,
      "overflow_x": null,
      "overflow_y": null,
      "padding": null,
      "right": null,
      "top": null,
      "visibility": null,
      "width": null
     }
    },
    "4122f66771c7479bbc5ac521f5b0b794": {
     "model_module": "@jupyter-widgets/controls",
     "model_module_version": "1.5.0",
     "model_name": "FloatProgressModel",
     "state": {
      "_dom_classes": [],
      "_model_module": "@jupyter-widgets/controls",
      "_model_module_version": "1.5.0",
      "_model_name": "FloatProgressModel",
      "_view_count": null,
      "_view_module": "@jupyter-widgets/controls",
      "_view_module_version": "1.5.0",
      "_view_name": "ProgressView",
      "bar_style": "success",
      "description": "",
      "description_tooltip": null,
      "layout": "IPY_MODEL_81d0561b9787420d804b4939500c5ccd",
      "max": 160,
      "min": 0,
      "orientation": "horizontal",
      "style": "IPY_MODEL_8decc7626f3e48148dd08ef4b3688497",
      "value": 160
     }
    },
    "46caadd70cc44d3594d4dd39cce46e7a": {
     "model_module": "@jupyter-widgets/base",
     "model_module_version": "1.2.0",
     "model_name": "LayoutModel",
     "state": {
      "_model_module": "@jupyter-widgets/base",
      "_model_module_version": "1.2.0",
      "_model_name": "LayoutModel",
      "_view_count": null,
      "_view_module": "@jupyter-widgets/base",
      "_view_module_version": "1.2.0",
      "_view_name": "LayoutView",
      "align_content": null,
      "align_items": null,
      "align_self": null,
      "border": null,
      "bottom": null,
      "display": null,
      "flex": null,
      "flex_flow": null,
      "grid_area": null,
      "grid_auto_columns": null,
      "grid_auto_flow": null,
      "grid_auto_rows": null,
      "grid_column": null,
      "grid_gap": null,
      "grid_row": null,
      "grid_template_areas": null,
      "grid_template_columns": null,
      "grid_template_rows": null,
      "height": null,
      "justify_content": null,
      "justify_items": null,
      "left": null,
      "margin": null,
      "max_height": null,
      "max_width": null,
      "min_height": null,
      "min_width": null,
      "object_fit": null,
      "object_position": null,
      "order": null,
      "overflow": null,
      "overflow_x": null,
      "overflow_y": null,
      "padding": null,
      "right": null,
      "top": null,
      "visibility": null,
      "width": null
     }
    },
    "55e487f4f64647f8a942a0904a2e6603": {
     "model_module": "@jupyter-widgets/controls",
     "model_module_version": "1.5.0",
     "model_name": "HTMLModel",
     "state": {
      "_dom_classes": [],
      "_model_module": "@jupyter-widgets/controls",
      "_model_module_version": "1.5.0",
      "_model_name": "HTMLModel",
      "_view_count": null,
      "_view_module": "@jupyter-widgets/controls",
      "_view_module_version": "1.5.0",
      "_view_name": "HTMLView",
      "description": "",
      "description_tooltip": null,
      "layout": "IPY_MODEL_3ee6c15bff444fc491e09c0a55f773be",
      "placeholder": "​",
      "style": "IPY_MODEL_fb0eb50379244a6c8ae17ad4c4cb9117",
      "value": "Downloading: 100%"
     }
    },
    "637d054995834688bc5ad81a71395550": {
     "model_module": "@jupyter-widgets/controls",
     "model_module_version": "1.5.0",
     "model_name": "HBoxModel",
     "state": {
      "_dom_classes": [],
      "_model_module": "@jupyter-widgets/controls",
      "_model_module_version": "1.5.0",
      "_model_name": "HBoxModel",
      "_view_count": null,
      "_view_module": "@jupyter-widgets/controls",
      "_view_module_version": "1.5.0",
      "_view_name": "HBoxView",
      "box_style": "",
      "children": [
       "IPY_MODEL_649ed9ce203040e58b77b29f7bc42af4",
       "IPY_MODEL_b66bf3e607e140b6b442e451ad76f2a0",
       "IPY_MODEL_e13b258418864a7aa417e5bd79b45a34"
      ],
      "layout": "IPY_MODEL_9c766f9ab0ae48758fecce0927b101bb"
     }
    },
    "649ed9ce203040e58b77b29f7bc42af4": {
     "model_module": "@jupyter-widgets/controls",
     "model_module_version": "1.5.0",
     "model_name": "HTMLModel",
     "state": {
      "_dom_classes": [],
      "_model_module": "@jupyter-widgets/controls",
      "_model_module_version": "1.5.0",
      "_model_name": "HTMLModel",
      "_view_count": null,
      "_view_module": "@jupyter-widgets/controls",
      "_view_module_version": "1.5.0",
      "_view_name": "HTMLView",
      "description": "",
      "description_tooltip": null,
      "layout": "IPY_MODEL_ea8d5ab855244225a17029921ae00e2d",
      "placeholder": "​",
      "style": "IPY_MODEL_bb68a4ecbddc4b878501496ac3a049e4",
      "value": "Downloading: 100%"
     }
    },
    "69b6ade6c43d421bb188a5ad98105aec": {
     "model_module": "@jupyter-widgets/controls",
     "model_module_version": "1.5.0",
     "model_name": "HTMLModel",
     "state": {
      "_dom_classes": [],
      "_model_module": "@jupyter-widgets/controls",
      "_model_module_version": "1.5.0",
      "_model_name": "HTMLModel",
      "_view_count": null,
      "_view_module": "@jupyter-widgets/controls",
      "_view_module_version": "1.5.0",
      "_view_name": "HTMLView",
      "description": "",
      "description_tooltip": null,
      "layout": "IPY_MODEL_e50288d5a5bb4da7a41d1f5116f880d1",
      "placeholder": "​",
      "style": "IPY_MODEL_ec3e7d8376d04d49b776c20bb1bca85c",
      "value": " 160/160 [00:00&lt;00:00, 5.38kB/s]"
     }
    },
    "6e4db3c5cff141d094dd25ebed27c1e7": {
     "model_module": "@jupyter-widgets/controls",
     "model_module_version": "1.5.0",
     "model_name": "ProgressStyleModel",
     "state": {
      "_model_module": "@jupyter-widgets/controls",
      "_model_module_version": "1.5.0",
      "_model_name": "ProgressStyleModel",
      "_view_count": null,
      "_view_module": "@jupyter-widgets/base",
      "_view_module_version": "1.2.0",
      "_view_name": "StyleView",
      "bar_color": null,
      "description_width": ""
     }
    },
    "81d0561b9787420d804b4939500c5ccd": {
     "model_module": "@jupyter-widgets/base",
     "model_module_version": "1.2.0",
     "model_name": "LayoutModel",
     "state": {
      "_model_module": "@jupyter-widgets/base",
      "_model_module_version": "1.2.0",
      "_model_name": "LayoutModel",
      "_view_count": null,
      "_view_module": "@jupyter-widgets/base",
      "_view_module_version": "1.2.0",
      "_view_name": "LayoutView",
      "align_content": null,
      "align_items": null,
      "align_self": null,
      "border": null,
      "bottom": null,
      "display": null,
      "flex": null,
      "flex_flow": null,
      "grid_area": null,
      "grid_auto_columns": null,
      "grid_auto_flow": null,
      "grid_auto_rows": null,
      "grid_column": null,
      "grid_gap": null,
      "grid_row": null,
      "grid_template_areas": null,
      "grid_template_columns": null,
      "grid_template_rows": null,
      "height": null,
      "justify_content": null,
      "justify_items": null,
      "left": null,
      "margin": null,
      "max_height": null,
      "max_width": null,
      "min_height": null,
      "min_width": null,
      "object_fit": null,
      "object_position": null,
      "order": null,
      "overflow": null,
      "overflow_x": null,
      "overflow_y": null,
      "padding": null,
      "right": null,
      "top": null,
      "visibility": null,
      "width": null
     }
    },
    "8879295056464d0fb2e2f61b5f2da411": {
     "model_module": "@jupyter-widgets/controls",
     "model_module_version": "1.5.0",
     "model_name": "ProgressStyleModel",
     "state": {
      "_model_module": "@jupyter-widgets/controls",
      "_model_module_version": "1.5.0",
      "_model_name": "ProgressStyleModel",
      "_view_count": null,
      "_view_module": "@jupyter-widgets/base",
      "_view_module_version": "1.2.0",
      "_view_name": "StyleView",
      "bar_color": null,
      "description_width": ""
     }
    },
    "8dda39051be64181aa05a2e7ad9bc159": {
     "model_module": "@jupyter-widgets/controls",
     "model_module_version": "1.5.0",
     "model_name": "HBoxModel",
     "state": {
      "_dom_classes": [],
      "_model_module": "@jupyter-widgets/controls",
      "_model_module_version": "1.5.0",
      "_model_name": "HBoxModel",
      "_view_count": null,
      "_view_module": "@jupyter-widgets/controls",
      "_view_module_version": "1.5.0",
      "_view_name": "HBoxView",
      "box_style": "",
      "children": [
       "IPY_MODEL_ed6c19a1d7224abe8adbbcb83b80137d",
       "IPY_MODEL_4122f66771c7479bbc5ac521f5b0b794",
       "IPY_MODEL_69b6ade6c43d421bb188a5ad98105aec"
      ],
      "layout": "IPY_MODEL_e32cf4bc49d842deb3e3663ab1c43eb8"
     }
    },
    "8decc7626f3e48148dd08ef4b3688497": {
     "model_module": "@jupyter-widgets/controls",
     "model_module_version": "1.5.0",
     "model_name": "ProgressStyleModel",
     "state": {
      "_model_module": "@jupyter-widgets/controls",
      "_model_module_version": "1.5.0",
      "_model_name": "ProgressStyleModel",
      "_view_count": null,
      "_view_module": "@jupyter-widgets/base",
      "_view_module_version": "1.2.0",
      "_view_name": "StyleView",
      "bar_color": null,
      "description_width": ""
     }
    },
    "9748fb8b836d4084a5c1c738489925cf": {
     "model_module": "@jupyter-widgets/base",
     "model_module_version": "1.2.0",
     "model_name": "LayoutModel",
     "state": {
      "_model_module": "@jupyter-widgets/base",
      "_model_module_version": "1.2.0",
      "_model_name": "LayoutModel",
      "_view_count": null,
      "_view_module": "@jupyter-widgets/base",
      "_view_module_version": "1.2.0",
      "_view_name": "LayoutView",
      "align_content": null,
      "align_items": null,
      "align_self": null,
      "border": null,
      "bottom": null,
      "display": null,
      "flex": null,
      "flex_flow": null,
      "grid_area": null,
      "grid_auto_columns": null,
      "grid_auto_flow": null,
      "grid_auto_rows": null,
      "grid_column": null,
      "grid_gap": null,
      "grid_row": null,
      "grid_template_areas": null,
      "grid_template_columns": null,
      "grid_template_rows": null,
      "height": null,
      "justify_content": null,
      "justify_items": null,
      "left": null,
      "margin": null,
      "max_height": null,
      "max_width": null,
      "min_height": null,
      "min_width": null,
      "object_fit": null,
      "object_position": null,
      "order": null,
      "overflow": null,
      "overflow_x": null,
      "overflow_y": null,
      "padding": null,
      "right": null,
      "top": null,
      "visibility": null,
      "width": null
     }
    },
    "9c766f9ab0ae48758fecce0927b101bb": {
     "model_module": "@jupyter-widgets/base",
     "model_module_version": "1.2.0",
     "model_name": "LayoutModel",
     "state": {
      "_model_module": "@jupyter-widgets/base",
      "_model_module_version": "1.2.0",
      "_model_name": "LayoutModel",
      "_view_count": null,
      "_view_module": "@jupyter-widgets/base",
      "_view_module_version": "1.2.0",
      "_view_name": "LayoutView",
      "align_content": null,
      "align_items": null,
      "align_self": null,
      "border": null,
      "bottom": null,
      "display": null,
      "flex": null,
      "flex_flow": null,
      "grid_area": null,
      "grid_auto_columns": null,
      "grid_auto_flow": null,
      "grid_auto_rows": null,
      "grid_column": null,
      "grid_gap": null,
      "grid_row": null,
      "grid_template_areas": null,
      "grid_template_columns": null,
      "grid_template_rows": null,
      "height": null,
      "justify_content": null,
      "justify_items": null,
      "left": null,
      "margin": null,
      "max_height": null,
      "max_width": null,
      "min_height": null,
      "min_width": null,
      "object_fit": null,
      "object_position": null,
      "order": null,
      "overflow": null,
      "overflow_x": null,
      "overflow_y": null,
      "padding": null,
      "right": null,
      "top": null,
      "visibility": null,
      "width": null
     }
    },
    "b66bf3e607e140b6b442e451ad76f2a0": {
     "model_module": "@jupyter-widgets/controls",
     "model_module_version": "1.5.0",
     "model_name": "FloatProgressModel",
     "state": {
      "_dom_classes": [],
      "_model_module": "@jupyter-widgets/controls",
      "_model_module_version": "1.5.0",
      "_model_name": "FloatProgressModel",
      "_view_count": null,
      "_view_module": "@jupyter-widgets/controls",
      "_view_module_version": "1.5.0",
      "_view_name": "ProgressView",
      "bar_style": "success",
      "description": "",
      "description_tooltip": null,
      "layout": "IPY_MODEL_fc1cc60b34db4d61a40dd94f9629dffa",
      "max": 346351599,
      "min": 0,
      "orientation": "horizontal",
      "style": "IPY_MODEL_8879295056464d0fb2e2f61b5f2da411",
      "value": 346351599
     }
    },
    "bb68a4ecbddc4b878501496ac3a049e4": {
     "model_module": "@jupyter-widgets/controls",
     "model_module_version": "1.5.0",
     "model_name": "DescriptionStyleModel",
     "state": {
      "_model_module": "@jupyter-widgets/controls",
      "_model_module_version": "1.5.0",
      "_model_name": "DescriptionStyleModel",
      "_view_count": null,
      "_view_module": "@jupyter-widgets/base",
      "_view_module_version": "1.2.0",
      "_view_name": "StyleView",
      "description_width": ""
     }
    },
    "dde11a8a08784d7aa461edf03fbd5705": {
     "model_module": "@jupyter-widgets/controls",
     "model_module_version": "1.5.0",
     "model_name": "DescriptionStyleModel",
     "state": {
      "_model_module": "@jupyter-widgets/controls",
      "_model_module_version": "1.5.0",
      "_model_name": "DescriptionStyleModel",
      "_view_count": null,
      "_view_module": "@jupyter-widgets/base",
      "_view_module_version": "1.2.0",
      "_view_name": "StyleView",
      "description_width": ""
     }
    },
    "e13b258418864a7aa417e5bd79b45a34": {
     "model_module": "@jupyter-widgets/controls",
     "model_module_version": "1.5.0",
     "model_name": "HTMLModel",
     "state": {
      "_dom_classes": [],
      "_model_module": "@jupyter-widgets/controls",
      "_model_module_version": "1.5.0",
      "_model_name": "HTMLModel",
      "_view_count": null,
      "_view_module": "@jupyter-widgets/controls",
      "_view_module_version": "1.5.0",
      "_view_name": "HTMLView",
      "description": "",
      "description_tooltip": null,
      "layout": "IPY_MODEL_f95c2c8b665340748e8df622837c862e",
      "placeholder": "​",
      "style": "IPY_MODEL_36e090225b02403ab54272a25af4d1ba",
      "value": " 346M/346M [00:06&lt;00:00, 57.0MB/s]"
     }
    },
    "e32cf4bc49d842deb3e3663ab1c43eb8": {
     "model_module": "@jupyter-widgets/base",
     "model_module_version": "1.2.0",
     "model_name": "LayoutModel",
     "state": {
      "_model_module": "@jupyter-widgets/base",
      "_model_module_version": "1.2.0",
      "_model_name": "LayoutModel",
      "_view_count": null,
      "_view_module": "@jupyter-widgets/base",
      "_view_module_version": "1.2.0",
      "_view_name": "LayoutView",
      "align_content": null,
      "align_items": null,
      "align_self": null,
      "border": null,
      "bottom": null,
      "display": null,
      "flex": null,
      "flex_flow": null,
      "grid_area": null,
      "grid_auto_columns": null,
      "grid_auto_flow": null,
      "grid_auto_rows": null,
      "grid_column": null,
      "grid_gap": null,
      "grid_row": null,
      "grid_template_areas": null,
      "grid_template_columns": null,
      "grid_template_rows": null,
      "height": null,
      "justify_content": null,
      "justify_items": null,
      "left": null,
      "margin": null,
      "max_height": null,
      "max_width": null,
      "min_height": null,
      "min_width": null,
      "object_fit": null,
      "object_position": null,
      "order": null,
      "overflow": null,
      "overflow_x": null,
      "overflow_y": null,
      "padding": null,
      "right": null,
      "top": null,
      "visibility": null,
      "width": null
     }
    },
    "e4b05bd122184de68576ccb801138d2b": {
     "model_module": "@jupyter-widgets/base",
     "model_module_version": "1.2.0",
     "model_name": "LayoutModel",
     "state": {
      "_model_module": "@jupyter-widgets/base",
      "_model_module_version": "1.2.0",
      "_model_name": "LayoutModel",
      "_view_count": null,
      "_view_module": "@jupyter-widgets/base",
      "_view_module_version": "1.2.0",
      "_view_name": "LayoutView",
      "align_content": null,
      "align_items": null,
      "align_self": null,
      "border": null,
      "bottom": null,
      "display": null,
      "flex": null,
      "flex_flow": null,
      "grid_area": null,
      "grid_auto_columns": null,
      "grid_auto_flow": null,
      "grid_auto_rows": null,
      "grid_column": null,
      "grid_gap": null,
      "grid_row": null,
      "grid_template_areas": null,
      "grid_template_columns": null,
      "grid_template_rows": null,
      "height": null,
      "justify_content": null,
      "justify_items": null,
      "left": null,
      "margin": null,
      "max_height": null,
      "max_width": null,
      "min_height": null,
      "min_width": null,
      "object_fit": null,
      "object_position": null,
      "order": null,
      "overflow": null,
      "overflow_x": null,
      "overflow_y": null,
      "padding": null,
      "right": null,
      "top": null,
      "visibility": null,
      "width": null
     }
    },
    "e50288d5a5bb4da7a41d1f5116f880d1": {
     "model_module": "@jupyter-widgets/base",
     "model_module_version": "1.2.0",
     "model_name": "LayoutModel",
     "state": {
      "_model_module": "@jupyter-widgets/base",
      "_model_module_version": "1.2.0",
      "_model_name": "LayoutModel",
      "_view_count": null,
      "_view_module": "@jupyter-widgets/base",
      "_view_module_version": "1.2.0",
      "_view_name": "LayoutView",
      "align_content": null,
      "align_items": null,
      "align_self": null,
      "border": null,
      "bottom": null,
      "display": null,
      "flex": null,
      "flex_flow": null,
      "grid_area": null,
      "grid_auto_columns": null,
      "grid_auto_flow": null,
      "grid_auto_rows": null,
      "grid_column": null,
      "grid_gap": null,
      "grid_row": null,
      "grid_template_areas": null,
      "grid_template_columns": null,
      "grid_template_rows": null,
      "height": null,
      "justify_content": null,
      "justify_items": null,
      "left": null,
      "margin": null,
      "max_height": null,
      "max_width": null,
      "min_height": null,
      "min_width": null,
      "object_fit": null,
      "object_position": null,
      "order": null,
      "overflow": null,
      "overflow_x": null,
      "overflow_y": null,
      "padding": null,
      "right": null,
      "top": null,
      "visibility": null,
      "width": null
     }
    },
    "ea8d5ab855244225a17029921ae00e2d": {
     "model_module": "@jupyter-widgets/base",
     "model_module_version": "1.2.0",
     "model_name": "LayoutModel",
     "state": {
      "_model_module": "@jupyter-widgets/base",
      "_model_module_version": "1.2.0",
      "_model_name": "LayoutModel",
      "_view_count": null,
      "_view_module": "@jupyter-widgets/base",
      "_view_module_version": "1.2.0",
      "_view_name": "LayoutView",
      "align_content": null,
      "align_items": null,
      "align_self": null,
      "border": null,
      "bottom": null,
      "display": null,
      "flex": null,
      "flex_flow": null,
      "grid_area": null,
      "grid_auto_columns": null,
      "grid_auto_flow": null,
      "grid_auto_rows": null,
      "grid_column": null,
      "grid_gap": null,
      "grid_row": null,
      "grid_template_areas": null,
      "grid_template_columns": null,
      "grid_template_rows": null,
      "height": null,
      "justify_content": null,
      "justify_items": null,
      "left": null,
      "margin": null,
      "max_height": null,
      "max_width": null,
      "min_height": null,
      "min_width": null,
      "object_fit": null,
      "object_position": null,
      "order": null,
      "overflow": null,
      "overflow_x": null,
      "overflow_y": null,
      "padding": null,
      "right": null,
      "top": null,
      "visibility": null,
      "width": null
     }
    },
    "ec3e7d8376d04d49b776c20bb1bca85c": {
     "model_module": "@jupyter-widgets/controls",
     "model_module_version": "1.5.0",
     "model_name": "DescriptionStyleModel",
     "state": {
      "_model_module": "@jupyter-widgets/controls",
      "_model_module_version": "1.5.0",
      "_model_name": "DescriptionStyleModel",
      "_view_count": null,
      "_view_module": "@jupyter-widgets/base",
      "_view_module_version": "1.2.0",
      "_view_name": "StyleView",
      "description_width": ""
     }
    },
    "ed6c19a1d7224abe8adbbcb83b80137d": {
     "model_module": "@jupyter-widgets/controls",
     "model_module_version": "1.5.0",
     "model_name": "HTMLModel",
     "state": {
      "_dom_classes": [],
      "_model_module": "@jupyter-widgets/controls",
      "_model_module_version": "1.5.0",
      "_model_name": "HTMLModel",
      "_view_count": null,
      "_view_module": "@jupyter-widgets/controls",
      "_view_module_version": "1.5.0",
      "_view_name": "HTMLView",
      "description": "",
      "description_tooltip": null,
      "layout": "IPY_MODEL_e4b05bd122184de68576ccb801138d2b",
      "placeholder": "​",
      "style": "IPY_MODEL_23594b50a5dd4e3d8f5c8a8acde8c916",
      "value": "Downloading: 100%"
     }
    },
    "f7fb6ac42bfa48f9ba3a2fbe244ee490": {
     "model_module": "@jupyter-widgets/controls",
     "model_module_version": "1.5.0",
     "model_name": "HBoxModel",
     "state": {
      "_dom_classes": [],
      "_model_module": "@jupyter-widgets/controls",
      "_model_module_version": "1.5.0",
      "_model_name": "HBoxModel",
      "_view_count": null,
      "_view_module": "@jupyter-widgets/controls",
      "_view_module_version": "1.5.0",
      "_view_name": "HBoxView",
      "box_style": "",
      "children": [
       "IPY_MODEL_55e487f4f64647f8a942a0904a2e6603",
       "IPY_MODEL_259d5dbd41284d9891be3f0b7f107e54",
       "IPY_MODEL_01f525cfa4d247d19b1f1e89ce43b71f"
      ],
      "layout": "IPY_MODEL_46caadd70cc44d3594d4dd39cce46e7a"
     }
    },
    "f95c2c8b665340748e8df622837c862e": {
     "model_module": "@jupyter-widgets/base",
     "model_module_version": "1.2.0",
     "model_name": "LayoutModel",
     "state": {
      "_model_module": "@jupyter-widgets/base",
      "_model_module_version": "1.2.0",
      "_model_name": "LayoutModel",
      "_view_count": null,
      "_view_module": "@jupyter-widgets/base",
      "_view_module_version": "1.2.0",
      "_view_name": "LayoutView",
      "align_content": null,
      "align_items": null,
      "align_self": null,
      "border": null,
      "bottom": null,
      "display": null,
      "flex": null,
      "flex_flow": null,
      "grid_area": null,
      "grid_auto_columns": null,
      "grid_auto_flow": null,
      "grid_auto_rows": null,
      "grid_column": null,
      "grid_gap": null,
      "grid_row": null,
      "grid_template_areas": null,
      "grid_template_columns": null,
      "grid_template_rows": null,
      "height": null,
      "justify_content": null,
      "justify_items": null,
      "left": null,
      "margin": null,
      "max_height": null,
      "max_width": null,
      "min_height": null,
      "min_width": null,
      "object_fit": null,
      "object_position": null,
      "order": null,
      "overflow": null,
      "overflow_x": null,
      "overflow_y": null,
      "padding": null,
      "right": null,
      "top": null,
      "visibility": null,
      "width": null
     }
    },
    "fb0eb50379244a6c8ae17ad4c4cb9117": {
     "model_module": "@jupyter-widgets/controls",
     "model_module_version": "1.5.0",
     "model_name": "DescriptionStyleModel",
     "state": {
      "_model_module": "@jupyter-widgets/controls",
      "_model_module_version": "1.5.0",
      "_model_name": "DescriptionStyleModel",
      "_view_count": null,
      "_view_module": "@jupyter-widgets/base",
      "_view_module_version": "1.2.0",
      "_view_name": "StyleView",
      "description_width": ""
     }
    },
    "fc1cc60b34db4d61a40dd94f9629dffa": {
     "model_module": "@jupyter-widgets/base",
     "model_module_version": "1.2.0",
     "model_name": "LayoutModel",
     "state": {
      "_model_module": "@jupyter-widgets/base",
      "_model_module_version": "1.2.0",
      "_model_name": "LayoutModel",
      "_view_count": null,
      "_view_module": "@jupyter-widgets/base",
      "_view_module_version": "1.2.0",
      "_view_name": "LayoutView",
      "align_content": null,
      "align_items": null,
      "align_self": null,
      "border": null,
      "bottom": null,
      "display": null,
      "flex": null,
      "flex_flow": null,
      "grid_area": null,
      "grid_auto_columns": null,
      "grid_auto_flow": null,
      "grid_auto_rows": null,
      "grid_column": null,
      "grid_gap": null,
      "grid_row": null,
      "grid_template_areas": null,
      "grid_template_columns": null,
      "grid_template_rows": null,
      "height": null,
      "justify_content": null,
      "justify_items": null,
      "left": null,
      "margin": null,
      "max_height": null,
      "max_width": null,
      "min_height": null,
      "min_width": null,
      "object_fit": null,
      "object_position": null,
      "order": null,
      "overflow": null,
      "overflow_x": null,
      "overflow_y": null,
      "padding": null,
      "right": null,
      "top": null,
      "visibility": null,
      "width": null
     }
    }
   }
  }
 },
 "nbformat": 4,
 "nbformat_minor": 1
}
